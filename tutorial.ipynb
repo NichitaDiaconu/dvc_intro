{
 "metadata": {
  "language_info": {
   "codemirror_mode": {
    "name": "ipython",
    "version": 3
   },
   "file_extension": ".py",
   "mimetype": "text/x-python",
   "name": "python",
   "nbconvert_exporter": "python",
   "pygments_lexer": "ipython3",
   "version": 3
  },
  "orig_nbformat": 2,
  "kernelspec": {
   "name": "python_defaultSpec_1596634130299",
   "display_name": "Python 3.8.1 64-bit ('dvc_intro': pipenv)"
  }
 },
 "nbformat": 4,
 "nbformat_minor": 2,
 "cells": [
  {
   "cell_type": "code",
   "execution_count": 1,
   "metadata": {},
   "outputs": [],
   "source": [
    "%load_ext dotenv\n",
    "%dotenv"
   ]
  },
  {
   "cell_type": "markdown",
   "metadata": {},
   "source": [
    "## Initialize repo as a DVC repo"
   ]
  },
  {
   "cell_type": "code",
   "execution_count": 2,
   "metadata": {
    "tags": []
   },
   "outputs": [
    {
     "output_type": "stream",
     "name": "stdout",
     "text": "\nYou can now commit the changes to git.\n\n\u001b[31m+---------------------------------------------------------------------+\n\u001b[39m\u001b[31m|\u001b[39m                                                                     \u001b[31m|\u001b[39m\n\u001b[31m|\u001b[39m        DVC has enabled anonymous aggregate usage analytics.         \u001b[31m|\u001b[39m\n\u001b[31m|\u001b[39m     Read the analytics documentation (and how to opt-out) here:     \u001b[31m|\u001b[39m\n\u001b[31m|\u001b[39m              \u001b[34mhttps://dvc.org/doc/user-guide/analytics\u001b[39m               \u001b[31m|\u001b[39m\n\u001b[31m|\u001b[39m                                                                     \u001b[31m|\u001b[39m\n\u001b[31m+---------------------------------------------------------------------+\n\u001b[39m\n\u001b[33mWhat's next?\u001b[39m\n\u001b[33m------------\u001b[39m\n- Check out the documentation: \u001b[34mhttps://dvc.org/doc\u001b[39m\n- Get help and share ideas: \u001b[34mhttps://dvc.org/chat\u001b[39m\n- Star us on GitHub: \u001b[34mhttps://github.com/iterative/dvc\u001b[39m\n\u001b[0m"
    }
   ],
   "source": [
    "! dvc init"
   ]
  },
  {
   "cell_type": "markdown",
   "metadata": {},
   "source": [
    "### The DVC files have already been staged to git and we can commit them"
   ]
  },
  {
   "cell_type": "code",
   "execution_count": 3,
   "metadata": {
    "tags": []
   },
   "outputs": [
    {
     "output_type": "stream",
     "name": "stdout",
     "text": "On branch tutorial\nChanges to be committed:\n  (use \"git restore --staged <file>...\" to unstage)\n\t\u001b[32mnew file:   .dvc/.gitignore\u001b[m\n\t\u001b[32mnew file:   .dvc/config\u001b[m\n\t\u001b[32mnew file:   .dvc/plots/confusion.json\u001b[m\n\t\u001b[32mnew file:   .dvc/plots/default.json\u001b[m\n\t\u001b[32mnew file:   .dvc/plots/scatter.json\u001b[m\n\t\u001b[32mnew file:   .dvc/plots/smooth.json\u001b[m\n\n"
    }
   ],
   "source": [
    "! git status"
   ]
  },
  {
   "cell_type": "code",
   "execution_count": 4,
   "metadata": {
    "tags": []
   },
   "outputs": [
    {
     "output_type": "stream",
     "name": "stdout",
     "text": "[tutorial e5870b3] Init DVC\n 6 files changed, 128 insertions(+)\n create mode 100644 .dvc/.gitignore\n create mode 100644 .dvc/config\n create mode 100644 .dvc/plots/confusion.json\n create mode 100644 .dvc/plots/default.json\n create mode 100644 .dvc/plots/scatter.json\n create mode 100644 .dvc/plots/smooth.json\n"
    }
   ],
   "source": [
    "! git commit -m  \"Init DVC\""
   ]
  },
  {
   "cell_type": "markdown",
   "metadata": {},
   "source": [
    "## Get the raw data"
   ]
  },
  {
   "cell_type": "code",
   "execution_count": 5,
   "metadata": {
    "tags": []
   },
   "outputs": [
    {
     "output_type": "stream",
     "name": "stdout",
     "text": "0% Downloading|                                    |0/1 [00:00<?,     ?file/s]\n!\u001b[A\n  0%|          |get-started/data.xml           0.00/37.9M [00:00<?,       ?it/s]\u001b[A\n  0%|          |get-started/data.xml      64.0k/36.1M [00:00<02:48,     225kB/s]\u001b[A\n  0%|          |get-started/data.xml       128k/36.1M [00:00<02:22,     264kB/s]\u001b[A\n  1%|          |get-started/data.xml       192k/36.1M [00:00<02:54,     216kB/s]\u001b[A\n  1%|▏         |get-started/data.xml       512k/36.1M [00:01<02:06,     296kB/s]\u001b[A\n  2%|▏         |get-started/data.xml       640k/36.1M [00:01<01:41,     366kB/s]\u001b[A\n  2%|▏         |get-started/data.xml       768k/36.1M [00:01<01:22,     452kB/s]\u001b[A\n  2%|▏         |get-started/data.xml       896k/36.1M [00:01<01:09,     530kB/s]\u001b[A\n  3%|▎         |get-started/data.xml      1.00M/36.1M [00:01<01:01,     600kB/s]\u001b[A\n  3%|▎         |get-started/data.xml      1.12M/36.1M [00:01<00:55,     666kB/s]\u001b[A\n  3%|▎         |get-started/data.xml      1.25M/36.1M [00:01<00:51,     717kB/s]\u001b[A\n  4%|▍         |get-started/data.xml      1.38M/36.1M [00:02<00:47,     765kB/s]\u001b[A\n  4%|▍         |get-started/data.xml      1.50M/36.1M [00:02<00:45,     794kB/s]\u001b[A\n  4%|▍         |get-started/data.xml      1.62M/36.1M [00:02<00:43,     824kB/s]\u001b[A\n  5%|▍         |get-started/data.xml      1.75M/36.1M [00:02<00:42,     844kB/s]\u001b[A\n  5%|▌         |get-started/data.xml      1.88M/36.1M [00:02<00:41,     862kB/s]\u001b[A\n  6%|▌         |get-started/data.xml      2.00M/36.1M [00:02<00:50,     714kB/s]\u001b[A\n  6%|▌         |get-started/data.xml      2.19M/36.1M [00:03<00:44,     805kB/s]\u001b[A\n  6%|▋         |get-started/data.xml      2.31M/36.1M [00:03<00:42,     829kB/s]\u001b[A\n  7%|▋         |get-started/data.xml      2.44M/36.1M [00:03<00:41,     859kB/s]\u001b[A\n  7%|▋         |get-started/data.xml      2.56M/36.1M [00:03<00:40,     864kB/s]\u001b[A\n  7%|▋         |get-started/data.xml      2.69M/36.1M [00:03<00:39,     888kB/s]\u001b[A\n  8%|▊         |get-started/data.xml      2.81M/36.1M [00:03<00:39,     892kB/s]\u001b[A\n  8%|▊         |get-started/data.xml      2.94M/36.1M [00:03<00:38,     897kB/s]\u001b[A\n  8%|▊         |get-started/data.xml      3.06M/36.1M [00:04<00:38,     896kB/s]\u001b[A\n  9%|▉         |get-started/data.xml      3.19M/36.1M [00:04<00:37,     912kB/s]\u001b[A\n  9%|▉         |get-started/data.xml      3.31M/36.1M [00:04<00:37,     909kB/s]\u001b[A\n 10%|▉         |get-started/data.xml      3.44M/36.1M [00:04<00:38,     901kB/s]\u001b[A\n 10%|▉         |get-started/data.xml      3.56M/36.1M [00:04<00:37,     909kB/s]\u001b[A\n 10%|█         |get-started/data.xml      3.69M/36.1M [00:04<00:37,     906kB/s]\u001b[A\n 11%|█         |get-started/data.xml      3.81M/36.1M [00:04<00:37,     901kB/s]\u001b[A\n 11%|█         |get-started/data.xml      3.94M/36.1M [00:05<00:37,     898kB/s]\u001b[A\n 11%|█         |get-started/data.xml      4.06M/36.1M [00:05<00:36,     927kB/s]\u001b[A\n 12%|█▏        |get-started/data.xml      4.19M/36.1M [00:05<00:36,     917kB/s]\u001b[A\n 12%|█▏        |get-started/data.xml      4.31M/36.1M [00:05<00:36,     915kB/s]\u001b[A\n 12%|█▏        |get-started/data.xml      4.44M/36.1M [00:05<00:36,     910kB/s]\u001b[A\n 13%|█▎        |get-started/data.xml      4.56M/36.1M [00:05<00:36,     911kB/s]\u001b[A\n 13%|█▎        |get-started/data.xml      4.69M/36.1M [00:05<00:36,     908kB/s]\u001b[A\n 13%|█▎        |get-started/data.xml      4.81M/36.1M [00:06<00:35,     917kB/s]\u001b[A\n 14%|█▎        |get-started/data.xml      4.94M/36.1M [00:06<00:36,     901kB/s]\u001b[A\n 14%|█▍        |get-started/data.xml      5.12M/36.1M [00:06<00:33,     968kB/s]\u001b[A\n 15%|█▍        |get-started/data.xml      5.25M/36.1M [00:06<00:34,     946kB/s]\u001b[A\n 15%|█▍        |get-started/data.xml      5.38M/36.1M [00:06<00:34,     945kB/s]\u001b[A\n 15%|█▌        |get-started/data.xml      5.50M/36.1M [00:06<00:34,     932kB/s]\u001b[A\n 16%|█▌        |get-started/data.xml      5.62M/36.1M [00:06<00:34,     928kB/s]\u001b[A\n 16%|█▌        |get-started/data.xml      5.75M/36.1M [00:07<00:34,     920kB/s]\u001b[A\n 16%|█▋        |get-started/data.xml      5.88M/36.1M [00:07<00:33,     938kB/s]\u001b[A\n 17%|█▋        |get-started/data.xml      6.00M/36.1M [00:07<00:34,     926kB/s]\u001b[A\n 17%|█▋        |get-started/data.xml      6.12M/36.1M [00:07<00:32,     963kB/s]\u001b[A\n 17%|█▋        |get-started/data.xml      6.31M/36.1M [00:07<00:31,     994kB/s]\u001b[A\n 18%|█▊        |get-started/data.xml      6.44M/36.1M [00:07<00:31,     992kB/s]\u001b[A\n 18%|█▊        |get-started/data.xml      6.56M/36.1M [00:07<00:32,     969kB/s]\u001b[A\n 19%|█▊        |get-started/data.xml      6.69M/36.1M [00:08<00:30,    1.00MB/s]\u001b[A\n 19%|█▉        |get-started/data.xml      6.88M/36.1M [00:08<00:30,    1.02MB/s]\u001b[A\n 19%|█▉        |get-started/data.xml      7.00M/36.1M [00:08<00:28,    1.06MB/s]\u001b[A\n 20%|█▉        |get-started/data.xml      7.12M/36.1M [00:08<00:29,    1.02MB/s]\u001b[A\n 20%|██        |get-started/data.xml      7.31M/36.1M [00:08<00:28,    1.07MB/s]\u001b[A\n 21%|██        |get-started/data.xml      7.50M/36.1M [00:08<00:27,    1.10MB/s]\u001b[A\n 21%|██        |get-started/data.xml      7.62M/36.1M [00:08<00:26,    1.13MB/s]\u001b[A\n 22%|██▏       |get-started/data.xml      7.81M/36.1M [00:09<00:25,    1.14MB/s]\u001b[A\n 22%|██▏       |get-started/data.xml      7.94M/36.1M [00:09<00:25,    1.14MB/s]\u001b[A\n 22%|██▏       |get-started/data.xml      8.12M/36.1M [00:09<00:24,    1.18MB/s]\u001b[A\n 23%|██▎       |get-started/data.xml      8.31M/36.1M [00:09<00:23,    1.23MB/s]\u001b[A\n 24%|██▎       |get-started/data.xml      8.50M/36.1M [00:09<00:22,    1.26MB/s]\u001b[A\n 24%|██▍       |get-started/data.xml      8.69M/36.1M [00:09<00:22,    1.28MB/s]\u001b[A\n 25%|██▍       |get-started/data.xml      8.88M/36.1M [00:09<00:21,    1.33MB/s]\u001b[A\n 25%|██▌       |get-started/data.xml      9.12M/36.1M [00:10<00:20,    1.38MB/s]\u001b[A\n 26%|██▌       |get-started/data.xml      9.31M/36.1M [00:10<00:20,    1.40MB/s]\u001b[A\n 26%|██▋       |get-started/data.xml      9.50M/36.1M [00:10<00:19,    1.41MB/s]\u001b[A\n 27%|██▋       |get-started/data.xml      9.75M/36.1M [00:10<00:18,    1.48MB/s]\u001b[A\n 28%|██▊       |get-started/data.xml      10.0M/36.1M [00:10<00:17,    1.55MB/s]\u001b[A\n 28%|██▊       |get-started/data.xml      10.2M/36.1M [00:10<00:17,    1.59MB/s]\u001b[A\n 29%|██▉       |get-started/data.xml      10.4M/36.1M [00:11<00:16,    1.65MB/s]\u001b[A\n 30%|██▉       |get-started/data.xml      10.7M/36.1M [00:11<00:15,    1.71MB/s]\u001b[A\n 30%|███       |get-started/data.xml      10.9M/36.1M [00:11<00:14,    1.88MB/s]\u001b[A\n 31%|███       |get-started/data.xml      11.1M/36.1M [00:11<00:14,    1.84MB/s]\u001b[A\n 31%|███▏      |get-started/data.xml      11.3M/36.1M [00:11<00:14,    1.80MB/s]\u001b[A\n 32%|███▏      |get-started/data.xml      11.6M/36.1M [00:11<00:13,    1.85MB/s]\u001b[A\n 33%|███▎      |get-started/data.xml      11.8M/36.1M [00:11<00:13,    1.94MB/s]\u001b[A\n 34%|███▎      |get-started/data.xml      12.1M/36.1M [00:11<00:12,    2.00MB/s]\u001b[A\n 34%|███▍      |get-started/data.xml      12.4M/36.1M [00:12<00:11,    2.08MB/s]\u001b[A\n 35%|███▌      |get-started/data.xml      12.8M/36.1M [00:12<00:11,    2.16MB/s]\u001b[A\n 36%|███▋      |get-started/data.xml      13.1M/36.1M [00:12<00:10,    2.24MB/s]\u001b[A\n 37%|███▋      |get-started/data.xml      13.5M/36.1M [00:12<00:10,    2.34MB/s]\u001b[A\n 38%|███▊      |get-started/data.xml      13.9M/36.1M [00:12<00:09,    2.44MB/s]\u001b[A\n 39%|███▉      |get-started/data.xml      14.2M/36.1M [00:12<00:09,    2.52MB/s]\u001b[A\n 40%|████      |get-started/data.xml      14.6M/36.1M [00:12<00:08,    2.64MB/s]\u001b[A\n 42%|████▏     |get-started/data.xml      15.0M/36.1M [00:13<00:07,    2.79MB/s]\u001b[A\n 43%|████▎     |get-started/data.xml      15.4M/36.1M [00:13<00:07,    2.96MB/s]\u001b[A\n 43%|████▎     |get-started/data.xml      15.7M/36.1M [00:13<00:07,    2.92MB/s]\u001b[A\n 44%|████▍     |get-started/data.xml      16.0M/36.1M [00:13<00:07,    2.93MB/s]\u001b[A\n 45%|████▌     |get-started/data.xml      16.4M/36.1M [00:13<00:06,    3.00MB/s]\u001b[A\n 47%|████▋     |get-started/data.xml      16.8M/36.1M [00:13<00:06,    3.32MB/s]\u001b[A\n 48%|████▊     |get-started/data.xml      17.2M/36.1M [00:13<00:05,    3.34MB/s]\u001b[A\n 49%|████▊     |get-started/data.xml      17.6M/36.1M [00:13<00:05,    3.34MB/s]\u001b[A\n 50%|████▉     |get-started/data.xml      17.9M/36.1M [00:13<00:05,    3.36MB/s]\u001b[A\n 51%|█████     |get-started/data.xml      18.4M/36.1M [00:14<00:05,    3.52MB/s]\u001b[A\n 52%|█████▏    |get-started/data.xml      18.9M/36.1M [00:14<00:04,    3.72MB/s]\u001b[A\n 54%|█████▎    |get-started/data.xml      19.4M/36.1M [00:14<00:04,    3.91MB/s]\u001b[A\n 55%|█████▍    |get-started/data.xml      19.8M/36.1M [00:14<00:04,    3.94MB/s]\u001b[A\n 56%|█████▌    |get-started/data.xml      20.2M/36.1M [00:14<00:05,    3.30MB/s]\u001b[A\n 58%|█████▊    |get-started/data.xml      20.9M/36.1M [00:14<00:04,    3.90MB/s]\u001b[A\n 59%|█████▉    |get-started/data.xml      21.4M/36.1M [00:14<00:04,    3.64MB/s]\u001b[A\n 60%|██████    |get-started/data.xml      21.8M/36.1M [00:14<00:04,    3.50MB/s]\u001b[A\n 61%|██████▏   |get-started/data.xml      22.2M/36.1M [00:15<00:04,    3.35MB/s]\u001b[A\n 62%|██████▏   |get-started/data.xml      22.6M/36.1M [00:15<00:04,    3.26MB/s]\u001b[A\n 64%|██████▎   |get-started/data.xml      23.0M/36.1M [00:15<00:04,    3.31MB/s]\u001b[A\n 65%|██████▍   |get-started/data.xml      23.4M/36.1M [00:15<00:03,    3.40MB/s]\u001b[A\n 66%|██████▌   |get-started/data.xml      23.8M/36.1M [00:15<00:03,    3.53MB/s]\u001b[A\n 67%|██████▋   |get-started/data.xml      24.2M/36.1M [00:15<00:03,    3.54MB/s]\u001b[A\n 68%|██████▊   |get-started/data.xml      24.6M/36.1M [00:15<00:03,    3.42MB/s]\u001b[A\n 69%|██████▉   |get-started/data.xml      24.9M/36.1M [00:15<00:03,    3.40MB/s]\u001b[A\n 70%|███████   |get-started/data.xml      25.4M/36.1M [00:16<00:03,    3.49MB/s]\u001b[A\n 72%|███████▏  |get-started/data.xml      25.9M/36.1M [00:16<00:02,    3.69MB/s]\u001b[A\n 73%|███████▎  |get-started/data.xml      26.3M/36.1M [00:16<00:02,    3.75MB/s]\u001b[A\n 74%|███████▍  |get-started/data.xml      26.7M/36.1M [00:16<00:02,    3.66MB/s]\u001b[A\n 75%|███████▍  |get-started/data.xml      27.1M/36.1M [00:16<00:02,    3.60MB/s]\u001b[A\n 76%|███████▋  |get-started/data.xml      27.6M/36.1M [00:16<00:02,    3.69MB/s]\u001b[A\n 78%|███████▊  |get-started/data.xml      28.1M/36.1M [00:16<00:02,    3.99MB/s]\u001b[A\n 79%|███████▉  |get-started/data.xml      28.5M/36.1M [00:16<00:02,    3.95MB/s]\u001b[A\n 80%|████████  |get-started/data.xml      28.9M/36.1M [00:17<00:01,    3.86MB/s]\u001b[A\n 81%|████████  |get-started/data.xml      29.3M/36.1M [00:17<00:01,    3.83MB/s]\u001b[A\n 82%|████████▏ |get-started/data.xml      29.8M/36.1M [00:17<00:01,    3.88MB/s]\u001b[A\n 84%|████████▍ |get-started/data.xml      30.3M/36.1M [00:17<00:01,    4.13MB/s]\u001b[A\n 85%|████████▌ |get-started/data.xml      30.8M/36.1M [00:17<00:01,    4.08MB/s]\u001b[A\n 86%|████████▋ |get-started/data.xml      31.2M/36.1M [00:17<00:01,    4.02MB/s]\u001b[A\n 88%|████████▊ |get-started/data.xml      31.6M/36.1M [00:17<00:01,    4.00MB/s]\u001b[A\n 89%|████████▉ |get-started/data.xml      32.1M/36.1M [00:17<00:01,    4.03MB/s]\u001b[A\n 90%|█████████ |get-started/data.xml      32.6M/36.1M [00:17<00:00,    4.25MB/s]\u001b[A\n 91%|█████████▏|get-started/data.xml      33.1M/36.1M [00:18<00:00,    4.20MB/s]\u001b[A\n 93%|█████████▎|get-started/data.xml      33.5M/36.1M [00:18<00:00,    4.19MB/s]\u001b[A\n 94%|█████████▍|get-started/data.xml      33.9M/36.1M [00:18<00:00,    4.11MB/s]\u001b[A\n 95%|█████████▌|get-started/data.xml      34.4M/36.1M [00:18<00:00,    4.33MB/s]\u001b[A\n 97%|█████████▋|get-started/data.xml      34.9M/36.1M [00:18<00:00,    4.27MB/s]\u001b[A\n 98%|█████████▊|get-started/data.xml      35.3M/36.1M [00:18<00:00,    4.23MB/s]\u001b[A\n 99%|█████████▉|get-started/data.xml      35.8M/36.1M [00:18<00:00,    4.20MB/s]\u001b[A\n100% Downloading|████████████████████████████████|1/1 [00:19<00:00, 19.60s/file]\u001b[0m"
    }
   ],
   "source": [
    "! dvc get https://github.com/iterative/dataset-registry \\\n",
    "          get-started/data.xml -o data/data.xml"
   ]
  },
  {
   "cell_type": "code",
   "execution_count": 6,
   "metadata": {
    "tags": []
   },
   "outputs": [
    {
     "output_type": "stream",
     "name": "stdout",
     "text": "On branch tutorial\nUntracked files:\n  (use \"git add <file>...\" to include in what will be committed)\n\t\u001b[31mdata/\u001b[m\n\nnothing added to commit but untracked files present (use \"git add\" to track)\n"
    }
   ],
   "source": [
    "! git status"
   ]
  },
  {
   "cell_type": "code",
   "execution_count": 7,
   "metadata": {
    "tags": []
   },
   "outputs": [
    {
     "output_type": "stream",
     "name": "stdout",
     "text": "If DVC froze, see `hardlink_lock` in <\u001b[36mhttps://man.dvc.org/config#core\u001b[39m>\u001b[0m"
    }
   ],
   "source": [
    "! dvc diff"
   ]
  },
  {
   "cell_type": "markdown",
   "metadata": {},
   "source": [
    "### DVC doesn't yet see the data so:\n",
    "## Tell DVC to track the data and Git to ignore it"
   ]
  },
  {
   "cell_type": "code",
   "execution_count": 8,
   "metadata": {
    "tags": []
   },
   "outputs": [
    {
     "output_type": "stream",
     "name": "stdout",
     "text": "100% Add|██████████████████████████████████████████████|1/1 [00:00,  1.56file/s]\n\nTo track the changes with git, run:\n\n\tgit add data/.gitignore data/data.xml.dvc\n\u001b[0m"
    }
   ],
   "source": [
    "! dvc add data/data.xml"
   ]
  },
  {
   "cell_type": "code",
   "execution_count": 9,
   "metadata": {
    "tags": []
   },
   "outputs": [
    {
     "output_type": "stream",
     "name": "stdout",
     "text": "On branch tutorial\nUntracked files:\n  (use \"git add <file>...\" to include in what will be committed)\n\t\u001b[31mdata/\u001b[m\n\nnothing added to commit but untracked files present (use \"git add\" to track)\n"
    }
   ],
   "source": [
    "! git status"
   ]
  },
  {
   "cell_type": "markdown",
   "metadata": {},
   "source": [
    "### Git ignores the data"
   ]
  },
  {
   "cell_type": "code",
   "execution_count": 11,
   "metadata": {
    "tags": []
   },
   "outputs": [
    {
     "output_type": "stream",
     "name": "stdout",
     "text": "On branch tutorial\nChanges to be committed:\n  (use \"git restore --staged <file>...\" to unstage)\n\t\u001b[32mnew file:   data/.gitignore\u001b[m\n\t\u001b[32mnew file:   data/data.xml.dvc\u001b[m\n\n"
    }
   ],
   "source": [
    "! git add data\n",
    "! git status"
   ]
  },
  {
   "cell_type": "markdown",
   "metadata": {},
   "source": [
    "### DVC sees the data"
   ]
  },
  {
   "cell_type": "code",
   "execution_count": 12,
   "metadata": {
    "tags": []
   },
   "outputs": [
    {
     "output_type": "stream",
     "name": "stdout",
     "text": "If DVC froze, see `hardlink_lock` in <\u001b[36mhttps://man.dvc.org/config#core\u001b[39m>\u001b[32mAdded\u001b[39m:\n    data/data.xml\n\nfiles summary: 1 added, 0 deleted, 0 modified\n\u001b[0m"
    }
   ],
   "source": [
    "! dvc diff"
   ]
  },
  {
   "cell_type": "code",
   "execution_count": 13,
   "metadata": {
    "tags": []
   },
   "outputs": [
    {
     "output_type": "stream",
     "name": "stdout",
     "text": "[tutorial 724bc21] Add raw data lock file\n 2 files changed, 4 insertions(+)\n create mode 100644 data/.gitignore\n create mode 100644 data/data.xml.dvc\n"
    }
   ],
   "source": [
    "! git commit -m \"Add raw data lock file\""
   ]
  },
  {
   "cell_type": "code",
   "execution_count": 14,
   "metadata": {
    "tags": []
   },
   "outputs": [
    {
     "output_type": "stream",
     "name": "stdout",
     "text": "If DVC froze, see `hardlink_lock` in <\u001b[36mhttps://man.dvc.org/config#core\u001b[39m>\u001b[0m"
    }
   ],
   "source": [
    "! dvc diff"
   ]
  },
  {
   "cell_type": "code",
   "execution_count": 15,
   "metadata": {
    "tags": []
   },
   "outputs": [
    {
     "output_type": "stream",
     "name": "stdout",
     "text": "If DVC froze, see `hardlink_lock` in <\u001b[36mhttps://man.dvc.org/config#core\u001b[39m>\u001b[32mAdded\u001b[39m:\n    data/data.xml\n\nfiles summary: 1 added, 0 deleted, 0 modified\n\u001b[0m"
    }
   ],
   "source": [
    "! dvc diff HEAD^"
   ]
  },
  {
   "cell_type": "markdown",
   "metadata": {},
   "source": [
    "### Push changes to git and dvc"
   ]
  },
  {
   "cell_type": "code",
   "execution_count": 16,
   "metadata": {
    "tags": []
   },
   "outputs": [
    {
     "output_type": "stream",
     "name": "stdout",
     "text": "Enumerating objects: 16, done.\nCounting objects: 100% (16/16), done.\nDelta compression using up to 8 threads\nCompressing objects: 100% (9/9), done.\nWriting objects: 100% (15/15), 1.44 KiB | 1.44 MiB/s, done.\nTotal 15 (delta 5), reused 11 (delta 3), pack-reused 0\nremote: Resolving deltas: 100% (5/5), completed with 1 local object.\u001b[K\nTo github.com:NichitaDiaconu/dvc_intro.git\n   7a5bfb1..724bc21  tutorial -> tutorial\n"
    }
   ],
   "source": [
    "! git push origin tutorial"
   ]
  },
  {
   "cell_type": "code",
   "execution_count": 17,
   "metadata": {
    "tags": []
   },
   "outputs": [
    {
     "output_type": "stream",
     "name": "stdout",
     "text": "\u001b[31mERROR\u001b[39m: failed to push data to the cloud - config file error: no remote specified. Create a default remote with\n    dvc remote add -d <remote name> <remote url>\n\n\u001b[33mHaving any troubles?\u001b[39m Hit us up at \u001b[34mhttps://dvc.org/support\u001b[39m, we are always happy to help!\n\u001b[0m"
    }
   ],
   "source": [
    "! dvc push"
   ]
  },
  {
   "cell_type": "markdown",
   "metadata": {},
   "source": [
    "### DVC requires setting up a remote storage\n",
    "## Setup a remote file storage (Google storage) and retry"
   ]
  },
  {
   "cell_type": "code",
   "execution_count": 18,
   "metadata": {
    "tags": []
   },
   "outputs": [
    {
     "output_type": "stream",
     "name": "stdout",
     "text": "Setting 'myremote' as a default remote.\n\u001b[0m"
    }
   ],
   "source": [
    "! dvc remote add -df myremote gs://dvc_intro"
   ]
  },
  {
   "cell_type": "code",
   "execution_count": 19,
   "metadata": {
    "tags": []
   },
   "outputs": [
    {
     "output_type": "stream",
     "name": "stdout",
     "text": "[tutorial a74a050] add remote file storage config\n 1 file changed, 4 insertions(+)\nEnumerating objects: 7, done.\nCounting objects: 100% (7/7), done.\nDelta compression using up to 8 threads\nCompressing objects: 100% (4/4), done.\nWriting objects: 100% (4/4), 445 bytes | 445.00 KiB/s, done.\nTotal 4 (delta 1), reused 0 (delta 0), pack-reused 0\nremote: Resolving deltas: 100% (1/1), completed with 1 local object.\u001b[K\nTo github.com:NichitaDiaconu/dvc_intro.git\n   724bc21..a74a050  tutorial -> tutorial\n"
    }
   ],
   "source": [
    "! git add .dvc/config\n",
    "! git commit -m \"add remote file storage config\"\n",
    "! git push origin tutorial"
   ]
  },
  {
   "cell_type": "code",
   "execution_count": 20,
   "metadata": {
    "tags": []
   },
   "outputs": [
    {
     "output_type": "stream",
     "name": "stdout",
     "text": "\u001b[39m\u001b[1mLoading .env environment variables...\u001b[39m\u001b[22m\n  0% Uploading|                                      |0/1 [00:00<?,     ?file/s]\n!\u001b[A\n  0%|          |data/data.xml                  0.00/37.9M [00:00<?,       ?it/s]\u001b[A\n 28%|██▊       |data/data.xml             10.0M/36.1M [00:00<00:00,    39.5MB/s]\u001b[A\n 55%|█████▌    |data/data.xml             20.0M/36.1M [00:02<00:01,    14.7MB/s]\u001b[A\n 83%|████████▎ |data/data.xml             30.0M/36.1M [00:03<00:00,    10.5MB/s]\u001b[A\n100%|██████████|data/data.xml             36.1M/36.1M [00:05<00:00,    6.23MB/s]\u001b[A\n1 file pushed\n\u001b[0m"
    }
   ],
   "source": [
    "! pipenv run dvc push"
   ]
  },
  {
   "cell_type": "markdown",
   "metadata": {},
   "source": [
    "## For reproducibility of this notebook:\n",
    "### Remove tracked data from dvc (local and remote) and\n",
    "### Remove unnecessary files "
   ]
  },
  {
   "cell_type": "code",
   "execution_count": 21,
   "metadata": {
    "tags": []
   },
   "outputs": [
    {
     "output_type": "stream",
     "name": "stdout",
     "text": "If DVC froze, see `hardlink_lock` in <\u001b[36mhttps://man.dvc.org/config#core\u001b[39m>\u001b[0m"
    }
   ],
   "source": [
    "! dvc remove data/data.xml.dvc\n",
    "! rm data/data.xml"
   ]
  },
  {
   "cell_type": "code",
   "execution_count": 22,
   "metadata": {
    "tags": []
   },
   "outputs": [
    {
     "output_type": "stream",
     "name": "stdout",
     "text": "If DVC froze, see `hardlink_lock` in <\u001b[36mhttps://man.dvc.org/config#core\u001b[39m>\u001b[31mDeleted\u001b[39m:\n    data/data.xml\n\nfiles summary: 0 added, 1 deleted, 0 modified\n\u001b[0m"
    }
   ],
   "source": [
    "! dvc diff"
   ]
  },
  {
   "cell_type": "code",
   "execution_count": 23,
   "metadata": {
    "tags": []
   },
   "outputs": [
    {
     "output_type": "stream",
     "name": "stdout",
     "text": "[tutorial 6f2bcfa] removes data\n 1 file changed, 3 deletions(-)\n delete mode 100644 data/data.xml.dvc\nEnumerating objects: 5, done.\nCounting objects: 100% (5/5), done.\nDelta compression using up to 8 threads\nCompressing objects: 100% (2/2), done.\nWriting objects: 100% (3/3), 300 bytes | 300.00 KiB/s, done.\nTotal 3 (delta 1), reused 0 (delta 0), pack-reused 0\nremote: Resolving deltas: 100% (1/1), completed with 1 local object.\u001b[K\nTo github.com:NichitaDiaconu/dvc_intro.git\n   a74a050..6f2bcfa  tutorial -> tutorial\nEverything is up to date.\n\u001b[0m"
    }
   ],
   "source": [
    "! git add data/data.xml.dvc\n",
    "! git commit -m 'removes data'\n",
    "! git push origin tutorial\n",
    "! dvc push"
   ]
  },
  {
   "cell_type": "code",
   "execution_count": 24,
   "metadata": {
    "tags": []
   },
   "outputs": [
    {
     "output_type": "stream",
     "name": "stdout",
     "text": "\u001b[33mWARNING\u001b[39m: This will remove all cache except items used in the workspace of the current repo.\n  0% Querying cache in 'gs://dvc_intro'|  |1.00/4.10k [00:00<10:57,  6.22file/s]\u001b[0m"
    }
   ],
   "source": [
    "! echo \"y\" | dvc gc -cw"
   ]
  },
  {
   "cell_type": "markdown",
   "metadata": {},
   "source": [
    "remove the dvc files"
   ]
  },
  {
   "cell_type": "code",
   "execution_count": 25,
   "metadata": {
    "tags": []
   },
   "outputs": [
    {
     "output_type": "stream",
     "name": "stdout",
     "text": "This will destroy all information about your pipelines, all data files, as well as cache in .dvc/cache.\nIf DVC froze, see `hardlink_lock` in <\u001b[36mhttps://man.dvc.org/config#core\u001b[39m>\u001b[0m"
    }
   ],
   "source": [
    "! echo 'y' | dvc destroy"
   ]
  },
  {
   "cell_type": "code",
   "execution_count": 26,
   "metadata": {},
   "outputs": [],
   "source": [
    "! rm -rf data/"
   ]
  },
  {
   "cell_type": "code",
   "execution_count": 27,
   "metadata": {
    "tags": []
   },
   "outputs": [
    {
     "output_type": "stream",
     "name": "stdout",
     "text": "[tutorial fe7c9e7] clean\n 7 files changed, 133 deletions(-)\n delete mode 100644 .dvc/.gitignore\n delete mode 100644 .dvc/config\n delete mode 100644 .dvc/plots/confusion.json\n delete mode 100644 .dvc/plots/default.json\n delete mode 100644 .dvc/plots/scatter.json\n delete mode 100644 .dvc/plots/smooth.json\n delete mode 100644 data/.gitignore\nEnumerating objects: 3, done.\nCounting objects: 100% (3/3), done.\nDelta compression using up to 8 threads\nCompressing objects: 100% (2/2), done.\nWriting objects: 100% (2/2), 223 bytes | 223.00 KiB/s, done.\nTotal 2 (delta 1), reused 0 (delta 0), pack-reused 0\nremote: Resolving deltas: 100% (1/1), completed with 1 local object.\u001b[K\nTo github.com:NichitaDiaconu/dvc_intro.git\n   6f2bcfa..fe7c9e7  tutorial -> tutorial\n"
    }
   ],
   "source": [
    "! git add .\n",
    "! git commit -m \"clean\"\n",
    "! git push origin tutorial"
   ]
  },
  {
   "cell_type": "code",
   "execution_count": null,
   "metadata": {},
   "outputs": [],
   "source": []
  }
 ]
}