{
 "metadata": {
  "language_info": {
   "codemirror_mode": {
    "name": "ipython",
    "version": 3
   },
   "file_extension": ".py",
   "mimetype": "text/x-python",
   "name": "python",
   "nbconvert_exporter": "python",
   "pygments_lexer": "ipython3",
   "version": 3
  },
  "orig_nbformat": 2,
  "kernelspec": {
   "name": "python_defaultSpec_1596619853717",
   "display_name": "Python 3.8.1 64-bit ('dvc_intro': pipenv)"
  }
 },
 "nbformat": 4,
 "nbformat_minor": 2,
 "cells": [
  {
   "cell_type": "markdown",
   "metadata": {},
   "source": [
    "Initialize repo as a DVC repo"
   ]
  },
  {
   "cell_type": "code",
   "execution_count": 8,
   "metadata": {
    "tags": []
   },
   "outputs": [
    {
     "output_type": "stream",
     "name": "stdout",
     "text": "\nYou can now commit the changes to git.\n\n\u001b[31m+---------------------------------------------------------------------+\n\u001b[39m\u001b[31m|\u001b[39m                                                                     \u001b[31m|\u001b[39m\n\u001b[31m|\u001b[39m        DVC has enabled anonymous aggregate usage analytics.         \u001b[31m|\u001b[39m\n\u001b[31m|\u001b[39m     Read the analytics documentation (and how to opt-out) here:     \u001b[31m|\u001b[39m\n\u001b[31m|\u001b[39m              \u001b[34mhttps://dvc.org/doc/user-guide/analytics\u001b[39m               \u001b[31m|\u001b[39m\n\u001b[31m|\u001b[39m                                                                     \u001b[31m|\u001b[39m\n\u001b[31m+---------------------------------------------------------------------+\n\u001b[39m\n\u001b[33mWhat's next?\u001b[39m\n\u001b[33m------------\u001b[39m\n- Check out the documentation: \u001b[34mhttps://dvc.org/doc\u001b[39m\n- Get help and share ideas: \u001b[34mhttps://dvc.org/chat\u001b[39m\n- Star us on GitHub: \u001b[34mhttps://github.com/iterative/dvc\u001b[39m\n\u001b[0m"
    }
   ],
   "source": [
    "! dvc init"
   ]
  },
  {
   "cell_type": "markdown",
   "metadata": {},
   "source": [
    "The DVC files have already been staged to git and we can commit them"
   ]
  },
  {
   "cell_type": "code",
   "execution_count": 9,
   "metadata": {
    "tags": []
   },
   "outputs": [
    {
     "output_type": "stream",
     "name": "stdout",
     "text": "On branch tutorial\nChanges to be committed:\n  (use \"git restore --staged <file>...\" to unstage)\n\t\u001b[32mnew file:   .dvc/.gitignore\u001b[m\n\t\u001b[32mnew file:   .dvc/config\u001b[m\n\t\u001b[32mnew file:   .dvc/plots/confusion.json\u001b[m\n\t\u001b[32mnew file:   .dvc/plots/default.json\u001b[m\n\t\u001b[32mnew file:   .dvc/plots/scatter.json\u001b[m\n\t\u001b[32mnew file:   .dvc/plots/smooth.json\u001b[m\n\nUntracked files:\n  (use \"git add <file>...\" to include in what will be committed)\n\t\u001b[31mtutorial.ipynb\u001b[m\n\n"
    }
   ],
   "source": [
    "! git status"
   ]
  },
  {
   "cell_type": "code",
   "execution_count": 11,
   "metadata": {
    "tags": []
   },
   "outputs": [
    {
     "output_type": "stream",
     "name": "stdout",
     "text": "[tutorial 60ff62d] Init DVC\n 6 files changed, 128 insertions(+)\n create mode 100644 .dvc/.gitignore\n create mode 100644 .dvc/config\n create mode 100644 .dvc/plots/confusion.json\n create mode 100644 .dvc/plots/default.json\n create mode 100644 .dvc/plots/scatter.json\n create mode 100644 .dvc/plots/smooth.json\n"
    }
   ],
   "source": [
    "! git commit -m  \"Init DVC\""
   ]
  },
  {
   "cell_type": "markdown",
   "metadata": {},
   "source": [
    "# Get the raw data"
   ]
  },
  {
   "cell_type": "code",
   "execution_count": 12,
   "metadata": {
    "tags": []
   },
   "outputs": [
    {
     "output_type": "stream",
     "name": "stdout",
     "text": "0% Downloading|                                    |0/1 [00:00<?,     ?file/s]\n!\u001b[A\n  0%|          |get-started/data.xml           0.00/37.9M [00:00<?,       ?it/s]\u001b[A\n  0%|          |get-started/data.xml      64.0k/36.1M [00:00<02:45,     228kB/s]\u001b[A\n  0%|          |get-started/data.xml       128k/36.1M [00:00<02:20,     268kB/s]\u001b[A\n  1%|          |get-started/data.xml       192k/36.1M [00:00<02:52,     218kB/s]\u001b[A\n  1%|▏         |get-started/data.xml       512k/36.1M [00:01<02:04,     300kB/s]\u001b[A\n  2%|▏         |get-started/data.xml       640k/36.1M [00:01<01:40,     371kB/s]\u001b[A\n  2%|▏         |get-started/data.xml       768k/36.1M [00:01<01:21,     457kB/s]\u001b[A\n  2%|▏         |get-started/data.xml       896k/36.1M [00:01<01:08,     536kB/s]\u001b[A\n  3%|▎         |get-started/data.xml      1.00M/36.1M [00:01<01:00,     607kB/s]\u001b[A\n  3%|▎         |get-started/data.xml      1.12M/36.1M [00:01<00:54,     674kB/s]\u001b[A\n  3%|▎         |get-started/data.xml      1.25M/36.1M [00:01<00:50,     726kB/s]\u001b[A\n  4%|▍         |get-started/data.xml      1.38M/36.1M [00:02<00:47,     773kB/s]\u001b[A\n  4%|▍         |get-started/data.xml      1.50M/36.1M [00:02<00:45,     807kB/s]\u001b[A\n  4%|▍         |get-started/data.xml      1.62M/36.1M [00:02<00:43,     836kB/s]\u001b[A\n  5%|▍         |get-started/data.xml      1.75M/36.1M [00:02<00:42,     854kB/s]\u001b[A\n  5%|▌         |get-started/data.xml      1.88M/36.1M [00:02<00:41,     869kB/s]\u001b[A\n  6%|▌         |get-started/data.xml      2.00M/36.1M [00:02<00:40,     878kB/s]\u001b[A\n  6%|▌         |get-started/data.xml      2.12M/36.1M [00:02<00:40,     883kB/s]\u001b[A\n  6%|▌         |get-started/data.xml      2.25M/36.1M [00:03<00:39,     897kB/s]\u001b[A\n  7%|▋         |get-started/data.xml      2.38M/36.1M [00:03<00:39,     895kB/s]\u001b[A\n  7%|▋         |get-started/data.xml      2.50M/36.1M [00:03<00:38,     908kB/s]\u001b[A\n  7%|▋         |get-started/data.xml      2.62M/36.1M [00:03<00:38,     909kB/s]\u001b[A\n  8%|▊         |get-started/data.xml      2.75M/36.1M [00:03<00:38,     916kB/s]\u001b[A\n  8%|▊         |get-started/data.xml      2.88M/36.1M [00:03<00:38,     912kB/s]\u001b[A\n  8%|▊         |get-started/data.xml      3.00M/36.1M [00:03<00:37,     916kB/s]\u001b[A\n  9%|▊         |get-started/data.xml      3.12M/36.1M [00:04<00:37,     914kB/s]\u001b[A\n  9%|▉         |get-started/data.xml      3.25M/36.1M [00:04<00:37,     926kB/s]\u001b[A\n  9%|▉         |get-started/data.xml      3.38M/36.1M [00:04<00:37,     921kB/s]\u001b[A\n 10%|▉         |get-started/data.xml      3.50M/36.1M [00:04<00:37,     923kB/s]\u001b[A\n 10%|█         |get-started/data.xml      3.62M/36.1M [00:04<00:37,     919kB/s]\u001b[A\n 10%|█         |get-started/data.xml      3.75M/36.1M [00:04<00:36,     919kB/s]\u001b[A\n 11%|█         |get-started/data.xml      3.88M/36.1M [00:04<00:36,     916kB/s]\u001b[A\n 11%|█         |get-started/data.xml      4.00M/36.1M [00:05<00:35,     950kB/s]\u001b[A\n 11%|█▏        |get-started/data.xml      4.12M/36.1M [00:05<00:35,     940kB/s]\u001b[A\n 12%|█▏        |get-started/data.xml      4.25M/36.1M [00:05<00:36,     911kB/s]\u001b[A\n 12%|█▏        |get-started/data.xml      4.44M/36.1M [00:05<00:33,     980kB/s]\u001b[A\n 13%|█▎        |get-started/data.xml      4.56M/36.1M [00:05<00:34,     969kB/s]\u001b[A\n 13%|█▎        |get-started/data.xml      4.69M/36.1M [00:05<00:34,     951kB/s]\u001b[A\n 13%|█▎        |get-started/data.xml      4.81M/36.1M [00:05<00:34,     948kB/s]\u001b[A\n 14%|█▎        |get-started/data.xml      4.94M/36.1M [00:06<00:35,     929kB/s]\u001b[A\n 14%|█▍        |get-started/data.xml      5.06M/36.1M [00:06<00:34,     933kB/s]\u001b[A\n 14%|█▍        |get-started/data.xml      5.19M/36.1M [00:06<00:35,     926kB/s]\u001b[A\n 15%|█▍        |get-started/data.xml      5.31M/36.1M [00:06<00:35,     921kB/s]\u001b[A\n 15%|█▌        |get-started/data.xml      5.44M/36.1M [00:06<00:32,     980kB/s]\u001b[A\n 15%|█▌        |get-started/data.xml      5.56M/36.1M [00:06<00:33,     960kB/s]\u001b[A\n 16%|█▌        |get-started/data.xml      5.75M/36.1M [00:06<00:32,     990kB/s]\u001b[A\n 16%|█▋        |get-started/data.xml      5.88M/36.1M [00:07<00:32,     984kB/s]\u001b[A\n 17%|█▋        |get-started/data.xml      6.00M/36.1M [00:07<00:32,     965kB/s]\u001b[A\n 17%|█▋        |get-started/data.xml      6.12M/36.1M [00:07<00:31,     996kB/s]\u001b[A\n 17%|█▋        |get-started/data.xml      6.31M/36.1M [00:07<00:30,    1.02MB/s]\u001b[A\n 18%|█▊        |get-started/data.xml      6.44M/36.1M [00:07<00:31,     999kB/s]\u001b[A\n 18%|█▊        |get-started/data.xml      6.56M/36.1M [00:07<00:31,     994kB/s]\u001b[A\n 19%|█▊        |get-started/data.xml      6.69M/36.1M [00:07<00:29,    1.05MB/s]\u001b[A\n 19%|█▉        |get-started/data.xml      6.88M/36.1M [00:08<00:29,    1.04MB/s]\u001b[A\n 19%|█▉        |get-started/data.xml      7.00M/36.1M [00:08<00:28,    1.08MB/s]\u001b[A\n 20%|█▉        |get-started/data.xml      7.12M/36.1M [00:08<00:28,    1.07MB/s]\u001b[A\n 20%|██        |get-started/data.xml      7.31M/36.1M [00:08<00:27,    1.08MB/s]\u001b[A\n 21%|██        |get-started/data.xml      7.44M/36.1M [00:08<00:27,    1.10MB/s]\u001b[A\n 21%|██        |get-started/data.xml      7.62M/36.1M [00:08<00:26,    1.12MB/s]\u001b[A\n 22%|██▏       |get-started/data.xml      7.81M/36.1M [00:08<00:26,    1.14MB/s]\u001b[A\n 22%|██▏       |get-started/data.xml      7.94M/36.1M [00:09<00:25,    1.18MB/s]\u001b[A\n 22%|██▏       |get-started/data.xml      8.12M/36.1M [00:09<00:24,    1.22MB/s]\u001b[A\n 23%|██▎       |get-started/data.xml      8.31M/36.1M [00:09<00:23,    1.23MB/s]\u001b[A\n 24%|██▎       |get-started/data.xml      8.50M/36.1M [00:09<00:23,    1.22MB/s]\u001b[A\n 24%|██▍       |get-started/data.xml      8.69M/36.1M [00:09<00:22,    1.26MB/s]\u001b[A\n 25%|██▍       |get-started/data.xml      8.88M/36.1M [00:09<00:21,    1.34MB/s]\u001b[A\n 25%|██▌       |get-started/data.xml      9.06M/36.1M [00:09<00:20,    1.40MB/s]\u001b[A\n 26%|██▌       |get-started/data.xml      9.25M/36.1M [00:10<00:20,    1.40MB/s]\u001b[A\n 26%|██▌       |get-started/data.xml      9.44M/36.1M [00:10<00:19,    1.44MB/s]\u001b[A\n 27%|██▋       |get-started/data.xml      9.62M/36.1M [00:10<00:18,    1.53MB/s]\u001b[A\n 27%|██▋       |get-started/data.xml      9.81M/36.1M [00:10<00:17,    1.57MB/s]\u001b[A\n 28%|██▊       |get-started/data.xml      10.0M/36.1M [00:10<00:17,    1.53MB/s]\u001b[A\n 28%|██▊       |get-started/data.xml      10.2M/36.1M [00:10<00:18,    1.50MB/s]\u001b[A\n 29%|██▉       |get-started/data.xml      10.4M/36.1M [00:10<00:17,    1.58MB/s]\u001b[A\n 29%|██▉       |get-started/data.xml      10.6M/36.1M [00:10<00:16,    1.67MB/s]\u001b[A\n 30%|███       |get-started/data.xml      10.9M/36.1M [00:11<00:15,    1.72MB/s]\u001b[A\n 31%|███       |get-started/data.xml      11.1M/36.1M [00:11<00:14,    1.76MB/s]\u001b[A\n 31%|███▏      |get-started/data.xml      11.4M/36.1M [00:11<00:13,    1.88MB/s]\u001b[A\n 32%|███▏      |get-started/data.xml      11.6M/36.1M [00:11<00:13,    1.97MB/s]\u001b[A\n 33%|███▎      |get-started/data.xml      11.9M/36.1M [00:11<00:12,    2.02MB/s]\u001b[A\n 34%|███▎      |get-started/data.xml      12.1M/36.1M [00:11<00:12,    1.99MB/s]\u001b[A\n 34%|███▍      |get-started/data.xml      12.4M/36.1M [00:11<00:12,    2.00MB/s]\u001b[A\n 35%|███▍      |get-started/data.xml      12.6M/36.1M [00:11<00:11,    2.13MB/s]\u001b[A\n 36%|███▌      |get-started/data.xml      12.9M/36.1M [00:12<00:11,    2.19MB/s]\u001b[A\n 37%|███▋      |get-started/data.xml      13.2M/36.1M [00:12<00:10,    2.24MB/s]\u001b[A\n 38%|███▊      |get-started/data.xml      13.6M/36.1M [00:12<00:10,    2.35MB/s]\u001b[A\n 39%|███▊      |get-started/data.xml      13.9M/36.1M [00:12<00:09,    2.51MB/s]\u001b[A\n 39%|███▉      |get-started/data.xml      14.2M/36.1M [00:12<00:09,    2.54MB/s]\u001b[A\n 40%|███▉      |get-started/data.xml      14.4M/36.1M [00:12<00:08,    2.55MB/s]\u001b[A\n 41%|████      |get-started/data.xml      14.8M/36.1M [00:12<00:08,    2.61MB/s]\u001b[A\n 42%|████▏     |get-started/data.xml      15.1M/36.1M [00:12<00:08,    2.68MB/s]\u001b[A\n 43%|████▎     |get-started/data.xml      15.5M/36.1M [00:13<00:07,    2.95MB/s]\u001b[A\n 44%|████▍     |get-started/data.xml      15.8M/36.1M [00:13<00:07,    2.90MB/s]\u001b[A\n 45%|████▍     |get-started/data.xml      16.1M/36.1M [00:13<00:07,    2.93MB/s]\u001b[A\n 45%|████▌     |get-started/data.xml      16.4M/36.1M [00:13<00:06,    3.01MB/s]\u001b[A\n 47%|████▋     |get-started/data.xml      16.9M/36.1M [00:13<00:06,    3.29MB/s]\u001b[A\n 48%|████▊     |get-started/data.xml      17.2M/36.1M [00:13<00:06,    3.26MB/s]\u001b[A\n 49%|████▉     |get-started/data.xml      17.6M/36.1M [00:13<00:05,    3.32MB/s]\u001b[A\n 50%|████▉     |get-started/data.xml      18.0M/36.1M [00:13<00:05,    3.40MB/s]\u001b[A\n 51%|█████     |get-started/data.xml      18.4M/36.1M [00:13<00:05,    3.54MB/s]\u001b[A\n 52%|█████▏    |get-started/data.xml      18.9M/36.1M [00:14<00:04,    3.77MB/s]\u001b[A\n 53%|█████▎    |get-started/data.xml      19.2M/36.1M [00:14<00:04,    3.69MB/s]\u001b[A\n 54%|█████▍    |get-started/data.xml      19.7M/36.1M [00:14<00:04,    3.84MB/s]\u001b[A\n 56%|█████▌    |get-started/data.xml      20.1M/36.1M [00:14<00:04,    3.97MB/s]\u001b[A\n 57%|█████▋    |get-started/data.xml      20.6M/36.1M [00:14<00:03,    4.10MB/s]\u001b[A\n 58%|█████▊    |get-started/data.xml      21.0M/36.1M [00:14<00:03,    4.22MB/s]\u001b[A\n 59%|█████▉    |get-started/data.xml      21.4M/36.1M [00:14<00:03,    4.24MB/s]\u001b[A\n 61%|██████    |get-started/data.xml      22.0M/36.1M [00:14<00:04,    3.46MB/s]\u001b[A\n 63%|██████▎   |get-started/data.xml      22.9M/36.1M [00:15<00:03,    4.23MB/s]\u001b[A\n 65%|██████▌   |get-started/data.xml      23.5M/36.1M [00:15<00:03,    3.97MB/s]\u001b[A\n 66%|██████▋   |get-started/data.xml      24.0M/36.1M [00:15<00:03,    3.85MB/s]\u001b[A\n 68%|██████▊   |get-started/data.xml      24.4M/36.1M [00:15<00:03,    3.72MB/s]\u001b[A\n 69%|██████▉   |get-started/data.xml      24.9M/36.1M [00:15<00:03,    3.69MB/s]\u001b[A\n 70%|███████   |get-started/data.xml      25.3M/36.1M [00:15<00:03,    3.71MB/s]\u001b[A\n 71%|███████   |get-started/data.xml      25.7M/36.1M [00:15<00:02,    3.69MB/s]\u001b[A\n 72%|███████▏  |get-started/data.xml      26.1M/36.1M [00:15<00:02,    3.89MB/s]\u001b[A\n 74%|███████▎  |get-started/data.xml      26.6M/36.1M [00:16<00:02,    3.82MB/s]\u001b[A\n 75%|███████▍  |get-started/data.xml      26.9M/36.1M [00:16<00:02,    3.84MB/s]\u001b[A\n 76%|███████▌  |get-started/data.xml      27.3M/36.1M [00:16<00:02,    3.82MB/s]\u001b[A\n 77%|███████▋  |get-started/data.xml      27.8M/36.1M [00:16<00:02,    4.01MB/s]\u001b[A\n 78%|███████▊  |get-started/data.xml      28.2M/36.1M [00:16<00:02,    3.97MB/s]\u001b[A\n 79%|███████▉  |get-started/data.xml      28.6M/36.1M [00:16<00:01,    3.99MB/s]\u001b[A\n 80%|████████  |get-started/data.xml      29.1M/36.1M [00:16<00:01,    4.00MB/s]\u001b[A\n 82%|████████▏ |get-started/data.xml      29.5M/36.1M [00:16<00:01,    4.04MB/s]\u001b[A\n 83%|████████▎ |get-started/data.xml      30.0M/36.1M [00:16<00:01,    4.20MB/s]\u001b[A\n 84%|████████▍ |get-started/data.xml      30.4M/36.1M [00:17<00:01,    4.18MB/s]\u001b[A\n 85%|████████▌ |get-started/data.xml      30.9M/36.1M [00:17<00:01,    4.19MB/s]\u001b[A\n 87%|████████▋ |get-started/data.xml      31.3M/36.1M [00:17<00:01,    4.21MB/s]\u001b[A\n 88%|████████▊ |get-started/data.xml      31.8M/36.1M [00:17<00:01,    4.37MB/s]\u001b[A\n 89%|████████▉ |get-started/data.xml      32.2M/36.1M [00:17<00:00,    4.35MB/s]\u001b[A\n 90%|█████████ |get-started/data.xml      32.7M/36.1M [00:17<00:00,    4.33MB/s]\u001b[A\n 92%|█████████▏|get-started/data.xml      33.1M/36.1M [00:17<00:00,    4.28MB/s]\u001b[A\n 93%|█████████▎|get-started/data.xml      33.7M/36.1M [00:17<00:00,    4.52MB/s]\u001b[A\n 94%|█████████▍|get-started/data.xml      34.1M/36.1M [00:17<00:00,    4.47MB/s]\u001b[A\n 96%|█████████▌|get-started/data.xml      34.6M/36.1M [00:18<00:00,    4.47MB/s]\u001b[A\n 97%|█████████▋|get-started/data.xml      35.0M/36.1M [00:18<00:00,    4.39MB/s]\u001b[A\n 98%|█████████▊|get-started/data.xml      35.5M/36.1M [00:18<00:00,    4.61MB/s]\u001b[A\n100%|█████████▉|get-started/data.xml      36.0M/36.1M [00:18<00:00,    4.59MB/s]\u001b[A\n100% Downloading|████████████████████████████████|1/1 [00:19<00:00, 19.13s/file]\u001b[0m"
    }
   ],
   "source": [
    "! dvc get https://github.com/iterative/dataset-registry \\\n",
    "          get-started/data.xml -o data/data.xml"
   ]
  },
  {
   "cell_type": "code",
   "execution_count": 48,
   "metadata": {
    "tags": []
   },
   "outputs": [
    {
     "output_type": "stream",
     "name": "stdout",
     "text": "On branch tutorial\nUntracked files:\n  (use \"git add <file>...\" to include in what will be committed)\n\t\u001b[31mdata/\u001b[m\n\t\u001b[31mtutorial.ipynb\u001b[m\n\nnothing added to commit but untracked files present (use \"git add\" to track)\n"
    }
   ],
   "source": [
    "! git status"
   ]
  },
  {
   "cell_type": "code",
   "execution_count": 50,
   "metadata": {
    "tags": []
   },
   "outputs": [
    {
     "output_type": "stream",
     "name": "stdout",
     "text": "\u001b[32mAdded\u001b[39m:\n    data/data.xml\n\nfiles summary: 1 added, 0 deleted, 0 modified\n\u001b[0m"
    }
   ],
   "source": [
    "! dvc diff"
   ]
  },
  {
   "cell_type": "markdown",
   "metadata": {},
   "source": [
    "Tell DVC to track the data and Git to ignore it"
   ]
  },
  {
   "cell_type": "code",
   "execution_count": 51,
   "metadata": {
    "tags": []
   },
   "outputs": [
    {
     "output_type": "stream",
     "name": "stdout",
     "text": "Stage is cached, skipping\nAdding...\n!\u001b[A\nProcessing                                            |0.00 [00:00,     ?file/s]\u001b[A\n  0% Add|                                              |0/0 [00:00,     ?file/s]\n\u001b[0m"
    }
   ],
   "source": [
    "! dvc add data/data.xml"
   ]
  },
  {
   "cell_type": "code",
   "execution_count": 52,
   "metadata": {
    "tags": []
   },
   "outputs": [
    {
     "output_type": "stream",
     "name": "stdout",
     "text": "On branch tutorial\nUntracked files:\n  (use \"git add <file>...\" to include in what will be committed)\n\t\u001b[31mdata/\u001b[m\n\t\u001b[31mtutorial.ipynb\u001b[m\n\nnothing added to commit but untracked files present (use \"git add\" to track)\n"
    }
   ],
   "source": [
    "! git status"
   ]
  },
  {
   "cell_type": "code",
   "execution_count": 53,
   "metadata": {
    "tags": []
   },
   "outputs": [],
   "source": [
    "! git add data"
   ]
  },
  {
   "cell_type": "code",
   "execution_count": 54,
   "metadata": {
    "tags": []
   },
   "outputs": [
    {
     "output_type": "stream",
     "name": "stdout",
     "text": "On branch tutorial\nChanges to be committed:\n  (use \"git restore --staged <file>...\" to unstage)\n\t\u001b[32mnew file:   data/.gitignore\u001b[m\n\t\u001b[32mnew file:   data/data.xml.dvc\u001b[m\n\nUntracked files:\n  (use \"git add <file>...\" to include in what will be committed)\n\t\u001b[31mtutorial.ipynb\u001b[m\n\n"
    }
   ],
   "source": [
    "! git status"
   ]
  },
  {
   "cell_type": "code",
   "execution_count": 55,
   "metadata": {
    "tags": []
   },
   "outputs": [
    {
     "output_type": "stream",
     "name": "stdout",
     "text": "\u001b[32mAdded\u001b[39m:\n    data/data.xml\n\nfiles summary: 1 added, 0 deleted, 0 modified\n\u001b[0m"
    }
   ],
   "source": [
    "! dvc diff"
   ]
  },
  {
   "cell_type": "code",
   "execution_count": 56,
   "metadata": {
    "tags": []
   },
   "outputs": [
    {
     "output_type": "stream",
     "name": "stdout",
     "text": "[tutorial 3a8be5b] Add raw data lock file\n 2 files changed, 4 insertions(+)\n create mode 100644 data/.gitignore\n create mode 100644 data/data.xml.dvc\n"
    }
   ],
   "source": [
    "! git commit -m \"Add raw data lock file\""
   ]
  },
  {
   "cell_type": "code",
   "execution_count": 57,
   "metadata": {
    "tags": []
   },
   "outputs": [
    {
     "output_type": "stream",
     "name": "stdout",
     "text": "If DVC froze, see `hardlink_lock` in <\u001b[36mhttps://man.dvc.org/config#core\u001b[39m>\u001b[0m"
    }
   ],
   "source": [
    "! dvc diff"
   ]
  },
  {
   "cell_type": "code",
   "execution_count": 58,
   "metadata": {
    "tags": []
   },
   "outputs": [
    {
     "output_type": "stream",
     "name": "stdout",
     "text": "\u001b[32mAdded\u001b[39m:\n    data/data.xml\n\nfiles summary: 1 added, 0 deleted, 0 modified\n\u001b[0m"
    }
   ],
   "source": [
    "! dvc diff HEAD^"
   ]
  },
  {
   "cell_type": "code",
   "execution_count": 59,
   "metadata": {
    "tags": []
   },
   "outputs": [
    {
     "output_type": "stream",
     "name": "stdout",
     "text": "Enumerating objects: 16, done.\nCounting objects: 100% (16/16), done.\nDelta compression using up to 8 threads\nCompressing objects: 100% (9/9), done.\nWriting objects: 100% (15/15), 1.43 KiB | 1.43 MiB/s, done.\nTotal 15 (delta 5), reused 11 (delta 3), pack-reused 0\nremote: Resolving deltas: 100% (5/5), completed with 1 local object.\u001b[K\nTo github.com:NichitaDiaconu/dvc_intro.git\n   0704cf8..3a8be5b  tutorial -> tutorial\n"
    }
   ],
   "source": [
    "! git push origin tutorial"
   ]
  },
  {
   "cell_type": "code",
   "execution_count": 1,
   "metadata": {
    "tags": []
   },
   "outputs": [
    {
     "output_type": "stream",
     "name": "stdout",
     "text": "0% Querying cache in gdrive://1-A4FdgVtTWwjh-COkkPVqc2Ko0-C8mTE| |0/1 [00:00<?Go to the following link in your browser:\n\n    https://accounts.google.com/o/oauth2/auth?client_id=710796635688-iivsgbgsb6uv1fap6635dhvuei09o66c.apps.googleusercontent.com&redirect_uri=urn%3Aietf%3Awg%3Aoauth%3A2.0%3Aoob&scope=https%3A%2F%2Fwww.googleapis.com%2Fauth%2Fdrive+https%3A%2F%2Fwww.googleapis.com%2Fauth%2Fdrive.appdata&access_type=offline&response_type=code&approval_prompt=force\n\nEnter verification code:^C\n\u001b[31mERROR\u001b[39m: interrupted by the user\n\n\u001b[33mHaving any troubles?\u001b[39m Hit us up at \u001b[34mhttps://dvc.org/support\u001b[39m, we are always happy to help!\n"
    }
   ],
   "source": [
    "! dvc push"
   ]
  },
  {
   "cell_type": "markdown",
   "metadata": {},
   "source": [
    "Setup a remove file storage and retry"
   ]
  },
  {
   "cell_type": "code",
   "execution_count": 4,
   "metadata": {
    "tags": []
   },
   "outputs": [
    {
     "output_type": "stream",
     "name": "stdout",
     "text": "Setting 'myremote' as a default remote.\n\u001b[0m"
    }
   ],
   "source": [
    "! dvc remote add -df myremote gs://dvc_intro"
   ]
  },
  {
   "cell_type": "code",
   "execution_count": 5,
   "metadata": {
    "tags": []
   },
   "outputs": [
    {
     "output_type": "stream",
     "name": "stdout",
     "text": "[tutorial 1039cc9] add remote file storage config\n 1 file changed, 1 insertion(+), 1 deletion(-)\nEnumerating objects: 7, done.\nCounting objects: 100% (7/7), done.\nDelta compression using up to 8 threads\nCompressing objects: 100% (4/4), done.\nWriting objects: 100% (4/4), 471 bytes | 471.00 KiB/s, done.\nTotal 4 (delta 1), reused 1 (delta 0), pack-reused 0\nremote: Resolving deltas: 100% (1/1), completed with 1 local object.\u001b[K\nTo github.com:NichitaDiaconu/dvc_intro.git\n   a7ad2c2..1039cc9  tutorial -> tutorial\n"
    }
   ],
   "source": [
    "! git add .dvc/config\n",
    "! git commit -m \"add remote file storage config\"\n",
    "! git push origin tutorial"
   ]
  },
  {
   "cell_type": "code",
   "execution_count": 1,
   "metadata": {
    "tags": []
   },
   "outputs": [
    {
     "output_type": "stream",
     "name": "stdout",
     "text": "\u001b[39m\u001b[1mLoading .env environment variables...\u001b[39m\u001b[22m\n  0% Uploading|                                      |0/1 [00:00<?,     ?file/s]\n!\u001b[A\n  0%|          |data/data.xml                  0.00/37.9M [00:00<?,       ?it/s]\u001b[A\n 28%|██▊       |data/data.xml             10.0M/36.1M [00:00<00:00,    33.0MB/s]\u001b[A\n 55%|█████▌    |data/data.xml             20.0M/36.1M [00:02<00:01,    12.4MB/s]\u001b[A\n 83%|████████▎ |data/data.xml             30.0M/36.1M [00:04<00:00,    9.20MB/s]\u001b[A\n100%|██████████|data/data.xml             36.1M/36.1M [00:05<00:00,    6.35MB/s]\u001b[A\n1 file pushed\n\u001b[0m"
    }
   ],
   "source": [
    "! pipenv run dvc push"
   ]
  }
 ]
}