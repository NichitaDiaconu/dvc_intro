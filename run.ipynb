{
 "metadata": {
  "language_info": {
   "codemirror_mode": {
    "name": "ipython",
    "version": 3
   },
   "file_extension": ".py",
   "mimetype": "text/x-python",
   "name": "python",
   "nbconvert_exporter": "python",
   "pygments_lexer": "ipython3",
   "version": "3.8.1-final"
  },
  "orig_nbformat": 2,
  "kernelspec": {
   "name": "python_defaultSpec_1596726560165",
   "display_name": "Python 3.8.1 64-bit ('dvc_intro': pipenv)"
  }
 },
 "nbformat": 4,
 "nbformat_minor": 2,
 "cells": [
  {
   "cell_type": "code",
   "execution_count": 1,
   "metadata": {
    "tags": []
   },
   "outputs": [
    {
     "output_type": "stream",
     "name": "stdout",
     "text": "\nYou can now commit the changes to git.\n\n\u001b[31m+---------------------------------------------------------------------+\n\u001b[39m\u001b[31m|\u001b[39m                                                                     \u001b[31m|\u001b[39m\n\u001b[31m|\u001b[39m        DVC has enabled anonymous aggregate usage analytics.         \u001b[31m|\u001b[39m\n\u001b[31m|\u001b[39m     Read the analytics documentation (and how to opt-out) here:     \u001b[31m|\u001b[39m\n\u001b[31m|\u001b[39m              \u001b[34mhttps://dvc.org/doc/user-guide/analytics\u001b[39m               \u001b[31m|\u001b[39m\n\u001b[31m|\u001b[39m                                                                     \u001b[31m|\u001b[39m\n\u001b[31m+---------------------------------------------------------------------+\n\u001b[39m\n\u001b[33mWhat's next?\u001b[39m\n\u001b[33m------------\u001b[39m\n- Check out the documentation: \u001b[34mhttps://dvc.org/doc\u001b[39m\n- Get help and share ideas: \u001b[34mhttps://dvc.org/chat\u001b[39m\n- Star us on GitHub: \u001b[34mhttps://github.com/iterative/dvc\u001b[39m\n\u001b[0m"
    }
   ],
   "source": [
    "! dvc init"
   ]
  },
  {
   "cell_type": "markdown",
   "metadata": {},
   "source": [
    "## Load data"
   ]
  },
  {
   "cell_type": "code",
   "execution_count": 2,
   "metadata": {},
   "outputs": [],
   "source": [
    "%load_ext dotenv\n",
    "%dotenv"
   ]
  },
  {
   "cell_type": "code",
   "execution_count": 3,
   "metadata": {
    "tags": []
   },
   "outputs": [
    {
     "output_type": "stream",
     "name": "stdout",
     "text": "0% Downloading|                                    |0/1 [00:00<?,     ?file/s]\n!\u001b[A\n  0%|          |get-started/data.xml           0.00/37.9M [00:00<?,       ?it/s]\u001b[A\n  0%|          |get-started/data.xml      64.0k/36.1M [00:00<02:38,     238kB/s]\u001b[A\n  0%|          |get-started/data.xml       128k/36.1M [00:00<02:14,     280kB/s]\u001b[A\n  1%|          |get-started/data.xml       192k/36.1M [00:00<02:24,     261kB/s]\u001b[A\n  1%|          |get-started/data.xml       256k/36.1M [00:00<02:00,     313kB/s]\u001b[A\n  1%|▏         |get-started/data.xml       512k/36.1M [00:00<01:29,     418kB/s]\u001b[A\n  2%|▏         |get-started/data.xml       640k/36.1M [00:01<01:15,     495kB/s]\u001b[A\n  2%|▏         |get-started/data.xml       768k/36.1M [00:01<01:03,     589kB/s]\u001b[A\n  2%|▏         |get-started/data.xml       896k/36.1M [00:01<00:56,     658kB/s]\u001b[A\n  3%|▎         |get-started/data.xml      1.00M/36.1M [00:01<00:50,     725kB/s]\u001b[A\n  3%|▎         |get-started/data.xml      1.12M/36.1M [00:01<00:47,     774kB/s]\u001b[A\n  3%|▎         |get-started/data.xml      1.25M/36.1M [00:01<00:44,     821kB/s]\u001b[A\n  4%|▍         |get-started/data.xml      1.38M/36.1M [00:01<00:43,     846kB/s]\u001b[A\n  4%|▍         |get-started/data.xml      1.50M/36.1M [00:02<00:41,     876kB/s]\u001b[A\n  4%|▍         |get-started/data.xml      1.62M/36.1M [00:02<00:49,     738kB/s]\u001b[A\n  5%|▍         |get-started/data.xml      1.75M/36.1M [00:02<00:45,     793kB/s]\u001b[A\n  5%|▌         |get-started/data.xml      1.88M/36.1M [00:02<00:43,     832kB/s]\u001b[A\n  6%|▌         |get-started/data.xml      2.00M/36.1M [00:02<00:41,     866kB/s]\u001b[A\n  6%|▌         |get-started/data.xml      2.12M/36.1M [00:02<00:40,     887kB/s]\u001b[A\n  6%|▌         |get-started/data.xml      2.25M/36.1M [00:03<00:39,     909kB/s]\u001b[A\n  7%|▋         |get-started/data.xml      2.38M/36.1M [00:03<00:38,     919kB/s]\u001b[A\n  7%|▋         |get-started/data.xml      2.50M/36.1M [00:03<00:38,     926kB/s]\u001b[A\n  7%|▋         |get-started/data.xml      2.62M/36.1M [00:03<00:37,     944kB/s]\u001b[A\n  8%|▊         |get-started/data.xml      2.75M/36.1M [00:03<00:37,     944kB/s]\u001b[A\n  8%|▊         |get-started/data.xml      2.88M/36.1M [00:03<00:36,     960kB/s]\u001b[A\n  8%|▊         |get-started/data.xml      3.00M/36.1M [00:03<00:36,     952kB/s]\u001b[A\n  9%|▊         |get-started/data.xml      3.12M/36.1M [00:03<00:35,     975kB/s]\u001b[A\n  9%|▉         |get-started/data.xml      3.25M/36.1M [00:04<00:36,     958kB/s]\u001b[A\n  9%|▉         |get-started/data.xml      3.38M/36.1M [00:04<00:35,     981kB/s]\u001b[A\n 10%|▉         |get-started/data.xml      3.50M/36.1M [00:04<00:35,     955kB/s]\u001b[A\n 10%|█         |get-started/data.xml      3.62M/36.1M [00:04<00:34,     979kB/s]\u001b[A\n 10%|█         |get-started/data.xml      3.75M/36.1M [00:04<00:35,     967kB/s]\u001b[A\n 11%|█         |get-started/data.xml      3.88M/36.1M [00:04<00:33,    1.02MB/s]\u001b[A\n 11%|█         |get-started/data.xml      4.00M/36.1M [00:04<00:35,     953kB/s]\u001b[A\n 12%|█▏        |get-started/data.xml      4.19M/36.1M [00:05<00:33,    1.01MB/s]\u001b[A\n 12%|█▏        |get-started/data.xml      4.31M/36.1M [00:05<00:33,     991kB/s]\u001b[A\n 12%|█▏        |get-started/data.xml      4.44M/36.1M [00:05<00:33,     987kB/s]\u001b[A\n 13%|█▎        |get-started/data.xml      4.56M/36.1M [00:05<00:33,     974kB/s]\u001b[A\n 13%|█▎        |get-started/data.xml      4.69M/36.1M [00:05<00:33,     982kB/s]\u001b[A\n 13%|█▎        |get-started/data.xml      4.81M/36.1M [00:05<00:33,     973kB/s]\u001b[A\n 14%|█▎        |get-started/data.xml      4.94M/36.1M [00:05<00:33,     979kB/s]\u001b[A\n 14%|█▍        |get-started/data.xml      5.06M/36.1M [00:06<00:33,     970kB/s]\u001b[A\n 14%|█▍        |get-started/data.xml      5.19M/36.1M [00:06<00:33,     977kB/s]\u001b[A\n 15%|█▍        |get-started/data.xml      5.31M/36.1M [00:06<00:33,     970kB/s]\u001b[A\n 15%|█▌        |get-started/data.xml      5.44M/36.1M [00:06<00:32,     976kB/s]\u001b[A\n 15%|█▌        |get-started/data.xml      5.56M/36.1M [00:06<00:33,     969kB/s]\u001b[A\n 16%|█▌        |get-started/data.xml      5.69M/36.1M [00:06<00:33,     963kB/s]\u001b[A\n 16%|█▌        |get-started/data.xml      5.81M/36.1M [00:06<00:31,     996kB/s]\u001b[A\n 16%|█▋        |get-started/data.xml      5.94M/36.1M [00:06<00:32,     985kB/s]\u001b[A\n 17%|█▋        |get-started/data.xml      6.06M/36.1M [00:07<00:31,    1.01MB/s]\u001b[A\n 17%|█▋        |get-started/data.xml      6.19M/36.1M [00:07<00:31,     996kB/s]\u001b[A\n 18%|█▊        |get-started/data.xml      6.38M/36.1M [00:07<00:29,    1.04MB/s]\u001b[A\n 18%|█▊        |get-started/data.xml      6.50M/36.1M [00:07<00:30,    1.03MB/s]\u001b[A\n 18%|█▊        |get-started/data.xml      6.62M/36.1M [00:07<00:29,    1.04MB/s]\u001b[A\n 19%|█▊        |get-started/data.xml      6.75M/36.1M [00:07<00:30,    1.03MB/s]\u001b[A\n 19%|█▉        |get-started/data.xml      6.88M/36.1M [00:07<00:28,    1.08MB/s]\u001b[A\n 19%|█▉        |get-started/data.xml      7.00M/36.1M [00:07<00:27,    1.11MB/s]\u001b[A\n 20%|█▉        |get-started/data.xml      7.19M/36.1M [00:08<00:27,    1.09MB/s]\u001b[A\n 20%|██        |get-started/data.xml      7.38M/36.1M [00:08<00:26,    1.12MB/s]\u001b[A\n 21%|██        |get-started/data.xml      7.50M/36.1M [00:08<00:26,    1.12MB/s]\u001b[A\n 21%|██        |get-started/data.xml      7.62M/36.1M [00:08<00:25,    1.17MB/s]\u001b[A\n 22%|██▏       |get-started/data.xml      7.81M/36.1M [00:08<00:25,    1.16MB/s]\u001b[A\n 22%|██▏       |get-started/data.xml      8.00M/36.1M [00:08<00:24,    1.19MB/s]\u001b[A\n 22%|██▏       |get-started/data.xml      8.12M/36.1M [00:08<00:23,    1.22MB/s]\u001b[A\n 23%|██▎       |get-started/data.xml      8.31M/36.1M [00:09<00:23,    1.24MB/s]\u001b[A\n 24%|██▎       |get-started/data.xml      8.50M/36.1M [00:09<00:22,    1.26MB/s]\u001b[A\n 24%|██▍       |get-started/data.xml      8.69M/36.1M [00:09<00:21,    1.31MB/s]\u001b[A\n 25%|██▍       |get-started/data.xml      8.88M/36.1M [00:09<00:21,    1.33MB/s]\u001b[A\n 25%|██▌       |get-started/data.xml      9.06M/36.1M [00:09<00:20,    1.37MB/s]\u001b[A\n 26%|██▌       |get-started/data.xml      9.25M/36.1M [00:09<00:19,    1.42MB/s]\u001b[A\n 26%|██▌       |get-started/data.xml      9.44M/36.1M [00:09<00:19,    1.47MB/s]\u001b[A\n 27%|██▋       |get-started/data.xml      9.62M/36.1M [00:10<00:18,    1.47MB/s]\u001b[A\n 27%|██▋       |get-started/data.xml      9.81M/36.1M [00:10<00:17,    1.54MB/s]\u001b[A\n 28%|██▊       |get-started/data.xml      10.0M/36.1M [00:10<00:16,    1.62MB/s]\u001b[A\n 28%|██▊       |get-started/data.xml      10.2M/36.1M [00:10<00:16,    1.67MB/s]\u001b[A\n 29%|██▊       |get-started/data.xml      10.4M/36.1M [00:10<00:16,    1.64MB/s]\u001b[A\n 29%|██▉       |get-started/data.xml      10.6M/36.1M [00:10<00:16,    1.66MB/s]\u001b[A\n 30%|██▉       |get-started/data.xml      10.8M/36.1M [00:10<00:15,    1.72MB/s]\u001b[A\n 30%|███       |get-started/data.xml      11.0M/36.1M [00:10<00:15,    1.75MB/s]\u001b[A\n 31%|███       |get-started/data.xml      11.2M/36.1M [00:11<00:14,    1.81MB/s]\u001b[A\n 32%|███▏      |get-started/data.xml      11.5M/36.1M [00:11<00:13,    1.85MB/s]\u001b[A\n 33%|███▎      |get-started/data.xml      11.8M/36.1M [00:11<00:13,    1.93MB/s]\u001b[A\n 33%|███▎      |get-started/data.xml      12.0M/36.1M [00:11<00:12,    2.09MB/s]\u001b[A\n 34%|███▍      |get-started/data.xml      12.2M/36.1M [00:11<00:11,    2.15MB/s]\u001b[A\n 35%|███▍      |get-started/data.xml      12.5M/36.1M [00:11<00:11,    2.17MB/s]\u001b[A\n 35%|███▌      |get-started/data.xml      12.8M/36.1M [00:11<00:11,    2.16MB/s]\u001b[A\n 36%|███▌      |get-started/data.xml      13.0M/36.1M [00:11<00:10,    2.22MB/s]\u001b[A\n 37%|███▋      |get-started/data.xml      13.3M/36.1M [00:11<00:10,    2.29MB/s]\u001b[A\n 38%|███▊      |get-started/data.xml      13.6M/36.1M [00:12<00:09,    2.36MB/s]\u001b[A\n 39%|███▊      |get-started/data.xml      13.9M/36.1M [00:12<00:09,    2.57MB/s]\u001b[A\n 39%|███▉      |get-started/data.xml      14.2M/36.1M [00:12<00:08,    2.64MB/s]\u001b[A\n 40%|████      |get-started/data.xml      14.6M/36.1M [00:12<00:11,    1.99MB/s]\u001b[A\n 42%|████▏     |get-started/data.xml      15.2M/36.1M [00:12<00:09,    2.40MB/s]\u001b[A\n 43%|████▎     |get-started/data.xml      15.5M/36.1M [00:12<00:09,    2.35MB/s]\u001b[A\n 44%|████▍     |get-started/data.xml      15.8M/36.1M [00:13<00:10,    2.02MB/s]\u001b[A\n 44%|████▍     |get-started/data.xml      16.1M/36.1M [00:13<00:11,    1.79MB/s]\u001b[A\n 45%|████▌     |get-started/data.xml      16.3M/36.1M [00:13<00:11,    1.77MB/s]\u001b[A\n 46%|████▌     |get-started/data.xml      16.6M/36.1M [00:13<00:12,    1.66MB/s]\u001b[A\n 47%|████▋     |get-started/data.xml      16.8M/36.1M [00:13<00:12,    1.68MB/s]\u001b[A\n 47%|████▋     |get-started/data.xml      17.0M/36.1M [00:13<00:12,    1.66MB/s]\u001b[A\n 48%|████▊     |get-started/data.xml      17.2M/36.1M [00:14<00:11,    1.69MB/s]\u001b[A\n 48%|████▊     |get-started/data.xml      17.4M/36.1M [00:14<00:11,    1.68MB/s]\u001b[A\n 49%|████▉     |get-started/data.xml      17.6M/36.1M [00:14<00:11,    1.74MB/s]\u001b[A\n 49%|████▉     |get-started/data.xml      17.8M/36.1M [00:14<00:11,    1.68MB/s]\u001b[A\n 50%|████▉     |get-started/data.xml      18.0M/36.1M [00:14<00:11,    1.65MB/s]\u001b[A\n 51%|█████     |get-started/data.xml      18.2M/36.1M [00:14<00:11,    1.70MB/s]\u001b[A\n 51%|█████     |get-started/data.xml      18.4M/36.1M [00:14<00:11,    1.65MB/s]\u001b[A\n 52%|█████▏    |get-started/data.xml      18.7M/36.1M [00:14<00:10,    1.70MB/s]\u001b[A\n 52%|█████▏    |get-started/data.xml      18.9M/36.1M [00:15<00:10,    1.74MB/s]\u001b[A\n 53%|█████▎    |get-started/data.xml      19.2M/36.1M [00:15<00:10,    1.76MB/s]\u001b[A\n 54%|█████▎    |get-started/data.xml      19.4M/36.1M [00:15<00:10,    1.75MB/s]\u001b[A\n 54%|█████▍    |get-started/data.xml      19.6M/36.1M [00:15<00:09,    1.76MB/s]\u001b[A\n 55%|█████▍    |get-started/data.xml      19.9M/36.1M [00:15<00:09,    1.79MB/s]\u001b[A\n 56%|█████▌    |get-started/data.xml      20.1M/36.1M [00:15<00:09,    1.81MB/s]\u001b[A\n 56%|█████▌    |get-started/data.xml      20.3M/36.1M [00:15<00:09,    1.80MB/s]\u001b[A\n 57%|█████▋    |get-started/data.xml      20.6M/36.1M [00:16<00:09,    1.73MB/s]\u001b[A\n 58%|█████▊    |get-started/data.xml      20.8M/36.1M [00:16<00:09,    1.77MB/s]\u001b[A\n 58%|█████▊    |get-started/data.xml      21.1M/36.1M [00:16<00:08,    1.79MB/s]\u001b[A\n 59%|█████▉    |get-started/data.xml      21.3M/36.1M [00:16<00:08,    1.81MB/s]\u001b[A\n 60%|█████▉    |get-started/data.xml      21.6M/36.1M [00:16<00:08,    1.83MB/s]\u001b[A\n 60%|██████    |get-started/data.xml      21.8M/36.1M [00:16<00:08,    1.85MB/s]\u001b[A\n 61%|██████    |get-started/data.xml      22.0M/36.1M [00:16<00:08,    1.77MB/s]\u001b[A\n 62%|██████▏   |get-started/data.xml      22.2M/36.1M [00:16<00:08,    1.81MB/s]\u001b[A\n 62%|██████▏   |get-started/data.xml      22.5M/36.1M [00:17<00:07,    1.82MB/s]\u001b[A\n 63%|██████▎   |get-started/data.xml      22.7M/36.1M [00:17<00:07,    1.85MB/s]\u001b[A\n 63%|██████▎   |get-started/data.xml      22.9M/36.1M [00:17<00:07,    1.77MB/s]\u001b[A\n 64%|██████▍   |get-started/data.xml      23.2M/36.1M [00:17<00:07,    1.80MB/s]\u001b[A\n 65%|██████▍   |get-started/data.xml      23.4M/36.1M [00:17<00:07,    1.81MB/s]\u001b[A\n 66%|██████▌   |get-started/data.xml      23.7M/36.1M [00:17<00:07,    1.81MB/s]\u001b[A\n 66%|██████▌   |get-started/data.xml      23.9M/36.1M [00:17<00:07,    1.82MB/s]\u001b[A\n 67%|██████▋   |get-started/data.xml      24.1M/36.1M [00:18<00:06,    1.82MB/s]\u001b[A\n 67%|██████▋   |get-started/data.xml      24.4M/36.1M [00:18<00:06,    1.81MB/s]\u001b[A\n 68%|██████▊   |get-started/data.xml      24.6M/36.1M [00:18<00:06,    1.83MB/s]\u001b[A\n 69%|██████▉   |get-started/data.xml      24.9M/36.1M [00:18<00:06,    1.83MB/s]\u001b[A\n 69%|██████▉   |get-started/data.xml      25.1M/36.1M [00:18<00:06,    1.79MB/s]\u001b[A\n 70%|███████   |get-started/data.xml      25.3M/36.1M [00:18<00:06,    1.79MB/s]\u001b[A\n 71%|███████   |get-started/data.xml      25.6M/36.1M [00:18<00:06,    1.81MB/s]\u001b[A\n 71%|███████▏  |get-started/data.xml      25.8M/36.1M [00:19<00:05,    1.83MB/s]\u001b[A\n 72%|███████▏  |get-started/data.xml      26.1M/36.1M [00:19<00:05,    1.85MB/s]\u001b[A\n 73%|███████▎  |get-started/data.xml      26.3M/36.1M [00:19<00:05,    1.85MB/s]\u001b[A\n 74%|███████▎  |get-started/data.xml      26.6M/36.1M [00:19<00:05,    1.87MB/s]\u001b[A\n 74%|███████▍  |get-started/data.xml      26.8M/36.1M [00:19<00:05,    1.86MB/s]\u001b[A\n 75%|███████▍  |get-started/data.xml      27.1M/36.1M [00:19<00:05,    1.85MB/s]\u001b[A\n 76%|███████▌  |get-started/data.xml      27.3M/36.1M [00:19<00:04,    1.87MB/s]\u001b[A\n 76%|███████▋  |get-started/data.xml      27.6M/36.1M [00:20<00:04,    1.88MB/s]\u001b[A\n 77%|███████▋  |get-started/data.xml      27.8M/36.1M [00:20<00:04,    1.89MB/s]\u001b[A\n 77%|███████▋  |get-started/data.xml      28.0M/36.1M [00:20<00:04,    1.88MB/s]\u001b[A\n 78%|███████▊  |get-started/data.xml      28.2M/36.1M [00:20<00:04,    1.92MB/s]\u001b[A\n 79%|███████▉  |get-started/data.xml      28.5M/36.1M [00:20<00:04,    1.94MB/s]\u001b[A\n 80%|███████▉  |get-started/data.xml      28.8M/36.1M [00:20<00:03,    1.96MB/s]\u001b[A\n 80%|████████  |get-started/data.xml      29.0M/36.1M [00:20<00:03,    2.03MB/s]\u001b[A\n 81%|████████  |get-started/data.xml      29.2M/36.1M [00:20<00:03,    2.02MB/s]\u001b[A\n 82%|████████▏ |get-started/data.xml      29.5M/36.1M [00:21<00:03,    2.03MB/s]\u001b[A\n 82%|████████▏ |get-started/data.xml      29.8M/36.1M [00:21<00:03,    2.05MB/s]\u001b[A\n 83%|████████▎ |get-started/data.xml      30.0M/36.1M [00:21<00:03,    2.04MB/s]\u001b[A\n 84%|████████▎ |get-started/data.xml      30.2M/36.1M [00:21<00:03,    2.05MB/s]\u001b[A\n 84%|████████▍ |get-started/data.xml      30.5M/36.1M [00:21<00:02,    2.05MB/s]\u001b[A\n 85%|████████▌ |get-started/data.xml      30.8M/36.1M [00:21<00:02,    2.07MB/s]\u001b[A\n 86%|████████▌ |get-started/data.xml      31.0M/36.1M [00:21<00:02,    2.10MB/s]\u001b[A\n 86%|████████▋ |get-started/data.xml      31.2M/36.1M [00:21<00:02,    2.18MB/s]\u001b[A\n 87%|████████▋ |get-started/data.xml      31.5M/36.1M [00:22<00:02,    2.25MB/s]\u001b[A\n 88%|████████▊ |get-started/data.xml      31.8M/36.1M [00:22<00:02,    2.27MB/s]\u001b[A\n 89%|████████▊ |get-started/data.xml      32.0M/36.1M [00:22<00:01,    2.26MB/s]\u001b[A\n 89%|████████▉ |get-started/data.xml      32.2M/36.1M [00:22<00:01,    2.19MB/s]\u001b[A\n 90%|████████▉ |get-started/data.xml      32.5M/36.1M [00:22<00:01,    2.25MB/s]\u001b[A\n 91%|█████████ |get-started/data.xml      32.8M/36.1M [00:22<00:01,    2.34MB/s]\u001b[A\n 91%|█████████▏|get-started/data.xml      33.1M/36.1M [00:22<00:01,    2.42MB/s]\u001b[A\n 92%|█████████▏|get-started/data.xml      33.3M/36.1M [00:22<00:01,    2.47MB/s]\u001b[A\n 93%|█████████▎|get-started/data.xml      33.6M/36.1M [00:22<00:01,    2.42MB/s]\u001b[A\n 94%|█████████▎|get-started/data.xml      33.8M/36.1M [00:23<00:01,    2.43MB/s]\u001b[A\n 94%|█████████▍|get-started/data.xml      34.1M/36.1M [00:23<00:00,    2.58MB/s]\u001b[A\n 95%|█████████▌|get-started/data.xml      34.4M/36.1M [00:23<00:00,    2.61MB/s]\u001b[A\n 96%|█████████▌|get-started/data.xml      34.8M/36.1M [00:23<00:00,    2.69MB/s]\u001b[A\n 97%|█████████▋|get-started/data.xml      35.1M/36.1M [00:23<00:00,    2.71MB/s]\u001b[A\n 98%|█████████▊|get-started/data.xml      35.4M/36.1M [00:23<00:00,    2.71MB/s]\u001b[A\n 99%|█████████▉|get-started/data.xml      35.7M/36.1M [00:23<00:00,    2.75MB/s]\u001b[A\n100%|█████████▉|get-started/data.xml      36.0M/36.1M [00:23<00:00,    2.87MB/s]\u001b[A\n100% Add|██████████████████████████████████████████████|1/1 [00:01,  1.10s/file]\n\nTo track the changes with git, run:\n\n\tgit add data/.gitignore data/data.xml.dvc\n\u001b[0m"
    }
   ],
   "source": [
    "! dvc get https://github.com/iterative/dataset-registry \\\n",
    "          get-started/data.xml -o data/data.xml\n",
    "! dvc add data/data.xml"
   ]
  },
  {
   "cell_type": "markdown",
   "metadata": {},
   "source": [
    "## Create a pipeline with some steps. i.e.:\n",
    "    *  prepare data\n",
    "    *  turn data into features\n",
    "    *  train models from features\n",
    "    *  evaluate models"
   ]
  },
  {
   "cell_type": "code",
   "execution_count": 5,
   "metadata": {
    "tags": []
   },
   "outputs": [
    {
     "output_type": "stream",
     "name": "stdout",
     "text": "If DVC froze, see `hardlink_lock` in <\u001b[36mhttps://man.dvc.org/config#core\u001b[39m>Running stage 'prepare' with command:\n\tpython src/prepare.py data/data.xml\nCreating 'dvc.yaml'\nAdding stage 'prepare' in 'dvc.yaml'\nGenerating lock file 'dvc.lock'\n\nTo track the changes with git, run:\n\n\tgit add data/.gitignore dvc.lock dvc.yaml\n\u001b[0m"
    }
   ],
   "source": [
    "! dvc run -f -n prepare \\\n",
    "                     -p prepare.seed,prepare.split \\\n",
    "                     -d src/prepare.py -d data/data.xml \\\n",
    "                     -o data/prepared \\\n",
    "                     python src/prepare.py data/data.xml"
   ]
  },
  {
   "cell_type": "code",
   "execution_count": 4,
   "metadata": {
    "tags": []
   },
   "outputs": [
    {
     "output_type": "stream",
     "name": "stdout",
     "text": "If DVC froze, see `hardlink_lock` in <\u001b[36mhttps://man.dvc.org/config#core\u001b[39m>Restored stage 'featurize' from run-cache\nSkipping run, checking out outputs\n  0% Saving features|                          |0.00/2.00 [00:00<?,     ?file/s]Modifying stage 'featurize' in 'dvc.yaml'\n\nTo track the changes with git, run:\n\n\tgit add dvc.yaml\n\u001b[0m"
    }
   ],
   "source": [
    "! dvc run -f -n featurize \\\n",
    "          -p featurize.max_features,featurize.ngrams \\\n",
    "          -d src/featurization.py -d data/prepared \\\n",
    "          -o data/features \\\n",
    "          python src/featurization.py data/prepared data/features"
   ]
  },
  {
   "cell_type": "code",
   "execution_count": 5,
   "metadata": {
    "tags": []
   },
   "outputs": [
    {
     "output_type": "stream",
     "name": "stdout",
     "text": "If DVC froze, see `hardlink_lock` in <\u001b[36mhttps://man.dvc.org/config#core\u001b[39m>Restored stage 'train' from run-cache\nSkipping run, checking out outputs\nModifying stage 'train' in 'dvc.yaml'\n\nTo track the changes with git, run:\n\n\tgit add dvc.yaml\n\u001b[0m"
    }
   ],
   "source": [
    "! dvc run -f -n train \\\n",
    "          -p train.seed,train.n_estimators \\\n",
    "          -d src/train.py -d data/features \\\n",
    "          -o model.pkl \\\n",
    "          python src/train.py data/features model.pkl"
   ]
  },
  {
   "cell_type": "code",
   "execution_count": 6,
   "metadata": {
    "tags": []
   },
   "outputs": [
    {
     "output_type": "stream",
     "name": "stdout",
     "text": "If DVC froze, see `hardlink_lock` in <\u001b[36mhttps://man.dvc.org/config#core\u001b[39m>Stage is cached, skipping\n\u001b[0m"
    }
   ],
   "source": [
    "! dvc run -f -n evaluate \\\n",
    "          -d src/evaluate.py -d model.pkl -d data/features \\\n",
    "          -M scores.json \\\n",
    "          --plots-no-cache prc.json \\\n",
    "          python src/evaluate.py model.pkl \\\n",
    "                 data/features scores.json prc.json"
   ]
  },
  {
   "cell_type": "code",
   "execution_count": 7,
   "metadata": {
    "tags": []
   },
   "outputs": [
    {
     "output_type": "stream",
     "name": "stdout",
     "text": "If DVC froze, see `hardlink_lock` in <\u001b[36mhttps://man.dvc.org/config#core\u001b[39m>Stage 'data/data.xml.dvc' didn't change, skipping\nStage 'prepare' didn't change, skipping\nStage 'featurize' didn't change, skipping\nStage 'train' didn't change, skipping\nStage 'evaluate' didn't change, skipping\nData and pipelines are up to date.\n\u001b[0m"
    }
   ],
   "source": [
    "! dvc repro"
   ]
  },
  {
   "cell_type": "code",
   "execution_count": 8,
   "metadata": {
    "tags": []
   },
   "outputs": [
    {
     "output_type": "stream",
     "name": "stdout",
     "text": "Setting 'myremote' as a default remote.\n\u001b[0m[data_pipelines 2020cf3] run\n 1 file changed, 3 insertions(+), 3 deletions(-)\nEnumerating objects: 5, done.\nCounting objects: 100% (5/5), done.\nDelta compression using up to 8 threads\nCompressing objects: 100% (3/3), done.\nWriting objects: 100% (3/3), 501 bytes | 501.00 KiB/s, done.\nTotal 3 (delta 2), reused 0 (delta 0), pack-reused 0\nremote: Resolving deltas: 100% (2/2), completed with 2 local objects.\u001b[K\nTo github.com:NichitaDiaconu/dvc_intro.git\n   85be72d..2020cf3  data_pipelines -> data_pipelines\n"
    }
   ],
   "source": [
    "! dvc remote add -df myremote gs://dvc_intro\n",
    "! git add .\n",
    "! git commit -m 'run'\n",
    "! git push origin data_pipelines"
   ]
  },
  {
   "cell_type": "code",
   "execution_count": 9,
   "metadata": {
    "tags": []
   },
   "outputs": [
    {
     "output_type": "stream",
     "name": "stdout",
     "text": "{\"auc\": 0.5417487597055675}"
    }
   ],
   "source": [
    "! cat scores.json"
   ]
  },
  {
   "cell_type": "code",
   "execution_count": 10,
   "metadata": {
    "tags": []
   },
   "outputs": [
    {
     "output_type": "stream",
     "name": "stdout",
     "text": "0% Analysing status|                         |0.00/6.00 [00:00<?,     ?file/s]Everything is up to date.\n\u001b[0m"
    }
   ],
   "source": [
    "! dvc push"
   ]
  },
  {
   "cell_type": "code",
   "execution_count": 11,
   "metadata": {
    "tags": []
   },
   "outputs": [
    {
     "output_type": "stream",
     "name": "stdout",
     "text": "\u001b7\u001b[?47h\u001b[?1h\u001b=\n\n\n\n\n\n\n\n\n\n\n\n\n\n\n\n\n\n\n\n\n\n\n\u001b[H\u001b[2J\u001b[H\u001b[H\u001b[2J\u001b[H    +-------------------+  \n    | data/data.xml.dvc |  \n    +-------------------+  \n              *            \n              *            \n              *            \n         +---------+       \n         | prepare |       \n         +---------+       \n              *            \n              *            \n              *            \n        +-----------+      \n        | featurize |      \n        +-----------+      \n         **        **      \n       **            *     \n      *               **   \n+-------+               *  \n| train |             **   \n+-------+            *     \n         **        **      \n           **    **        \n\u001b[7m/tmp/tmpoev5vrtg\u001b[m\u001b[K"
    }
   ],
   "source": [
    "! dvc dag"
   ]
  },
  {
   "cell_type": "code",
   "execution_count": 15,
   "metadata": {},
   "outputs": [],
   "source": [
    "! rm -rf data/features\n",
    "! rm -rf data/prepared\n",
    "! rm -rf data/data.xml\n",
    "! rm -rf model.pkl\n",
    "! rm -rf .dvc/cache\n",
    "! rm -rf .dvc/tmp"
   ]
  },
  {
   "cell_type": "code",
   "execution_count": null,
   "metadata": {},
   "outputs": [],
   "source": []
  }
 ]
}