{
 "metadata": {
  "language_info": {
   "codemirror_mode": {
    "name": "ipython",
    "version": 3
   },
   "file_extension": ".py",
   "mimetype": "text/x-python",
   "name": "python",
   "nbconvert_exporter": "python",
   "pygments_lexer": "ipython3",
   "version": "3.8.1-final"
  },
  "orig_nbformat": 2,
  "kernelspec": {
   "name": "python_defaultSpec_1596114221467",
   "display_name": "Python 3.8.1 64-bit ('dvc_intro': pipenv)"
  }
 },
 "nbformat": 4,
 "nbformat_minor": 2,
 "cells": [
  {
   "cell_type": "code",
   "execution_count": 1,
   "metadata": {
    "tags": []
   },
   "outputs": [
    {
     "output_type": "stream",
     "name": "stdout",
     "text": "\u001b[32m\u001b[22mCourtesy Notice\u001b[39m\u001b[22m: Pipenv found itself running within a virtual environment, so it will automatically use that environment, instead of creating its own for any project. You can set \u001b[39m\u001b[1mPIPENV_IGNORE_VIRTUALENVS=1\u001b[39m\u001b[22m to force pipenv to ignore that environment and create its own instead. You can set \u001b[39m\u001b[1mPIPENV_VERBOSITY=-1\u001b[39m\u001b[22m to suppress this warning.\nIf DVC froze, see `hardlink_lock` in <\u001b[36mhttps://man.dvc.org/config#core\u001b[39m>Running stage 'prepare' with command:\n\tpython src/prepare.py data/data.xml\nCreating 'dvc.yaml'\nAdding stage 'prepare' in 'dvc.yaml'\nGenerating lock file 'dvc.lock'\n\nTo track the changes with git, run:\n\n\tgit add dvc.yaml data/.gitignore dvc.lock\n\u001b[0m"
    }
   ],
   "source": [
    "! pipenv run dvc run -n prepare \\\n",
    "                     -p prepare.seed,prepare.split \\\n",
    "                     -d src/prepare.py -d data/data.xml \\\n",
    "                     -o data/prepared \\\n",
    "                     python src/prepare.py data/data.xml"
   ]
  },
  {
   "cell_type": "code",
   "execution_count": 1,
   "metadata": {
    "tags": []
   },
   "outputs": [
    {
     "output_type": "stream",
     "name": "stdout",
     "text": "If DVC froze, see `hardlink_lock` in <\u001b[36mhttps://man.dvc.org/config#core\u001b[39m>Running stage 'featurize' with command:\n\tpython src/featurization.py data/prepared data/features\nThe input data frame data/prepared/train.tsv size is (20017, 3)\nThe output matrix data/features/train.pkl size is (20017, 502) and data type is float64\nThe input data frame data/prepared/test.tsv size is (4983, 3)\nThe output matrix data/features/test.pkl size is (4983, 502) and data type is float64\nAdding stage 'featurize' in 'dvc.yaml'\nUpdating lock file 'dvc.lock'\n\nTo track the changes with git, run:\n\n\tgit add dvc.lock data/.gitignore dvc.yaml\n\u001b[0m"
    }
   ],
   "source": [
    "! dvc run -n featurize \\\n",
    "          -p featurize.max_features,featurize.ngrams \\\n",
    "          -d src/featurization.py -d data/prepared \\\n",
    "          -o data/features \\\n",
    "          python src/featurization.py data/prepared data/features"
   ]
  },
  {
   "cell_type": "code",
   "execution_count": 2,
   "metadata": {
    "tags": []
   },
   "outputs": [
    {
     "output_type": "stream",
     "name": "stdout",
     "text": "If DVC froze, see `hardlink_lock` in <\u001b[36mhttps://man.dvc.org/config#core\u001b[39m>Running stage 'train' with command:\n\tpython src/train.py data/features model.pkl\nInput matrix size (20017, 502)\nX matrix size (20017, 500)\nY matrix size (20017,)\nIf DVC froze, see `hardlink_lock` in <\u001b[36mhttps://man.dvc.org/config#core\u001b[39m>Adding stage 'train' in 'dvc.yaml'\nUpdating lock file 'dvc.lock'\n\nTo track the changes with git, run:\n\n\tgit add .gitignore dvc.yaml dvc.lock\n\u001b[0m"
    }
   ],
   "source": [
    "! dvc run -n train \\\n",
    "          -p train.seed,train.n_estimators \\\n",
    "          -d src/train.py -d data/features \\\n",
    "          -o model.pkl \\\n",
    "          python src/train.py data/features model.pkl"
   ]
  },
  {
   "cell_type": "code",
   "execution_count": 3,
   "metadata": {
    "tags": []
   },
   "outputs": [
    {
     "output_type": "stream",
     "name": "stdout",
     "text": "If DVC froze, see `hardlink_lock` in <\u001b[36mhttps://man.dvc.org/config#core\u001b[39m>Running stage 'evaluate' with command:\n\tpython src/evaluate.py model.pkl data/features scores.json prc.json\nIf DVC froze, see `hardlink_lock` in <\u001b[36mhttps://man.dvc.org/config#core\u001b[39m>Adding stage 'evaluate' in 'dvc.yaml'\nUpdating lock file 'dvc.lock'\n\nTo track the changes with git, run:\n\n\tgit add dvc.yaml dvc.lock\n\u001b[0m"
    }
   ],
   "source": [
    "! dvc run -n evaluate \\\n",
    "          -d src/evaluate.py -d model.pkl -d data/features \\\n",
    "          -M scores.json \\\n",
    "          --plots-no-cache prc.json \\\n",
    "          python src/evaluate.py model.pkl \\\n",
    "                 data/features scores.json prc.json"
   ]
  },
  {
   "cell_type": "code",
   "execution_count": null,
   "metadata": {},
   "outputs": [],
   "source": []
  }
 ]
}