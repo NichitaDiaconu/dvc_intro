{
 "metadata": {
  "language_info": {
   "codemirror_mode": {
    "name": "ipython",
    "version": 3
   },
   "file_extension": ".py",
   "mimetype": "text/x-python",
   "name": "python",
   "nbconvert_exporter": "python",
   "pygments_lexer": "ipython3",
   "version": "3.8.1-final"
  },
  "orig_nbformat": 2,
  "kernelspec": {
   "name": "python_defaultSpec_1595947812802",
   "display_name": "Python 3.8.1 64-bit ('dvc_intro': pipenv)"
  }
 },
 "nbformat": 4,
 "nbformat_minor": 2,
 "cells": [
  {
   "cell_type": "code",
   "execution_count": 1,
   "metadata": {
    "tags": []
   },
   "outputs": [
    {
     "output_type": "stream",
     "name": "stdout",
     "text": "\u001b[32m\u001b[22mCourtesy Notice\u001b[39m\u001b[22m: Pipenv found itself running within a virtual environment, so it will automatically use that environment, instead of creating its own for any project. You can set \u001b[39m\u001b[1mPIPENV_IGNORE_VIRTUALENVS=1\u001b[39m\u001b[22m to force pipenv to ignore that environment and create its own instead. You can set \u001b[39m\u001b[1mPIPENV_VERBOSITY=-1\u001b[39m\u001b[22m to suppress this warning.\nIf DVC froze, see `hardlink_lock` in <\u001b[36mhttps://man.dvc.org/config#core\u001b[39m>Running stage 'prepare' with command:\n\tpython src/prepare.py data/data.xml\nCreating 'dvc.yaml'\nAdding stage 'prepare' in 'dvc.yaml'\nGenerating lock file 'dvc.lock'\n\nTo track the changes with git, run:\n\n\tgit add dvc.yaml data/.gitignore dvc.lock\n\u001b[0m"
    }
   ],
   "source": [
    "! pipenv run dvc run -n prepare \\\n",
    "                     -p prepare.seed,prepare.split \\\n",
    "                     -d src/prepare.py -d data/data.xml \\\n",
    "                     -o data/prepared \\\n",
    "                     python src/prepare.py data/data.xml"
   ]
  },
  {
   "cell_type": "code",
   "execution_count": null,
   "metadata": {},
   "outputs": [],
   "source": []
  }
 ]
}