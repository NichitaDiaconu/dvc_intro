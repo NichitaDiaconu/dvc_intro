{
 "metadata": {
  "language_info": {
   "codemirror_mode": {
    "name": "ipython",
    "version": 3
   },
   "file_extension": ".py",
   "mimetype": "text/x-python",
   "name": "python",
   "nbconvert_exporter": "python",
   "pygments_lexer": "ipython3",
   "version": "3.8.1-final"
  },
  "orig_nbformat": 2,
  "kernelspec": {
   "name": "python_defaultSpec_1596638780768",
   "display_name": "Python 3.8.1 64-bit ('dvc_intro': pipenv)"
  }
 },
 "nbformat": 4,
 "nbformat_minor": 2,
 "cells": [
  {
   "cell_type": "code",
   "execution_count": null,
   "metadata": {},
   "outputs": [],
   "source": [
    "! dvc init"
   ]
  },
  {
   "cell_type": "markdown",
   "metadata": {},
   "source": [
    "## Load data"
   ]
  },
  {
   "cell_type": "code",
   "execution_count": 1,
   "metadata": {},
   "outputs": [],
   "source": [
    "%load_ext dotenv\n",
    "%dotenv"
   ]
  },
  {
   "cell_type": "code",
   "execution_count": 2,
   "metadata": {
    "tags": []
   },
   "outputs": [
    {
     "output_type": "stream",
     "name": "stdout",
     "text": "0% Downloading|                                    |0/1 [00:00<?,     ?file/s]\n!\u001b[A\n  0%|          |get-started/data.xml           0.00/37.9M [00:00<?,       ?it/s]\u001b[A\n  0%|          |get-started/data.xml      64.0k/36.1M [00:00<02:45,     228kB/s]\u001b[A\n  0%|          |get-started/data.xml       128k/36.1M [00:00<02:44,     230kB/s]\u001b[A\n  1%|          |get-started/data.xml       256k/36.1M [00:00<02:07,     296kB/s]\u001b[A\n  1%|          |get-started/data.xml       320k/36.1M [00:00<01:52,     333kB/s]\u001b[A\n  1%|          |get-started/data.xml       384k/36.1M [00:00<01:43,     362kB/s]\u001b[A\n  1%|          |get-started/data.xml       448k/36.1M [00:01<01:38,     382kB/s]\u001b[A\n  1%|▏         |get-started/data.xml       512k/36.1M [00:01<01:33,     402kB/s]\u001b[A\n  2%|▏         |get-started/data.xml       576k/36.1M [00:01<01:29,     419kB/s]\u001b[A\n  2%|▏         |get-started/data.xml       640k/36.1M [00:01<01:26,     430kB/s]\u001b[A\n  2%|▏         |get-started/data.xml       704k/36.1M [00:01<01:24,     439kB/s]\u001b[A\n  2%|▏         |get-started/data.xml       768k/36.1M [00:01<01:23,     445kB/s]\u001b[A\n  2%|▏         |get-started/data.xml       832k/36.1M [00:02<01:22,     451kB/s]\u001b[A\n  2%|▏         |get-started/data.xml       896k/36.1M [00:02<01:21,     453kB/s]\u001b[A\n  3%|▎         |get-started/data.xml       960k/36.1M [00:02<01:20,     456kB/s]\u001b[A\n  3%|▎         |get-started/data.xml      1.00M/36.1M [00:02<01:20,     457kB/s]\u001b[A\n  3%|▎         |get-started/data.xml      1.06M/36.1M [00:02<01:33,     394kB/s]\u001b[A\n  3%|▎         |get-started/data.xml      1.19M/36.1M [00:02<01:22,     446kB/s]\u001b[A\n  3%|▎         |get-started/data.xml      1.25M/36.1M [00:02<01:21,     450kB/s]\u001b[A\n  4%|▎         |get-started/data.xml      1.31M/36.1M [00:03<01:33,     392kB/s]\u001b[A\n  4%|▍         |get-started/data.xml      1.44M/36.1M [00:03<01:22,     443kB/s]\u001b[A\n  4%|▍         |get-started/data.xml      1.50M/36.1M [00:03<01:21,     448kB/s]\u001b[A\n  4%|▍         |get-started/data.xml      1.56M/36.1M [00:03<01:20,     453kB/s]\u001b[A\n  4%|▍         |get-started/data.xml      1.62M/36.1M [00:03<01:17,     465kB/s]\u001b[A\n  5%|▍         |get-started/data.xml      1.69M/36.1M [00:03<01:17,     464kB/s]\u001b[A\n  5%|▍         |get-started/data.xml      1.75M/36.1M [00:04<01:17,     463kB/s]\u001b[A\n  5%|▌         |get-started/data.xml      1.81M/36.1M [00:04<01:18,     458kB/s]\u001b[A\n  5%|▌         |get-started/data.xml      1.88M/36.1M [00:04<01:18,     457kB/s]\u001b[A\n  5%|▌         |get-started/data.xml      1.94M/36.1M [00:04<01:18,     458kB/s]\u001b[A\n  6%|▌         |get-started/data.xml      2.00M/36.1M [00:04<01:29,     399kB/s]\u001b[A\n  6%|▌         |get-started/data.xml      2.06M/36.1M [00:04<01:32,     387kB/s]\u001b[A\n  6%|▌         |get-started/data.xml      2.12M/36.1M [00:05<01:32,     387kB/s]\u001b[A\n  6%|▌         |get-started/data.xml      2.19M/36.1M [00:05<01:23,     425kB/s]\u001b[A\n  6%|▌         |get-started/data.xml      2.25M/36.1M [00:05<01:25,     418kB/s]\u001b[A\n  6%|▋         |get-started/data.xml      2.31M/36.1M [00:05<01:22,     430kB/s]\u001b[A\n  7%|▋         |get-started/data.xml      2.38M/36.1M [00:05<01:21,     435kB/s]\u001b[A\n  7%|▋         |get-started/data.xml      2.44M/36.1M [00:05<01:15,     470kB/s]\u001b[A\n  7%|▋         |get-started/data.xml      2.50M/36.1M [00:05<01:16,     460kB/s]\u001b[A\n  7%|▋         |get-started/data.xml      2.56M/36.1M [00:06<01:16,     461kB/s]\u001b[A\n  7%|▋         |get-started/data.xml      2.62M/36.1M [00:06<01:16,     462kB/s]\u001b[A\n  7%|▋         |get-started/data.xml      2.69M/36.1M [00:06<01:12,     481kB/s]\u001b[A\n  8%|▊         |get-started/data.xml      2.75M/36.1M [00:06<01:13,     476kB/s]\u001b[A\n  8%|▊         |get-started/data.xml      2.81M/36.1M [00:06<01:13,     475kB/s]\u001b[A\n  8%|▊         |get-started/data.xml      2.88M/36.1M [00:06<01:13,     472kB/s]\u001b[A\n  8%|▊         |get-started/data.xml      3.00M/36.1M [00:06<01:06,     522kB/s]\u001b[A\n  8%|▊         |get-started/data.xml      3.06M/36.1M [00:07<01:08,     504kB/s]\u001b[A\n  9%|▊         |get-started/data.xml      3.12M/36.1M [00:07<01:10,     492kB/s]\u001b[A\n  9%|▉         |get-started/data.xml      3.19M/36.1M [00:07<01:11,     484kB/s]\u001b[A\n  9%|▉         |get-started/data.xml      3.31M/36.1M [00:07<01:08,     501kB/s]\u001b[A\n  9%|▉         |get-started/data.xml      3.38M/36.1M [00:07<01:10,     490kB/s]\u001b[A\n 10%|▉         |get-started/data.xml      3.44M/36.1M [00:07<01:10,     485kB/s]\u001b[A\n 10%|▉         |get-started/data.xml      3.50M/36.1M [00:08<01:06,     518kB/s]\u001b[A\n 10%|▉         |get-started/data.xml      3.56M/36.1M [00:08<01:08,     501kB/s]\u001b[A\n 10%|█         |get-started/data.xml      3.62M/36.1M [00:08<01:31,     371kB/s]\u001b[A\n 10%|█         |get-started/data.xml      3.75M/36.1M [00:08<01:14,     453kB/s]\u001b[A\n 11%|█         |get-started/data.xml      3.81M/36.1M [00:08<01:19,     425kB/s]\u001b[A\n 11%|█         |get-started/data.xml      3.88M/36.1M [00:08<01:22,     412kB/s]\u001b[A\n 11%|█         |get-started/data.xml      3.94M/36.1M [00:09<01:21,     414kB/s]\u001b[A\n 11%|█         |get-started/data.xml      4.00M/36.1M [00:09<01:16,     441kB/s]\u001b[A\n 11%|█         |get-started/data.xml      4.06M/36.1M [00:09<01:15,     447kB/s]\u001b[A\n 11%|█▏        |get-started/data.xml      4.12M/36.1M [00:09<01:16,     439kB/s]\u001b[A\n 12%|█▏        |get-started/data.xml      4.19M/36.1M [00:09<01:15,     446kB/s]\u001b[A\n 12%|█▏        |get-started/data.xml      4.25M/36.1M [00:09<01:19,     421kB/s]\u001b[A\n 12%|█▏        |get-started/data.xml      4.38M/36.1M [00:10<01:13,     456kB/s]\u001b[A\n 12%|█▏        |get-started/data.xml      4.44M/36.1M [00:10<01:12,     459kB/s]\u001b[A\n 12%|█▏        |get-started/data.xml      4.50M/36.1M [00:10<01:12,     461kB/s]\u001b[A\n 13%|█▎        |get-started/data.xml      4.56M/36.1M [00:10<01:07,     494kB/s]\u001b[A\n 13%|█▎        |get-started/data.xml      4.62M/36.1M [00:10<01:08,     485kB/s]\u001b[A\n 13%|█▎        |get-started/data.xml      4.69M/36.1M [00:10<01:09,     477kB/s]\u001b[A\n 13%|█▎        |get-started/data.xml      4.75M/36.1M [00:10<01:09,     473kB/s]\u001b[A\n 13%|█▎        |get-started/data.xml      4.88M/36.1M [00:11<01:05,     500kB/s]\u001b[A\n 14%|█▎        |get-started/data.xml      4.94M/36.1M [00:11<01:06,     489kB/s]\u001b[A\n 14%|█▍        |get-started/data.xml      5.00M/36.1M [00:11<01:08,     480kB/s]\u001b[A\n 14%|█▍        |get-started/data.xml      5.12M/36.1M [00:11<01:02,     520kB/s]\u001b[A\n 14%|█▍        |get-started/data.xml      5.19M/36.1M [00:11<01:04,     502kB/s]\u001b[A\n 15%|█▍        |get-started/data.xml      5.25M/36.1M [00:11<01:06,     489kB/s]\u001b[A\n 15%|█▍        |get-started/data.xml      5.31M/36.1M [00:12<01:07,     480kB/s]\u001b[A\n 15%|█▍        |get-started/data.xml      5.38M/36.1M [00:12<01:03,     510kB/s]\u001b[A\n 15%|█▌        |get-started/data.xml      5.44M/36.1M [00:12<01:02,     513kB/s]\u001b[A\n 15%|█▌        |get-started/data.xml      5.50M/36.1M [00:12<01:02,     515kB/s]\u001b[A\n 15%|█▌        |get-started/data.xml      5.56M/36.1M [00:12<01:04,     498kB/s]\u001b[A\n 16%|█▌        |get-started/data.xml      5.69M/36.1M [00:12<01:00,     524kB/s]\u001b[A\n 16%|█▌        |get-started/data.xml      5.75M/36.1M [00:12<01:03,     504kB/s]\u001b[A\n 16%|█▌        |get-started/data.xml      5.81M/36.1M [00:13<01:03,     503kB/s]\u001b[A\n 16%|█▋        |get-started/data.xml      5.88M/36.1M [00:13<01:03,     502kB/s]\u001b[A\n 16%|█▋        |get-started/data.xml      5.94M/36.1M [00:13<01:04,     492kB/s]\u001b[A\n 17%|█▋        |get-started/data.xml      6.00M/36.1M [00:13<01:01,     515kB/s]\u001b[A\n 17%|█▋        |get-started/data.xml      6.06M/36.1M [00:13<01:01,     517kB/s]\u001b[A\n 17%|█▋        |get-started/data.xml      6.19M/36.1M [00:13<00:57,     548kB/s]\u001b[A\n 17%|█▋        |get-started/data.xml      6.25M/36.1M [00:13<00:59,     527kB/s]\u001b[A\n 17%|█▋        |get-started/data.xml      6.31M/36.1M [00:13<01:01,     507kB/s]\u001b[A\n 18%|█▊        |get-started/data.xml      6.38M/36.1M [00:14<01:02,     499kB/s]\u001b[A\n 18%|█▊        |get-started/data.xml      6.50M/36.1M [00:14<00:58,     527kB/s]\u001b[A\n 18%|█▊        |get-started/data.xml      6.62M/36.1M [00:14<00:56,     548kB/s]\u001b[A\n 19%|█▊        |get-started/data.xml      6.75M/36.1M [00:14<00:54,     563kB/s]\u001b[A\n 19%|█▉        |get-started/data.xml      6.81M/36.1M [00:14<00:57,     538kB/s]\u001b[A\n 19%|█▉        |get-started/data.xml      6.94M/36.1M [00:15<00:51,     596kB/s]\u001b[A\n 19%|█▉        |get-started/data.xml      7.00M/36.1M [00:15<00:52,     579kB/s]\u001b[A\n 20%|█▉        |get-started/data.xml      7.12M/36.1M [00:15<00:50,     598kB/s]\u001b[A\n 20%|██        |get-started/data.xml      7.25M/36.1M [00:15<00:46,     646kB/s]\u001b[A\n 20%|██        |get-started/data.xml      7.38M/36.1M [00:15<00:46,     647kB/s]\u001b[A\n 21%|██        |get-started/data.xml      7.50M/36.1M [00:15<00:43,     694kB/s]\u001b[A\n 21%|██        |get-started/data.xml      7.62M/36.1M [00:16<00:42,     699kB/s]\u001b[A\n 21%|██▏       |get-started/data.xml      7.75M/36.1M [00:16<00:39,     753kB/s]\u001b[A\n 22%|██▏       |get-started/data.xml      7.88M/36.1M [00:16<00:37,     790kB/s]\u001b[A\n 22%|██▏       |get-started/data.xml      8.00M/36.1M [00:16<00:35,     829kB/s]\u001b[A\n 22%|██▏       |get-started/data.xml      8.12M/36.1M [00:16<00:35,     834kB/s]\u001b[A\n 23%|██▎       |get-started/data.xml      8.25M/36.1M [00:16<00:33,     881kB/s]\u001b[A\n 23%|██▎       |get-started/data.xml      8.38M/36.1M [00:16<00:32,     894kB/s]\u001b[A\n 24%|██▎       |get-started/data.xml      8.50M/36.1M [00:17<00:31,     910kB/s]\u001b[A\n 24%|██▍       |get-started/data.xml      8.62M/36.1M [00:17<00:30,     941kB/s]\u001b[A\n 24%|██▍       |get-started/data.xml      8.75M/36.1M [00:17<00:28,    1.02MB/s]\u001b[A\n 25%|██▍       |get-started/data.xml      8.88M/36.1M [00:17<00:27,    1.03MB/s]\u001b[A\n 25%|██▌       |get-started/data.xml      9.06M/36.1M [00:17<00:25,    1.09MB/s]\u001b[A\n 25%|██▌       |get-started/data.xml      9.19M/36.1M [00:17<00:25,    1.11MB/s]\u001b[A\n 26%|██▌       |get-started/data.xml      9.38M/36.1M [00:17<00:23,    1.18MB/s]\u001b[A\n 26%|██▋       |get-started/data.xml      9.56M/36.1M [00:18<00:23,    1.21MB/s]\u001b[A\n 27%|██▋       |get-started/data.xml      9.75M/36.1M [00:18<00:21,    1.29MB/s]\u001b[A\n 28%|██▊       |get-started/data.xml      10.0M/36.1M [00:18<00:20,    1.36MB/s]\u001b[A\n 28%|██▊       |get-started/data.xml      10.2M/36.1M [00:18<00:18,    1.44MB/s]\u001b[A\n 29%|██▉       |get-started/data.xml      10.4M/36.1M [00:18<00:17,    1.50MB/s]\u001b[A\n 29%|██▉       |get-started/data.xml      10.6M/36.1M [00:18<00:17,    1.52MB/s]\u001b[A\n 30%|███       |get-started/data.xml      10.9M/36.1M [00:18<00:16,    1.60MB/s]\u001b[A\n 31%|███       |get-started/data.xml      11.1M/36.1M [00:19<00:15,    1.67MB/s]\u001b[A\n 31%|███▏      |get-started/data.xml      11.4M/36.1M [00:19<00:14,    1.76MB/s]\u001b[A\n 32%|███▏      |get-started/data.xml      11.6M/36.1M [00:19<00:13,    1.95MB/s]\u001b[A\n 33%|███▎      |get-started/data.xml      11.9M/36.1M [00:19<00:13,    1.94MB/s]\u001b[A\n 34%|███▎      |get-started/data.xml      12.1M/36.1M [00:19<00:12,    1.97MB/s]\u001b[A\n 34%|███▍      |get-started/data.xml      12.4M/36.1M [00:19<00:11,    2.10MB/s]\u001b[A\n 35%|███▍      |get-started/data.xml      12.6M/36.1M [00:19<00:11,    2.15MB/s]\u001b[A\n 36%|███▌      |get-started/data.xml      12.9M/36.1M [00:19<00:10,    2.21MB/s]\u001b[A\n 37%|███▋      |get-started/data.xml      13.2M/36.1M [00:19<00:10,    2.32MB/s]\u001b[A\n 37%|███▋      |get-started/data.xml      13.5M/36.1M [00:20<00:09,    2.38MB/s]\u001b[A\n 38%|███▊      |get-started/data.xml      13.8M/36.1M [00:20<00:09,    2.47MB/s]\u001b[A\n 39%|███▉      |get-started/data.xml      14.1M/36.1M [00:20<00:08,    2.63MB/s]\u001b[A\n 40%|███▉      |get-started/data.xml      14.4M/36.1M [00:20<00:08,    2.68MB/s]\u001b[A\n 41%|████      |get-started/data.xml      14.8M/36.1M [00:20<00:08,    2.76MB/s]\u001b[A\n 42%|████▏     |get-started/data.xml      15.2M/36.1M [00:20<00:07,    2.99MB/s]\u001b[A\n 43%|████▎     |get-started/data.xml      15.5M/36.1M [00:20<00:07,    2.95MB/s]\u001b[A\n 44%|████▍     |get-started/data.xml      15.9M/36.1M [00:20<00:06,    3.12MB/s]\u001b[A\n 45%|████▍     |get-started/data.xml      16.2M/36.1M [00:21<00:06,    3.10MB/s]\u001b[A\n 46%|████▌     |get-started/data.xml      16.6M/36.1M [00:21<00:06,    3.25MB/s]\u001b[A\n 47%|████▋     |get-started/data.xml      17.0M/36.1M [00:21<00:05,    3.40MB/s]\u001b[A\n 48%|████▊     |get-started/data.xml      17.4M/36.1M [00:21<00:05,    3.50MB/s]\u001b[A\n 49%|████▉     |get-started/data.xml      17.8M/36.1M [00:21<00:05,    3.61MB/s]\u001b[A\n 50%|█████     |get-started/data.xml      18.2M/36.1M [00:21<00:05,    3.72MB/s]\u001b[A\n 52%|█████▏    |get-started/data.xml      18.6M/36.1M [00:21<00:04,    3.90MB/s]\u001b[A\n 53%|█████▎    |get-started/data.xml      19.1M/36.1M [00:21<00:04,    3.93MB/s]\u001b[A\n 54%|█████▍    |get-started/data.xml      19.6M/36.1M [00:21<00:04,    4.13MB/s]\u001b[A\n 55%|█████▌    |get-started/data.xml      20.0M/36.1M [00:21<00:04,    4.17MB/s]\u001b[A\n 57%|█████▋    |get-started/data.xml      20.5M/36.1M [00:22<00:03,    4.42MB/s]\u001b[A\n 58%|█████▊    |get-started/data.xml      20.9M/36.1M [00:22<00:03,    4.44MB/s]\u001b[A\n 59%|█████▉    |get-started/data.xml      21.4M/36.1M [00:22<00:03,    4.59MB/s]\u001b[A\n 61%|██████    |get-started/data.xml      21.9M/36.1M [00:22<00:03,    4.67MB/s]\u001b[A\n 62%|██████▏   |get-started/data.xml      22.4M/36.1M [00:22<00:02,    4.81MB/s]\u001b[A\n 64%|██████▎   |get-started/data.xml      23.0M/36.1M [00:22<00:02,    4.98MB/s]\u001b[A\n 65%|██████▌   |get-started/data.xml      23.6M/36.1M [00:22<00:02,    5.11MB/s]\u001b[A\n 67%|██████▋   |get-started/data.xml      24.2M/36.1M [00:22<00:02,    5.26MB/s]\u001b[A\n 68%|██████▊   |get-started/data.xml      24.8M/36.1M [00:22<00:02,    5.40MB/s]\u001b[A\n 70%|███████   |get-started/data.xml      25.4M/36.1M [00:23<00:02,    5.60MB/s]\u001b[A\n 72%|███████▏  |get-started/data.xml      25.9M/36.1M [00:23<00:02,    4.42MB/s]\u001b[A\n 73%|███████▎  |get-started/data.xml      26.4M/36.1M [00:23<00:02,    4.32MB/s]\u001b[A\n 76%|███████▌  |get-started/data.xml      27.3M/36.1M [00:23<00:01,    4.80MB/s]\u001b[A\n 77%|███████▋  |get-started/data.xml      27.8M/36.1M [00:23<00:02,    4.00MB/s]\u001b[A\n 78%|███████▊  |get-started/data.xml      28.2M/36.1M [00:23<00:02,    4.12MB/s]\u001b[A\n 79%|███████▉  |get-started/data.xml      28.7M/36.1M [00:23<00:02,    3.78MB/s]\u001b[A\n 81%|████████  |get-started/data.xml      29.1M/36.1M [00:24<00:02,    3.43MB/s]\u001b[A\n 82%|████████▏ |get-started/data.xml      29.5M/36.1M [00:24<00:02,    3.27MB/s]\u001b[A\n 83%|████████▎ |get-started/data.xml      29.9M/36.1M [00:24<00:02,    3.00MB/s]\u001b[A\n 84%|████████▎ |get-started/data.xml      30.2M/36.1M [00:24<00:02,    2.75MB/s]\u001b[A\n 84%|████████▍ |get-started/data.xml      30.5M/36.1M [00:24<00:02,    2.57MB/s]\u001b[A\n 85%|████████▌ |get-started/data.xml      30.8M/36.1M [00:24<00:02,    2.51MB/s]\u001b[A\n 86%|████████▌ |get-started/data.xml      31.1M/36.1M [00:24<00:02,    2.41MB/s]\u001b[A\n 87%|████████▋ |get-started/data.xml      31.4M/36.1M [00:25<00:02,    2.44MB/s]\u001b[A\n 88%|████████▊ |get-started/data.xml      31.7M/36.1M [00:25<00:01,    2.56MB/s]\u001b[A\n 89%|████████▊ |get-started/data.xml      32.0M/36.1M [00:25<00:01,    2.56MB/s]\u001b[A\n 89%|████████▉ |get-started/data.xml      32.2M/36.1M [00:25<00:01,    2.53MB/s]\u001b[A\n 90%|████████▉ |get-started/data.xml      32.5M/36.1M [00:25<00:01,    2.47MB/s]\u001b[A\n 91%|█████████ |get-started/data.xml      32.8M/36.1M [00:25<00:01,    2.40MB/s]\u001b[A\n 91%|█████████▏|get-started/data.xml      33.1M/36.1M [00:25<00:01,    2.59MB/s]\u001b[A\n 92%|█████████▏|get-started/data.xml      33.4M/36.1M [00:25<00:01,    2.58MB/s]\u001b[A\n 93%|█████████▎|get-started/data.xml      33.7M/36.1M [00:26<00:00,    2.62MB/s]\u001b[A\n 94%|█████████▍|get-started/data.xml      34.0M/36.1M [00:26<00:00,    2.60MB/s]\u001b[A\n 95%|█████████▍|get-started/data.xml      34.3M/36.1M [00:26<00:00,    2.57MB/s]\u001b[A\n 96%|█████████▌|get-started/data.xml      34.6M/36.1M [00:26<00:00,    2.49MB/s]\u001b[A\n 97%|█████████▋|get-started/data.xml      34.9M/36.1M [00:26<00:00,    2.56MB/s]\u001b[A\n 97%|█████████▋|get-started/data.xml      35.2M/36.1M [00:26<00:00,    2.69MB/s]\u001b[A\n 98%|█████████▊|get-started/data.xml      35.5M/36.1M [00:26<00:00,    2.69MB/s]\u001b[A\n 99%|█████████▉|get-started/data.xml      35.8M/36.1M [00:26<00:00,    2.70MB/s]\u001b[A\n100%|█████████▉|get-started/data.xml      36.1M/36.1M [00:26<00:00,    2.64MB/s]\u001b[A\n100% Downloading|████████████████████████████████|1/1 [00:27<00:00, 27.76s/file]\u001b[0m"
    }
   ],
   "source": [
    "! dvc get https://github.com/iterative/dataset-registry \\\n",
    "          get-started/data.xml -o data/data.xml\n",
    "! dvc add data/data.xml"
   ]
  },
  {
   "cell_type": "markdown",
   "metadata": {},
   "source": [
    "## Create a pipeline with some steps. i.e.:\n",
    "    *  prepare data\n",
    "    *  turn data into features\n",
    "    *  train models from features\n",
    "    *  evaluate models"
   ]
  },
  {
   "cell_type": "code",
   "execution_count": 3,
   "metadata": {
    "tags": []
   },
   "outputs": [
    {
     "output_type": "stream",
     "name": "stdout",
     "text": "Stage is cached, skipping\n\u001b[0m"
    }
   ],
   "source": [
    "! dvc run -f -n prepare \\\n",
    "                     -p prepare.seed,prepare.split \\\n",
    "                     -d src/prepare.py -d data/data.xml \\\n",
    "                     -o data/prepared \\\n",
    "                     python src/prepare.py data/data.xml"
   ]
  },
  {
   "cell_type": "code",
   "execution_count": 4,
   "metadata": {
    "tags": []
   },
   "outputs": [
    {
     "output_type": "stream",
     "name": "stdout",
     "text": "If DVC froze, see `hardlink_lock` in <\u001b[36mhttps://man.dvc.org/config#core\u001b[39m>Restored stage 'featurize' from run-cache\nSkipping run, checking out outputs\n  0% Saving features|                          |0.00/2.00 [00:00<?,     ?file/s]Modifying stage 'featurize' in 'dvc.yaml'\n\nTo track the changes with git, run:\n\n\tgit add dvc.yaml\n\u001b[0m"
    }
   ],
   "source": [
    "! dvc run -f -n featurize \\\n",
    "          -p featurize.max_features,featurize.ngrams \\\n",
    "          -d src/featurization.py -d data/prepared \\\n",
    "          -o data/features \\\n",
    "          python src/featurization.py data/prepared data/features"
   ]
  },
  {
   "cell_type": "code",
   "execution_count": 5,
   "metadata": {
    "tags": []
   },
   "outputs": [
    {
     "output_type": "stream",
     "name": "stdout",
     "text": "If DVC froze, see `hardlink_lock` in <\u001b[36mhttps://man.dvc.org/config#core\u001b[39m>Restored stage 'train' from run-cache\nSkipping run, checking out outputs\nModifying stage 'train' in 'dvc.yaml'\n\nTo track the changes with git, run:\n\n\tgit add dvc.yaml\n\u001b[0m"
    }
   ],
   "source": [
    "! dvc run -f -n train \\\n",
    "          -p train.seed,train.n_estimators \\\n",
    "          -d src/train.py -d data/features \\\n",
    "          -o model.pkl \\\n",
    "          python src/train.py data/features model.pkl"
   ]
  },
  {
   "cell_type": "code",
   "execution_count": 6,
   "metadata": {
    "tags": []
   },
   "outputs": [
    {
     "output_type": "stream",
     "name": "stdout",
     "text": "If DVC froze, see `hardlink_lock` in <\u001b[36mhttps://man.dvc.org/config#core\u001b[39m>Stage is cached, skipping\n\u001b[0m"
    }
   ],
   "source": [
    "! dvc run -f -n evaluate \\\n",
    "          -d src/evaluate.py -d model.pkl -d data/features \\\n",
    "          -M scores.json \\\n",
    "          --plots-no-cache prc.json \\\n",
    "          python src/evaluate.py model.pkl \\\n",
    "                 data/features scores.json prc.json"
   ]
  },
  {
   "cell_type": "code",
   "execution_count": 7,
   "metadata": {
    "tags": []
   },
   "outputs": [
    {
     "output_type": "stream",
     "name": "stdout",
     "text": "If DVC froze, see `hardlink_lock` in <\u001b[36mhttps://man.dvc.org/config#core\u001b[39m>Stage 'data/data.xml.dvc' didn't change, skipping\nStage 'prepare' didn't change, skipping\nStage 'featurize' didn't change, skipping\nStage 'train' didn't change, skipping\nStage 'evaluate' didn't change, skipping\nData and pipelines are up to date.\n\u001b[0m"
    }
   ],
   "source": [
    "! dvc repro"
   ]
  },
  {
   "cell_type": "code",
   "execution_count": 8,
   "metadata": {
    "tags": []
   },
   "outputs": [
    {
     "output_type": "stream",
     "name": "stdout",
     "text": "Setting 'myremote' as a default remote.\n\u001b[0m[data_pipelines 2020cf3] run\n 1 file changed, 3 insertions(+), 3 deletions(-)\nEnumerating objects: 5, done.\nCounting objects: 100% (5/5), done.\nDelta compression using up to 8 threads\nCompressing objects: 100% (3/3), done.\nWriting objects: 100% (3/3), 501 bytes | 501.00 KiB/s, done.\nTotal 3 (delta 2), reused 0 (delta 0), pack-reused 0\nremote: Resolving deltas: 100% (2/2), completed with 2 local objects.\u001b[K\nTo github.com:NichitaDiaconu/dvc_intro.git\n   85be72d..2020cf3  data_pipelines -> data_pipelines\n"
    }
   ],
   "source": [
    "! dvc remote add -df myremote gs://dvc_intro\n",
    "! git add .\n",
    "! git commit -m 'run'\n",
    "! git push origin data_pipelines"
   ]
  },
  {
   "cell_type": "code",
   "execution_count": 9,
   "metadata": {
    "tags": []
   },
   "outputs": [
    {
     "output_type": "stream",
     "name": "stdout",
     "text": "{\"auc\": 0.5417487597055675}"
    }
   ],
   "source": [
    "! cat scores.json"
   ]
  },
  {
   "cell_type": "code",
   "execution_count": 10,
   "metadata": {
    "tags": []
   },
   "outputs": [
    {
     "output_type": "stream",
     "name": "stdout",
     "text": "0% Analysing status|                         |0.00/6.00 [00:00<?,     ?file/s]Everything is up to date.\n\u001b[0m"
    }
   ],
   "source": [
    "! dvc push"
   ]
  },
  {
   "cell_type": "code",
   "execution_count": 11,
   "metadata": {
    "tags": []
   },
   "outputs": [
    {
     "output_type": "stream",
     "name": "stdout",
     "text": "\u001b7\u001b[?47h\u001b[?1h\u001b=\n\n\n\n\n\n\n\n\n\n\n\n\n\n\n\n\n\n\n\n\n\n\n\u001b[H\u001b[2J\u001b[H\u001b[H\u001b[2J\u001b[H    +-------------------+  \n    | data/data.xml.dvc |  \n    +-------------------+  \n              *            \n              *            \n              *            \n         +---------+       \n         | prepare |       \n         +---------+       \n              *            \n              *            \n              *            \n        +-----------+      \n        | featurize |      \n        +-----------+      \n         **        **      \n       **            *     \n      *               **   \n+-------+               *  \n| train |             **   \n+-------+            *     \n         **        **      \n           **    **        \n\u001b[7m/tmp/tmpoev5vrtg\u001b[m\u001b[K"
    }
   ],
   "source": [
    "! dvc dag"
   ]
  },
  {
   "cell_type": "code",
   "execution_count": 15,
   "metadata": {},
   "outputs": [],
   "source": [
    "! rm -rf data/features\n",
    "! rm -rf data/prepared\n",
    "! rm -rf data/data.xml\n",
    "! rm -rf model.pkl\n",
    "! rm -rf .dvc/cache\n",
    "! rm -rf .dvc/tmp"
   ]
  },
  {
   "cell_type": "code",
   "execution_count": null,
   "metadata": {},
   "outputs": [],
   "source": []
  }
 ]
}