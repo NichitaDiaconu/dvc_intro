{
 "metadata": {
  "language_info": {
   "codemirror_mode": {
    "name": "ipython",
    "version": 3
   },
   "file_extension": ".py",
   "mimetype": "text/x-python",
   "name": "python",
   "nbconvert_exporter": "python",
   "pygments_lexer": "ipython3",
   "version": "3.8.1-final"
  },
  "orig_nbformat": 2,
  "kernelspec": {
   "name": "python_defaultSpec_1596726560165",
   "display_name": "Python 3.8.1 64-bit ('dvc_intro': pipenv)"
  }
 },
 "nbformat": 4,
 "nbformat_minor": 2,
 "cells": [
  {
   "cell_type": "code",
   "execution_count": 29,
   "metadata": {
    "tags": []
   },
   "outputs": [
    {
     "output_type": "stream",
     "name": "stdout",
     "text": "\nYou can now commit the changes to git.\n\n\u001b[31m+---------------------------------------------------------------------+\n\u001b[39m\u001b[31m|\u001b[39m                                                                     \u001b[31m|\u001b[39m\n\u001b[31m|\u001b[39m        DVC has enabled anonymous aggregate usage analytics.         \u001b[31m|\u001b[39m\n\u001b[31m|\u001b[39m     Read the analytics documentation (and how to opt-out) here:     \u001b[31m|\u001b[39m\n\u001b[31m|\u001b[39m              \u001b[34mhttps://dvc.org/doc/user-guide/analytics\u001b[39m               \u001b[31m|\u001b[39m\n\u001b[31m|\u001b[39m                                                                     \u001b[31m|\u001b[39m\n\u001b[31m+---------------------------------------------------------------------+\n\u001b[39m\n\u001b[33mWhat's next?\u001b[39m\n\u001b[33m------------\u001b[39m\n- Check out the documentation: \u001b[34mhttps://dvc.org/doc\u001b[39m\n- Get help and share ideas: \u001b[34mhttps://dvc.org/chat\u001b[39m\n- Star us on GitHub: \u001b[34mhttps://github.com/iterative/dvc\u001b[39m\n\u001b[0m"
    }
   ],
   "source": [
    "! dvc init"
   ]
  },
  {
   "cell_type": "markdown",
   "metadata": {},
   "source": [
    "## Load data"
   ]
  },
  {
   "cell_type": "code",
   "execution_count": 30,
   "metadata": {
    "tags": []
   },
   "outputs": [
    {
     "output_type": "stream",
     "name": "stdout",
     "text": "The dotenv extension is already loaded. To reload it, use:\n  %reload_ext dotenv\n"
    }
   ],
   "source": [
    "%load_ext dotenv\n",
    "%dotenv"
   ]
  },
  {
   "cell_type": "code",
   "execution_count": 31,
   "metadata": {
    "tags": []
   },
   "outputs": [
    {
     "output_type": "stream",
     "name": "stdout",
     "text": "0% Downloading|                                    |0/1 [00:00<?,     ?file/s]\n!\u001b[A\n  0%|          |get-started/data.xml           0.00/37.9M [00:00<?,       ?it/s]\u001b[A\n  0%|          |get-started/data.xml      64.0k/36.1M [00:00<02:46,     227kB/s]\u001b[A\n  0%|          |get-started/data.xml       128k/36.1M [00:00<02:21,     266kB/s]\u001b[A\n  1%|          |get-started/data.xml       256k/36.1M [00:00<02:07,     296kB/s]\u001b[A\n  1%|          |get-started/data.xml       384k/36.1M [00:00<01:37,     386kB/s]\u001b[A\n  1%|▏         |get-started/data.xml       512k/36.1M [00:01<01:20,     466kB/s]\u001b[A\n  2%|▏         |get-started/data.xml       640k/36.1M [00:01<01:09,     536kB/s]\u001b[A\n  2%|▏         |get-started/data.xml       768k/36.1M [00:01<00:59,     627kB/s]\u001b[A\n  2%|▏         |get-started/data.xml       896k/36.1M [00:01<00:53,     689kB/s]\u001b[A\n  3%|▎         |get-started/data.xml      1.00M/36.1M [00:01<00:49,     738kB/s]\u001b[A\n  3%|▎         |get-started/data.xml      1.12M/36.1M [00:01<00:46,     784kB/s]\u001b[A\n  3%|▎         |get-started/data.xml      1.25M/36.1M [00:01<00:44,     813kB/s]\u001b[A\n  4%|▍         |get-started/data.xml      1.38M/36.1M [00:02<00:43,     843kB/s]\u001b[A\n  4%|▍         |get-started/data.xml      1.50M/36.1M [00:02<00:42,     854kB/s]\u001b[A\n  4%|▍         |get-started/data.xml      1.62M/36.1M [00:02<00:41,     878kB/s]\u001b[A\n  5%|▍         |get-started/data.xml      1.75M/36.1M [00:02<00:40,     887kB/s]\u001b[A\n  5%|▌         |get-started/data.xml      1.88M/36.1M [00:02<00:40,     898kB/s]\u001b[A\n  6%|▌         |get-started/data.xml      2.00M/36.1M [00:02<00:40,     894kB/s]\u001b[A\n  6%|▌         |get-started/data.xml      2.12M/36.1M [00:02<00:39,     898kB/s]\u001b[A\n  6%|▌         |get-started/data.xml      2.25M/36.1M [00:03<00:38,     923kB/s]\u001b[A\n  7%|▋         |get-started/data.xml      2.38M/36.1M [00:03<00:38,     921kB/s]\u001b[A\n  7%|▋         |get-started/data.xml      2.50M/36.1M [00:03<00:36,     969kB/s]\u001b[A\n  7%|▋         |get-started/data.xml      2.62M/36.1M [00:03<00:36,     953kB/s]\u001b[A\n  8%|▊         |get-started/data.xml      2.81M/36.1M [00:03<00:35,     983kB/s]\u001b[A\n  8%|▊         |get-started/data.xml      2.94M/36.1M [00:03<00:35,     975kB/s]\u001b[A\n  8%|▊         |get-started/data.xml      3.06M/36.1M [00:03<00:36,     957kB/s]\u001b[A\n  9%|▉         |get-started/data.xml      3.19M/36.1M [00:04<00:36,     957kB/s]\u001b[A\n  9%|▉         |get-started/data.xml      3.31M/36.1M [00:04<00:36,     953kB/s]\u001b[A\n 10%|▉         |get-started/data.xml      3.44M/36.1M [00:04<00:36,     940kB/s]\u001b[A\n 10%|█         |get-started/data.xml      3.62M/36.1M [00:04<00:34,     997kB/s]\u001b[A\n 10%|█         |get-started/data.xml      3.75M/36.1M [00:04<00:34,     989kB/s]\u001b[A\n 11%|█         |get-started/data.xml      3.88M/36.1M [00:04<00:34,     971kB/s]\u001b[A\n 11%|█         |get-started/data.xml      4.00M/36.1M [00:04<00:34,     972kB/s]\u001b[A\n 11%|█▏        |get-started/data.xml      4.12M/36.1M [00:05<00:34,     960kB/s]\u001b[A\n 12%|█▏        |get-started/data.xml      4.25M/36.1M [00:05<00:35,     945kB/s]\u001b[A\n 12%|█▏        |get-started/data.xml      4.38M/36.1M [00:05<00:33,    1.00MB/s]\u001b[A\n 12%|█▏        |get-started/data.xml      4.50M/36.1M [00:05<00:31,    1.05MB/s]\u001b[A\n 13%|█▎        |get-started/data.xml      4.62M/36.1M [00:05<00:29,    1.11MB/s]\u001b[A\n 13%|█▎        |get-started/data.xml      4.75M/36.1M [00:05<00:31,    1.04MB/s]\u001b[A\n 13%|█▎        |get-started/data.xml      4.88M/36.1M [00:05<00:32,    1.01MB/s]\u001b[A\n 14%|█▍        |get-started/data.xml      5.00M/36.1M [00:05<00:33,     979kB/s]\u001b[A\n 14%|█▍        |get-started/data.xml      5.12M/36.1M [00:06<00:33,     963kB/s]\u001b[A\n 15%|█▍        |get-started/data.xml      5.25M/36.1M [00:06<00:34,     948kB/s]\u001b[A\n 15%|█▍        |get-started/data.xml      5.38M/36.1M [00:06<00:33,     960kB/s]\u001b[A\n 15%|█▌        |get-started/data.xml      5.50M/36.1M [00:06<00:33,     946kB/s]\u001b[A\n 16%|█▌        |get-started/data.xml      5.62M/36.1M [00:06<00:33,     969kB/s]\u001b[A\n 16%|█▌        |get-started/data.xml      5.75M/36.1M [00:06<00:33,     953kB/s]\u001b[A\n 16%|█▋        |get-started/data.xml      5.88M/36.1M [00:06<00:31,    1.02MB/s]\u001b[A\n 17%|█▋        |get-started/data.xml      6.00M/36.1M [00:06<00:29,    1.07MB/s]\u001b[A\n 17%|█▋        |get-started/data.xml      6.12M/36.1M [00:07<00:28,    1.11MB/s]\u001b[A\n 17%|█▋        |get-started/data.xml      6.25M/36.1M [00:07<00:30,    1.04MB/s]\u001b[A\n 18%|█▊        |get-started/data.xml      6.38M/36.1M [00:07<00:31,    1.01MB/s]\u001b[A\n 18%|█▊        |get-started/data.xml      6.50M/36.1M [00:07<00:31,    1.00MB/s]\u001b[A\n 18%|█▊        |get-started/data.xml      6.62M/36.1M [00:07<00:31,     995kB/s]\u001b[A\n 19%|█▊        |get-started/data.xml      6.75M/36.1M [00:07<00:30,     994kB/s]\u001b[A\n 19%|█▉        |get-started/data.xml      6.88M/36.1M [00:07<00:30,    1.02MB/s]\u001b[A\n 20%|█▉        |get-started/data.xml      7.06M/36.1M [00:08<00:28,    1.06MB/s]\u001b[A\n 20%|█▉        |get-started/data.xml      7.19M/36.1M [00:08<00:27,    1.11MB/s]\u001b[A\n 20%|██        |get-started/data.xml      7.31M/36.1M [00:08<00:26,    1.15MB/s]\u001b[A\n 21%|██        |get-started/data.xml      7.44M/36.1M [00:08<00:26,    1.15MB/s]\u001b[A\n 21%|██        |get-started/data.xml      7.56M/36.1M [00:08<00:26,    1.13MB/s]\u001b[A\n 21%|██▏       |get-started/data.xml      7.69M/36.1M [00:08<00:27,    1.08MB/s]\u001b[A\n 22%|██▏       |get-started/data.xml      7.88M/36.1M [00:08<00:26,    1.13MB/s]\u001b[A\n 22%|██▏       |get-started/data.xml      8.06M/36.1M [00:08<00:24,    1.19MB/s]\u001b[A\n 23%|██▎       |get-started/data.xml      8.19M/36.1M [00:09<00:25,    1.13MB/s]\u001b[A\n 23%|██▎       |get-started/data.xml      8.38M/36.1M [00:09<00:24,    1.19MB/s]\u001b[A\n 24%|██▎       |get-started/data.xml      8.56M/36.1M [00:09<00:23,    1.24MB/s]\u001b[A\n 24%|██▍       |get-started/data.xml      8.75M/36.1M [00:09<00:22,    1.26MB/s]\u001b[A\n 25%|██▍       |get-started/data.xml      8.94M/36.1M [00:09<00:21,    1.30MB/s]\u001b[A\n 25%|██▌       |get-started/data.xml      9.12M/36.1M [00:09<00:21,    1.33MB/s]\u001b[A\n 26%|██▌       |get-started/data.xml      9.31M/36.1M [00:09<00:19,    1.41MB/s]\u001b[A\n 26%|██▋       |get-started/data.xml      9.50M/36.1M [00:10<00:19,    1.42MB/s]\u001b[A\n 27%|██▋       |get-started/data.xml      9.69M/36.1M [00:10<00:18,    1.54MB/s]\u001b[A\n 27%|██▋       |get-started/data.xml      9.88M/36.1M [00:10<00:17,    1.58MB/s]\u001b[A\n 28%|██▊       |get-started/data.xml      10.1M/36.1M [00:10<00:17,    1.55MB/s]\u001b[A\n 28%|██▊       |get-started/data.xml      10.2M/36.1M [00:10<00:17,    1.55MB/s]\u001b[A\n 29%|██▉       |get-started/data.xml      10.4M/36.1M [00:10<00:17,    1.56MB/s]\u001b[A\n 29%|██▉       |get-started/data.xml      10.6M/36.1M [00:10<00:16,    1.63MB/s]\u001b[A\n 30%|███       |get-started/data.xml      10.9M/36.1M [00:10<00:15,    1.69MB/s]\u001b[A\n 31%|███       |get-started/data.xml      11.1M/36.1M [00:11<00:14,    1.82MB/s]\u001b[A\n 31%|███▏      |get-started/data.xml      11.3M/36.1M [00:11<00:14,    1.85MB/s]\u001b[A\n 32%|███▏      |get-started/data.xml      11.5M/36.1M [00:11<00:14,    1.79MB/s]\u001b[A\n 33%|███▎      |get-started/data.xml      11.8M/36.1M [00:11<00:13,    1.85MB/s]\u001b[A\n 33%|███▎      |get-started/data.xml      12.0M/36.1M [00:11<00:12,    1.97MB/s]\u001b[A\n 34%|███▍      |get-started/data.xml      12.2M/36.1M [00:11<00:11,    2.10MB/s]\u001b[A\n 35%|███▍      |get-started/data.xml      12.5M/36.1M [00:11<00:11,    2.16MB/s]\u001b[A\n 35%|███▌      |get-started/data.xml      12.8M/36.1M [00:11<00:11,    2.09MB/s]\u001b[A\n 36%|███▌      |get-started/data.xml      13.0M/36.1M [00:11<00:11,    2.11MB/s]\u001b[A\n 37%|███▋      |get-started/data.xml      13.2M/36.1M [00:12<00:10,    2.24MB/s]\u001b[A\n 38%|███▊      |get-started/data.xml      13.6M/36.1M [00:12<00:09,    2.44MB/s]\u001b[A\n 38%|███▊      |get-started/data.xml      13.8M/36.1M [00:12<00:09,    2.40MB/s]\u001b[A\n 39%|███▉      |get-started/data.xml      14.1M/36.1M [00:12<00:09,    2.35MB/s]\u001b[A\n 40%|███▉      |get-started/data.xml      14.4M/36.1M [00:12<00:09,    2.42MB/s]\u001b[A\n 41%|████      |get-started/data.xml      14.8M/36.1M [00:12<00:08,    2.60MB/s]\u001b[A\n 42%|████▏     |get-started/data.xml      15.1M/36.1M [00:12<00:08,    2.69MB/s]\u001b[A\n 43%|████▎     |get-started/data.xml      15.5M/36.1M [00:12<00:07,    2.88MB/s]\u001b[A\n 44%|████▍     |get-started/data.xml      15.8M/36.1M [00:12<00:07,    2.92MB/s]\u001b[A\n 45%|████▍     |get-started/data.xml      16.1M/36.1M [00:13<00:07,    2.81MB/s]\u001b[A\n 46%|████▌     |get-started/data.xml      16.5M/36.1M [00:13<00:07,    2.89MB/s]\u001b[A\n 47%|████▋     |get-started/data.xml      16.9M/36.1M [00:13<00:06,    2.98MB/s]\u001b[A\n 48%|████▊     |get-started/data.xml      17.4M/36.1M [00:13<00:05,    3.31MB/s]\u001b[A\n 49%|████▉     |get-started/data.xml      17.8M/36.1M [00:13<00:05,    3.51MB/s]\u001b[A\n 50%|█████     |get-started/data.xml      18.2M/36.1M [00:13<00:05,    3.47MB/s]\u001b[A\n 51%|█████▏    |get-started/data.xml      18.6M/36.1M [00:13<00:05,    3.38MB/s]\u001b[A\n 53%|█████▎    |get-started/data.xml      19.0M/36.1M [00:13<00:05,    3.46MB/s]\u001b[A\n 54%|█████▍    |get-started/data.xml      19.5M/36.1M [00:14<00:04,    3.83MB/s]\u001b[A\n 55%|█████▌    |get-started/data.xml      20.0M/36.1M [00:14<00:04,    4.06MB/s]\u001b[A\n 57%|█████▋    |get-started/data.xml      20.4M/36.1M [00:14<00:04,    3.97MB/s]\u001b[A\n 58%|█████▊    |get-started/data.xml      20.9M/36.1M [00:14<00:04,    3.90MB/s]\u001b[A\n 59%|█████▉    |get-started/data.xml      21.3M/36.1M [00:14<00:04,    3.39MB/s]\u001b[A\n 61%|██████    |get-started/data.xml      21.9M/36.1M [00:14<00:03,    3.96MB/s]\u001b[A\n 62%|██████▏   |get-started/data.xml      22.4M/36.1M [00:14<00:04,    3.20MB/s]\u001b[A\n 63%|██████▎   |get-started/data.xml      22.8M/36.1M [00:15<00:04,    3.49MB/s]\u001b[A\n 64%|██████▍   |get-started/data.xml      23.2M/36.1M [00:15<00:04,    3.14MB/s]\u001b[A\n 65%|██████▌   |get-started/data.xml      23.6M/36.1M [00:15<00:04,    2.87MB/s]\u001b[A\n 66%|██████▌   |get-started/data.xml      23.9M/36.1M [00:15<00:04,    2.76MB/s]\u001b[A\n 67%|██████▋   |get-started/data.xml      24.2M/36.1M [00:15<00:04,    2.61MB/s]\u001b[A\n 68%|██████▊   |get-started/data.xml      24.6M/36.1M [00:15<00:04,    2.54MB/s]\u001b[A\n 69%|██████▉   |get-started/data.xml      24.9M/36.1M [00:15<00:04,    2.50MB/s]\u001b[A\n 70%|██████▉   |get-started/data.xml      25.1M/36.1M [00:15<00:04,    2.51MB/s]\u001b[A\n 70%|███████   |get-started/data.xml      25.4M/36.1M [00:16<00:04,    2.49MB/s]\u001b[A\n 71%|███████▏  |get-started/data.xml      25.8M/36.1M [00:16<00:04,    2.57MB/s]\u001b[A\n 72%|███████▏  |get-started/data.xml      26.1M/36.1M [00:16<00:03,    2.72MB/s]\u001b[A\n 73%|███████▎  |get-started/data.xml      26.4M/36.1M [00:16<00:03,    2.64MB/s]\u001b[A\n 74%|███████▍  |get-started/data.xml      26.7M/36.1M [00:16<00:03,    2.59MB/s]\u001b[A\n 75%|███████▍  |get-started/data.xml      27.0M/36.1M [00:16<00:03,    2.63MB/s]\u001b[A\n 76%|███████▌  |get-started/data.xml      27.3M/36.1M [00:16<00:03,    2.59MB/s]\u001b[A\n 76%|███████▋  |get-started/data.xml      27.6M/36.1M [00:16<00:03,    2.59MB/s]\u001b[A\n 77%|███████▋  |get-started/data.xml      28.0M/36.1M [00:17<00:03,    2.64MB/s]\u001b[A\n 79%|███████▊  |get-started/data.xml      28.4M/36.1M [00:17<00:03,    2.66MB/s]\u001b[A\n 80%|███████▉  |get-started/data.xml      28.8M/36.1M [00:17<00:02,    2.69MB/s]\u001b[A\n 81%|████████  |get-started/data.xml      29.1M/36.1M [00:17<00:02,    2.70MB/s]\u001b[A\n 82%|████████▏ |get-started/data.xml      29.5M/36.1M [00:17<00:02,    2.75MB/s]\u001b[A\n 82%|████████▏ |get-started/data.xml      29.8M/36.1M [00:17<00:02,    2.87MB/s]\u001b[A\n 83%|████████▎ |get-started/data.xml      30.1M/36.1M [00:17<00:02,    2.76MB/s]\u001b[A\n 84%|████████▍ |get-started/data.xml      30.4M/36.1M [00:18<00:02,    2.75MB/s]\u001b[A\n 85%|████████▌ |get-started/data.xml      30.8M/36.1M [00:18<00:02,    2.75MB/s]\u001b[A\n 86%|████████▌ |get-started/data.xml      31.1M/36.1M [00:18<00:01,    2.72MB/s]\u001b[A\n 87%|████████▋ |get-started/data.xml      31.4M/36.1M [00:18<00:01,    2.78MB/s]\u001b[A\n 88%|████████▊ |get-started/data.xml      31.8M/36.1M [00:18<00:01,    2.77MB/s]\u001b[A\n 89%|████████▉ |get-started/data.xml      32.1M/36.1M [00:18<00:01,    2.90MB/s]\u001b[A\n 90%|████████▉ |get-started/data.xml      32.4M/36.1M [00:18<00:01,    2.84MB/s]\u001b[A\n 91%|█████████ |get-started/data.xml      32.8M/36.1M [00:18<00:01,    2.83MB/s]\u001b[A\n 91%|█████████▏|get-started/data.xml      33.1M/36.1M [00:19<00:01,    2.80MB/s]\u001b[A\n 92%|█████████▏|get-started/data.xml      33.4M/36.1M [00:19<00:01,    2.78MB/s]\u001b[A\n 93%|█████████▎|get-started/data.xml      33.7M/36.1M [00:19<00:00,    2.89MB/s]\u001b[A\n 94%|█████████▍|get-started/data.xml      34.0M/36.1M [00:19<00:00,    2.80MB/s]\u001b[A\n 95%|█████████▍|get-started/data.xml      34.3M/36.1M [00:19<00:00,    2.82MB/s]\u001b[A\n 96%|█████████▌|get-started/data.xml      34.6M/36.1M [00:19<00:00,    2.79MB/s]\u001b[A\n 97%|█████████▋|get-started/data.xml      34.9M/36.1M [00:19<00:00,    2.76MB/s]\u001b[A\n 98%|█████████▊|get-started/data.xml      35.2M/36.1M [00:19<00:00,    2.83MB/s]\u001b[A\n 98%|█████████▊|get-started/data.xml      35.6M/36.1M [00:19<00:00,    2.83MB/s]\u001b[A\n 99%|█████████▉|get-started/data.xml      35.9M/36.1M [00:20<00:00,    2.84MB/s]\u001b[A\n100% Add|██████████████████████████████████████████████|1/1 [00:00,  1.75file/s]\n\nTo track the changes with git, run:\n\n\tgit add data/data.xml.dvc data/.gitignore\n\u001b[0m"
    }
   ],
   "source": [
    "! dvc get https://github.com/iterative/dataset-registry \\\n",
    "          get-started/data.xml -o data/data.xml\n",
    "! dvc add data/data.xml"
   ]
  },
  {
   "cell_type": "markdown",
   "metadata": {},
   "source": [
    "## Create a pipeline with some steps. i.e.:\n",
    "    *  prepare data\n",
    "    *  turn data into features\n",
    "    *  train models from features\n",
    "    *  evaluate models"
   ]
  },
  {
   "cell_type": "code",
   "execution_count": 32,
   "metadata": {
    "tags": []
   },
   "outputs": [
    {
     "output_type": "stream",
     "name": "stdout",
     "text": "If DVC froze, see `hardlink_lock` in <\u001b[36mhttps://man.dvc.org/config#core\u001b[39m>Running stage 'prepare' with command:\n\tpython src/prepare.py data/data.xml\nCreating 'dvc.yaml'\nAdding stage 'prepare' in 'dvc.yaml'\nGenerating lock file 'dvc.lock'\n\nTo track the changes with git, run:\n\n\tgit add dvc.yaml data/.gitignore dvc.lock\n\u001b[0m"
    }
   ],
   "source": [
    "! dvc run -f -n prepare \\\n",
    "             -p prepare.seed,prepare.split \\\n",
    "             -d src/prepare.py -d data/data.xml \\\n",
    "             -o data/prepared \\\n",
    "             python src/prepare.py data/data.xml"
   ]
  },
  {
   "cell_type": "code",
   "execution_count": 33,
   "metadata": {
    "tags": []
   },
   "outputs": [
    {
     "output_type": "stream",
     "name": "stdout",
     "text": "If DVC froze, see `hardlink_lock` in <\u001b[36mhttps://man.dvc.org/config#core\u001b[39m>Running stage 'featurize' with command:\n\tpython src/featurization.py data/prepared data/features\nThe input data frame data/prepared/train.tsv size is (20017, 3)\nThe output matrix data/features/train.pkl size is (20017, 502) and data type is float64\nThe input data frame data/prepared/test.tsv size is (4983, 3)\nThe output matrix data/features/test.pkl size is (4983, 502) and data type is float64\nAdding stage 'featurize' in 'dvc.yaml'\nUpdating lock file 'dvc.lock'\n\nTo track the changes with git, run:\n\n\tgit add dvc.yaml dvc.lock data/.gitignore\n\u001b[0m"
    }
   ],
   "source": [
    "! dvc run -f -n featurize \\\n",
    "          -p featurize.max_features,featurize.ngrams \\\n",
    "          -d src/featurization.py -d data/prepared \\\n",
    "          -o data/features \\\n",
    "          python src/featurization.py data/prepared data/features"
   ]
  },
  {
   "cell_type": "code",
   "execution_count": 34,
   "metadata": {
    "tags": []
   },
   "outputs": [
    {
     "output_type": "stream",
     "name": "stdout",
     "text": "If DVC froze, see `hardlink_lock` in <\u001b[36mhttps://man.dvc.org/config#core\u001b[39m>Running stage 'train' with command:\n\tpython src/train.py data/features model.pkl\nInput matrix size (20017, 502)\nX matrix size (20017, 500)\nY matrix size (20017,)\nIf DVC froze, see `hardlink_lock` in <\u001b[36mhttps://man.dvc.org/config#core\u001b[39m>Adding stage 'train' in 'dvc.yaml'\nUpdating lock file 'dvc.lock'\n\nTo track the changes with git, run:\n\n\tgit add dvc.lock dvc.yaml\n\u001b[0m"
    }
   ],
   "source": [
    "! dvc run -f -n train \\\n",
    "          -p train.seed,train.n_estimators \\\n",
    "          -d src/train.py -d data/features \\\n",
    "          -o model.pkl \\\n",
    "          python src/train.py data/features model.pkl"
   ]
  },
  {
   "cell_type": "code",
   "execution_count": 35,
   "metadata": {
    "tags": []
   },
   "outputs": [
    {
     "output_type": "stream",
     "name": "stdout",
     "text": "If DVC froze, see `hardlink_lock` in <\u001b[36mhttps://man.dvc.org/config#core\u001b[39m>Running stage 'evaluate' with command:\n\tpython src/evaluate.py model.pkl data/features scores.json prc.json\nIf DVC froze, see `hardlink_lock` in <\u001b[36mhttps://man.dvc.org/config#core\u001b[39m>Adding stage 'evaluate' in 'dvc.yaml'\nUpdating lock file 'dvc.lock'\n\nTo track the changes with git, run:\n\n\tgit add dvc.lock dvc.yaml\n\u001b[0m"
    }
   ],
   "source": [
    "! dvc run -f -n evaluate \\\n",
    "          -d src/evaluate.py -d model.pkl -d data/features \\\n",
    "          -M scores.json \\\n",
    "          --plots-no-cache prc.json \\\n",
    "          python src/evaluate.py model.pkl \\\n",
    "                 data/features scores.json prc.json"
   ]
  },
  {
   "cell_type": "code",
   "execution_count": 36,
   "metadata": {
    "tags": []
   },
   "outputs": [
    {
     "output_type": "stream",
     "name": "stdout",
     "text": "If DVC froze, see `hardlink_lock` in <\u001b[36mhttps://man.dvc.org/config#core\u001b[39m>Stage 'data/data.xml.dvc' didn't change, skipping\nStage 'prepare' didn't change, skipping\nStage 'featurize' didn't change, skipping\nStage 'train' didn't change, skipping\nStage 'evaluate' didn't change, skipping\nData and pipelines are up to date.\n\u001b[0m"
    }
   ],
   "source": [
    "! dvc repro"
   ]
  },
  {
   "cell_type": "code",
   "execution_count": 37,
   "metadata": {
    "tags": []
   },
   "outputs": [
    {
     "output_type": "stream",
     "name": "stdout",
     "text": "Setting 'myremote' as a default remote.\n\u001b[0m[data_pipelines d86de9b] run\n 12 files changed, 646 insertions(+), 410 deletions(-)\n create mode 100644 .dvc/.gitignore\n create mode 100644 .dvc/config\n create mode 100644 .dvc/plots/confusion.json\n create mode 100644 .dvc/plots/default.json\n create mode 100644 .dvc/plots/scatter.json\n create mode 100644 .dvc/plots/smooth.json\n create mode 100644 data/.gitignore\n create mode 100644 data/data.xml.dvc\n create mode 100644 dvc.lock\n create mode 100644 dvc.yaml\n create mode 100644 prc.json\n rewrite test.ipynb (78%)\nEnumerating objects: 11, done.\nCounting objects: 100% (11/11), done.\nDelta compression using up to 8 threads\nCompressing objects: 100% (7/7), done.\nWriting objects: 100% (8/8), 4.42 KiB | 2.21 MiB/s, done.\nTotal 8 (delta 4), reused 0 (delta 0), pack-reused 0\nremote: Resolving deltas: 100% (4/4), completed with 2 local objects.\u001b[K\nTo github.com:NichitaDiaconu/dvc_intro.git\n   39a465d..d86de9b  data_pipelines -> data_pipelines\n"
    }
   ],
   "source": [
    "! dvc remote add -df myremote gs://dvc_intro\n",
    "! git add .\n",
    "! git commit -m 'run'\n",
    "! git push origin data_pipelines"
   ]
  },
  {
   "cell_type": "code",
   "execution_count": 38,
   "metadata": {
    "tags": []
   },
   "outputs": [
    {
     "output_type": "stream",
     "name": "stdout",
     "text": "{\"auc\": 0.5417487597055675}"
    }
   ],
   "source": [
    "! cat scores.json"
   ]
  },
  {
   "cell_type": "code",
   "execution_count": 39,
   "metadata": {
    "tags": []
   },
   "outputs": [
    {
     "output_type": "stream",
     "name": "stdout",
     "text": "0% Uploading|                                      |0/8 [00:00<?,     ?file/s]\n!\u001b[A\n  0%|          |data/prepared/test.tsv         0.00/4.76M [00:00<?,       ?it/s]\u001b[A\n\n  0%|          |data/features/test.pkl         0.00/1.41M [00:00<?,       ?it/s]\u001b[A\u001b[A\n\n\n  0%|          |data/features/train.pkl        0.00/5.67M [00:00<?,       ?it/s]\u001b[A\u001b[A\u001b[A\n\n\n\n  0%|          |data/prepared/train.tsv        0.00/19.1M [00:00<?,       ?it/s]\u001b[A\u001b[A\u001b[A\u001b[A\n\n\n\n\n  0%|          |model.pkl                      0.00/2.66M [00:00<?,       ?it/s]\u001b[A\u001b[A\u001b[A\u001b[A\u001b[A\n\n\n\n\n\n!\u001b[A\u001b[A\u001b[A\u001b[A\u001b[A\u001b[A\n\n\n\n\n\n  0%|          |data/data.xml                  0.00/37.9M [00:00<?,       ?it/s]\u001b[A\u001b[A\u001b[A\u001b[A\u001b[A\u001b[A\n\n100%|██████████|data/features/test.pkl    1.35M/1.35M [00:00<00:00,    5.77MB/s]\u001b[A\u001b[A\n100%|██████████|data/prepared/test.tsv    4.54M/4.54M [00:00<00:00,    17.7MB/s]\u001b[A\n\n\n100%|██████████|data/features/train.pkl   5.41M/5.41M [00:00<00:00,    16.5MB/s]\u001b[A\u001b[A\u001b[A\n\n\n\n\n\n 28%|██▊       |data/data.xml             10.0M/36.1M [00:00<00:00,    30.7MB/s]\u001b[A\u001b[A\u001b[A\u001b[A\u001b[A\u001b[A\n\n\n\n\n100%|██████████|model.pkl                 2.54M/2.54M [00:00<00:00,    7.14MB/s]\u001b[A\u001b[A\u001b[A\u001b[A\u001b[A\n\n\n\n 55%|█████▍    |data/prepared/train.tsv   10.0M/18.2M [00:00<00:00,    27.3MB/s]\u001b[A\u001b[A\u001b[A\u001b[A\n\n 12% Uploading|████▎                             |1/8 [00:01<00:10,  1.47s/file]\n\n\n\n\n 25% Uploading|████████▌                         |2/8 [00:02<00:08,  1.34s/file]\n\n\n 38% Uploading|████████████▊                     |3/8 [00:03<00:06,  1.35s/file]\n\n!\u001b[A\u001b[A\n\n  0%|          |data/features                       0/137 [00:00<?,       ?it/s]\u001b[A\u001b[A\n\n100%|██████████|data/features                 137/137 [00:00<00:00,      553B/s]\u001b[A\u001b[A\n 50% Uploading|█████████████████                 |4/8 [00:04<00:04,  1.04s/file]\n\n 62% Uploading|█████████████████████▎            |5/8 [00:04<00:02,  1.19file/s]\n\n\n\n100%|██████████|data/prepared/train.tsv   18.2M/18.2M [00:04<00:00,    5.42MB/s]\u001b[A\u001b[A\u001b[A\u001b[A\n\n\n\n\n\n 55%|█████▌    |data/data.xml             20.0M/36.1M [00:05<00:02,    6.30MB/s]\u001b[A\u001b[A\u001b[A\u001b[A\u001b[A\u001b[A\n\n\n\n 75% Uploading|█████████████████████████▌        |6/8 [00:07<00:03,  1.53s/file]\n!\u001b[A\n  0%|          |data/prepared                       0/137 [00:00<?,       ?it/s]\u001b[A\n100%|██████████|data/prepared                 137/137 [00:00<00:00,      570B/s]\u001b[A\n 88% Uploading|█████████████████████████████▊    |7/8 [00:08<00:01,  1.27s/file]\n\n\n\n\n\n 83%|████████▎ |data/data.xml             30.0M/36.1M [00:08<00:01,    4.89MB/s]\u001b[A\u001b[A\u001b[A\u001b[A\u001b[A\u001b[A\n\n\n\n\n\n100%|██████████|data/data.xml             36.1M/36.1M [00:10<00:00,    4.46MB/s]\u001b[A\u001b[A\u001b[A\u001b[A\u001b[A\u001b[A\n\n\n\n\n\n100% Uploading|██████████████████████████████████|8/8 [00:11<00:00,  1.84s/file]8 files pushed\n\u001b[0m"
    }
   ],
   "source": [
    "! dvc push"
   ]
  },
  {
   "cell_type": "code",
   "execution_count": 40,
   "metadata": {
    "tags": []
   },
   "outputs": [
    {
     "output_type": "stream",
     "name": "stdout",
     "text": "\u001b7\u001b[?47h\u001b[?1h\u001b=\n\n\n\n\n\n\n\n\n\n\n\n\n\n\n\n\n\n\n\n\n\n\n\u001b[H\u001b[2J\u001b[H\u001b[H\u001b[2J\u001b[H    +-------------------+  \n    | data/data.xml.dvc |  \n    +-------------------+  \n              *            \n              *            \n              *            \n         +---------+       \n         | prepare |       \n         +---------+       \n              *            \n              *            \n              *            \n        +-----------+      \n        | featurize |      \n        +-----------+      \n         **        **      \n       **            *     \n      *               **   \n+-------+               *  \n| train |             **   \n+-------+            *     \n         **        **      \n           **    **        \n\u001b[7m/tmp/tmp4xhglgkp\u001b[m\u001b[K"
    }
   ],
   "source": [
    "! dvc dag"
   ]
  },
  {
   "cell_type": "code",
   "execution_count": 42,
   "metadata": {},
   "outputs": [],
   "source": [
    "! rm -rf data/features\n",
    "! rm -rf data/prepared\n",
    "! rm -rf data/data.xml\n",
    "! rm -rf model.pkl\n",
    "! rm -rf .dvc/cache\n",
    "! rm -rf .dvc/tmp"
   ]
  },
  {
   "cell_type": "code",
   "execution_count": null,
   "metadata": {},
   "outputs": [],
   "source": []
  },
  {
   "cell_type": "markdown",
   "metadata": {},
   "source": [
    "### We can have as many pipeline steps that we want\n",
    "### Each can be computed sequentially on separate machines and what not"
   ]
  },
  {
   "cell_type": "code",
   "execution_count": null,
   "metadata": {},
   "outputs": [],
   "source": []
  }
 ]
}