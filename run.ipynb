{
 "metadata": {
  "language_info": {
   "codemirror_mode": {
    "name": "ipython",
    "version": 3
   },
   "file_extension": ".py",
   "mimetype": "text/x-python",
   "name": "python",
   "nbconvert_exporter": "python",
   "pygments_lexer": "ipython3",
   "version": "3.8.1-final"
  },
  "orig_nbformat": 2,
  "kernelspec": {
   "name": "python_defaultSpec_1596726560165",
   "display_name": "Python 3.8.1 64-bit ('dvc_intro': pipenv)"
  }
 },
 "nbformat": 4,
 "nbformat_minor": 2,
 "cells": [
  {
   "cell_type": "code",
   "execution_count": 43,
   "metadata": {
    "tags": []
   },
   "outputs": [
    {
     "output_type": "stream",
     "name": "stdout",
     "text": "\nYou can now commit the changes to git.\n\n\u001b[31m+---------------------------------------------------------------------+\n\u001b[39m\u001b[31m|\u001b[39m                                                                     \u001b[31m|\u001b[39m\n\u001b[31m|\u001b[39m        DVC has enabled anonymous aggregate usage analytics.         \u001b[31m|\u001b[39m\n\u001b[31m|\u001b[39m     Read the analytics documentation (and how to opt-out) here:     \u001b[31m|\u001b[39m\n\u001b[31m|\u001b[39m              \u001b[34mhttps://dvc.org/doc/user-guide/analytics\u001b[39m               \u001b[31m|\u001b[39m\n\u001b[31m|\u001b[39m                                                                     \u001b[31m|\u001b[39m\n\u001b[31m+---------------------------------------------------------------------+\n\u001b[39m\n\u001b[33mWhat's next?\u001b[39m\n\u001b[33m------------\u001b[39m\n- Check out the documentation: \u001b[34mhttps://dvc.org/doc\u001b[39m\n- Get help and share ideas: \u001b[34mhttps://dvc.org/chat\u001b[39m\n- Star us on GitHub: \u001b[34mhttps://github.com/iterative/dvc\u001b[39m\n\u001b[0m"
    }
   ],
   "source": [
    "! dvc init"
   ]
  },
  {
   "cell_type": "markdown",
   "metadata": {},
   "source": [
    "## Load data"
   ]
  },
  {
   "cell_type": "code",
   "execution_count": 44,
   "metadata": {
    "tags": []
   },
   "outputs": [
    {
     "output_type": "stream",
     "name": "stdout",
     "text": "The dotenv extension is already loaded. To reload it, use:\n  %reload_ext dotenv\n"
    }
   ],
   "source": [
    "%load_ext dotenv\n",
    "%dotenv"
   ]
  },
  {
   "cell_type": "code",
   "execution_count": 45,
   "metadata": {
    "tags": []
   },
   "outputs": [
    {
     "output_type": "stream",
     "name": "stdout",
     "text": "0% Downloading|                                    |0/1 [00:00<?,     ?file/s]\n!\u001b[A\n  0%|          |get-started/data.xml           0.00/37.9M [00:00<?,       ?it/s]\u001b[A\n  0%|          |get-started/data.xml      64.0k/36.1M [00:00<02:49,     223kB/s]\u001b[A\n  0%|          |get-started/data.xml       128k/36.1M [00:00<02:23,     263kB/s]\u001b[A\n  1%|          |get-started/data.xml       256k/36.1M [00:00<02:04,     301kB/s]\u001b[A\n  2%|▏         |get-started/data.xml       576k/36.1M [00:00<01:32,     405kB/s]\u001b[A\n  2%|▏         |get-started/data.xml       704k/36.1M [00:01<01:18,     476kB/s]\u001b[A\n  2%|▏         |get-started/data.xml       896k/36.1M [00:01<01:01,     597kB/s]\u001b[A\n  3%|▎         |get-started/data.xml      1.00M/36.1M [00:01<00:55,     662kB/s]\u001b[A\n  3%|▎         |get-started/data.xml      1.12M/36.1M [00:01<00:50,     725kB/s]\u001b[A\n  3%|▎         |get-started/data.xml      1.25M/36.1M [00:01<00:47,     767kB/s]\u001b[A\n  4%|▍         |get-started/data.xml      1.38M/36.1M [00:01<00:45,     809kB/s]\u001b[A\n  4%|▍         |get-started/data.xml      1.50M/36.1M [00:01<00:43,     833kB/s]\u001b[A\n  4%|▍         |get-started/data.xml      1.62M/36.1M [00:02<00:41,     873kB/s]\u001b[A\n  5%|▌         |get-started/data.xml      1.81M/36.1M [00:02<00:38,     938kB/s]\u001b[A\n  5%|▌         |get-started/data.xml      1.94M/36.1M [00:02<00:37,     949kB/s]\u001b[A\n  6%|▌         |get-started/data.xml      2.06M/36.1M [00:02<00:38,     936kB/s]\u001b[A\n  6%|▌         |get-started/data.xml      2.19M/36.1M [00:02<00:37,     958kB/s]\u001b[A\n  7%|▋         |get-started/data.xml      2.38M/36.1M [00:02<00:35,    1.01MB/s]\u001b[A\n  7%|▋         |get-started/data.xml      2.50M/36.1M [00:02<00:35,     999kB/s]\u001b[A\n  7%|▋         |get-started/data.xml      2.62M/36.1M [00:03<00:35,     988kB/s]\u001b[A\n  8%|▊         |get-started/data.xml      2.81M/36.1M [00:03<00:33,    1.04MB/s]\u001b[A\n  8%|▊         |get-started/data.xml      2.94M/36.1M [00:03<00:34,    1.02MB/s]\u001b[A\n  8%|▊         |get-started/data.xml      3.06M/36.1M [00:03<00:34,    1.02MB/s]\u001b[A\n  9%|▉         |get-started/data.xml      3.25M/36.1M [00:03<00:32,    1.06MB/s]\u001b[A\n  9%|▉         |get-started/data.xml      3.38M/36.1M [00:03<00:33,    1.02MB/s]\u001b[A\n 10%|▉         |get-started/data.xml      3.56M/36.1M [00:03<00:31,    1.07MB/s]\u001b[A\n 10%|█         |get-started/data.xml      3.69M/36.1M [00:04<00:32,    1.04MB/s]\u001b[A\n 11%|█         |get-started/data.xml      3.81M/36.1M [00:04<00:33,    1.01MB/s]\u001b[A\n 11%|█         |get-started/data.xml      3.94M/36.1M [00:04<00:31,    1.07MB/s]\u001b[A\n 11%|█▏        |get-started/data.xml      4.12M/36.1M [00:04<00:31,    1.05MB/s]\u001b[A\n 12%|█▏        |get-started/data.xml      4.25M/36.1M [00:04<00:32,    1.02MB/s]\u001b[A\n 12%|█▏        |get-started/data.xml      4.44M/36.1M [00:04<00:30,    1.08MB/s]\u001b[A\n 13%|█▎        |get-started/data.xml      4.56M/36.1M [00:04<00:31,    1.05MB/s]\u001b[A\n 13%|█▎        |get-started/data.xml      4.69M/36.1M [00:05<00:31,    1.05MB/s]\u001b[A\n 13%|█▎        |get-started/data.xml      4.88M/36.1M [00:05<00:30,    1.06MB/s]\u001b[A\n 14%|█▍        |get-started/data.xml      5.00M/36.1M [00:05<00:31,    1.03MB/s]\u001b[A\n 14%|█▍        |get-started/data.xml      5.19M/36.1M [00:05<00:30,    1.08MB/s]\u001b[A\n 15%|█▍        |get-started/data.xml      5.31M/36.1M [00:05<00:31,    1.02MB/s]\u001b[A\n 15%|█▌        |get-started/data.xml      5.44M/36.1M [00:05<00:31,    1.04MB/s]\u001b[A\n 15%|█▌        |get-started/data.xml      5.56M/36.1M [00:05<00:29,    1.09MB/s]\u001b[A\n 16%|█▌        |get-started/data.xml      5.75M/36.1M [00:06<00:30,    1.06MB/s]\u001b[A\n 16%|█▋        |get-started/data.xml      5.94M/36.1M [00:06<00:28,    1.10MB/s]\u001b[A\n 17%|█▋        |get-started/data.xml      6.06M/36.1M [00:06<00:30,    1.04MB/s]\u001b[A\n 17%|█▋        |get-started/data.xml      6.19M/36.1M [00:06<00:29,    1.06MB/s]\u001b[A\n 17%|█▋        |get-started/data.xml      6.31M/36.1M [00:06<00:28,    1.10MB/s]\u001b[A\n 18%|█▊        |get-started/data.xml      6.50M/36.1M [00:06<00:28,    1.08MB/s]\u001b[A\n 18%|█▊        |get-started/data.xml      6.62M/36.1M [00:06<00:28,    1.07MB/s]\u001b[A\n 19%|█▉        |get-started/data.xml      6.81M/36.1M [00:07<00:28,    1.09MB/s]\u001b[A\n 19%|█▉        |get-started/data.xml      7.00M/36.1M [00:07<00:27,    1.12MB/s]\u001b[A\n 20%|█▉        |get-started/data.xml      7.12M/36.1M [00:07<00:27,    1.09MB/s]\u001b[A\n 20%|██        |get-started/data.xml      7.31M/36.1M [00:07<00:26,    1.12MB/s]\u001b[A\n 21%|██        |get-started/data.xml      7.44M/36.1M [00:07<00:27,    1.10MB/s]\u001b[A\n 21%|██        |get-started/data.xml      7.62M/36.1M [00:07<00:26,    1.13MB/s]\u001b[A\n 22%|██▏       |get-started/data.xml      7.81M/36.1M [00:08<00:25,    1.17MB/s]\u001b[A\n 22%|██▏       |get-started/data.xml      7.94M/36.1M [00:08<00:26,    1.12MB/s]\u001b[A\n 22%|██▏       |get-started/data.xml      8.12M/36.1M [00:08<00:24,    1.18MB/s]\u001b[A\n 23%|██▎       |get-started/data.xml      8.31M/36.1M [00:08<00:24,    1.20MB/s]\u001b[A\n 23%|██▎       |get-started/data.xml      8.44M/36.1M [00:08<00:24,    1.19MB/s]\u001b[A\n 24%|██▍       |get-started/data.xml      8.62M/36.1M [00:08<00:23,    1.23MB/s]\u001b[A\n 24%|██▍       |get-started/data.xml      8.81M/36.1M [00:08<00:22,    1.27MB/s]\u001b[A\n 25%|██▍       |get-started/data.xml      9.00M/36.1M [00:09<00:22,    1.25MB/s]\u001b[A\n 25%|██▌       |get-started/data.xml      9.19M/36.1M [00:09<00:21,    1.30MB/s]\u001b[A\n 26%|██▌       |get-started/data.xml      9.38M/36.1M [00:09<00:20,    1.37MB/s]\u001b[A\n 26%|██▋       |get-started/data.xml      9.56M/36.1M [00:09<00:20,    1.36MB/s]\u001b[A\n 27%|██▋       |get-started/data.xml      9.81M/36.1M [00:09<00:19,    1.39MB/s]\u001b[A\n 28%|██▊       |get-started/data.xml      10.0M/36.1M [00:09<00:19,    1.42MB/s]\u001b[A\n 28%|██▊       |get-started/data.xml      10.2M/36.1M [00:09<00:18,    1.48MB/s]\u001b[A\n 29%|██▉       |get-started/data.xml      10.4M/36.1M [00:10<00:17,    1.55MB/s]\u001b[A\n 30%|██▉       |get-started/data.xml      10.7M/36.1M [00:10<00:17,    1.56MB/s]\u001b[A\n 30%|███       |get-started/data.xml      10.9M/36.1M [00:10<00:15,    1.66MB/s]\u001b[A\n 31%|███       |get-started/data.xml      11.1M/36.1M [00:10<00:15,    1.70MB/s]\u001b[A\n 31%|███▏      |get-started/data.xml      11.4M/36.1M [00:10<00:15,    1.73MB/s]\u001b[A\n 32%|███▏      |get-started/data.xml      11.6M/36.1M [00:10<00:13,    1.84MB/s]\u001b[A\n 33%|███▎      |get-started/data.xml      11.8M/36.1M [00:10<00:14,    1.78MB/s]\u001b[A\n 33%|███▎      |get-started/data.xml      12.0M/36.1M [00:10<00:14,    1.76MB/s]\u001b[A\n 34%|███▍      |get-started/data.xml      12.2M/36.1M [00:11<00:13,    1.84MB/s]\u001b[A\n 35%|███▍      |get-started/data.xml      12.5M/36.1M [00:11<00:12,    2.00MB/s]\u001b[A\n 35%|███▌      |get-started/data.xml      12.8M/36.1M [00:11<00:11,    2.07MB/s]\u001b[A\n 36%|███▌      |get-started/data.xml      13.0M/36.1M [00:11<00:11,    2.06MB/s]\u001b[A\n 37%|███▋      |get-started/data.xml      13.2M/36.1M [00:11<00:11,    2.02MB/s]\u001b[A\n 37%|███▋      |get-started/data.xml      13.5M/36.1M [00:11<00:13,    1.79MB/s]\u001b[A\n 38%|███▊      |get-started/data.xml      13.8M/36.1M [00:11<00:11,    2.06MB/s]\u001b[A\n 39%|███▉      |get-started/data.xml      14.1M/36.1M [00:12<00:11,    1.95MB/s]\u001b[A\n 40%|███▉      |get-started/data.xml      14.3M/36.1M [00:12<00:12,    1.89MB/s]\u001b[A\n 40%|████      |get-started/data.xml      14.6M/36.1M [00:12<00:12,    1.87MB/s]\u001b[A\n 41%|████      |get-started/data.xml      14.8M/36.1M [00:12<00:12,    1.84MB/s]\u001b[A\n 42%|████▏     |get-started/data.xml      15.0M/36.1M [00:12<00:12,    1.83MB/s]\u001b[A\n 42%|████▏     |get-started/data.xml      15.2M/36.1M [00:12<00:11,    1.87MB/s]\u001b[A\n 43%|████▎     |get-started/data.xml      15.5M/36.1M [00:12<00:11,    1.94MB/s]\u001b[A\n 44%|████▎     |get-started/data.xml      15.8M/36.1M [00:12<00:10,    1.98MB/s]\u001b[A\n 44%|████▍     |get-started/data.xml      16.0M/36.1M [00:13<00:10,    1.97MB/s]\u001b[A\n 45%|████▍     |get-started/data.xml      16.2M/36.1M [00:13<00:10,    1.94MB/s]\u001b[A\n 46%|████▌     |get-started/data.xml      16.5M/36.1M [00:13<00:10,    2.03MB/s]\u001b[A\n 46%|████▋     |get-started/data.xml      16.8M/36.1M [00:13<00:10,    2.03MB/s]\u001b[A\n 47%|████▋     |get-started/data.xml      17.0M/36.1M [00:13<00:10,    1.98MB/s]\u001b[A\n 48%|████▊     |get-started/data.xml      17.3M/36.1M [00:13<00:09,    2.06MB/s]\u001b[A\n 49%|████▉     |get-started/data.xml      17.6M/36.1M [00:13<00:09,    2.10MB/s]\u001b[A\n 49%|████▉     |get-started/data.xml      17.9M/36.1M [00:13<00:08,    2.19MB/s]\u001b[A\n 50%|█████     |get-started/data.xml      18.1M/36.1M [00:14<00:08,    2.24MB/s]\u001b[A\n 51%|█████     |get-started/data.xml      18.4M/36.1M [00:14<00:08,    2.17MB/s]\u001b[A\n 52%|█████▏    |get-started/data.xml      18.6M/36.1M [00:14<00:08,    2.22MB/s]\u001b[A\n 52%|█████▏    |get-started/data.xml      18.9M/36.1M [00:14<00:08,    2.19MB/s]\u001b[A\n 53%|█████▎    |get-started/data.xml      19.1M/36.1M [00:14<00:08,    2.22MB/s]\u001b[A\n 54%|█████▎    |get-started/data.xml      19.4M/36.1M [00:14<00:07,    2.27MB/s]\u001b[A\n 54%|█████▍    |get-started/data.xml      19.6M/36.1M [00:14<00:07,    2.21MB/s]\u001b[A\n 55%|█████▍    |get-started/data.xml      19.9M/36.1M [00:14<00:07,    2.27MB/s]\u001b[A\n 56%|█████▌    |get-started/data.xml      20.1M/36.1M [00:15<00:07,    2.23MB/s]\u001b[A\n 57%|█████▋    |get-started/data.xml      20.4M/36.1M [00:15<00:07,    2.26MB/s]\u001b[A\n 57%|█████▋    |get-started/data.xml      20.8M/36.1M [00:15<00:06,    2.38MB/s]\u001b[A\n 58%|█████▊    |get-started/data.xml      21.0M/36.1M [00:15<00:06,    2.37MB/s]\u001b[A\n 59%|█████▉    |get-started/data.xml      21.2M/36.1M [00:15<00:06,    2.26MB/s]\u001b[A\n 59%|█████▉    |get-started/data.xml      21.5M/36.1M [00:15<00:06,    2.32MB/s]\u001b[A\n 60%|██████    |get-started/data.xml      21.8M/36.1M [00:15<00:06,    2.31MB/s]\u001b[A\n 61%|██████    |get-started/data.xml      22.1M/36.1M [00:15<00:06,    2.42MB/s]\u001b[A\n 62%|██████▏   |get-started/data.xml      22.3M/36.1M [00:16<00:06,    2.35MB/s]\u001b[A\n 62%|██████▏   |get-started/data.xml      22.6M/36.1M [00:16<00:06,    2.30MB/s]\u001b[A\n 63%|██████▎   |get-started/data.xml      22.8M/36.1M [00:16<00:06,    2.33MB/s]\u001b[A\n 64%|██████▍   |get-started/data.xml      23.1M/36.1M [00:16<00:05,    2.32MB/s]\u001b[A\n 65%|██████▍   |get-started/data.xml      23.4M/36.1M [00:16<00:05,    2.32MB/s]\u001b[A\n 65%|██████▌   |get-started/data.xml      23.6M/36.1M [00:16<00:05,    2.39MB/s]\u001b[A\n 66%|██████▌   |get-started/data.xml      23.9M/36.1M [00:16<00:05,    2.36MB/s]\u001b[A\n 67%|██████▋   |get-started/data.xml      24.1M/36.1M [00:16<00:05,    2.38MB/s]\u001b[A\n 67%|██████▋   |get-started/data.xml      24.4M/36.1M [00:16<00:05,    2.35MB/s]\u001b[A\n 68%|██████▊   |get-started/data.xml      24.6M/36.1M [00:17<00:05,    2.39MB/s]\u001b[A\n 69%|██████▉   |get-started/data.xml      24.9M/36.1M [00:17<00:04,    2.39MB/s]\u001b[A\n 70%|██████▉   |get-started/data.xml      25.1M/36.1M [00:17<00:04,    2.41MB/s]\u001b[A\n 70%|███████   |get-started/data.xml      25.4M/36.1M [00:17<00:04,    2.36MB/s]\u001b[A\n 71%|███████   |get-started/data.xml      25.6M/36.1M [00:17<00:04,    2.40MB/s]\u001b[A\n 72%|███████▏  |get-started/data.xml      25.9M/36.1M [00:17<00:04,    2.39MB/s]\u001b[A\n 72%|███████▏  |get-started/data.xml      26.1M/36.1M [00:17<00:04,    2.41MB/s]\u001b[A\n 73%|███████▎  |get-started/data.xml      26.4M/36.1M [00:17<00:04,    2.36MB/s]\u001b[A\n 74%|███████▎  |get-started/data.xml      26.6M/36.1M [00:17<00:04,    2.40MB/s]\u001b[A\n 74%|███████▍  |get-started/data.xml      26.9M/36.1M [00:18<00:04,    2.39MB/s]\u001b[A\n 75%|███████▌  |get-started/data.xml      27.1M/36.1M [00:18<00:03,    2.38MB/s]\u001b[A\n 76%|███████▌  |get-started/data.xml      27.4M/36.1M [00:18<00:03,    2.37MB/s]\u001b[A\n 76%|███████▋  |get-started/data.xml      27.6M/36.1M [00:18<00:03,    2.39MB/s]\u001b[A\n 77%|███████▋  |get-started/data.xml      27.9M/36.1M [00:18<00:03,    2.31MB/s]\u001b[A\n 78%|███████▊  |get-started/data.xml      28.1M/36.1M [00:18<00:03,    2.37MB/s]\u001b[A\n 79%|███████▊  |get-started/data.xml      28.4M/36.1M [00:18<00:03,    2.33MB/s]\u001b[A\n 79%|███████▉  |get-started/data.xml      28.7M/36.1M [00:18<00:03,    2.36MB/s]\u001b[A\n 80%|████████  |get-started/data.xml      28.9M/36.1M [00:18<00:03,    2.41MB/s]\u001b[A\n 81%|████████  |get-started/data.xml      29.2M/36.1M [00:19<00:03,    2.38MB/s]\u001b[A\n 81%|████████▏ |get-started/data.xml      29.4M/36.1M [00:19<00:02,    2.41MB/s]\u001b[A\n 82%|████████▏ |get-started/data.xml      29.7M/36.1M [00:19<00:02,    2.38MB/s]\u001b[A\n 83%|████████▎ |get-started/data.xml      29.9M/36.1M [00:19<00:02,    2.44MB/s]\u001b[A\n 84%|████████▎ |get-started/data.xml      30.2M/36.1M [00:19<00:02,    2.37MB/s]\u001b[A\n 84%|████████▍ |get-started/data.xml      30.4M/36.1M [00:19<00:02,    2.40MB/s]\u001b[A\n 85%|████████▍ |get-started/data.xml      30.7M/36.1M [00:19<00:02,    2.41MB/s]\u001b[A\n 86%|████████▌ |get-started/data.xml      30.9M/36.1M [00:19<00:02,    2.44MB/s]\u001b[A\n 86%|████████▋ |get-started/data.xml      31.2M/36.1M [00:19<00:02,    2.39MB/s]\u001b[A\n 87%|████████▋ |get-started/data.xml      31.4M/36.1M [00:20<00:02,    2.41MB/s]\u001b[A\n 88%|████████▊ |get-started/data.xml      31.8M/36.1M [00:20<00:01,    2.38MB/s]\u001b[A\n 89%|████████▊ |get-started/data.xml      32.1M/36.1M [00:20<00:01,    2.47MB/s]\u001b[A\n 89%|████████▉ |get-started/data.xml      32.3M/36.1M [00:20<00:01,    2.47MB/s]\u001b[A\n 90%|█████████ |get-started/data.xml      32.6M/36.1M [00:20<00:01,    2.42MB/s]\u001b[A\n 91%|█████████ |get-started/data.xml      32.8M/36.1M [00:20<00:01,    2.45MB/s]\u001b[A\n 92%|█████████▏|get-started/data.xml      33.1M/36.1M [00:20<00:01,    2.42MB/s]\u001b[A\n 93%|█████████▎|get-started/data.xml      33.4M/36.1M [00:20<00:01,    2.54MB/s]\u001b[A\n 93%|█████████▎|get-started/data.xml      33.7M/36.1M [00:20<00:01,    2.49MB/s]\u001b[A\n 94%|█████████▍|get-started/data.xml      33.9M/36.1M [00:21<00:00,    2.53MB/s]\u001b[A\n 95%|█████████▍|get-started/data.xml      34.2M/36.1M [00:21<00:00,    2.46MB/s]\u001b[A\n 95%|█████████▌|get-started/data.xml      34.5M/36.1M [00:21<00:00,    2.59MB/s]\u001b[A\n 96%|█████████▌|get-started/data.xml      34.8M/36.1M [00:21<00:00,    2.56MB/s]\u001b[A\n 97%|█████████▋|get-started/data.xml      35.1M/36.1M [00:21<00:00,    2.55MB/s]\u001b[A\n 98%|█████████▊|get-started/data.xml      35.3M/36.1M [00:21<00:00,    2.54MB/s]\u001b[A\n 99%|█████████▊|get-started/data.xml      35.6M/36.1M [00:21<00:00,    2.72MB/s]\u001b[A\n 99%|█████████▉|get-started/data.xml      35.9M/36.1M [00:21<00:00,    2.69MB/s]\u001b[A\n100% Add|██████████████████████████████████████████████|1/1 [00:00,  1.36file/s]\n\nTo track the changes with git, run:\n\n\tgit add data/data.xml.dvc data/.gitignore\n\u001b[0m"
    }
   ],
   "source": [
    "! dvc get https://github.com/iterative/dataset-registry \\\n",
    "          get-started/data.xml -o data/data.xml\n",
    "! dvc add data/data.xml"
   ]
  },
  {
   "cell_type": "markdown",
   "metadata": {},
   "source": [
    "## Create a pipeline with some steps. i.e.:\n",
    "    *  prepare data\n",
    "    *  turn data into features\n",
    "    *  train models from features\n",
    "    *  evaluate models"
   ]
  },
  {
   "cell_type": "code",
   "execution_count": 46,
   "metadata": {
    "tags": []
   },
   "outputs": [
    {
     "output_type": "stream",
     "name": "stdout",
     "text": "If DVC froze, see `hardlink_lock` in <\u001b[36mhttps://man.dvc.org/config#core\u001b[39m>Running stage 'prepare' with command:\n\tpython src/prepare.py data/data.xml\nCreating 'dvc.yaml'\nAdding stage 'prepare' in 'dvc.yaml'\nGenerating lock file 'dvc.lock'\n\nTo track the changes with git, run:\n\n\tgit add data/.gitignore dvc.yaml dvc.lock\n\u001b[0m"
    }
   ],
   "source": [
    "! dvc run -f -n prepare \\\n",
    "             -p prepare.seed,prepare.split \\\n",
    "             -d src/prepare.py -d data/data.xml \\\n",
    "             -o data/prepared \\\n",
    "             python src/prepare.py data/data.xml"
   ]
  },
  {
   "cell_type": "code",
   "execution_count": 47,
   "metadata": {
    "tags": []
   },
   "outputs": [
    {
     "output_type": "stream",
     "name": "stdout",
     "text": "If DVC froze, see `hardlink_lock` in <\u001b[36mhttps://man.dvc.org/config#core\u001b[39m>Running stage 'featurize' with command:\n\tpython src/featurization.py data/prepared data/features\nThe input data frame data/prepared/train.tsv size is (20017, 3)\nThe output matrix data/features/train.pkl size is (20017, 502) and data type is float64\nThe input data frame data/prepared/test.tsv size is (4983, 3)\nThe output matrix data/features/test.pkl size is (4983, 502) and data type is float64\nAdding stage 'featurize' in 'dvc.yaml'\nUpdating lock file 'dvc.lock'\n\nTo track the changes with git, run:\n\n\tgit add dvc.lock data/.gitignore dvc.yaml\n\u001b[0m"
    }
   ],
   "source": [
    "! dvc run -f -n featurize \\\n",
    "          -p featurize.max_features,featurize.ngrams \\\n",
    "          -d src/featurization.py -d data/prepared \\\n",
    "          -o data/features \\\n",
    "          python src/featurization.py data/prepared data/features"
   ]
  },
  {
   "cell_type": "code",
   "execution_count": 48,
   "metadata": {
    "tags": []
   },
   "outputs": [
    {
     "output_type": "stream",
     "name": "stdout",
     "text": "If DVC froze, see `hardlink_lock` in <\u001b[36mhttps://man.dvc.org/config#core\u001b[39m>Running stage 'train' with command:\n\tpython src/train.py data/features model.pkl\nInput matrix size (20017, 502)\nX matrix size (20017, 500)\nY matrix size (20017,)\nIf DVC froze, see `hardlink_lock` in <\u001b[36mhttps://man.dvc.org/config#core\u001b[39m>Adding stage 'train' in 'dvc.yaml'\nUpdating lock file 'dvc.lock'\n\nTo track the changes with git, run:\n\n\tgit add dvc.yaml dvc.lock\n\u001b[0m"
    }
   ],
   "source": [
    "! dvc run -f -n train \\\n",
    "          -p train.seed,train.n_estimators \\\n",
    "          -d src/train.py -d data/features \\\n",
    "          -o model.pkl \\\n",
    "          python src/train.py data/features model.pkl"
   ]
  },
  {
   "cell_type": "code",
   "execution_count": 49,
   "metadata": {
    "tags": []
   },
   "outputs": [
    {
     "output_type": "stream",
     "name": "stdout",
     "text": "If DVC froze, see `hardlink_lock` in <\u001b[36mhttps://man.dvc.org/config#core\u001b[39m>Running stage 'evaluate' with command:\n\tpython src/evaluate.py model.pkl data/features scores.json prc.json\nIf DVC froze, see `hardlink_lock` in <\u001b[36mhttps://man.dvc.org/config#core\u001b[39m>Adding stage 'evaluate' in 'dvc.yaml'\nUpdating lock file 'dvc.lock'\n\nTo track the changes with git, run:\n\n\tgit add dvc.yaml dvc.lock\n\u001b[0m"
    }
   ],
   "source": [
    "! dvc run -f -n evaluate \\\n",
    "          -d src/evaluate.py -d model.pkl -d data/features \\\n",
    "          -M scores.json \\\n",
    "          --plots-no-cache prc.json \\\n",
    "          python src/evaluate.py model.pkl \\\n",
    "                 data/features scores.json prc.json"
   ]
  },
  {
   "cell_type": "code",
   "execution_count": 50,
   "metadata": {
    "tags": []
   },
   "outputs": [
    {
     "output_type": "stream",
     "name": "stdout",
     "text": "If DVC froze, see `hardlink_lock` in <\u001b[36mhttps://man.dvc.org/config#core\u001b[39m>Stage 'data/data.xml.dvc' didn't change, skipping\nStage 'prepare' didn't change, skipping\nStage 'featurize' didn't change, skipping\nStage 'train' didn't change, skipping\nStage 'evaluate' didn't change, skipping\nData and pipelines are up to date.\n\u001b[0m"
    }
   ],
   "source": [
    "! dvc repro"
   ]
  },
  {
   "cell_type": "code",
   "execution_count": 51,
   "metadata": {
    "tags": []
   },
   "outputs": [
    {
     "output_type": "stream",
     "name": "stdout",
     "text": "Setting 'myremote' as a default remote.\n\u001b[0m[data_pipelines 70bd6eb] run\n 12 files changed, 653 insertions(+), 408 deletions(-)\n create mode 100644 .dvc/.gitignore\n create mode 100644 .dvc/config\n create mode 100644 .dvc/plots/confusion.json\n create mode 100644 .dvc/plots/default.json\n create mode 100644 .dvc/plots/scatter.json\n create mode 100644 .dvc/plots/smooth.json\n create mode 100644 data/.gitignore\n create mode 100644 data/data.xml.dvc\n create mode 100644 dvc.lock\n create mode 100644 dvc.yaml\n create mode 100644 prc.json\n rewrite test.ipynb (76%)\nEnumerating objects: 13, done.\nCounting objects: 100% (13/13), done.\nDelta compression using up to 8 threads\nCompressing objects: 100% (8/8), done.\nWriting objects: 100% (9/9), 7.33 KiB | 2.44 MiB/s, done.\nTotal 9 (delta 5), reused 0 (delta 0), pack-reused 0\nremote: Resolving deltas: 100% (5/5), completed with 3 local objects.\u001b[K\nTo github.com:NichitaDiaconu/dvc_intro.git\n   d86de9b..70bd6eb  data_pipelines -> data_pipelines\n"
    }
   ],
   "source": [
    "! dvc remote add -df myremote gs://dvc_intro\n",
    "! git add .\n",
    "! git commit -m 'run'\n",
    "! git push origin data_pipelines"
   ]
  },
  {
   "cell_type": "code",
   "execution_count": 52,
   "metadata": {
    "tags": []
   },
   "outputs": [
    {
     "output_type": "stream",
     "name": "stdout",
     "text": "{\"auc\": 0.5417487597055675}"
    }
   ],
   "source": [
    "! cat scores.json"
   ]
  },
  {
   "cell_type": "code",
   "execution_count": 53,
   "metadata": {
    "tags": []
   },
   "outputs": [
    {
     "output_type": "stream",
     "name": "stdout",
     "text": "0% Uploading|                                      |0/1 [00:00<?,     ?file/s]\n!\u001b[A\n  0%|          |data/data.xml                  0.00/37.9M [00:00<?,       ?it/s]\u001b[A\n 28%|██▊       |data/data.xml             10.0M/36.1M [00:00<00:00,    45.9MB/s]\u001b[A\n 55%|█████▌    |data/data.xml             20.0M/36.1M [00:02<00:01,    12.3MB/s]\u001b[A\n 83%|████████▎ |data/data.xml             30.0M/36.1M [00:04<00:00,    8.37MB/s]\u001b[A\n100%|██████████|data/data.xml             36.1M/36.1M [00:06<00:00,    5.89MB/s]\u001b[A\n1 file pushed\n\u001b[0m"
    }
   ],
   "source": [
    "! dvc push"
   ]
  },
  {
   "cell_type": "code",
   "execution_count": 54,
   "metadata": {
    "tags": []
   },
   "outputs": [
    {
     "output_type": "stream",
     "name": "stdout",
     "text": "\u001b7\u001b[?47h\u001b[?1h\u001b=\n\n\n\n\n\n\n\n\n\n\n\n\n\n\n\n\n\n\n\n\n\n\n\u001b[H\u001b[2J\u001b[H\u001b[H\u001b[2J\u001b[H    +-------------------+  \n    | data/data.xml.dvc |  \n    +-------------------+  \n              *            \n              *            \n              *            \n         +---------+       \n         | prepare |       \n         +---------+       \n              *            \n              *            \n              *            \n        +-----------+      \n        | featurize |      \n        +-----------+      \n         **        **      \n       **            *     \n      *               **   \n+-------+               *  \n| train |             **   \n+-------+            *     \n         **        **      \n           **    **        \n\u001b[K:\u001b[K"
    },
    {
     "output_type": "error",
     "ename": "KeyboardInterrupt",
     "evalue": "",
     "traceback": [
      "\u001b[0;31m---------------------------------------------------------------------------\u001b[0m",
      "\u001b[0;31mKeyboardInterrupt\u001b[0m                         Traceback (most recent call last)",
      "\u001b[0;32m~/.local/share/virtualenvs/dvc_intro-siDhtv7s/lib/python3.8/site-packages/IPython/utils/_process_posix.py\u001b[0m in \u001b[0;36msystem\u001b[0;34m(self, cmd)\u001b[0m\n\u001b[1;32m    161\u001b[0m                 \u001b[0;31m# know whether we've finished (if we matched EOF) or not\u001b[0m\u001b[0;34m\u001b[0m\u001b[0;34m\u001b[0m\u001b[0;34m\u001b[0m\u001b[0m\n\u001b[0;32m--> 162\u001b[0;31m                 \u001b[0mres_idx\u001b[0m \u001b[0;34m=\u001b[0m \u001b[0mchild\u001b[0m\u001b[0;34m.\u001b[0m\u001b[0mexpect_list\u001b[0m\u001b[0;34m(\u001b[0m\u001b[0mpatterns\u001b[0m\u001b[0;34m,\u001b[0m \u001b[0mself\u001b[0m\u001b[0;34m.\u001b[0m\u001b[0mread_timeout\u001b[0m\u001b[0;34m)\u001b[0m\u001b[0;34m\u001b[0m\u001b[0;34m\u001b[0m\u001b[0m\n\u001b[0m\u001b[1;32m    163\u001b[0m                 \u001b[0mprint\u001b[0m\u001b[0;34m(\u001b[0m\u001b[0mchild\u001b[0m\u001b[0;34m.\u001b[0m\u001b[0mbefore\u001b[0m\u001b[0;34m[\u001b[0m\u001b[0mout_size\u001b[0m\u001b[0;34m:\u001b[0m\u001b[0;34m]\u001b[0m\u001b[0;34m.\u001b[0m\u001b[0mdecode\u001b[0m\u001b[0;34m(\u001b[0m\u001b[0menc\u001b[0m\u001b[0;34m,\u001b[0m \u001b[0;34m'replace'\u001b[0m\u001b[0;34m)\u001b[0m\u001b[0;34m,\u001b[0m \u001b[0mend\u001b[0m\u001b[0;34m=\u001b[0m\u001b[0;34m''\u001b[0m\u001b[0;34m)\u001b[0m\u001b[0;34m\u001b[0m\u001b[0;34m\u001b[0m\u001b[0m\n",
      "\u001b[0;32m~/.local/share/virtualenvs/dvc_intro-siDhtv7s/lib/python3.8/site-packages/pexpect/spawnbase.py\u001b[0m in \u001b[0;36mexpect_list\u001b[0;34m(self, pattern_list, timeout, searchwindowsize, async_, **kw)\u001b[0m\n\u001b[1;32m    371\u001b[0m         \u001b[0;32melse\u001b[0m\u001b[0;34m:\u001b[0m\u001b[0;34m\u001b[0m\u001b[0;34m\u001b[0m\u001b[0m\n\u001b[0;32m--> 372\u001b[0;31m             \u001b[0;32mreturn\u001b[0m \u001b[0mexp\u001b[0m\u001b[0;34m.\u001b[0m\u001b[0mexpect_loop\u001b[0m\u001b[0;34m(\u001b[0m\u001b[0mtimeout\u001b[0m\u001b[0;34m)\u001b[0m\u001b[0;34m\u001b[0m\u001b[0;34m\u001b[0m\u001b[0m\n\u001b[0m\u001b[1;32m    373\u001b[0m \u001b[0;34m\u001b[0m\u001b[0m\n",
      "\u001b[0;32m~/.local/share/virtualenvs/dvc_intro-siDhtv7s/lib/python3.8/site-packages/pexpect/expect.py\u001b[0m in \u001b[0;36mexpect_loop\u001b[0;34m(self, timeout)\u001b[0m\n\u001b[1;32m    168\u001b[0m                 \u001b[0;31m# Still have time left, so read more data\u001b[0m\u001b[0;34m\u001b[0m\u001b[0;34m\u001b[0m\u001b[0;34m\u001b[0m\u001b[0m\n\u001b[0;32m--> 169\u001b[0;31m                 \u001b[0mincoming\u001b[0m \u001b[0;34m=\u001b[0m \u001b[0mspawn\u001b[0m\u001b[0;34m.\u001b[0m\u001b[0mread_nonblocking\u001b[0m\u001b[0;34m(\u001b[0m\u001b[0mspawn\u001b[0m\u001b[0;34m.\u001b[0m\u001b[0mmaxread\u001b[0m\u001b[0;34m,\u001b[0m \u001b[0mtimeout\u001b[0m\u001b[0;34m)\u001b[0m\u001b[0;34m\u001b[0m\u001b[0;34m\u001b[0m\u001b[0m\n\u001b[0m\u001b[1;32m    170\u001b[0m                 \u001b[0;32mif\u001b[0m \u001b[0mself\u001b[0m\u001b[0;34m.\u001b[0m\u001b[0mspawn\u001b[0m\u001b[0;34m.\u001b[0m\u001b[0mdelayafterread\u001b[0m \u001b[0;32mis\u001b[0m \u001b[0;32mnot\u001b[0m \u001b[0;32mNone\u001b[0m\u001b[0;34m:\u001b[0m\u001b[0;34m\u001b[0m\u001b[0;34m\u001b[0m\u001b[0m\n",
      "\u001b[0;32m~/.local/share/virtualenvs/dvc_intro-siDhtv7s/lib/python3.8/site-packages/pexpect/pty_spawn.py\u001b[0m in \u001b[0;36mread_nonblocking\u001b[0;34m(self, size, timeout)\u001b[0m\n\u001b[1;32m    499\u001b[0m         \u001b[0;31m# (possibly timeout=None), we call select() with a timeout.\u001b[0m\u001b[0;34m\u001b[0m\u001b[0;34m\u001b[0m\u001b[0;34m\u001b[0m\u001b[0m\n\u001b[0;32m--> 500\u001b[0;31m         \u001b[0;32mif\u001b[0m \u001b[0;34m(\u001b[0m\u001b[0mtimeout\u001b[0m \u001b[0;34m!=\u001b[0m \u001b[0;36m0\u001b[0m\u001b[0;34m)\u001b[0m \u001b[0;32mand\u001b[0m \u001b[0mselect\u001b[0m\u001b[0;34m(\u001b[0m\u001b[0mtimeout\u001b[0m\u001b[0;34m)\u001b[0m\u001b[0;34m:\u001b[0m\u001b[0;34m\u001b[0m\u001b[0;34m\u001b[0m\u001b[0m\n\u001b[0m\u001b[1;32m    501\u001b[0m             \u001b[0;32mreturn\u001b[0m \u001b[0msuper\u001b[0m\u001b[0;34m(\u001b[0m\u001b[0mspawn\u001b[0m\u001b[0;34m,\u001b[0m \u001b[0mself\u001b[0m\u001b[0;34m)\u001b[0m\u001b[0;34m.\u001b[0m\u001b[0mread_nonblocking\u001b[0m\u001b[0;34m(\u001b[0m\u001b[0msize\u001b[0m\u001b[0;34m)\u001b[0m\u001b[0;34m\u001b[0m\u001b[0;34m\u001b[0m\u001b[0m\n",
      "\u001b[0;32m~/.local/share/virtualenvs/dvc_intro-siDhtv7s/lib/python3.8/site-packages/pexpect/pty_spawn.py\u001b[0m in \u001b[0;36mselect\u001b[0;34m(timeout)\u001b[0m\n\u001b[1;32m    449\u001b[0m             \u001b[0;32mdef\u001b[0m \u001b[0mselect\u001b[0m\u001b[0;34m(\u001b[0m\u001b[0mtimeout\u001b[0m\u001b[0;34m)\u001b[0m\u001b[0;34m:\u001b[0m\u001b[0;34m\u001b[0m\u001b[0;34m\u001b[0m\u001b[0m\n\u001b[0;32m--> 450\u001b[0;31m                 \u001b[0;32mreturn\u001b[0m \u001b[0mselect_ignore_interrupts\u001b[0m\u001b[0;34m(\u001b[0m\u001b[0;34m[\u001b[0m\u001b[0mself\u001b[0m\u001b[0;34m.\u001b[0m\u001b[0mchild_fd\u001b[0m\u001b[0;34m]\u001b[0m\u001b[0;34m,\u001b[0m \u001b[0;34m[\u001b[0m\u001b[0;34m]\u001b[0m\u001b[0;34m,\u001b[0m \u001b[0;34m[\u001b[0m\u001b[0;34m]\u001b[0m\u001b[0;34m,\u001b[0m \u001b[0mtimeout\u001b[0m\u001b[0;34m)\u001b[0m\u001b[0;34m[\u001b[0m\u001b[0;36m0\u001b[0m\u001b[0;34m]\u001b[0m\u001b[0;34m\u001b[0m\u001b[0;34m\u001b[0m\u001b[0m\n\u001b[0m\u001b[1;32m    451\u001b[0m \u001b[0;34m\u001b[0m\u001b[0m\n",
      "\u001b[0;32m~/.local/share/virtualenvs/dvc_intro-siDhtv7s/lib/python3.8/site-packages/pexpect/utils.py\u001b[0m in \u001b[0;36mselect_ignore_interrupts\u001b[0;34m(iwtd, owtd, ewtd, timeout)\u001b[0m\n\u001b[1;32m    142\u001b[0m         \u001b[0;32mtry\u001b[0m\u001b[0;34m:\u001b[0m\u001b[0;34m\u001b[0m\u001b[0;34m\u001b[0m\u001b[0m\n\u001b[0;32m--> 143\u001b[0;31m             \u001b[0;32mreturn\u001b[0m \u001b[0mselect\u001b[0m\u001b[0;34m.\u001b[0m\u001b[0mselect\u001b[0m\u001b[0;34m(\u001b[0m\u001b[0miwtd\u001b[0m\u001b[0;34m,\u001b[0m \u001b[0mowtd\u001b[0m\u001b[0;34m,\u001b[0m \u001b[0mewtd\u001b[0m\u001b[0;34m,\u001b[0m \u001b[0mtimeout\u001b[0m\u001b[0;34m)\u001b[0m\u001b[0;34m\u001b[0m\u001b[0;34m\u001b[0m\u001b[0m\n\u001b[0m\u001b[1;32m    144\u001b[0m         \u001b[0;32mexcept\u001b[0m \u001b[0mInterruptedError\u001b[0m\u001b[0;34m:\u001b[0m\u001b[0;34m\u001b[0m\u001b[0;34m\u001b[0m\u001b[0m\n",
      "\u001b[0;31mKeyboardInterrupt\u001b[0m: ",
      "\nDuring handling of the above exception, another exception occurred:\n",
      "\u001b[0;31mKeyboardInterrupt\u001b[0m                         Traceback (most recent call last)",
      "\u001b[0;32m<ipython-input-54-ad470b26e7e1>\u001b[0m in \u001b[0;36m<module>\u001b[0;34m\u001b[0m\n\u001b[0;32m----> 1\u001b[0;31m \u001b[0mget_ipython\u001b[0m\u001b[0;34m(\u001b[0m\u001b[0;34m)\u001b[0m\u001b[0;34m.\u001b[0m\u001b[0msystem\u001b[0m\u001b[0;34m(\u001b[0m\u001b[0;34m' dvc dag'\u001b[0m\u001b[0;34m)\u001b[0m\u001b[0;34m\u001b[0m\u001b[0;34m\u001b[0m\u001b[0m\n\u001b[0m",
      "\u001b[0;32m~/.local/share/virtualenvs/dvc_intro-siDhtv7s/lib/python3.8/site-packages/ipykernel/zmqshell.py\u001b[0m in \u001b[0;36msystem_piped\u001b[0;34m(self, cmd)\u001b[0m\n\u001b[1;32m    633\u001b[0m                 \u001b[0mself\u001b[0m\u001b[0;34m.\u001b[0m\u001b[0muser_ns\u001b[0m\u001b[0;34m[\u001b[0m\u001b[0;34m'_exit_code'\u001b[0m\u001b[0;34m]\u001b[0m \u001b[0;34m=\u001b[0m \u001b[0msystem\u001b[0m\u001b[0;34m(\u001b[0m\u001b[0mcmd\u001b[0m\u001b[0;34m)\u001b[0m\u001b[0;34m\u001b[0m\u001b[0;34m\u001b[0m\u001b[0m\n\u001b[1;32m    634\u001b[0m         \u001b[0;32melse\u001b[0m\u001b[0;34m:\u001b[0m\u001b[0;34m\u001b[0m\u001b[0;34m\u001b[0m\u001b[0m\n\u001b[0;32m--> 635\u001b[0;31m             \u001b[0mself\u001b[0m\u001b[0;34m.\u001b[0m\u001b[0muser_ns\u001b[0m\u001b[0;34m[\u001b[0m\u001b[0;34m'_exit_code'\u001b[0m\u001b[0;34m]\u001b[0m \u001b[0;34m=\u001b[0m \u001b[0msystem\u001b[0m\u001b[0;34m(\u001b[0m\u001b[0mself\u001b[0m\u001b[0;34m.\u001b[0m\u001b[0mvar_expand\u001b[0m\u001b[0;34m(\u001b[0m\u001b[0mcmd\u001b[0m\u001b[0;34m,\u001b[0m \u001b[0mdepth\u001b[0m\u001b[0;34m=\u001b[0m\u001b[0;36m1\u001b[0m\u001b[0;34m)\u001b[0m\u001b[0;34m)\u001b[0m\u001b[0;34m\u001b[0m\u001b[0;34m\u001b[0m\u001b[0m\n\u001b[0m\u001b[1;32m    636\u001b[0m \u001b[0;34m\u001b[0m\u001b[0m\n\u001b[1;32m    637\u001b[0m     \u001b[0;31m# Ensure new system_piped implementation is used\u001b[0m\u001b[0;34m\u001b[0m\u001b[0;34m\u001b[0m\u001b[0;34m\u001b[0m\u001b[0m\n",
      "\u001b[0;32m~/.local/share/virtualenvs/dvc_intro-siDhtv7s/lib/python3.8/site-packages/IPython/utils/_process_posix.py\u001b[0m in \u001b[0;36msystem\u001b[0;34m(self, cmd)\u001b[0m\n\u001b[1;32m    184\u001b[0m             \u001b[0;32mfinally\u001b[0m\u001b[0;34m:\u001b[0m\u001b[0;34m\u001b[0m\u001b[0;34m\u001b[0m\u001b[0m\n\u001b[1;32m    185\u001b[0m                 \u001b[0;31m# Ensure the subprocess really is terminated\u001b[0m\u001b[0;34m\u001b[0m\u001b[0;34m\u001b[0m\u001b[0;34m\u001b[0m\u001b[0m\n\u001b[0;32m--> 186\u001b[0;31m                 \u001b[0mchild\u001b[0m\u001b[0;34m.\u001b[0m\u001b[0mterminate\u001b[0m\u001b[0;34m(\u001b[0m\u001b[0mforce\u001b[0m\u001b[0;34m=\u001b[0m\u001b[0;32mTrue\u001b[0m\u001b[0;34m)\u001b[0m\u001b[0;34m\u001b[0m\u001b[0;34m\u001b[0m\u001b[0m\n\u001b[0m\u001b[1;32m    187\u001b[0m         \u001b[0;31m# add isalive check, to ensure exitstatus is set:\u001b[0m\u001b[0;34m\u001b[0m\u001b[0;34m\u001b[0m\u001b[0;34m\u001b[0m\u001b[0m\n\u001b[1;32m    188\u001b[0m         \u001b[0mchild\u001b[0m\u001b[0;34m.\u001b[0m\u001b[0misalive\u001b[0m\u001b[0;34m(\u001b[0m\u001b[0;34m)\u001b[0m\u001b[0;34m\u001b[0m\u001b[0;34m\u001b[0m\u001b[0m\n",
      "\u001b[0;32m~/.local/share/virtualenvs/dvc_intro-siDhtv7s/lib/python3.8/site-packages/pexpect/pty_spawn.py\u001b[0m in \u001b[0;36mterminate\u001b[0;34m(self, force)\u001b[0m\n\u001b[1;32m    640\u001b[0m         \u001b[0;32mtry\u001b[0m\u001b[0;34m:\u001b[0m\u001b[0;34m\u001b[0m\u001b[0;34m\u001b[0m\u001b[0m\n\u001b[1;32m    641\u001b[0m             \u001b[0mself\u001b[0m\u001b[0;34m.\u001b[0m\u001b[0mkill\u001b[0m\u001b[0;34m(\u001b[0m\u001b[0msignal\u001b[0m\u001b[0;34m.\u001b[0m\u001b[0mSIGHUP\u001b[0m\u001b[0;34m)\u001b[0m\u001b[0;34m\u001b[0m\u001b[0;34m\u001b[0m\u001b[0m\n\u001b[0;32m--> 642\u001b[0;31m             \u001b[0mtime\u001b[0m\u001b[0;34m.\u001b[0m\u001b[0msleep\u001b[0m\u001b[0;34m(\u001b[0m\u001b[0mself\u001b[0m\u001b[0;34m.\u001b[0m\u001b[0mdelayafterterminate\u001b[0m\u001b[0;34m)\u001b[0m\u001b[0;34m\u001b[0m\u001b[0;34m\u001b[0m\u001b[0m\n\u001b[0m\u001b[1;32m    643\u001b[0m             \u001b[0;32mif\u001b[0m \u001b[0;32mnot\u001b[0m \u001b[0mself\u001b[0m\u001b[0;34m.\u001b[0m\u001b[0misalive\u001b[0m\u001b[0;34m(\u001b[0m\u001b[0;34m)\u001b[0m\u001b[0;34m:\u001b[0m\u001b[0;34m\u001b[0m\u001b[0;34m\u001b[0m\u001b[0m\n\u001b[1;32m    644\u001b[0m                 \u001b[0;32mreturn\u001b[0m \u001b[0;32mTrue\u001b[0m\u001b[0;34m\u001b[0m\u001b[0;34m\u001b[0m\u001b[0m\n",
      "\u001b[0;31mKeyboardInterrupt\u001b[0m: "
     ]
    }
   ],
   "source": [
    "! dvc dag"
   ]
  },
  {
   "cell_type": "code",
   "execution_count": 55,
   "metadata": {},
   "outputs": [],
   "source": [
    "! rm -rf data/features\n",
    "! rm -rf data/prepared\n",
    "! rm -rf data/data.xml\n",
    "! rm -rf model.pkl\n",
    "! rm -rf .dvc/cache\n",
    "! rm -rf .dvc/tmp"
   ]
  },
  {
   "cell_type": "code",
   "execution_count": null,
   "metadata": {},
   "outputs": [],
   "source": []
  },
  {
   "cell_type": "markdown",
   "metadata": {},
   "source": [
    "### We can have as many pipeline steps that we want\n",
    "### Each can be computed sequentially on separate machines and what not"
   ]
  },
  {
   "cell_type": "code",
   "execution_count": null,
   "metadata": {},
   "outputs": [],
   "source": []
  }
 ]
}