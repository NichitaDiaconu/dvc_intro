{
 "metadata": {
  "language_info": {
   "codemirror_mode": {
    "name": "ipython",
    "version": 3
   },
   "file_extension": ".py",
   "mimetype": "text/x-python",
   "name": "python",
   "nbconvert_exporter": "python",
   "pygments_lexer": "ipython3",
   "version": "3.8.1-final"
  },
  "orig_nbformat": 2,
  "kernelspec": {
   "name": "python_defaultSpec_1596638780768",
   "display_name": "Python 3.8.1 64-bit ('dvc_intro': pipenv)"
  }
 },
 "nbformat": 4,
 "nbformat_minor": 2,
 "cells": [
  {
   "cell_type": "markdown",
   "metadata": {},
   "source": [
    "## Load data"
   ]
  },
  {
   "cell_type": "code",
   "execution_count": 1,
   "metadata": {},
   "outputs": [],
   "source": [
    "%load_ext dotenv\n",
    "%dotenv"
   ]
  },
  {
   "cell_type": "code",
   "execution_count": 2,
   "metadata": {
    "tags": []
   },
   "outputs": [
    {
     "output_type": "stream",
     "name": "stdout",
     "text": "0% Downloading|                                    |0/1 [00:00<?,     ?file/s]\n!\u001b[A\n  0%|          |get-started/data.xml           0.00/37.9M [00:00<?,       ?it/s]\u001b[A\n  0%|          |get-started/data.xml      64.0k/36.1M [00:00<02:48,     225kB/s]\u001b[A\n  0%|          |get-started/data.xml       128k/36.1M [00:00<02:23,     264kB/s]\u001b[A\n  1%|          |get-started/data.xml       256k/36.1M [00:00<02:17,     274kB/s]\u001b[A\n  2%|▏         |get-started/data.xml       576k/36.1M [00:01<01:40,     371kB/s]\u001b[A\n  2%|▏         |get-started/data.xml       704k/36.1M [00:01<01:23,     447kB/s]\u001b[A\n  2%|▏         |get-started/data.xml       832k/36.1M [00:01<01:10,     525kB/s]\u001b[A\n  3%|▎         |get-started/data.xml       960k/36.1M [00:01<01:01,     598kB/s]\u001b[A\n  3%|▎         |get-started/data.xml      1.06M/36.1M [00:01<00:55,     662kB/s]\u001b[A\n  3%|▎         |get-started/data.xml      1.19M/36.1M [00:01<00:51,     718kB/s]\u001b[A\n  4%|▎         |get-started/data.xml      1.31M/36.1M [00:01<00:48,     760kB/s]\u001b[A\n  4%|▍         |get-started/data.xml      1.44M/36.1M [00:02<00:45,     796kB/s]\u001b[A\n  4%|▍         |get-started/data.xml      1.56M/36.1M [00:02<00:44,     821kB/s]\u001b[A\n  5%|▍         |get-started/data.xml      1.69M/36.1M [00:02<00:42,     843kB/s]\u001b[A\n  5%|▌         |get-started/data.xml      1.81M/36.1M [00:02<00:41,     859kB/s]\u001b[A\n  5%|▌         |get-started/data.xml      1.94M/36.1M [00:02<00:40,     879kB/s]\u001b[A\n  6%|▌         |get-started/data.xml      2.06M/36.1M [00:02<00:40,     884kB/s]\u001b[A\n  6%|▌         |get-started/data.xml      2.19M/36.1M [00:02<00:40,     888kB/s]\u001b[A\n  6%|▋         |get-started/data.xml      2.31M/36.1M [00:03<00:39,     890kB/s]\u001b[A\n  7%|▋         |get-started/data.xml      2.44M/36.1M [00:03<00:38,     906kB/s]\u001b[A\n  7%|▋         |get-started/data.xml      2.56M/36.1M [00:03<00:38,     904kB/s]\u001b[A\n  7%|▋         |get-started/data.xml      2.69M/36.1M [00:03<00:43,     798kB/s]\u001b[A\n  8%|▊         |get-started/data.xml      2.88M/36.1M [00:03<00:42,     819kB/s]\u001b[A\n  8%|▊         |get-started/data.xml      3.00M/36.1M [00:03<00:42,     820kB/s]\u001b[A\n  9%|▊         |get-started/data.xml      3.12M/36.1M [00:04<00:42,     816kB/s]\u001b[A\n  9%|▉         |get-started/data.xml      3.25M/36.1M [00:04<00:41,     834kB/s]\u001b[A\n  9%|▉         |get-started/data.xml      3.38M/36.1M [00:04<00:43,     797kB/s]\u001b[A\n 10%|▉         |get-started/data.xml      3.50M/36.1M [00:04<00:44,     763kB/s]\u001b[A\n 10%|█         |get-started/data.xml      3.62M/36.1M [00:04<00:45,     755kB/s]\u001b[A\n 10%|█         |get-started/data.xml      3.75M/36.1M [00:04<00:42,     794kB/s]\u001b[A\n 11%|█         |get-started/data.xml      3.88M/36.1M [00:05<00:41,     811kB/s]\u001b[A\n 11%|█         |get-started/data.xml      4.00M/36.1M [00:05<00:40,     839kB/s]\u001b[A\n 11%|█▏        |get-started/data.xml      4.12M/36.1M [00:05<00:39,     849kB/s]\u001b[A\n 12%|█▏        |get-started/data.xml      4.25M/36.1M [00:05<00:38,     859kB/s]\u001b[A\n 12%|█▏        |get-started/data.xml      4.38M/36.1M [00:05<00:37,     882kB/s]\u001b[A\n 12%|█▏        |get-started/data.xml      4.50M/36.1M [00:05<00:37,     880kB/s]\u001b[A\n 13%|█▎        |get-started/data.xml      4.62M/36.1M [00:05<00:36,     906kB/s]\u001b[A\n 13%|█▎        |get-started/data.xml      4.75M/36.1M [00:06<00:36,     899kB/s]\u001b[A\n 14%|█▎        |get-started/data.xml      4.94M/36.1M [00:06<00:33,     969kB/s]\u001b[A\n 14%|█▍        |get-started/data.xml      5.06M/36.1M [00:06<00:34,     955kB/s]\u001b[A\n 14%|█▍        |get-started/data.xml      5.19M/36.1M [00:06<00:34,     939kB/s]\u001b[A\n 15%|█▍        |get-started/data.xml      5.31M/36.1M [00:06<00:34,     925kB/s]\u001b[A\n 15%|█▌        |get-started/data.xml      5.44M/36.1M [00:06<00:34,     931kB/s]\u001b[A\n 15%|█▌        |get-started/data.xml      5.56M/36.1M [00:07<00:34,     921kB/s]\u001b[A\n 16%|█▌        |get-started/data.xml      5.69M/36.1M [00:07<00:34,     927kB/s]\u001b[A\n 16%|█▌        |get-started/data.xml      5.81M/36.1M [00:07<00:34,     918kB/s]\u001b[A\n 17%|█▋        |get-started/data.xml      6.00M/36.1M [00:07<00:32,     984kB/s]\u001b[A\n 17%|█▋        |get-started/data.xml      6.12M/36.1M [00:07<00:32,     962kB/s]\u001b[A\n 17%|█▋        |get-started/data.xml      6.25M/36.1M [00:07<00:33,     942kB/s]\u001b[A\n 18%|█▊        |get-started/data.xml      6.38M/36.1M [00:07<00:33,     930kB/s]\u001b[A\n 18%|█▊        |get-started/data.xml      6.50M/36.1M [00:08<00:33,     940kB/s]\u001b[A\n 18%|█▊        |get-started/data.xml      6.62M/36.1M [00:08<00:33,     931kB/s]\u001b[A\n 19%|█▊        |get-started/data.xml      6.75M/36.1M [00:08<00:33,     931kB/s]\u001b[A\n 19%|█▉        |get-started/data.xml      6.88M/36.1M [00:08<00:32,     933kB/s]\u001b[A\n 20%|█▉        |get-started/data.xml      7.06M/36.1M [00:08<00:31,     980kB/s]\u001b[A\n 20%|█▉        |get-started/data.xml      7.19M/36.1M [00:08<00:31,     969kB/s]\u001b[A\n 20%|██        |get-started/data.xml      7.31M/36.1M [00:08<00:31,     954kB/s]\u001b[A\n 21%|██        |get-started/data.xml      7.44M/36.1M [00:09<00:32,     937kB/s]\u001b[A\n 21%|██        |get-started/data.xml      7.56M/36.1M [00:09<00:31,     943kB/s]\u001b[A\n 21%|██▏       |get-started/data.xml      7.69M/36.1M [00:09<00:32,     929kB/s]\u001b[A\n 22%|██▏       |get-started/data.xml      7.81M/36.1M [00:09<00:30,     987kB/s]\u001b[A\n 22%|██▏       |get-started/data.xml      7.94M/36.1M [00:09<00:30,     958kB/s]\u001b[A\n 22%|██▏       |get-started/data.xml      8.12M/36.1M [00:09<00:30,     977kB/s]\u001b[A\n 23%|██▎       |get-started/data.xml      8.25M/36.1M [00:09<00:29,     978kB/s]\u001b[A\n 23%|██▎       |get-started/data.xml      8.38M/36.1M [00:10<00:30,     957kB/s]\u001b[A\n 24%|██▎       |get-started/data.xml      8.50M/36.1M [00:10<00:30,     959kB/s]\u001b[A\n 24%|██▍       |get-started/data.xml      8.69M/36.1M [00:10<00:28,    1.01MB/s]\u001b[A\n 24%|██▍       |get-started/data.xml      8.81M/36.1M [00:10<00:28,    1.00MB/s]\u001b[A\n 25%|██▍       |get-started/data.xml      8.94M/36.1M [00:10<00:29,     981kB/s]\u001b[A\n 25%|██▌       |get-started/data.xml      9.12M/36.1M [00:10<00:27,    1.04MB/s]\u001b[A\n 26%|██▌       |get-started/data.xml      9.25M/36.1M [00:10<00:27,    1.01MB/s]\u001b[A\n 26%|██▌       |get-started/data.xml      9.38M/36.1M [00:11<00:26,    1.06MB/s]\u001b[A\n 26%|██▋       |get-started/data.xml      9.50M/36.1M [00:11<00:25,    1.10MB/s]\u001b[A\n 27%|██▋       |get-started/data.xml      9.62M/36.1M [00:11<00:24,    1.14MB/s]\u001b[A\n 27%|██▋       |get-started/data.xml      9.75M/36.1M [00:11<00:25,    1.09MB/s]\u001b[A\n 27%|██▋       |get-started/data.xml      9.88M/36.1M [00:11<00:25,    1.08MB/s]\u001b[A\n 28%|██▊       |get-started/data.xml      10.0M/36.1M [00:11<00:26,    1.05MB/s]\u001b[A\n 28%|██▊       |get-started/data.xml      10.2M/36.1M [00:11<00:24,    1.10MB/s]\u001b[A\n 29%|██▊       |get-started/data.xml      10.3M/36.1M [00:11<00:24,    1.13MB/s]\u001b[A\n 29%|██▉       |get-started/data.xml      10.5M/36.1M [00:12<00:22,    1.17MB/s]\u001b[A\n 30%|██▉       |get-started/data.xml      10.7M/36.1M [00:12<00:22,    1.18MB/s]\u001b[A\n 30%|███       |get-started/data.xml      10.9M/36.1M [00:12<00:22,    1.20MB/s]\u001b[A\n 31%|███       |get-started/data.xml      11.1M/36.1M [00:12<00:21,    1.24MB/s]\u001b[A\n 31%|███       |get-started/data.xml      11.2M/36.1M [00:12<00:20,    1.28MB/s]\u001b[A\n 32%|███▏      |get-started/data.xml      11.4M/36.1M [00:12<00:18,    1.36MB/s]\u001b[A\n 32%|███▏      |get-started/data.xml      11.6M/36.1M [00:12<00:18,    1.36MB/s]\u001b[A\n 33%|███▎      |get-started/data.xml      11.8M/36.1M [00:13<00:17,    1.46MB/s]\u001b[A\n 33%|███▎      |get-started/data.xml      12.0M/36.1M [00:13<00:17,    1.48MB/s]\u001b[A\n 34%|███▎      |get-started/data.xml      12.2M/36.1M [00:13<00:16,    1.53MB/s]\u001b[A\n 34%|███▍      |get-started/data.xml      12.4M/36.1M [00:13<00:16,    1.52MB/s]\u001b[A\n 35%|███▍      |get-started/data.xml      12.6M/36.1M [00:13<00:16,    1.52MB/s]\u001b[A\n 35%|███▌      |get-started/data.xml      12.8M/36.1M [00:13<00:16,    1.50MB/s]\u001b[A\n 36%|███▌      |get-started/data.xml      13.0M/36.1M [00:13<00:15,    1.58MB/s]\u001b[A\n 37%|███▋      |get-started/data.xml      13.2M/36.1M [00:14<00:14,    1.64MB/s]\u001b[A\n 37%|███▋      |get-started/data.xml      13.5M/36.1M [00:14<00:13,    1.76MB/s]\u001b[A\n 38%|███▊      |get-started/data.xml      13.8M/36.1M [00:14<00:13,    1.79MB/s]\u001b[A\n 39%|███▊      |get-started/data.xml      14.0M/36.1M [00:14<00:12,    1.92MB/s]\u001b[A\n 39%|███▉      |get-started/data.xml      14.2M/36.1M [00:14<00:11,    1.99MB/s]\u001b[A\n 40%|████      |get-started/data.xml      14.5M/36.1M [00:14<00:11,    2.04MB/s]\u001b[A\n 41%|████      |get-started/data.xml      14.8M/36.1M [00:14<00:11,    1.99MB/s]\u001b[A\n 42%|████▏     |get-started/data.xml      15.0M/36.1M [00:14<00:11,    2.01MB/s]\u001b[A\n 42%|████▏     |get-started/data.xml      15.3M/36.1M [00:15<00:10,    2.11MB/s]\u001b[A\n 43%|████▎     |get-started/data.xml      15.6M/36.1M [00:15<00:09,    2.25MB/s]\u001b[A\n 44%|████▍     |get-started/data.xml      15.9M/36.1M [00:15<00:08,    2.39MB/s]\u001b[A\n 45%|████▍     |get-started/data.xml      16.2M/36.1M [00:15<00:08,    2.43MB/s]\u001b[A\n 46%|████▌     |get-started/data.xml      16.5M/36.1M [00:15<00:11,    1.83MB/s]\u001b[A\n 47%|████▋     |get-started/data.xml      17.0M/36.1M [00:15<00:09,    2.15MB/s]\u001b[A\n 48%|████▊     |get-started/data.xml      17.2M/36.1M [00:15<00:09,    2.06MB/s]\u001b[A\n 48%|████▊     |get-started/data.xml      17.5M/36.1M [00:16<00:09,    2.10MB/s]\u001b[A\n 49%|████▉     |get-started/data.xml      17.8M/36.1M [00:16<00:08,    2.15MB/s]\u001b[A\n 50%|████▉     |get-started/data.xml      18.0M/36.1M [00:16<00:08,    2.12MB/s]\u001b[A\n 51%|█████     |get-started/data.xml      18.2M/36.1M [00:16<00:08,    2.12MB/s]\u001b[A\n 51%|█████     |get-started/data.xml      18.5M/36.1M [00:16<00:08,    2.06MB/s]\u001b[A\n 52%|█████▏    |get-started/data.xml      18.8M/36.1M [00:16<00:08,    2.07MB/s]\u001b[A\n 53%|█████▎    |get-started/data.xml      19.0M/36.1M [00:16<00:08,    2.16MB/s]\u001b[A\n 53%|█████▎    |get-started/data.xml      19.2M/36.1M [00:16<00:07,    2.24MB/s]\u001b[A\n 54%|█████▍    |get-started/data.xml      19.5M/36.1M [00:17<00:07,    2.26MB/s]\u001b[A\n 55%|█████▍    |get-started/data.xml      19.8M/36.1M [00:17<00:07,    2.22MB/s]\u001b[A\n 55%|█████▌    |get-started/data.xml      20.0M/36.1M [00:17<00:07,    2.22MB/s]\u001b[A\n 56%|█████▌    |get-started/data.xml      20.3M/36.1M [00:17<00:07,    2.27MB/s]\u001b[A\n 57%|█████▋    |get-started/data.xml      20.6M/36.1M [00:17<00:07,    2.32MB/s]\u001b[A\n 58%|█████▊    |get-started/data.xml      20.9M/36.1M [00:17<00:06,    2.43MB/s]\u001b[A\n 59%|█████▊    |get-started/data.xml      21.2M/36.1M [00:17<00:06,    2.37MB/s]\u001b[A\n 59%|█████▉    |get-started/data.xml      21.4M/36.1M [00:17<00:06,    2.38MB/s]\u001b[A\n 60%|██████    |get-started/data.xml      21.7M/36.1M [00:17<00:06,    2.38MB/s]\u001b[A\n 61%|██████    |get-started/data.xml      22.0M/36.1M [00:18<00:06,    2.45MB/s]\u001b[A\n 62%|██████▏   |get-started/data.xml      22.3M/36.1M [00:18<00:05,    2.52MB/s]\u001b[A\n 62%|██████▏   |get-started/data.xml      22.6M/36.1M [00:18<00:05,    2.51MB/s]\u001b[A\n 63%|██████▎   |get-started/data.xml      22.8M/36.1M [00:18<00:05,    2.45MB/s]\u001b[A\n 64%|██████▍   |get-started/data.xml      23.1M/36.1M [00:18<00:05,    2.52MB/s]\u001b[A\n 65%|██████▍   |get-started/data.xml      23.4M/36.1M [00:18<00:05,    2.55MB/s]\u001b[A\n 66%|██████▌   |get-started/data.xml      23.8M/36.1M [00:18<00:04,    2.66MB/s]\u001b[A\n 67%|██████▋   |get-started/data.xml      24.1M/36.1M [00:18<00:04,    2.61MB/s]\u001b[A\n 67%|██████▋   |get-started/data.xml      24.4M/36.1M [00:19<00:04,    2.60MB/s]\u001b[A\n 68%|██████▊   |get-started/data.xml      24.6M/36.1M [00:19<00:04,    2.55MB/s]\u001b[A\n 69%|██████▉   |get-started/data.xml      24.9M/36.1M [00:19<00:04,    2.58MB/s]\u001b[A\n 70%|██████▉   |get-started/data.xml      25.2M/36.1M [00:19<00:04,    2.74MB/s]\u001b[A\n 71%|███████   |get-started/data.xml      25.6M/36.1M [00:19<00:04,    2.66MB/s]\u001b[A\n 72%|███████▏  |get-started/data.xml      25.9M/36.1M [00:19<00:04,    2.68MB/s]\u001b[A\n 72%|███████▏  |get-started/data.xml      26.2M/36.1M [00:19<00:04,    2.61MB/s]\u001b[A\n 73%|███████▎  |get-started/data.xml      26.5M/36.1M [00:19<00:03,    2.60MB/s]\u001b[A\n 74%|███████▍  |get-started/data.xml      26.8M/36.1M [00:20<00:03,    2.63MB/s]\u001b[A\n 75%|███████▌  |get-started/data.xml      27.1M/36.1M [00:20<00:03,    2.79MB/s]\u001b[A\n 76%|███████▌  |get-started/data.xml      27.4M/36.1M [00:20<00:03,    2.72MB/s]\u001b[A\n 77%|███████▋  |get-started/data.xml      27.8M/36.1M [00:20<00:03,    2.70MB/s]\u001b[A\n 78%|███████▊  |get-started/data.xml      28.1M/36.1M [00:20<00:03,    2.62MB/s]\u001b[A\n 79%|███████▊  |get-started/data.xml      28.4M/36.1M [00:20<00:03,    2.68MB/s]\u001b[A\n 79%|███████▉  |get-started/data.xml      28.7M/36.1M [00:20<00:02,    2.64MB/s]\u001b[A\n 80%|████████  |get-started/data.xml      29.0M/36.1M [00:20<00:02,    2.79MB/s]\u001b[A\n 81%|████████  |get-started/data.xml      29.3M/36.1M [00:20<00:02,    2.73MB/s]\u001b[A\n 82%|████████▏ |get-started/data.xml      29.6M/36.1M [00:21<00:02,    2.69MB/s]\u001b[A\n 83%|████████▎ |get-started/data.xml      29.9M/36.1M [00:21<00:02,    2.65MB/s]\u001b[A\n 84%|████████▎ |get-started/data.xml      30.2M/36.1M [00:21<00:02,    2.70MB/s]\u001b[A\n 85%|████████▍ |get-started/data.xml      30.6M/36.1M [00:21<00:02,    2.74MB/s]\u001b[A\n 85%|████████▌ |get-started/data.xml      30.9M/36.1M [00:21<00:02,    2.74MB/s]\u001b[A\n 86%|████████▋ |get-started/data.xml      31.2M/36.1M [00:21<00:01,    2.74MB/s]\u001b[A\n 87%|████████▋ |get-started/data.xml      31.5M/36.1M [00:21<00:01,    2.69MB/s]\u001b[A\n 88%|████████▊ |get-started/data.xml      31.8M/36.1M [00:21<00:01,    2.65MB/s]\u001b[A\n 89%|████████▉ |get-started/data.xml      32.1M/36.1M [00:22<00:01,    2.48MB/s]\u001b[A\n 90%|████████▉ |get-started/data.xml      32.4M/36.1M [00:22<00:01,    2.43MB/s]\u001b[A\n 90%|█████████ |get-started/data.xml      32.7M/36.1M [00:22<00:01,    2.22MB/s]\u001b[A\n 91%|█████████ |get-started/data.xml      32.9M/36.1M [00:22<00:01,    2.08MB/s]\u001b[A\n 92%|█████████▏|get-started/data.xml      33.2M/36.1M [00:22<00:01,    2.17MB/s]\u001b[A\n 93%|█████████▎|get-started/data.xml      33.4M/36.1M [00:22<00:01,    2.19MB/s]\u001b[A\n 93%|█████████▎|get-started/data.xml      33.7M/36.1M [00:22<00:01,    2.14MB/s]\u001b[A\n 94%|█████████▍|get-started/data.xml      33.9M/36.1M [00:23<00:01,    2.14MB/s]\u001b[A\n 95%|█████████▍|get-started/data.xml      34.2M/36.1M [00:23<00:00,    2.09MB/s]\u001b[A\n 95%|█████████▌|get-started/data.xml      34.4M/36.1M [00:23<00:00,    2.08MB/s]\u001b[A\n 96%|█████████▌|get-started/data.xml      34.8M/36.1M [00:23<00:00,    2.11MB/s]\u001b[A\n 97%|█████████▋|get-started/data.xml      35.1M/36.1M [00:23<00:00,    2.17MB/s]\u001b[A\n 98%|█████████▊|get-started/data.xml      35.4M/36.1M [00:23<00:00,    2.21MB/s]\u001b[A\n 99%|█████████▉|get-started/data.xml      35.7M/36.1M [00:23<00:00,    2.24MB/s]\u001b[A\n100%|█████████▉|get-started/data.xml      36.0M/36.1M [00:23<00:00,    2.38MB/s]\u001b[A\n100% Downloading|████████████████████████████████|1/1 [00:24<00:00, 24.77s/file]\u001b[0m"
    }
   ],
   "source": [
    "! dvc get https://github.com/iterative/dataset-registry \\\n",
    "          get-started/data.xml -o data/data.xml"
   ]
  },
  {
   "cell_type": "markdown",
   "metadata": {},
   "source": [
    "## Create a pipeline with some steps. i.e.:\n",
    "    *  prepare data\n",
    "    *  turn data into features\n",
    "    *  train models from features\n",
    "    *  evaluate models"
   ]
  },
  {
   "cell_type": "code",
   "execution_count": 3,
   "metadata": {
    "tags": []
   },
   "outputs": [
    {
     "output_type": "stream",
     "name": "stdout",
     "text": "\u001b[32m\u001b[22mCourtesy Notice\u001b[39m\u001b[22m: Pipenv found itself running within a virtual environment, so it will automatically use that environment, instead of creating its own for any project. You can set \u001b[39m\u001b[1mPIPENV_IGNORE_VIRTUALENVS=1\u001b[39m\u001b[22m to force pipenv to ignore that environment and create its own instead. You can set \u001b[39m\u001b[1mPIPENV_VERBOSITY=-1\u001b[39m\u001b[22m to suppress this warning.\n\u001b[39m\u001b[1mLoading .env environment variables...\u001b[39m\u001b[22m\nIf DVC froze, see `hardlink_lock` in <\u001b[36mhttps://man.dvc.org/config#core\u001b[39m>Running stage 'prepare' with command:\n\tpython src/prepare.py data/data.xml\nModifying stage 'prepare' in 'dvc.yaml'\n\nTo track the changes with git, run:\n\n\tgit add dvc.yaml\n\u001b[0m"
    }
   ],
   "source": [
    "! dvc run -f -n prepare \\\n",
    "                     -p prepare.seed,prepare.split \\\n",
    "                     -d src/prepare.py -d data/data.xml \\\n",
    "                     -o data/prepared \\\n",
    "                     python src/prepare.py data/data.xml"
   ]
  },
  {
   "cell_type": "code",
   "execution_count": 5,
   "metadata": {
    "tags": []
   },
   "outputs": [
    {
     "output_type": "stream",
     "name": "stdout",
     "text": "If DVC froze, see `hardlink_lock` in <\u001b[36mhttps://man.dvc.org/config#core\u001b[39m>Running stage 'featurize' with command:\n\tpython src/featurization.py data/prepared data/features\nThe input data frame data/prepared/train.tsv size is (20017, 3)\nThe output matrix data/features/train.pkl size is (20017, 502) and data type is float64\nThe input data frame data/prepared/test.tsv size is (4983, 3)\nThe output matrix data/features/test.pkl size is (4983, 502) and data type is float64\nModifying stage 'featurize' in 'dvc.yaml'\n\nTo track the changes with git, run:\n\n\tgit add dvc.yaml\n\u001b[0m"
    }
   ],
   "source": [
    "! dvc run -f -n featurize \\\n",
    "          -p featurize.max_features,featurize.ngrams \\\n",
    "          -d src/featurization.py -d data/prepared \\\n",
    "          -o data/features \\\n",
    "          python src/featurization.py data/prepared data/features"
   ]
  },
  {
   "cell_type": "code",
   "execution_count": 6,
   "metadata": {
    "tags": []
   },
   "outputs": [
    {
     "output_type": "stream",
     "name": "stdout",
     "text": "If DVC froze, see `hardlink_lock` in <\u001b[36mhttps://man.dvc.org/config#core\u001b[39m>Running stage 'train' with command:\n\tpython src/train.py data/features model.pkl\nInput matrix size (20017, 502)\nX matrix size (20017, 500)\nY matrix size (20017,)\nIf DVC froze, see `hardlink_lock` in <\u001b[36mhttps://man.dvc.org/config#core\u001b[39m>Modifying stage 'train' in 'dvc.yaml'\nUpdating lock file 'dvc.lock'\n\nTo track the changes with git, run:\n\n\tgit add dvc.yaml dvc.lock\n\u001b[0m"
    }
   ],
   "source": [
    "! dvc run -f -n train \\\n",
    "          -p train.seed,train.n_estimators \\\n",
    "          -d src/train.py -d data/features \\\n",
    "          -o model.pkl \\\n",
    "          python src/train.py data/features model.pkl"
   ]
  },
  {
   "cell_type": "code",
   "execution_count": 7,
   "metadata": {
    "tags": []
   },
   "outputs": [
    {
     "output_type": "stream",
     "name": "stdout",
     "text": "If DVC froze, see `hardlink_lock` in <\u001b[36mhttps://man.dvc.org/config#core\u001b[39m>Running stage 'evaluate' with command:\n\tpython src/evaluate.py model.pkl data/features scores.json prc.json\nIf DVC froze, see `hardlink_lock` in <\u001b[36mhttps://man.dvc.org/config#core\u001b[39m>Modifying stage 'evaluate' in 'dvc.yaml'\nUpdating lock file 'dvc.lock'\n\nTo track the changes with git, run:\n\n\tgit add dvc.lock dvc.yaml\n\u001b[0m"
    }
   ],
   "source": [
    "! dvc run -f -n evaluate \\\n",
    "          -d src/evaluate.py -d model.pkl -d data/features \\\n",
    "          -M scores.json \\\n",
    "          --plots-no-cache prc.json \\\n",
    "          python src/evaluate.py model.pkl \\\n",
    "                 data/features scores.json prc.json"
   ]
  },
  {
   "cell_type": "code",
   "execution_count": 8,
   "metadata": {
    "tags": []
   },
   "outputs": [
    {
     "output_type": "stream",
     "name": "stdout",
     "text": "If DVC froze, see `hardlink_lock` in <\u001b[36mhttps://man.dvc.org/config#core\u001b[39m>Verifying data sources in stage: 'data/data.xml.dvc'\n\nStage 'prepare' didn't change, skipping\nStage 'featurize' didn't change, skipping\nStage 'train' didn't change, skipping\nStage 'evaluate' didn't change, skipping\n\nTo track the changes with git, run:\n\n\tgit add data/data.xml.dvc\n\u001b[0m"
    }
   ],
   "source": [
    "! dvc repro"
   ]
  },
  {
   "cell_type": "code",
   "execution_count": 15,
   "metadata": {
    "tags": []
   },
   "outputs": [
    {
     "output_type": "stream",
     "name": "stdout",
     "text": "Setting 'myremote' as a default remote.\n\u001b[0mOn branch data_pipelines\nnothing to commit, working tree clean\nEverything up-to-date\n"
    }
   ],
   "source": [
    "! dvc remote add -df myremote gs://dvc_intro\n",
    "! git add .\n",
    "! git commit -m 'run'\n",
    "! git push origin data_pipelines"
   ]
  },
  {
   "cell_type": "code",
   "execution_count": 18,
   "metadata": {
    "tags": []
   },
   "outputs": [
    {
     "output_type": "stream",
     "name": "stdout",
     "text": "{\"auc\": 0.5417487597055675}"
    }
   ],
   "source": [
    "! cat scores.json"
   ]
  },
  {
   "cell_type": "code",
   "execution_count": 16,
   "metadata": {
    "tags": []
   },
   "outputs": [
    {
     "output_type": "stream",
     "name": "stdout",
     "text": "0% Uploading|                                      |0/8 [00:00<?,     ?file/s]\n!\u001b[A\n  0%|          |data/prepared/test.tsv         0.00/4.76M [00:00<?,       ?it/s]\u001b[A\n\n  0%|          |data/prepared/train.tsv        0.00/19.1M [00:00<?,       ?it/s]\u001b[A\u001b[A\n\n\n  0%|          |data/features/test.pkl         0.00/1.41M [00:00<?,       ?it/s]\u001b[A\u001b[A\u001b[A\n\n\n\n  0%|          |data/features/train.pkl        0.00/5.67M [00:00<?,       ?it/s]\u001b[A\u001b[A\u001b[A\u001b[A\n\n\n\n\n  0%|          |model.pkl                      0.00/2.66M [00:00<?,       ?it/s]\u001b[A\u001b[A\u001b[A\u001b[A\u001b[A\n\n\n\n\n\n  0%|          |data/data.xml                  0.00/37.9M [00:00<?,       ?it/s]\u001b[A\u001b[A\u001b[A\u001b[A\u001b[A\u001b[A\n100%|██████████|data/prepared/test.tsv    4.54M/4.54M [00:00<00:00,    22.9MB/s]\u001b[A\n\n 55%|█████▍    |data/prepared/train.tsv   10.0M/18.2M [00:00<00:00,    35.0MB/s]\u001b[A\u001b[A\n\n\n\n\n\n 28%|██▊       |data/data.xml             10.0M/36.1M [00:00<00:00,    29.0MB/s]\u001b[A\u001b[A\u001b[A\u001b[A\u001b[A\u001b[A\n\n\n\n\n100%|██████████|model.pkl                 2.54M/2.54M [00:00<00:00,    7.22MB/s]\u001b[A\u001b[A\u001b[A\u001b[A\u001b[A\n\n\n\n100%|██████████|data/features/train.pkl   5.41M/5.41M [00:00<00:00,    15.0MB/s]\u001b[A\u001b[A\u001b[A\u001b[A\n\n\n100%|██████████|data/features/test.pkl    1.35M/1.35M [00:00<00:00,    3.63MB/s]\u001b[A\u001b[A\u001b[A\n\n\n 12% Uploading|████▎                             |1/8 [00:02<00:15,  2.26s/file]\n\n\n\n\n 25% Uploading|████████▌                         |2/8 [00:02<00:10,  1.69s/file]\n 38% Uploading|████████████▊                     |3/8 [00:03<00:07,  1.46s/file]\n\n\n\n 50% Uploading|█████████████████                 |4/8 [00:04<00:05,  1.28s/file]\n!\u001b[A\n  0%|          |data/features                       0/137 [00:00<?,       ?it/s]\u001b[A\n100%|██████████|data/features                 137/137 [00:00<00:00,      530B/s]\u001b[A\n\n100%|██████████|data/prepared/train.tsv   18.2M/18.2M [00:04<00:00,    5.71MB/s]\u001b[A\u001b[A\n 62% Uploading|█████████████████████▎            |5/8 [00:05<00:03,  1.12s/file]\n\n\n\n\n\n 55%|█████▌    |data/data.xml             20.0M/36.1M [00:05<00:02,    5.71MB/s]\u001b[A\u001b[A\u001b[A\u001b[A\u001b[A\u001b[A\n\n 75% Uploading|█████████████████████████▌        |6/8 [00:07<00:02,  1.46s/file]\n!\u001b[A\n  0%|          |data/prepared                       0/137 [00:00<?,       ?it/s]\u001b[A\n100%|██████████|data/prepared                 137/137 [00:00<00:00,      546B/s]\u001b[A\n 88% Uploading|█████████████████████████████▊    |7/8 [00:08<00:01,  1.23s/file]\n\n\n\n\n\n 83%|████████▎ |data/data.xml             30.0M/36.1M [00:08<00:01,    4.89MB/s]\u001b[A\u001b[A\u001b[A\u001b[A\u001b[A\u001b[A\n\n\n\n\n\n100%|██████████|data/data.xml             36.1M/36.1M [00:10<00:00,    4.13MB/s]\u001b[A\u001b[A\u001b[A\u001b[A\u001b[A\u001b[A\n\n\n\n\n\n100% Uploading|██████████████████████████████████|8/8 [00:12<00:00,  2.18s/file]8 files pushed\n\u001b[0m"
    }
   ],
   "source": [
    "! dvc push"
   ]
  },
  {
   "cell_type": "code",
   "execution_count": 2,
   "metadata": {
    "tags": []
   },
   "outputs": [
    {
     "output_type": "stream",
     "name": "stdout",
     "text": "/bin/bash: dvg: command not found\n"
    }
   ],
   "source": [
    "! dvc dag"
   ]
  },
  {
   "cell_type": "code",
   "execution_count": null,
   "metadata": {},
   "outputs": [],
   "source": []
  }
 ]
}