{
 "metadata": {
  "language_info": {
   "codemirror_mode": {
    "name": "ipython",
    "version": 3
   },
   "file_extension": ".py",
   "mimetype": "text/x-python",
   "name": "python",
   "nbconvert_exporter": "python",
   "pygments_lexer": "ipython3",
   "version": "3.8.1-final"
  },
  "orig_nbformat": 2,
  "kernelspec": {
   "name": "python_defaultSpec_1596726560165",
   "display_name": "Python 3.8.1 64-bit ('dvc_intro': pipenv)"
  }
 },
 "nbformat": 4,
 "nbformat_minor": 2,
 "cells": [
  {
   "cell_type": "code",
   "execution_count": 56,
   "metadata": {
    "tags": []
   },
   "outputs": [
    {
     "output_type": "stream",
     "name": "stdout",
     "text": "\nYou can now commit the changes to git.\n\n\u001b[31m+---------------------------------------------------------------------+\n\u001b[39m\u001b[31m|\u001b[39m                                                                     \u001b[31m|\u001b[39m\n\u001b[31m|\u001b[39m        DVC has enabled anonymous aggregate usage analytics.         \u001b[31m|\u001b[39m\n\u001b[31m|\u001b[39m     Read the analytics documentation (and how to opt-out) here:     \u001b[31m|\u001b[39m\n\u001b[31m|\u001b[39m              \u001b[34mhttps://dvc.org/doc/user-guide/analytics\u001b[39m               \u001b[31m|\u001b[39m\n\u001b[31m|\u001b[39m                                                                     \u001b[31m|\u001b[39m\n\u001b[31m+---------------------------------------------------------------------+\n\u001b[39m\n\u001b[33mWhat's next?\u001b[39m\n\u001b[33m------------\u001b[39m\n- Check out the documentation: \u001b[34mhttps://dvc.org/doc\u001b[39m\n- Get help and share ideas: \u001b[34mhttps://dvc.org/chat\u001b[39m\n- Star us on GitHub: \u001b[34mhttps://github.com/iterative/dvc\u001b[39m\n\u001b[0m"
    }
   ],
   "source": [
    "! dvc init"
   ]
  },
  {
   "cell_type": "markdown",
   "metadata": {},
   "source": [
    "## Load data"
   ]
  },
  {
   "cell_type": "code",
   "execution_count": 57,
   "metadata": {
    "tags": []
   },
   "outputs": [
    {
     "output_type": "stream",
     "name": "stdout",
     "text": "The dotenv extension is already loaded. To reload it, use:\n  %reload_ext dotenv\n"
    }
   ],
   "source": [
    "%load_ext dotenv\n",
    "%dotenv"
   ]
  },
  {
   "cell_type": "code",
   "execution_count": 58,
   "metadata": {
    "tags": []
   },
   "outputs": [
    {
     "output_type": "stream",
     "name": "stdout",
     "text": "0% Downloading|                                    |0/1 [00:00<?,     ?file/s]\n!\u001b[A\n  0%|          |get-started/data.xml           0.00/37.9M [00:00<?,       ?it/s]\u001b[A\n  0%|          |get-started/data.xml      64.0k/36.1M [00:00<02:45,     229kB/s]\u001b[A\n  0%|          |get-started/data.xml       128k/36.1M [00:00<02:20,     269kB/s]\u001b[A\n  1%|          |get-started/data.xml       192k/36.1M [00:00<02:05,     300kB/s]\u001b[A\n  1%|          |get-started/data.xml       256k/36.1M [00:00<01:48,     345kB/s]\u001b[A\n  1%|▏         |get-started/data.xml       512k/36.1M [00:00<01:21,     456kB/s]\u001b[A\n  2%|▏         |get-started/data.xml       640k/36.1M [00:01<01:09,     537kB/s]\u001b[A\n  2%|▏         |get-started/data.xml       768k/36.1M [00:01<01:00,     609kB/s]\u001b[A\n  2%|▏         |get-started/data.xml       896k/36.1M [00:01<00:54,     676kB/s]\u001b[A\n  3%|▎         |get-started/data.xml      1.00M/36.1M [00:01<00:50,     728kB/s]\u001b[A\n  3%|▎         |get-started/data.xml      1.12M/36.1M [00:01<00:47,     778kB/s]\u001b[A\n  3%|▎         |get-started/data.xml      1.25M/36.1M [00:01<00:45,     800kB/s]\u001b[A\n  4%|▍         |get-started/data.xml      1.38M/36.1M [00:01<00:43,     832kB/s]\u001b[A\n  4%|▍         |get-started/data.xml      1.50M/36.1M [00:02<00:42,     849kB/s]\u001b[A\n  4%|▍         |get-started/data.xml      1.62M/36.1M [00:02<00:41,     872kB/s]\u001b[A\n  5%|▍         |get-started/data.xml      1.75M/36.1M [00:02<00:40,     880kB/s]\u001b[A\n  5%|▌         |get-started/data.xml      1.88M/36.1M [00:02<00:40,     897kB/s]\u001b[A\n  6%|▌         |get-started/data.xml      2.00M/36.1M [00:02<00:39,     901kB/s]\u001b[A\n  6%|▌         |get-started/data.xml      2.12M/36.1M [00:02<00:39,     904kB/s]\u001b[A\n  6%|▌         |get-started/data.xml      2.25M/36.1M [00:02<00:38,     912kB/s]\u001b[A\n  7%|▋         |get-started/data.xml      2.38M/36.1M [00:03<00:38,     911kB/s]\u001b[A\n  7%|▋         |get-started/data.xml      2.50M/36.1M [00:03<00:38,     917kB/s]\u001b[A\n  7%|▋         |get-started/data.xml      2.62M/36.1M [00:03<00:38,     916kB/s]\u001b[A\n  8%|▊         |get-started/data.xml      2.75M/36.1M [00:03<00:37,     927kB/s]\u001b[A\n  8%|▊         |get-started/data.xml      2.88M/36.1M [00:03<00:37,     920kB/s]\u001b[A\n  8%|▊         |get-started/data.xml      3.00M/36.1M [00:03<00:37,     931kB/s]\u001b[A\n  9%|▊         |get-started/data.xml      3.12M/36.1M [00:03<00:37,     927kB/s]\u001b[A\n  9%|▉         |get-started/data.xml      3.25M/36.1M [00:04<00:36,     933kB/s]\u001b[A\n  9%|▉         |get-started/data.xml      3.38M/36.1M [00:04<00:37,     927kB/s]\u001b[A\n 10%|▉         |get-started/data.xml      3.50M/36.1M [00:04<00:36,     926kB/s]\u001b[A\n 10%|█         |get-started/data.xml      3.62M/36.1M [00:04<00:37,     921kB/s]\u001b[A\n 10%|█         |get-started/data.xml      3.75M/36.1M [00:04<00:36,     941kB/s]\u001b[A\n 11%|█         |get-started/data.xml      3.88M/36.1M [00:04<00:36,     926kB/s]\u001b[A\n 11%|█         |get-started/data.xml      4.00M/36.1M [00:04<00:36,     935kB/s]\u001b[A\n 11%|█▏        |get-started/data.xml      4.12M/36.1M [00:04<00:36,     929kB/s]\u001b[A\n 12%|█▏        |get-started/data.xml      4.25M/36.1M [00:05<00:36,     924kB/s]\u001b[A\n 12%|█▏        |get-started/data.xml      4.38M/36.1M [00:05<00:35,     931kB/s]\u001b[A\n 12%|█▏        |get-started/data.xml      4.50M/36.1M [00:05<00:35,     925kB/s]\u001b[A\n 13%|█▎        |get-started/data.xml      4.62M/36.1M [00:05<00:34,     947kB/s]\u001b[A\n 13%|█▎        |get-started/data.xml      4.75M/36.1M [00:05<00:35,     923kB/s]\u001b[A\n 14%|█▎        |get-started/data.xml      4.94M/36.1M [00:05<00:33,     983kB/s]\u001b[A\n 14%|█▍        |get-started/data.xml      5.06M/36.1M [00:06<00:33,     986kB/s]\u001b[A\n 14%|█▍        |get-started/data.xml      5.19M/36.1M [00:06<00:33,     966kB/s]\u001b[A\n 15%|█▍        |get-started/data.xml      5.31M/36.1M [00:06<00:33,     953kB/s]\u001b[A\n 15%|█▌        |get-started/data.xml      5.44M/36.1M [00:06<00:34,     946kB/s]\u001b[A\n 15%|█▌        |get-started/data.xml      5.56M/36.1M [00:06<00:34,     938kB/s]\u001b[A\n 16%|█▌        |get-started/data.xml      5.69M/36.1M [00:06<00:33,     965kB/s]\u001b[A\n 16%|█▌        |get-started/data.xml      5.81M/36.1M [00:06<00:33,     955kB/s]\u001b[A\n 17%|█▋        |get-started/data.xml      6.00M/36.1M [00:07<00:31,    1.01MB/s]\u001b[A\n 17%|█▋        |get-started/data.xml      6.12M/36.1M [00:07<00:31,    1.00MB/s]\u001b[A\n 17%|█▋        |get-started/data.xml      6.25M/36.1M [00:07<00:31,     995kB/s]\u001b[A\n 18%|█▊        |get-started/data.xml      6.38M/36.1M [00:07<00:31,     991kB/s]\u001b[A\n 18%|█▊        |get-started/data.xml      6.56M/36.1M [00:07<00:29,    1.04MB/s]\u001b[A\n 19%|█▊        |get-started/data.xml      6.69M/36.1M [00:07<00:29,    1.05MB/s]\u001b[A\n 19%|█▉        |get-started/data.xml      6.81M/36.1M [00:07<00:29,    1.03MB/s]\u001b[A\n 19%|█▉        |get-started/data.xml      7.00M/36.1M [00:08<00:28,    1.07MB/s]\u001b[A\n 20%|█▉        |get-started/data.xml      7.12M/36.1M [00:08<00:28,    1.08MB/s]\u001b[A\n 20%|██        |get-started/data.xml      7.31M/36.1M [00:08<00:27,    1.10MB/s]\u001b[A\n 21%|██        |get-started/data.xml      7.44M/36.1M [00:08<00:27,    1.11MB/s]\u001b[A\n 21%|██        |get-started/data.xml      7.62M/36.1M [00:08<00:25,    1.16MB/s]\u001b[A\n 22%|██▏       |get-started/data.xml      7.81M/36.1M [00:08<00:25,    1.18MB/s]\u001b[A\n 22%|██▏       |get-started/data.xml      7.94M/36.1M [00:08<00:25,    1.17MB/s]\u001b[A\n 22%|██▏       |get-started/data.xml      8.12M/36.1M [00:08<00:24,    1.22MB/s]\u001b[A\n 23%|██▎       |get-started/data.xml      8.31M/36.1M [00:09<00:23,    1.26MB/s]\u001b[A\n 24%|██▎       |get-started/data.xml      8.50M/36.1M [00:09<00:22,    1.29MB/s]\u001b[A\n 24%|██▍       |get-started/data.xml      8.69M/36.1M [00:09<00:21,    1.31MB/s]\u001b[A\n 25%|██▍       |get-started/data.xml      8.88M/36.1M [00:09<00:21,    1.35MB/s]\u001b[A\n 25%|██▌       |get-started/data.xml      9.06M/36.1M [00:09<00:19,    1.48MB/s]\u001b[A\n 26%|██▌       |get-started/data.xml      9.25M/36.1M [00:09<00:19,    1.45MB/s]\u001b[A\n 26%|██▌       |get-started/data.xml      9.44M/36.1M [00:09<00:17,    1.57MB/s]\u001b[A\n 27%|██▋       |get-started/data.xml      9.62M/36.1M [00:10<00:17,    1.55MB/s]\u001b[A\n 27%|██▋       |get-started/data.xml      9.81M/36.1M [00:10<00:18,    1.53MB/s]\u001b[A\n 28%|██▊       |get-started/data.xml      10.0M/36.1M [00:10<00:17,    1.56MB/s]\u001b[A\n 28%|██▊       |get-started/data.xml      10.2M/36.1M [00:10<00:17,    1.59MB/s]\u001b[A\n 29%|██▉       |get-started/data.xml      10.4M/36.1M [00:10<00:16,    1.66MB/s]\u001b[A\n 30%|██▉       |get-started/data.xml      10.7M/36.1M [00:10<00:15,    1.72MB/s]\u001b[A\n 30%|███       |get-started/data.xml      10.9M/36.1M [00:10<00:14,    1.85MB/s]\u001b[A\n 31%|███       |get-started/data.xml      11.2M/36.1M [00:10<00:13,    1.90MB/s]\u001b[A\n 31%|███▏      |get-started/data.xml      11.4M/36.1M [00:11<00:13,    1.90MB/s]\u001b[A\n 32%|███▏      |get-started/data.xml      11.6M/36.1M [00:11<00:13,    1.89MB/s]\u001b[A\n 33%|███▎      |get-started/data.xml      11.8M/36.1M [00:11<00:12,    1.97MB/s]\u001b[A\n 34%|███▎      |get-started/data.xml      12.1M/36.1M [00:11<00:12,    2.03MB/s]\u001b[A\n 34%|███▍      |get-started/data.xml      12.4M/36.1M [00:11<00:11,    2.10MB/s]\u001b[A\n 35%|███▌      |get-started/data.xml      12.8M/36.1M [00:11<00:11,    2.20MB/s]\u001b[A\n 36%|███▌      |get-started/data.xml      13.1M/36.1M [00:11<00:10,    2.38MB/s]\u001b[A\n 37%|███▋      |get-started/data.xml      13.4M/36.1M [00:11<00:09,    2.52MB/s]\u001b[A\n 38%|███▊      |get-started/data.xml      13.6M/36.1M [00:12<00:09,    2.45MB/s]\u001b[A\n 38%|███▊      |get-started/data.xml      13.9M/36.1M [00:12<00:09,    2.39MB/s]\u001b[A\n 39%|███▉      |get-started/data.xml      14.2M/36.1M [00:12<00:09,    2.49MB/s]\u001b[A\n 40%|████      |get-started/data.xml      14.6M/36.1M [00:12<00:08,    2.59MB/s]\u001b[A\n 41%|████▏     |get-started/data.xml      14.9M/36.1M [00:12<00:07,    2.87MB/s]\u001b[A\n 42%|████▏     |get-started/data.xml      15.2M/36.1M [00:12<00:07,    2.90MB/s]\u001b[A\n 43%|████▎     |get-started/data.xml      15.6M/36.1M [00:12<00:07,    2.84MB/s]\u001b[A\n 44%|████▍     |get-started/data.xml      15.9M/36.1M [00:12<00:07,    2.91MB/s]\u001b[A\n 45%|████▌     |get-started/data.xml      16.3M/36.1M [00:12<00:06,    3.04MB/s]\u001b[A\n 46%|████▋     |get-started/data.xml      16.8M/36.1M [00:13<00:06,    3.29MB/s]\u001b[A\n 47%|████▋     |get-started/data.xml      17.1M/36.1M [00:13<00:05,    3.42MB/s]\u001b[A\n 48%|████▊     |get-started/data.xml      17.5M/36.1M [00:13<00:05,    3.34MB/s]\u001b[A\n 49%|████▉     |get-started/data.xml      17.9M/36.1M [00:13<00:05,    3.38MB/s]\u001b[A\n 51%|█████     |get-started/data.xml      18.3M/36.1M [00:13<00:05,    3.54MB/s]\u001b[A\n 52%|█████▏    |get-started/data.xml      18.8M/36.1M [00:13<00:04,    3.81MB/s]\u001b[A\n 53%|█████▎    |get-started/data.xml      19.2M/36.1M [00:13<00:06,    2.67MB/s]\u001b[A\n 55%|█████▌    |get-started/data.xml      20.0M/36.1M [00:14<00:05,    3.32MB/s]\u001b[A\n 57%|█████▋    |get-started/data.xml      20.4M/36.1M [00:14<00:05,    3.16MB/s]\u001b[A\n 58%|█████▊    |get-started/data.xml      20.9M/36.1M [00:14<00:05,    3.17MB/s]\u001b[A\n 59%|█████▉    |get-started/data.xml      21.2M/36.1M [00:14<00:04,    3.19MB/s]\u001b[A\n 60%|█████▉    |get-started/data.xml      21.6M/36.1M [00:14<00:04,    3.22MB/s]\u001b[A\n 61%|██████    |get-started/data.xml      22.0M/36.1M [00:14<00:04,    3.26MB/s]\u001b[A\n 62%|██████▏   |get-started/data.xml      22.4M/36.1M [00:14<00:04,    3.43MB/s]\u001b[A\n 63%|██████▎   |get-started/data.xml      22.8M/36.1M [00:14<00:04,    3.30MB/s]\u001b[A\n 64%|██████▍   |get-started/data.xml      23.1M/36.1M [00:15<00:04,    3.32MB/s]\u001b[A\n 65%|██████▌   |get-started/data.xml      23.5M/36.1M [00:15<00:03,    3.35MB/s]\u001b[A\n 66%|██████▌   |get-started/data.xml      23.9M/36.1M [00:15<00:03,    3.51MB/s]\u001b[A\n 67%|██████▋   |get-started/data.xml      24.2M/36.1M [00:15<00:03,    3.55MB/s]\u001b[A\n 68%|██████▊   |get-started/data.xml      24.6M/36.1M [00:15<00:03,    3.43MB/s]\u001b[A\n 69%|██████▉   |get-started/data.xml      25.0M/36.1M [00:15<00:03,    3.52MB/s]\u001b[A\n 70%|███████   |get-started/data.xml      25.4M/36.1M [00:15<00:03,    3.63MB/s]\u001b[A\n 72%|███████▏  |get-started/data.xml      25.9M/36.1M [00:15<00:02,    3.73MB/s]\u001b[A\n 73%|███████▎  |get-started/data.xml      26.2M/36.1M [00:15<00:02,    3.66MB/s]\u001b[A\n 74%|███████▎  |get-started/data.xml      26.6M/36.1M [00:16<00:02,    3.68MB/s]\u001b[A\n 75%|███████▍  |get-started/data.xml      27.0M/36.1M [00:16<00:02,    3.63MB/s]\u001b[A\n 76%|███████▌  |get-started/data.xml      27.5M/36.1M [00:16<00:02,    3.77MB/s]\u001b[A\n 77%|███████▋  |get-started/data.xml      27.9M/36.1M [00:16<00:02,    3.92MB/s]\u001b[A\n 79%|███████▊  |get-started/data.xml      28.4M/36.1M [00:16<00:02,    3.82MB/s]\u001b[A\n 80%|███████▉  |get-started/data.xml      28.8M/36.1M [00:16<00:02,    3.83MB/s]\u001b[A\n 81%|████████  |get-started/data.xml      29.2M/36.1M [00:16<00:01,    3.81MB/s]\u001b[A\n 82%|████████▏ |get-started/data.xml      29.6M/36.1M [00:16<00:01,    3.98MB/s]\u001b[A\n 83%|████████▎ |get-started/data.xml      30.1M/36.1M [00:16<00:01,    4.02MB/s]\u001b[A\n 84%|████████▍ |get-started/data.xml      30.5M/36.1M [00:17<00:01,    3.87MB/s]\u001b[A\n 86%|████████▌ |get-started/data.xml      30.9M/36.1M [00:17<00:01,    3.98MB/s]\u001b[A\n 87%|████████▋ |get-started/data.xml      31.4M/36.1M [00:17<00:01,    3.98MB/s]\u001b[A\n 88%|████████▊ |get-started/data.xml      31.8M/36.1M [00:17<00:01,    4.13MB/s]\u001b[A\n 89%|████████▉ |get-started/data.xml      32.2M/36.1M [00:17<00:01,    4.06MB/s]\u001b[A\n 90%|█████████ |get-started/data.xml      32.7M/36.1M [00:17<00:00,    4.02MB/s]\u001b[A\n 92%|█████████▏|get-started/data.xml      33.1M/36.1M [00:17<00:00,    4.03MB/s]\u001b[A\n 93%|█████████▎|get-started/data.xml      33.6M/36.1M [00:17<00:00,    4.15MB/s]\u001b[A\n 94%|█████████▍|get-started/data.xml      34.0M/36.1M [00:17<00:00,    4.17MB/s]\u001b[A\n 95%|█████████▌|get-started/data.xml      34.4M/36.1M [00:18<00:00,    4.07MB/s]\u001b[A\n 97%|█████████▋|get-started/data.xml      34.9M/36.1M [00:18<00:00,    4.12MB/s]\u001b[A\n 98%|█████████▊|get-started/data.xml      35.3M/36.1M [00:18<00:00,    3.97MB/s]\u001b[A\n 99%|█████████▉|get-started/data.xml      35.8M/36.1M [00:18<00:00,    3.56MB/s]\u001b[A\n100% Add|██████████████████████████████████████████████|1/1 [00:00,  1.86file/s]\n\nTo track the changes with git, run:\n\n\tgit add data/data.xml.dvc data/.gitignore\n\u001b[0m"
    }
   ],
   "source": [
    "! dvc get https://github.com/iterative/dataset-registry \\\n",
    "          get-started/data.xml -o data/data.xml\n",
    "! dvc add data/data.xml"
   ]
  },
  {
   "cell_type": "markdown",
   "metadata": {},
   "source": [
    "## Create a pipeline with some steps. i.e.:\n",
    "    *  prepare data\n",
    "    *  turn data into features\n",
    "    *  train models from features\n",
    "    *  evaluate models"
   ]
  },
  {
   "cell_type": "code",
   "execution_count": 59,
   "metadata": {
    "tags": []
   },
   "outputs": [
    {
     "output_type": "stream",
     "name": "stdout",
     "text": "If DVC froze, see `hardlink_lock` in <\u001b[36mhttps://man.dvc.org/config#core\u001b[39m>Running stage 'prepare' with command:\n\tpython src/prepare.py data/data.xml\nCreating 'dvc.yaml'\nAdding stage 'prepare' in 'dvc.yaml'\nGenerating lock file 'dvc.lock'\n\nTo track the changes with git, run:\n\n\tgit add dvc.yaml data/.gitignore dvc.lock\n\u001b[0m"
    }
   ],
   "source": [
    "! dvc run -f -n prepare \\\n",
    "             -p prepare.seed,prepare.split \\\n",
    "             -d src/prepare.py -d data/data.xml \\\n",
    "             -o data/prepared \\\n",
    "             python src/prepare.py data/data.xml"
   ]
  },
  {
   "cell_type": "code",
   "execution_count": 60,
   "metadata": {
    "tags": []
   },
   "outputs": [
    {
     "output_type": "stream",
     "name": "stdout",
     "text": "If DVC froze, see `hardlink_lock` in <\u001b[36mhttps://man.dvc.org/config#core\u001b[39m>Running stage 'featurize' with command:\n\tpython src/featurization.py data/prepared data/features\nThe input data frame data/prepared/train.tsv size is (20017, 3)\nThe output matrix data/features/train.pkl size is (20017, 502) and data type is float64\nThe input data frame data/prepared/test.tsv size is (4983, 3)\nThe output matrix data/features/test.pkl size is (4983, 502) and data type is float64\n  0% Saving features|                          |0.00/2.00 [00:00<?,     ?file/s]Adding stage 'featurize' in 'dvc.yaml'\nUpdating lock file 'dvc.lock'\n\nTo track the changes with git, run:\n\n\tgit add data/.gitignore dvc.lock dvc.yaml\n\u001b[0m"
    }
   ],
   "source": [
    "! dvc run -f -n featurize \\\n",
    "          -p featurize.max_features,featurize.ngrams \\\n",
    "          -d src/featurization.py -d data/prepared \\\n",
    "          -o data/features \\\n",
    "          python src/featurization.py data/prepared data/features"
   ]
  },
  {
   "cell_type": "code",
   "execution_count": 61,
   "metadata": {
    "tags": []
   },
   "outputs": [
    {
     "output_type": "stream",
     "name": "stdout",
     "text": "If DVC froze, see `hardlink_lock` in <\u001b[36mhttps://man.dvc.org/config#core\u001b[39m>Running stage 'train' with command:\n\tpython src/train.py data/features model.pkl\nInput matrix size (20017, 502)\nX matrix size (20017, 500)\nY matrix size (20017,)\nIf DVC froze, see `hardlink_lock` in <\u001b[36mhttps://man.dvc.org/config#core\u001b[39m>Adding stage 'train' in 'dvc.yaml'\nUpdating lock file 'dvc.lock'\n\nTo track the changes with git, run:\n\n\tgit add dvc.yaml dvc.lock\n\u001b[0m"
    }
   ],
   "source": [
    "! dvc run -f -n train \\\n",
    "          -p train.seed,train.n_estimators \\\n",
    "          -d src/train.py -d data/features \\\n",
    "          -o model.pkl \\\n",
    "          python src/train.py data/features model.pkl"
   ]
  },
  {
   "cell_type": "code",
   "execution_count": 62,
   "metadata": {
    "tags": []
   },
   "outputs": [
    {
     "output_type": "stream",
     "name": "stdout",
     "text": "If DVC froze, see `hardlink_lock` in <\u001b[36mhttps://man.dvc.org/config#core\u001b[39m>Running stage 'evaluate' with command:\n\tpython src/evaluate.py model.pkl data/features scores.json prc.json\nIf DVC froze, see `hardlink_lock` in <\u001b[36mhttps://man.dvc.org/config#core\u001b[39m>Adding stage 'evaluate' in 'dvc.yaml'\nUpdating lock file 'dvc.lock'\n\nTo track the changes with git, run:\n\n\tgit add dvc.yaml dvc.lock\n\u001b[0m"
    }
   ],
   "source": [
    "! dvc run -f -n evaluate \\\n",
    "          -d src/evaluate.py -d model.pkl -d data/features \\\n",
    "          -M scores.json \\\n",
    "          --plots-no-cache prc.json \\\n",
    "          python src/evaluate.py model.pkl \\\n",
    "                 data/features scores.json prc.json"
   ]
  },
  {
   "cell_type": "code",
   "execution_count": 63,
   "metadata": {
    "tags": []
   },
   "outputs": [
    {
     "output_type": "stream",
     "name": "stdout",
     "text": "If DVC froze, see `hardlink_lock` in <\u001b[36mhttps://man.dvc.org/config#core\u001b[39m>Stage 'data/data.xml.dvc' didn't change, skipping\nStage 'prepare' didn't change, skipping\nStage 'featurize' didn't change, skipping\nStage 'train' didn't change, skipping\nStage 'evaluate' didn't change, skipping\nData and pipelines are up to date.\n\u001b[0m"
    }
   ],
   "source": [
    "! dvc repro"
   ]
  },
  {
   "cell_type": "code",
   "execution_count": 65,
   "metadata": {
    "tags": []
   },
   "outputs": [
    {
     "output_type": "stream",
     "name": "stdout",
     "text": "On branch data_pipelines\nnothing to commit, working tree clean\nEnumerating objects: 13, done.\nCounting objects: 100% (13/13), done.\nDelta compression using up to 8 threads\nCompressing objects: 100% (8/8), done.\nWriting objects: 100% (9/9), 9.42 KiB | 1.88 MiB/s, done.\nTotal 9 (delta 5), reused 0 (delta 0), pack-reused 0\nremote: Resolving deltas: 100% (5/5), completed with 3 local objects.\u001b[K\nTo github.com:NichitaDiaconu/dvc_intro.git\n   70bd6eb..9d3c7c6  data_pipelines -> data_pipelines\n"
    }
   ],
   "source": [
    "! dvc remote add -df myremote gs://dvc_intro\n",
    "! git add .\n",
    "! git commit -m 'run'\n",
    "! git push origin data_pipelines"
   ]
  },
  {
   "cell_type": "code",
   "execution_count": 66,
   "metadata": {
    "tags": []
   },
   "outputs": [
    {
     "output_type": "stream",
     "name": "stdout",
     "text": "{\"auc\": 0.5417487597055675}"
    }
   ],
   "source": [
    "! cat scores.json"
   ]
  },
  {
   "cell_type": "code",
   "execution_count": 67,
   "metadata": {
    "tags": []
   },
   "outputs": [
    {
     "output_type": "stream",
     "name": "stdout",
     "text": "0% Uploading|                                      |0/1 [00:00<?,     ?file/s]\n!\u001b[A\n  0%|          |data/data.xml                  0.00/37.9M [00:00<?,       ?it/s]\u001b[A\n 28%|██▊       |data/data.xml             10.0M/36.1M [00:00<00:00,    54.2MB/s]\u001b[A\n 55%|█████▌    |data/data.xml             20.0M/36.1M [00:02<00:01,    15.3MB/s]\u001b[A\n 83%|████████▎ |data/data.xml             30.0M/36.1M [00:03<00:00,    10.7MB/s]\u001b[A\n100%|██████████|data/data.xml             36.1M/36.1M [00:05<00:00,    6.66MB/s]\u001b[A\n1 file pushed\n\u001b[0m"
    }
   ],
   "source": [
    "! dvc push"
   ]
  },
  {
   "cell_type": "code",
   "execution_count": 68,
   "metadata": {
    "tags": []
   },
   "outputs": [
    {
     "output_type": "stream",
     "name": "stdout",
     "text": "\u001b7\u001b[?47h\u001b[?1h\u001b=\n\n\n\n\n\n\n\n\n\n\n\n\n\n\n\n\n\n\n\n\n\n\n\u001b[H\u001b[2J\u001b[H\u001b[H\u001b[2J\u001b[H    +-------------------+  \n    | data/data.xml.dvc |  \n    +-------------------+  \n              *            \n              *            \n              *            \n         +---------+       \n         | prepare |       \n         +---------+       \n              *            \n              *            \n              *            \n        +-----------+      \n        | featurize |      \n        +-----------+      \n         **        **      \n       **            *     \n      *               **   \n+-------+               *  \n| train |             **   \n+-------+            *     \n         **        **      \n           **    **        \n\u001b[7m/tmp/tmpym5wv_cb\u001b[m\u001b[K"
    }
   ],
   "source": [
    "! dvc dag"
   ]
  },
  {
   "cell_type": "code",
   "execution_count": 69,
   "metadata": {},
   "outputs": [],
   "source": [
    "! rm -rf data/features\n",
    "! rm -rf data/prepared\n",
    "! rm -rf data/data.xml\n",
    "! rm -rf model.pkl\n",
    "! rm -rf .dvc/tmp"
   ]
  },
  {
   "cell_type": "code",
   "execution_count": null,
   "metadata": {},
   "outputs": [],
   "source": []
  },
  {
   "cell_type": "markdown",
   "metadata": {},
   "source": [
    "### We can have as many pipeline steps that we want\n",
    "### Each can be computed sequentially on separate machines and what not"
   ]
  },
  {
   "cell_type": "code",
   "execution_count": null,
   "metadata": {},
   "outputs": [],
   "source": []
  }
 ]
}