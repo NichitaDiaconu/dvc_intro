{
 "metadata": {
  "language_info": {
   "codemirror_mode": {
    "name": "ipython",
    "version": 3
   },
   "file_extension": ".py",
   "mimetype": "text/x-python",
   "name": "python",
   "nbconvert_exporter": "python",
   "pygments_lexer": "ipython3",
   "version": "3.8.1-final"
  },
  "orig_nbformat": 2,
  "kernelspec": {
   "name": "python_defaultSpec_1596726770288",
   "display_name": "Python 3.8.1 64-bit ('dvc_intro': pipenv)"
  }
 },
 "nbformat": 4,
 "nbformat_minor": 2,
 "cells": [
  {
   "cell_type": "code",
   "execution_count": 59,
   "metadata": {
    "tags": []
   },
   "outputs": [
    {
     "output_type": "stream",
     "name": "stdout",
     "text": "The dotenv extension is already loaded. To reload it, use:\n  %reload_ext dotenv\n"
    }
   ],
   "source": [
    "%load_ext dotenv\n",
    "%dotenv"
   ]
  },
  {
   "cell_type": "code",
   "execution_count": 60,
   "metadata": {
    "tags": [
     "outputPrepend"
    ]
   },
   "outputs": [
    {
     "output_type": "stream",
     "name": "stdout",
     "text": "/1 [00:00<?,     ?file/s]\n!\u001b[A\n  0%|          |data/prepared                       0/137 [00:00<?,       ?it/s]\u001b[A\n100%|██████████|data/prepared                 137/137 [00:00<00:00,      356B/s]\u001b[A\n  0% Downloading|                                    |0/1 [00:00<?,     ?file/s]\n!\u001b[A\n  0%|          |data/features                       0/137 [00:00<?,       ?it/s]\u001b[A\n100%|██████████|data/features                 137/137 [00:00<00:00,      378B/s]\u001b[A\n  0% Downloading|                                    |0/6 [00:00<?,     ?file/s]\n!\u001b[A\n  0%|          |data/prepared/test.tsv         0.00/4.76M [00:00<?,       ?it/s]\u001b[A\n\n!\u001b[A\u001b[A\n\n  0%|          |data/prepared/train.tsv        0.00/19.1M [00:00<?,       ?it/s]\u001b[A\u001b[A\n\n\n!\u001b[A\u001b[A\u001b[A\n\n\n  0%|          |model.pkl                      0.00/2.66M [00:00<?,       ?it/s]\u001b[A\u001b[A\u001b[A\n\n\n\n!\u001b[A\u001b[A\u001b[A\u001b[A\n\n\n\n  0%|          |data/features/test.pkl         0.00/1.41M [00:00<?,       ?it/s]\u001b[A\u001b[A\u001b[A\u001b[A\n\n\n\n\n!\u001b[A\u001b[A\u001b[A\u001b[A\u001b[A\n\n\n\n\n  0%|          |data/data.xml                  0.00/37.9M [00:00<?,       ?it/s]\u001b[A\u001b[A\u001b[A\u001b[A\u001b[A\n\n\n\n\n\n!\u001b[A\u001b[A\u001b[A\u001b[A\u001b[A\u001b[A\n\n\n\n\n\n  0%|          |data/features/train.pkl        0.00/5.67M [00:00<?,       ?it/s]\u001b[A\u001b[A\u001b[A\u001b[A\u001b[A\u001b[A\n  0%|          |data/prepared/test.tsv    8.00k/4.54M [00:00<04:06,    19.3kB/s]\u001b[A\n\n  0%|          |data/prepared/train.tsv   8.00k/18.2M [00:00<18:43,    17.0kB/s]\u001b[A\u001b[A\n\n\n  0%|          |model.pkl                 8.00k/2.54M [00:00<02:22,    18.6kB/s]\u001b[A\u001b[A\u001b[A\n  6%|▌         |data/prepared/test.tsv     280k/4.54M [00:00<02:43,    27.4kB/s]\u001b[A\n\n  0%|          |data/prepared/train.tsv   80.0k/18.2M [00:00<13:11,    24.0kB/s]\u001b[A\u001b[A\n\n\n\n\n\n  0%|          |data/features/train.pkl   8.00k/5.41M [00:00<05:09,    18.3kB/s]\u001b[A\u001b[A\u001b[A\u001b[A\u001b[A\u001b[A\n\n\n  2%|▏         |model.pkl                 64.0k/2.54M [00:00<01:39,    26.2kB/s]\u001b[A\u001b[A\u001b[A\n\n\n\n\n  0%|          |data/data.xml             8.00k/36.1M [00:00<38:28,    16.4kB/s]\u001b[A\u001b[A\u001b[A\u001b[A\u001b[A\n 20%|█▉        |data/prepared/test.tsv     920k/4.54M [00:00<01:37,    39.1kB/s]\u001b[A\n\n\n\n  1%|          |data/features/test.pkl    8.00k/1.35M [00:00<01:30,    15.5kB/s]\u001b[A\u001b[A\u001b[A\u001b[A\n\n\n\n\n\n  1%|          |data/features/train.pkl   40.0k/5.41M [00:00<03:40,    25.5kB/s]\u001b[A\u001b[A\u001b[A\u001b[A\u001b[A\u001b[A\n\n  1%|          |data/prepared/train.tsv    168k/18.2M [00:00<09:21,    33.7kB/s]\u001b[A\u001b[A\n\n\n  6%|▌         |model.pkl                  144k/2.54M [00:00<01:08,    36.8kB/s]\u001b[A\u001b[A\u001b[A\n 27%|██▋       |data/prepared/test.tsv    1.22M/4.54M [00:00<01:02,    55.5kB/s]\u001b[A\n\n\n\n\n\n  2%|▏         |data/features/train.pkl    120k/5.41M [00:00<02:34,    36.0kB/s]\u001b[A\u001b[A\u001b[A\u001b[A\u001b[A\u001b[A\n\n  1%|▏         |data/prepared/train.tsv    264k/18.2M [00:00<06:37,    47.4kB/s]\u001b[A\u001b[A\n\n\n\n  6%|▋         |data/features/test.pkl    88.0k/1.35M [00:00<01:00,    21.8kB/s]\u001b[A\u001b[A\u001b[A\u001b[A\n\n\n\n\n\n  7%|▋         |data/features/train.pkl    376k/5.41M [00:00<01:43,    51.1kB/s]\u001b[A\u001b[A\u001b[A\u001b[A\u001b[A\u001b[A\n 37%|███▋      |data/prepared/test.tsv    1.67M/4.54M [00:00<00:38,    78.8kB/s]\u001b[A\n\n\n 11%|█         |model.pkl                  280k/2.54M [00:00<00:46,    51.5kB/s]\u001b[A\u001b[A\u001b[A\n\n\n\n 12%|█▏        |data/features/test.pkl     168k/1.35M [00:00<00:40,    30.7kB/s]\u001b[A\u001b[A\u001b[A\u001b[A\n\n  2%|▏         |data/prepared/train.tsv    352k/18.2M [00:00<04:45,    65.6kB/s]\u001b[A\u001b[A\n\n\n\n\n\n  9%|▉         |data/features/train.pkl    496k/5.41M [00:00<01:12,    71.7kB/s]\u001b[A\u001b[A\u001b[A\u001b[A\u001b[A\u001b[A\n\n\n\n\n  0%|          |data/data.xml             16.0k/36.1M [00:00<35:28,    17.8kB/s]\u001b[A\u001b[A\u001b[A\u001b[A\u001b[A\n 44%|████▍     |data/prepared/test.tsv    2.02M/4.54M [00:01<00:23,     111kB/s]\u001b[A\n\n\n 20%|█▉        |model.pkl                  512k/2.54M [00:00<00:29,    72.9kB/s]\u001b[A\u001b[A\u001b[A\n\n\n\n 33%|███▎      |data/features/test.pkl     456k/1.35M [00:00<00:21,    43.6kB/s]\u001b[A\u001b[A\u001b[A\u001b[A\n\n\n\n\n\n 15%|█▌        |data/features/train.pkl    832k/5.41M [00:00<00:47,     101kB/s]\u001b[A\u001b[A\u001b[A\u001b[A\u001b[A\u001b[A\n 50%|█████     |data/prepared/test.tsv    2.29M/4.54M [00:01<00:15,     156kB/s]\u001b[A\n\n\n 24%|██▎       |model.pkl                  616k/2.54M [00:01<00:20,     101kB/s]\u001b[A\u001b[A\u001b[A\n\n  2%|▏         |data/prepared/train.tsv    464k/18.2M [00:01<03:26,    90.2kB/s]\u001b[A\u001b[A\n\n\n\n 47%|████▋     |data/features/test.pkl     648k/1.35M [00:01<00:12,    61.6kB/s]\u001b[A\u001b[A\u001b[A\u001b[A\n\n\n 30%|██▉       |model.pkl                  768k/2.54M [00:01<00:13,     140kB/s]\u001b[A\u001b[A\u001b[A\n\n  3%|▎         |data/prepared/train.tsv    576k/18.2M [00:01<02:28,     125kB/s]\u001b[A\u001b[A\n\n\n\n\n\n 21%|██        |data/features/train.pkl   1.12M/5.41M [00:01<00:31,     142kB/s]\u001b[A\u001b[A\u001b[A\u001b[A\u001b[A\u001b[A\n 56%|█████▌    |data/prepared/test.tsv    2.55M/4.54M [00:01<00:09,     215kB/s]\u001b[A\n\n\n\n 62%|██████▏   |data/features/test.pkl     856k/1.35M [00:01<00:06,    86.7kB/s]\u001b[A\u001b[A\u001b[A\u001b[A\n\n\n 35%|███▌      |model.pkl                  912k/2.54M [00:01<00:08,     192kB/s]\u001b[A\u001b[A\u001b[A\n\n  4%|▎         |data/prepared/train.tsv    656k/18.2M [00:01<01:50,     167kB/s]\u001b[A\u001b[A\n\n\n\n\n\n 27%|██▋       |data/features/train.pkl   1.45M/5.41M [00:01<00:20,     199kB/s]\u001b[A\u001b[A\u001b[A\u001b[A\u001b[A\u001b[A\n 62%|██████▏   |data/prepared/test.tsv    2.80M/4.54M [00:01<00:06,     292kB/s]\u001b[A\n\n\n\n 78%|███████▊  |data/features/test.pkl    1.05M/1.35M [00:01<00:02,     122kB/s]\u001b[A\u001b[A\u001b[A\u001b[A\n\n\n\n\n\n 31%|███       |data/features/train.pkl   1.69M/5.41M [00:01<00:14,     275kB/s]\u001b[A\u001b[A\u001b[A\u001b[A\u001b[A\u001b[A\n\n  4%|▍         |data/prepared/train.tsv    736k/18.2M [00:01<01:24,     216kB/s]\u001b[A\u001b[A\n\n\n 40%|████      |model.pkl                 1.02M/2.54M [00:01<00:06,     252kB/s]\u001b[A\u001b[A\u001b[A\n 66%|██████▋   |data/prepared/test.tsv    3.02M/4.54M [00:01<00:04,     393kB/s]\u001b[A\n\n\n\n 91%|█████████ |data/features/test.pkl    1.22M/1.35M [00:01<00:00,     168kB/s]\u001b[A\u001b[A\u001b[A\u001b[A\n\n  5%|▍         |data/prepared/train.tsv    848k/18.2M [00:01<01:05,     280kB/s]\u001b[A\u001b[A\n\n\n 44%|████▍     |model.pkl                 1.12M/2.54M [00:01<00:04,     325kB/s]\u001b[A\u001b[A\u001b[A\n\n\n\n 17% Downloading|█████▎                          |1/6 [00:01<00:09,  1.96s/file]\n 72%|███████▏  |data/prepared/test.tsv    3.27M/4.54M [00:01<00:02,     526kB/s]\u001b[A\n\n\n\n\n\n 41%|████▏     |data/features/train.pkl   2.23M/5.41M [00:01<00:06,     510kB/s]\u001b[A\u001b[A\u001b[A\u001b[A\u001b[A\u001b[A\n\n  5%|▌         |data/prepared/train.tsv    976k/18.2M [00:01<00:49,     365kB/s]\u001b[A\u001b[A\n\n\n 52%|█████▏    |model.pkl                 1.31M/2.54M [00:01<00:02,     431kB/s]\u001b[A\u001b[A\u001b[A\n 77%|███████▋  |data/prepared/test.tsv    3.52M/4.54M [00:01<00:01,     690kB/s]\u001b[A\n\n\n\n\n\n 47%|████▋     |data/features/train.pkl   2.54M/5.41M [00:01<00:04,     682kB/s]\u001b[A\u001b[A\u001b[A\u001b[A\u001b[A\u001b[A\n\n\n 59%|█████▊    |model.pkl                 1.48M/2.54M [00:01<00:02,     545kB/s]\u001b[A\u001b[A\u001b[A\n\n  6%|▌         |data/prepared/train.tsv   1.05M/18.2M [00:01<00:43,     418kB/s]\u001b[A\u001b[A\n 83%|████████▎ |data/prepared/test.tsv    3.77M/4.54M [00:01<00:00,     885kB/s]\u001b[A\n\n\n\n\n\n 52%|█████▏    |data/features/train.pkl   2.80M/5.41M [00:01<00:03,     867kB/s]\u001b[A\u001b[A\u001b[A\u001b[A\u001b[A\u001b[A\n\n\n 66%|██████▌   |model.pkl                 1.67M/2.54M [00:01<00:01,     695kB/s]\u001b[A\u001b[A\u001b[A\n\n\n\n\n\n 57%|█████▋    |data/features/train.pkl   3.11M/5.41M [00:01<00:02,    1.10MB/s]\u001b[A\u001b[A\u001b[A\u001b[A\u001b[A\u001b[A\n\n  6%|▌         |data/prepared/train.tsv   1.13M/18.2M [00:02<00:38,     468kB/s]\u001b[A\u001b[A\n 88%|████████▊ |data/prepared/test.tsv    4.00M/4.54M [00:02<00:00,    1.05MB/s]\u001b[A\n\n\n 74%|███████▍  |model.pkl                 1.88M/2.54M [00:01<00:00,     850kB/s]\u001b[A\u001b[A\u001b[A\n\n\n\n\n\n 63%|██████▎   |data/features/train.pkl   3.41M/5.41M [00:01<00:01,    1.36MB/s]\u001b[A\u001b[A\u001b[A\u001b[A\u001b[A\u001b[A\n 94%|█████████▎|data/prepared/test.tsv    4.25M/4.54M [00:02<00:00,    1.19MB/s]\u001b[A\n\n  7%|▋         |data/prepared/train.tsv   1.25M/18.2M [00:02<00:33,     535kB/s]\u001b[A\u001b[A\n\n\n 81%|████████  |model.pkl                 2.05M/2.54M [00:02<00:00,     999kB/s]\u001b[A\u001b[A\u001b[A\n 33% Downloading|██████████▋                     |2/6 [00:02<00:06,  1.54s/file]\n\n\n\n\n\n 70%|██████▉   |data/features/train.pkl   3.77M/5.41M [00:02<00:01,    1.67MB/s]\u001b[A\u001b[A\u001b[A\u001b[A\u001b[A\u001b[A\n\n  7%|▋         |data/prepared/train.tsv   1.36M/18.2M [00:02<00:28,     620kB/s]\u001b[A\u001b[A\n\n\n 91%|█████████ |model.pkl                 2.31M/2.54M [00:02<00:00,    1.23MB/s]\u001b[A\u001b[A\u001b[A\n\n\n\n\n\n 76%|███████▌  |data/features/train.pkl   4.09M/5.41M [00:02<00:00,    1.97MB/s]\u001b[A\u001b[A\u001b[A\u001b[A\u001b[A\u001b[A\n\n\n 50% Downloading|████████████████                |3/6 [00:02<00:03,  1.13s/file]\n\n  8%|▊         |data/prepared/train.tsv   1.45M/18.2M [00:02<00:26,     674kB/s]\u001b[A\u001b[A\n\n\n\n\n\n 82%|████████▏ |data/features/train.pkl   4.45M/5.41M [00:02<00:00,    2.30MB/s]\u001b[A\u001b[A\u001b[A\u001b[A\u001b[A\u001b[A\n\n\n\n\n  0%|          |data/data.xml             80.0k/36.1M [00:02<28:55,    21.8kB/s]\u001b[A\u001b[A\u001b[A\u001b[A\u001b[A\n\n  8%|▊         |data/prepared/train.tsv   1.55M/18.2M [00:02<00:24,     712kB/s]\u001b[A\u001b[A\n\n\n\n\n  1%|          |data/data.xml              232k/36.1M [00:02<20:17,    30.9kB/s]\u001b[A\u001b[A\u001b[A\u001b[A\u001b[A\n\n\n\n\n\n 88%|████████▊ |data/features/train.pkl   4.78M/5.41M [00:02<00:00,    2.29MB/s]\u001b[A\u001b[A\u001b[A\u001b[A\u001b[A\u001b[A\n\n  9%|▉         |data/prepared/train.tsv   1.63M/18.2M [00:02<00:25,     669kB/s]\u001b[A\u001b[A\n\n\n\n\n  2%|▏         |data/data.xml              608k/36.1M [00:02<14:06,    44.0kB/s]\u001b[A\u001b[A\u001b[A\u001b[A\u001b[A\n\n\n\n\n\n 96%|█████████▌|data/features/train.pkl   5.19M/5.41M [00:02<00:00,    2.60MB/s]\u001b[A\u001b[A\u001b[A\u001b[A\u001b[A\u001b[A\n\n\n\n\n\n 67% Downloading|█████████████████████▎          |4/6 [00:03<00:01,  1.12file/s]\n\n\n\n\n  3%|▎         |data/data.xml             1.23M/36.1M [00:02<09:43,    62.7kB/s]\u001b[A\u001b[A\u001b[A\u001b[A\u001b[A\n\n 10%|▉         |data/prepared/train.tsv   1.75M/18.2M [00:02<00:23,     750kB/s]\u001b[A\u001b[A\n\n\n\n\n  5%|▍         |data/data.xml             1.78M/36.1M [00:02<06:44,    89.1kB/s]\u001b[A\u001b[A\u001b[A\u001b[A\u001b[A\n\n 10%|█         |data/prepared/train.tsv   1.84M/18.2M [00:02<00:22,     780kB/s]\u001b[A\u001b[A\n\n\n\n\n  7%|▋         |data/data.xml             2.44M/36.1M [00:02<04:39,     127kB/s]\u001b[A\u001b[A\u001b[A\u001b[A\u001b[A\n\n 11%|█         |data/prepared/train.tsv   1.94M/18.2M [00:03<00:21,     799kB/s]\u001b[A\u001b[A\n\n\n\n\n  9%|▊         |data/data.xml             3.14M/36.1M [00:02<03:12,     180kB/s]\u001b[A\u001b[A\u001b[A\u001b[A\u001b[A\n\n 11%|█         |data/prepared/train.tsv   2.02M/18.2M [00:03<00:20,     812kB/s]\u001b[A\u001b[A\n\n\n\n\n 10%|█         |data/data.xml             3.73M/36.1M [00:03<02:14,     253kB/s]\u001b[A\u001b[A\u001b[A\u001b[A\u001b[A\n\n 12%|█▏        |data/prepared/train.tsv   2.11M/18.2M [00:03<00:21,     800kB/s]\u001b[A\u001b[A\n\n\n\n\n 13%|█▎        |data/data.xml             4.53M/36.1M [00:03<01:32,     356kB/s]\u001b[A\u001b[A\u001b[A\u001b[A\u001b[A\n\n 12%|█▏        |data/prepared/train.tsv   2.20M/18.2M [00:03<00:20,     803kB/s]\u001b[A\u001b[A\n\n\n\n\n 14%|█▍        |data/data.xml             5.23M/36.1M [00:03<01:04,     499kB/s]\u001b[A\u001b[A\u001b[A\u001b[A\u001b[A\n\n 13%|█▎        |data/prepared/train.tsv   2.30M/18.2M [00:03<00:21,     762kB/s]\u001b[A\u001b[A\n\n\n\n\n 16%|█▌        |data/data.xml             5.85M/36.1M [00:03<00:46,     690kB/s]\u001b[A\u001b[A\u001b[A\u001b[A\u001b[A\n\n 13%|█▎        |data/prepared/train.tsv   2.44M/18.2M [00:03<00:18,     890kB/s]\u001b[A\u001b[A\n\n\n\n\n 18%|█▊        |data/data.xml             6.67M/36.1M [00:03<00:32,     951kB/s]\u001b[A\u001b[A\u001b[A\u001b[A\u001b[A\n\n\n\n\n 20%|██        |data/data.xml             7.38M/36.1M [00:03<00:23,    1.29MB/s]\u001b[A\u001b[A\u001b[A\u001b[A\u001b[A\n\n 14%|█▍        |data/prepared/train.tsv   2.54M/18.2M [00:03<00:18,     890kB/s]\u001b[A\u001b[A\n\n\n\n\n 23%|██▎       |data/data.xml             8.17M/36.1M [00:03<00:17,    1.71MB/s]\u001b[A\u001b[A\u001b[A\u001b[A\u001b[A\n\n 15%|█▍        |data/prepared/train.tsv   2.66M/18.2M [00:03<00:17,     940kB/s]\u001b[A\u001b[A\n\n\n\n\n 25%|██▍       |data/data.xml             8.88M/36.1M [00:03<00:12,    2.22MB/s]\u001b[A\u001b[A\u001b[A\u001b[A\u001b[A\n\n 15%|█▌        |data/prepared/train.tsv   2.81M/18.2M [00:03<00:16,     993kB/s]\u001b[A\u001b[A\n\n\n\n\n 26%|██▋       |data/data.xml             9.56M/36.1M [00:03<00:10,    2.73MB/s]\u001b[A\u001b[A\u001b[A\u001b[A\u001b[A\n\n 16%|█▌        |data/prepared/train.tsv   2.95M/18.2M [00:04<00:14,    1.09MB/s]\u001b[A\u001b[A\n\n\n\n\n 29%|██▉       |data/data.xml             10.4M/36.1M [00:04<00:07,    3.41MB/s]\u001b[A\u001b[A\u001b[A\u001b[A\u001b[A\n\n 17%|█▋        |data/prepared/train.tsv   3.09M/18.2M [00:04<00:14,    1.13MB/s]\u001b[A\u001b[A\n\n\n\n\n 31%|███       |data/data.xml             11.1M/36.1M [00:04<00:06,    4.01MB/s]\u001b[A\u001b[A\u001b[A\u001b[A\u001b[A\n\n 18%|█▊        |data/prepared/train.tsv   3.23M/18.2M [00:04<00:13,    1.20MB/s]\u001b[A\u001b[A\n\n\n\n\n 33%|███▎      |data/data.xml             11.8M/36.1M [00:04<00:05,    4.60MB/s]\u001b[A\u001b[A\u001b[A\u001b[A\u001b[A\n\n 19%|█▊        |data/prepared/train.tsv   3.38M/18.2M [00:04<00:13,    1.18MB/s]\u001b[A\u001b[A\n\n\n\n\n 35%|███▍      |data/data.xml             12.5M/36.1M [00:04<00:04,    5.10MB/s]\u001b[A\u001b[A\u001b[A\u001b[A\u001b[A\n\n 20%|█▉        |data/prepared/train.tsv   3.58M/18.2M [00:04<00:11,    1.35MB/s]\u001b[A\u001b[A\n\n\n\n\n 36%|███▋      |data/data.xml             13.2M/36.1M [00:04<00:04,    5.53MB/s]\u001b[A\u001b[A\u001b[A\u001b[A\u001b[A\n\n 20%|██        |data/prepared/train.tsv   3.72M/18.2M [00:04<00:11,    1.34MB/s]\u001b[A\u001b[A\n\n\n\n\n 39%|███▊      |data/data.xml             13.9M/36.1M [00:04<00:04,    5.56MB/s]\u001b[A\u001b[A\u001b[A\u001b[A\u001b[A\n\n 21%|██        |data/prepared/train.tsv   3.86M/18.2M [00:04<00:11,    1.36MB/s]\u001b[A\u001b[A\n\n\n\n\n 41%|████      |data/data.xml             14.8M/36.1M [00:04<00:03,    6.14MB/s]\u001b[A\u001b[A\u001b[A\u001b[A\u001b[A\n\n 22%|██▏       |data/prepared/train.tsv   4.02M/18.2M [00:04<00:10,    1.43MB/s]\u001b[A\u001b[A\n\n\n\n\n 43%|████▎     |data/data.xml             15.5M/36.1M [00:04<00:03,    6.31MB/s]\u001b[A\u001b[A\u001b[A\u001b[A\u001b[A\n\n 23%|██▎       |data/prepared/train.tsv   4.23M/18.2M [00:04<00:09,    1.59MB/s]\u001b[A\u001b[A\n\n\n\n\n 45%|████▍     |data/data.xml             16.1M/36.1M [00:04<00:03,    5.95MB/s]\u001b[A\u001b[A\u001b[A\u001b[A\u001b[A\n\n 24%|██▍       |data/prepared/train.tsv   4.40M/18.2M [00:05<00:09,    1.59MB/s]\u001b[A\u001b[A\n\n 25%|██▌       |data/prepared/train.tsv   4.56M/18.2M [00:05<00:09,    1.59MB/s]\u001b[A\u001b[A\n\n\n\n\n 47%|████▋     |data/data.xml             16.9M/36.1M [00:05<00:03,    6.12MB/s]\u001b[A\u001b[A\u001b[A\u001b[A\u001b[A\n\n 26%|██▌       |data/prepared/train.tsv   4.73M/18.2M [00:05<00:08,    1.62MB/s]\u001b[A\u001b[A\n\n\n\n\n 49%|████▉     |data/data.xml             17.7M/36.1M [00:05<00:02,    6.63MB/s]\u001b[A\u001b[A\u001b[A\u001b[A\u001b[A\n\n 27%|██▋       |data/prepared/train.tsv   4.95M/18.2M [00:05<00:07,    1.75MB/s]\u001b[A\u001b[A\n\n\n\n\n 51%|█████     |data/data.xml             18.5M/36.1M [00:05<00:02,    6.52MB/s]\u001b[A\u001b[A\u001b[A\u001b[A\u001b[A\n\n\n\n\n 53%|█████▎    |data/data.xml             19.1M/36.1M [00:05<00:02,    6.42MB/s]\u001b[A\u001b[A\u001b[A\u001b[A\u001b[A\n\n 28%|██▊       |data/prepared/train.tsv   5.13M/18.2M [00:05<00:08,    1.63MB/s]\u001b[A\u001b[A\n\n 29%|██▉       |data/prepared/train.tsv   5.34M/18.2M [00:05<00:07,    1.72MB/s]\u001b[A\u001b[A\n\n\n\n\n 55%|█████▍    |data/data.xml             19.8M/36.1M [00:05<00:02,    6.13MB/s]\u001b[A\u001b[A\u001b[A\u001b[A\u001b[A\n\n 31%|███       |data/prepared/train.tsv   5.56M/18.2M [00:05<00:07,    1.84MB/s]\u001b[A\u001b[A\n\n\n\n\n 57%|█████▋    |data/data.xml             20.5M/36.1M [00:05<00:02,    6.13MB/s]\u001b[A\u001b[A\u001b[A\u001b[A\u001b[A\n\n 32%|███▏      |data/prepared/train.tsv   5.81M/18.2M [00:05<00:06,    2.00MB/s]\u001b[A\u001b[A\n\n\n\n\n 59%|█████▉    |data/data.xml             21.3M/36.1M [00:05<00:02,    6.52MB/s]\u001b[A\u001b[A\u001b[A\u001b[A\u001b[A\n\n 33%|███▎      |data/prepared/train.tsv   6.02M/18.2M [00:05<00:06,    1.96MB/s]\u001b[A\u001b[A\n\n\n\n\n 61%|██████    |data/data.xml             21.9M/36.1M [00:05<00:02,    6.45MB/s]\u001b[A\u001b[A\u001b[A\u001b[A\u001b[A\n\n 34%|███▍      |data/prepared/train.tsv   6.25M/18.2M [00:06<00:06,    1.91MB/s]\u001b[A\u001b[A\n\n\n\n\n 62%|██████▏   |data/data.xml             22.6M/36.1M [00:05<00:02,    6.17MB/s]\u001b[A\u001b[A\u001b[A\u001b[A\u001b[A\n\n\n\n\n 64%|██████▍   |data/data.xml             23.2M/36.1M [00:06<00:02,    5.89MB/s]\u001b[A\u001b[A\u001b[A\u001b[A\u001b[A\n\n 36%|███▌      |data/prepared/train.tsv   6.52M/18.2M [00:06<00:06,    1.97MB/s]\u001b[A\u001b[A\n\n 37%|███▋      |data/prepared/train.tsv   6.83M/18.2M [00:06<00:05,    2.22MB/s]\u001b[A\u001b[A\n\n\n\n\n 66%|██████▌   |data/data.xml             23.9M/36.1M [00:06<00:02,    5.92MB/s]\u001b[A\u001b[A\u001b[A\u001b[A\u001b[A\n\n\n\n\n 68%|██████▊   |data/data.xml             24.5M/36.1M [00:06<00:01,    6.19MB/s]\u001b[A\u001b[A\u001b[A\u001b[A\u001b[A\n\n 41%|████      |data/prepared/train.tsv   7.42M/18.2M [00:06<00:04,    2.43MB/s]\u001b[A\u001b[A\n\n\n\n\n 70%|██████▉   |data/data.xml             25.1M/36.1M [00:06<00:01,    5.94MB/s]\u001b[A\u001b[A\u001b[A\u001b[A\u001b[A\n\n 42%|████▏     |data/prepared/train.tsv   7.67M/18.2M [00:06<00:04,    2.48MB/s]\u001b[A\u001b[A\n\n\n\n\n 71%|███████   |data/data.xml             25.7M/36.1M [00:06<00:01,    5.87MB/s]\u001b[A\u001b[A\u001b[A\u001b[A\u001b[A\n\n 43%|████▎     |data/prepared/train.tsv   7.92M/18.2M [00:06<00:04,    2.49MB/s]\u001b[A\u001b[A\n\n\n\n\n 73%|███████▎  |data/data.xml             26.3M/36.1M [00:06<00:01,    5.77MB/s]\u001b[A\u001b[A\u001b[A\u001b[A\u001b[A\n\n 45%|████▌     |data/prepared/train.tsv   8.27M/18.2M [00:06<00:03,    2.62MB/s]\u001b[A\u001b[A\n\n\n\n\n 74%|███████▍  |data/data.xml             26.9M/36.1M [00:06<00:01,    5.57MB/s]\u001b[A\u001b[A\u001b[A\u001b[A\u001b[A\n\n 47%|████▋     |data/prepared/train.tsv   8.59M/18.2M [00:07<00:03,    2.71MB/s]\u001b[A\u001b[A\n\n\n\n\n 76%|███████▌  |data/data.xml             27.4M/36.1M [00:06<00:01,    5.31MB/s]\u001b[A\u001b[A\u001b[A\u001b[A\u001b[A\n\n 49%|████▉     |data/prepared/train.tsv   9.00M/18.2M [00:07<00:03,    3.04MB/s]\u001b[A\u001b[A\n\n\n\n\n 77%|███████▋  |data/data.xml             27.9M/36.1M [00:06<00:01,    5.25MB/s]\u001b[A\u001b[A\u001b[A\u001b[A\u001b[A\n\n 51%|█████     |data/prepared/train.tsv   9.33M/18.2M [00:07<00:03,    3.09MB/s]\u001b[A\u001b[A\n\n\n\n\n 79%|███████▊  |data/data.xml             28.4M/36.1M [00:07<00:01,    5.21MB/s]\u001b[A\u001b[A\u001b[A\u001b[A\u001b[A\n\n 53%|█████▎    |data/prepared/train.tsv   9.70M/18.2M [00:07<00:02,    3.28MB/s]\u001b[A\u001b[A\n\n\n\n\n 80%|████████  |data/data.xml             29.0M/36.1M [00:07<00:01,    5.03MB/s]\u001b[A\u001b[A\u001b[A\u001b[A\u001b[A\n\n 55%|█████▌    |data/prepared/train.tsv   10.0M/18.2M [00:07<00:02,    3.05MB/s]\u001b[A\u001b[A\n\n\n\n\n 81%|████████▏ |data/data.xml             29.4M/36.1M [00:07<00:01,    4.70MB/s]\u001b[A\u001b[A\u001b[A\u001b[A\u001b[A\n\n 57%|█████▋    |data/prepared/train.tsv   10.3M/18.2M [00:07<00:02,    3.04MB/s]\u001b[A\u001b[A\n\n\n\n\n 83%|████████▎ |data/data.xml             29.9M/36.1M [00:07<00:01,    4.85MB/s]\u001b[A\u001b[A\u001b[A\u001b[A\u001b[A\n\n 59%|█████▉    |data/prepared/train.tsv   10.8M/18.2M [00:07<00:02,    3.37MB/s]\u001b[A\u001b[A\n\n\n\n\n 84%|████████▍ |data/data.xml             30.4M/36.1M [00:07<00:01,    4.96MB/s]\u001b[A\u001b[A\u001b[A\u001b[A\u001b[A\n\n 61%|██████    |data/prepared/train.tsv   11.1M/18.2M [00:07<00:02,    3.35MB/s]\u001b[A\u001b[A\n\n\n\n\n 86%|████████▌ |data/data.xml             31.0M/36.1M [00:07<00:01,    5.12MB/s]\u001b[A\u001b[A\u001b[A\u001b[A\u001b[A\n\n 63%|██████▎   |data/prepared/train.tsv   11.5M/18.2M [00:07<00:01,    3.64MB/s]\u001b[A\u001b[A\n\n\n\n\n 87%|████████▋ |data/data.xml             31.5M/36.1M [00:07<00:01,    4.69MB/s]\u001b[A\u001b[A\u001b[A\u001b[A\u001b[A\n\n 65%|██████▌   |data/prepared/train.tsv   11.9M/18.2M [00:08<00:01,    3.32MB/s]\u001b[A\u001b[A\n\n\n\n\n 88%|████████▊ |data/data.xml             31.9M/36.1M [00:07<00:00,    4.70MB/s]\u001b[A\u001b[A\u001b[A\u001b[A\u001b[A\n\n 67%|██████▋   |data/prepared/train.tsv   12.2M/18.2M [00:08<00:02,    2.99MB/s]\u001b[A\u001b[A\n\n\n\n\n 90%|████████▉ |data/data.xml             32.4M/36.1M [00:08<00:00,    4.15MB/s]\u001b[A\u001b[A\u001b[A\u001b[A\u001b[A\n\n 70%|██████▉   |data/prepared/train.tsv   12.7M/18.2M [00:08<00:01,    3.37MB/s]\u001b[A\u001b[A\n\n\n\n\n 91%|█████████▏|data/data.xml             33.0M/36.1M [00:08<00:00,    4.65MB/s]\u001b[A\u001b[A\u001b[A\u001b[A\u001b[A\n\n\n\n\n 93%|█████████▎|data/data.xml             33.5M/36.1M [00:08<00:00,    4.76MB/s]\u001b[A\u001b[A\u001b[A\u001b[A\u001b[A\n\n 72%|███████▏  |data/prepared/train.tsv   13.1M/18.2M [00:08<00:01,    3.36MB/s]\u001b[A\u001b[A\n\n\n\n\n 94%|█████████▍|data/data.xml             34.1M/36.1M [00:08<00:00,    4.44MB/s]\u001b[A\u001b[A\u001b[A\u001b[A\u001b[A\n\n 74%|███████▍  |data/prepared/train.tsv   13.5M/18.2M [00:08<00:01,    3.22MB/s]\u001b[A\u001b[A\n\n 77%|███████▋  |data/prepared/train.tsv   13.9M/18.2M [00:08<00:01,    3.44MB/s]\u001b[A\u001b[A\n\n\n\n\n 96%|█████████▌|data/data.xml             34.7M/36.1M [00:08<00:00,    4.58MB/s]\u001b[A\u001b[A\u001b[A\u001b[A\u001b[A\n\n 78%|███████▊  |data/prepared/train.tsv   14.3M/18.2M [00:08<00:01,    3.48MB/s]\u001b[A\u001b[A\n\n\n\n\n 98%|█████████▊|data/data.xml             35.4M/36.1M [00:08<00:00,    4.84MB/s]\u001b[A\u001b[A\u001b[A\u001b[A\u001b[A\n\n 81%|████████  |data/prepared/train.tsv   14.7M/18.2M [00:08<00:01,    3.55MB/s]\u001b[A\u001b[A\n\n\n\n\n 99%|█████████▉|data/data.xml             35.8M/36.1M [00:08<00:00,    4.55MB/s]\u001b[A\u001b[A\u001b[A\u001b[A\u001b[A\n\n 83%|████████▎ |data/prepared/train.tsv   15.1M/18.2M [00:08<00:00,    3.61MB/s]\u001b[A\u001b[A\n\n\n\n\n 83% Downloading|██████████████████████████▋     |5/6 [00:09<00:02,  2.50s/file]\n\n 85%|████████▌ |data/prepared/train.tsv   15.6M/18.2M [00:09<00:00,    3.98MB/s]\u001b[A\u001b[A\n\n 88%|████████▊ |data/prepared/train.tsv   16.0M/18.2M [00:09<00:00,    4.24MB/s]\u001b[A\u001b[A\n\n 91%|█████████ |data/prepared/train.tsv   16.6M/18.2M [00:09<00:00,    4.60MB/s]\u001b[A\u001b[A\n\n 95%|█████████▍|data/prepared/train.tsv   17.2M/18.2M [00:09<00:00,    5.07MB/s]\u001b[A\u001b[A\n\n 98%|█████████▊|data/prepared/train.tsv   17.9M/18.2M [00:09<00:00,    5.57MB/s]\u001b[A\u001b[A\n\n\u001b[32mA\u001b[39m\tdata/data.xml\n\u001b[32mA\u001b[39m\tdata/features/\n\u001b[32mA\u001b[39m\tdata/prepared/\n\u001b[32mA\u001b[39m\tmodel.pkl\n4 files added and 6 files fetched\n\u001b[0m"
    }
   ],
   "source": [
    "! dvc pull"
   ]
  },
  {
   "cell_type": "markdown",
   "metadata": {},
   "source": [
    "## Easily reproduce somewhere else"
   ]
  },
  {
   "cell_type": "markdown",
   "metadata": {},
   "source": [
    "### from cache"
   ]
  },
  {
   "cell_type": "code",
   "execution_count": 61,
   "metadata": {
    "tags": []
   },
   "outputs": [
    {
     "output_type": "stream",
     "name": "stdout",
     "text": "\u001b[39m\u001b[1mLoading .env environment variables...\u001b[39m\u001b[22m\nIf DVC froze, see `hardlink_lock` in <\u001b[36mhttps://man.dvc.org/config#core\u001b[39m>Stage 'data/data.xml.dvc' didn't change, skipping\nStage 'prepare' didn't change, skipping\nStage 'featurize' didn't change, skipping\nStage 'train' didn't change, skipping\nStage 'evaluate' didn't change, skipping\nData and pipelines are up to date.\n\u001b[0m"
    }
   ],
   "source": [
    "! pipenv run dvc repro"
   ]
  },
  {
   "cell_type": "markdown",
   "metadata": {},
   "source": [
    "### or force actual pipeline run"
   ]
  },
  {
   "cell_type": "code",
   "execution_count": 62,
   "metadata": {
    "tags": []
   },
   "outputs": [
    {
     "output_type": "stream",
     "name": "stdout",
     "text": "If DVC froze, see `hardlink_lock` in <\u001b[36mhttps://man.dvc.org/config#core\u001b[39m>Verifying data sources in stage: 'data/data.xml.dvc'\n\nRunning stage 'prepare' with command:\n\tpython src/prepare.py data/data.xml\n  0% Saving prepared|                          |0.00/2.00 [00:00<?,     ?file/s]\nRunning stage 'featurize' with command:\n\tpython src/featurization.py data/prepared data/features\nThe input data frame data/prepared/train.tsv size is (20017, 3)\nThe output matrix data/features/train.pkl size is (20017, 502) and data type is float64\nThe input data frame data/prepared/test.tsv size is (4983, 3)\nThe output matrix data/features/test.pkl size is (4983, 502) and data type is float64\n  0% Saving features|                          |0.00/2.00 [00:00<?,     ?file/s]\nRunning stage 'train' with command:\n\tpython src/train.py data/features model.pkl\nInput matrix size (20017, 502)\nX matrix size (20017, 500)\nY matrix size (20017,)\nIf DVC froze, see `hardlink_lock` in <\u001b[36mhttps://man.dvc.org/config#core\u001b[39m>\nRunning stage 'evaluate' with command:\n\tpython src/evaluate.py model.pkl data/features scores.json prc.json\nIf DVC froze, see `hardlink_lock` in <\u001b[36mhttps://man.dvc.org/config#core\u001b[39m>\nTo track the changes with git, run:\n\n\tgit add data/data.xml.dvc\n\u001b[0m"
    }
   ],
   "source": [
    "! dvc repro -f"
   ]
  },
  {
   "cell_type": "code",
   "execution_count": 63,
   "metadata": {
    "tags": []
   },
   "outputs": [
    {
     "output_type": "stream",
     "name": "stdout",
     "text": "If DVC froze, see `hardlink_lock` in <\u001b[36mhttps://man.dvc.org/config#core\u001b[39m>\u001b[0m"
    }
   ],
   "source": [
    "! dvc diff"
   ]
  },
  {
   "cell_type": "markdown",
   "metadata": {},
   "source": [
    "### Assert equivalent result"
   ]
  },
  {
   "cell_type": "code",
   "execution_count": 64,
   "metadata": {
    "tags": []
   },
   "outputs": [
    {
     "output_type": "stream",
     "name": "stdout",
     "text": "{\"auc\": 0.5417487597055675}"
    }
   ],
   "source": [
    "! cat scores.json"
   ]
  },
  {
   "cell_type": "markdown",
   "metadata": {},
   "source": [
    "### Now I can easily\n",
    "* Making updates to the models\n",
    "* see differences in parameters or results\n",
    "* collaborate with others\n",
    "* reproduce results"
   ]
  },
  {
   "cell_type": "markdown",
   "metadata": {},
   "source": [
    "### Go and modify some parameters"
   ]
  },
  {
   "cell_type": "code",
   "execution_count": 65,
   "metadata": {
    "tags": []
   },
   "outputs": [
    {
     "output_type": "stream",
     "name": "stdout",
     "text": "If DVC froze, see `hardlink_lock` in <\u001b[36mhttps://man.dvc.org/config#core\u001b[39m>Data and pipelines are up to date.\n\u001b[0m"
    }
   ],
   "source": [
    "! dvc status"
   ]
  },
  {
   "cell_type": "code",
   "execution_count": 66,
   "metadata": {
    "tags": []
   },
   "outputs": [
    {
     "output_type": "stream",
     "name": "stdout",
     "text": "If DVC froze, see `hardlink_lock` in <\u001b[36mhttps://man.dvc.org/config#core\u001b[39m>\u001b[0m"
    }
   ],
   "source": [
    "! dvc params diff"
   ]
  },
  {
   "cell_type": "code",
   "execution_count": 67,
   "metadata": {
    "tags": []
   },
   "outputs": [
    {
     "output_type": "stream",
     "name": "stdout",
     "text": "If DVC froze, see `hardlink_lock` in <\u001b[36mhttps://man.dvc.org/config#core\u001b[39m>Stage 'data/data.xml.dvc' didn't change, skipping\nStage 'prepare' didn't change, skipping\nStage 'featurize' didn't change, skipping\nStage 'train' didn't change, skipping\nStage 'evaluate' didn't change, skipping\nData and pipelines are up to date.\n\u001b[0m"
    }
   ],
   "source": [
    "! dvc repro"
   ]
  },
  {
   "cell_type": "code",
   "execution_count": 68,
   "metadata": {
    "tags": []
   },
   "outputs": [
    {
     "output_type": "stream",
     "name": "stdout",
     "text": "If DVC froze, see `hardlink_lock` in <\u001b[36mhttps://man.dvc.org/config#core\u001b[39m>\u001b[0m"
    }
   ],
   "source": [
    "! dvc metrics diff"
   ]
  },
  {
   "cell_type": "code",
   "execution_count": 69,
   "metadata": {
    "tags": []
   },
   "outputs": [
    {
     "output_type": "stream",
     "name": "stdout",
     "text": "{\"auc\": 0.5417487597055675}"
    }
   ],
   "source": [
    "! cat scores.json"
   ]
  },
  {
   "cell_type": "code",
   "execution_count": 70,
   "metadata": {
    "tags": []
   },
   "outputs": [
    {
     "output_type": "stream",
     "name": "stdout",
     "text": "file:///home/nichita/Projects/dvc_intro/plots.html\n\u001b[0m"
    }
   ],
   "source": [
    "! dvc plots diff -x recall -y precision"
   ]
  },
  {
   "cell_type": "code",
   "execution_count": null,
   "metadata": {},
   "outputs": [],
   "source": []
  },
  {
   "cell_type": "markdown",
   "metadata": {},
   "source": [
    "## For reproducibility of this notebook:\n",
    "### Remove tracked data from dvc (local and remote) and\n",
    "### Remove unnecessary files "
   ]
  },
  {
   "cell_type": "code",
   "execution_count": 71,
   "metadata": {
    "tags": []
   },
   "outputs": [
    {
     "output_type": "stream",
     "name": "stdout",
     "text": "If DVC froze, see `hardlink_lock` in <\u001b[36mhttps://man.dvc.org/config#core\u001b[39m>\u001b[31mERROR\u001b[39m: failed to remove 'data/.' - \"Stage 'data/.' not found inside 'dvc.yaml' file\"\n\n\u001b[33mHaving any troubles?\u001b[39m Hit us up at \u001b[34mhttps://dvc.org/support\u001b[39m, we are always happy to help!\n\u001b[0m"
    }
   ],
   "source": [
    "! dvc remove data/."
   ]
  },
  {
   "cell_type": "code",
   "execution_count": 73,
   "metadata": {
    "tags": []
   },
   "outputs": [
    {
     "output_type": "stream",
     "name": "stdout",
     "text": "\u001b[31mERROR\u001b[39m: failed to remove 'data/data.xml.dvc' - 'data/data.xml.dvc' does not exist.\n\n\u001b[33mHaving any troubles?\u001b[39m Hit us up at \u001b[34mhttps://dvc.org/support\u001b[39m, we are always happy to help!\n\u001b[31mERROR\u001b[39m: failed to remove 'data/features/train.pkl' - \"Stage 'data/features/train.pkl' not found inside 'dvc.yaml' file\"\n\n\u001b[33mHaving any troubles?\u001b[39m Hit us up at \u001b[34mhttps://dvc.org/support\u001b[39m, we are always happy to help!\nIf DVC froze, see `hardlink_lock` in <\u001b[36mhttps://man.dvc.org/config#core\u001b[39m>\u001b[31mERROR\u001b[39m: failed to remove 'data/features/test.pkl' - \"Stage 'data/features/test.pkl' not found inside 'dvc.yaml' file\"\n\n\u001b[33mHaving any troubles?\u001b[39m Hit us up at \u001b[34mhttps://dvc.org/support\u001b[39m, we are always happy to help!\nIf DVC froze, see `hardlink_lock` in <\u001b[36mhttps://man.dvc.org/config#core\u001b[39m>\u001b[31mERROR\u001b[39m: failed to remove 'data/prepared/train.tsv' - \"Stage 'data/prepared/train.tsv' not found inside 'dvc.yaml' file\"\n\n\u001b[33mHaving any troubles?\u001b[39m Hit us up at \u001b[34mhttps://dvc.org/support\u001b[39m, we are always happy to help!\n\u001b[31mERROR\u001b[39m: failed to remove 'data/prepared/test.tsv' - \"Stage 'data/prepared/test.tsv' not found inside 'dvc.yaml' file\"\n\n\u001b[33mHaving any troubles?\u001b[39m Hit us up at \u001b[34mhttps://dvc.org/support\u001b[39m, we are always happy to help!\n\u001b[31mERROR\u001b[39m: failed to remove 'model.pkl' - \"Stage 'model.pkl' not found inside 'dvc.yaml' file\"\n\n\u001b[33mHaving any troubles?\u001b[39m Hit us up at \u001b[34mhttps://dvc.org/support\u001b[39m, we are always happy to help!\n\u001b[0m"
    }
   ],
   "source": [
    "! dvc remove data/data.xml.dvc\n",
    "! dvc remove data/features/train.pkl\n",
    "! dvc remove data/features/test.pkl\n",
    "! dvc remove data/prepared/train.tsv\n",
    "! dvc remove data/prepared/test.tsv\n",
    "! dvc remove model.pkl"
   ]
  },
  {
   "cell_type": "code",
   "execution_count": 74,
   "metadata": {
    "tags": []
   },
   "outputs": [
    {
     "output_type": "stream",
     "name": "stdout",
     "text": "rm: cannot remove 'data/data.xml': No such file or directory\n"
    }
   ],
   "source": [
    "! rm -rf data/\n",
    "! rm plots.html\n",
    "! rm prc.json\n",
    "! rm model.pkl\n",
    "! rm data/data.xml"
   ]
  },
  {
   "cell_type": "code",
   "execution_count": 75,
   "metadata": {
    "tags": []
   },
   "outputs": [
    {
     "output_type": "stream",
     "name": "stdout",
     "text": "If DVC froze, see `hardlink_lock` in <\u001b[36mhttps://man.dvc.org/config#core\u001b[39m>\u001b[31mDeleted\u001b[39m:\n    data/data.xml\n    data/features/\n    data/prepared/\n    model.pkl\n    prc.json\n\nfiles summary: 0 added, 3 deleted, 0 modified\n\u001b[0m"
    }
   ],
   "source": [
    "! dvc diff"
   ]
  },
  {
   "cell_type": "code",
   "execution_count": 76,
   "metadata": {
    "tags": []
   },
   "outputs": [
    {
     "output_type": "stream",
     "name": "stdout",
     "text": "[data_pipelines a18c8ed] removes data\n 1 file changed, 3 deletions(-)\n delete mode 100644 data/data.xml.dvc\nEverything up-to-date\nEverything is up to date.\n\u001b[0m"
    }
   ],
   "source": [
    "! git add data/data.xml.dvc\n",
    "! git commit -m 'removes data'\n",
    "! git push origin tutorial\n",
    "! dvc push"
   ]
  },
  {
   "cell_type": "code",
   "execution_count": 77,
   "metadata": {
    "tags": []
   },
   "outputs": [
    {
     "output_type": "stream",
     "name": "stdout",
     "text": "\u001b[33mWARNING\u001b[39m: This will remove all cache except items used in the workspace of the current repo.\n  0% Querying cache in 'gs://dvc_intro'|  |1.00/4.10k [00:00<10:45,  6.34file/s]\u001b[0m"
    }
   ],
   "source": [
    "! echo \"y\" | dvc gc -cw"
   ]
  },
  {
   "cell_type": "code",
   "execution_count": 78,
   "metadata": {
    "tags": []
   },
   "outputs": [
    {
     "output_type": "stream",
     "name": "stdout",
     "text": "This will destroy all information about your pipelines, all data files, as well as cache in .dvc/cache.\nIf DVC froze, see `hardlink_lock` in <\u001b[36mhttps://man.dvc.org/config#core\u001b[39m>\u001b[0m"
    }
   ],
   "source": [
    "! echo 'y' | dvc destroy"
   ]
  },
  {
   "cell_type": "code",
   "execution_count": 79,
   "metadata": {
    "tags": []
   },
   "outputs": [
    {
     "output_type": "stream",
     "name": "stdout",
     "text": "[data_pipelines a7e37f2] clean\n 10 files changed, 235 deletions(-)\n delete mode 100644 .dvc/.gitignore\n delete mode 100644 .dvc/config\n delete mode 100644 .dvc/plots/confusion.json\n delete mode 100644 .dvc/plots/default.json\n delete mode 100644 .dvc/plots/scatter.json\n delete mode 100644 .dvc/plots/smooth.json\n delete mode 100644 data/.gitignore\n delete mode 100644 dvc.lock\n delete mode 100644 dvc.yaml\n delete mode 100644 prc.json\nEverything up-to-date\n"
    }
   ],
   "source": [
    "! git add .\n",
    "! git commit -m \"clean\"\n",
    "! git push origin tutorial"
   ]
  },
  {
   "cell_type": "code",
   "execution_count": null,
   "metadata": {},
   "outputs": [],
   "source": []
  },
  {
   "cell_type": "code",
   "execution_count": null,
   "metadata": {},
   "outputs": [],
   "source": []
  }
 ]
}