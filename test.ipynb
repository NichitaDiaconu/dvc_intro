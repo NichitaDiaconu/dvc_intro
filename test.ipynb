{
 "metadata": {
  "language_info": {
   "codemirror_mode": {
    "name": "ipython",
    "version": 3
   },
   "file_extension": ".py",
   "mimetype": "text/x-python",
   "name": "python",
   "nbconvert_exporter": "python",
   "pygments_lexer": "ipython3",
   "version": "3.8.1-final"
  },
  "orig_nbformat": 2,
  "kernelspec": {
   "name": "python_defaultSpec_1596726770288",
   "display_name": "Python 3.8.1 64-bit ('dvc_intro': pipenv)"
  }
 },
 "nbformat": 4,
 "nbformat_minor": 2,
 "cells": [
  {
   "cell_type": "code",
   "execution_count": 3,
   "metadata": {
    "tags": []
   },
   "outputs": [
    {
     "output_type": "stream",
     "name": "stdout",
     "text": "The dotenv extension is already loaded. To reload it, use:\n  %reload_ext dotenv\n"
    }
   ],
   "source": [
    "%load_ext dotenv\n",
    "%dotenv"
   ]
  },
  {
   "cell_type": "code",
   "execution_count": 4,
   "metadata": {
    "tags": []
   },
   "outputs": [
    {
     "output_type": "stream",
     "name": "stdout",
     "text": "|data/prepared/test.tsv     672k/4.54M [00:01<00:32,     124kB/s]\u001b[A\n\n\n 18%|█▊        |model.pkl                  464k/2.54M [00:01<00:42,    51.1kB/s]\u001b[A\u001b[A\u001b[A\n\n\n\n 14%|█▍        |data/features/train.pkl    784k/5.41M [00:01<01:31,    53.2kB/s]\u001b[A\u001b[A\u001b[A\u001b[A\n\n\n\n\n 53%|█████▎    |data/features/test.pkl     728k/1.35M [00:01<00:08,    77.8kB/s]\u001b[A\u001b[A\u001b[A\u001b[A\u001b[A\n\n\n\n\n\n  6%|▌         |data/data.xml             2.00M/36.1M [00:01<02:59,     199kB/s]\u001b[A\u001b[A\u001b[A\u001b[A\u001b[A\u001b[A\n\n  3%|▎         |data/prepared/train.tsv    504k/18.2M [00:01<03:11,    97.0kB/s]\u001b[A\u001b[A\n 17%|█▋        |data/prepared/test.tsv     776k/4.54M [00:01<00:23,     168kB/s]\u001b[A\n\n\n 22%|██▏       |model.pkl                  568k/2.54M [00:01<00:29,    71.4kB/s]\u001b[A\u001b[A\u001b[A\n\n  4%|▍         |data/prepared/train.tsv    720k/18.2M [00:01<02:15,     136kB/s]\u001b[A\u001b[A\n\n\n\n\n 86%|████████▌ |data/features/test.pkl    1.16M/1.35M [00:01<00:01,     110kB/s]\u001b[A\u001b[A\u001b[A\u001b[A\u001b[A\n\n\n\n 17%|█▋        |data/features/train.pkl    944k/5.41M [00:01<01:03,    74.7kB/s]\u001b[A\u001b[A\u001b[A\u001b[A\n 20%|█▉        |data/prepared/test.tsv     920k/4.54M [00:01<00:16,     225kB/s]\u001b[A\n\n\n\n\n\n  6%|▌         |data/data.xml             2.22M/36.1M [00:01<02:13,     267kB/s]\u001b[A\u001b[A\u001b[A\u001b[A\u001b[A\u001b[A\n\n\n\n\n 17% Downloading|█████▎                          |1/6 [00:01<00:09,  1.80s/file]\n\n  5%|▍         |data/prepared/train.tsv    848k/18.2M [00:01<01:38,     186kB/s]\u001b[A\u001b[A\n\n\n 26%|██▌       |model.pkl                  664k/2.54M [00:01<00:20,    98.5kB/s]\u001b[A\u001b[A\u001b[A\n\n\n\n 21%|██▏       |data/features/train.pkl   1.16M/5.41M [00:01<00:42,     105kB/s]\u001b[A\u001b[A\u001b[A\u001b[A\n 24%|██▎       |data/prepared/test.tsv    1.08M/4.54M [00:01<00:11,     306kB/s]\u001b[A\n\n\n\n\n\n  7%|▋         |data/data.xml             2.41M/36.1M [00:01<01:38,     360kB/s]\u001b[A\u001b[A\u001b[A\u001b[A\u001b[A\u001b[A\n\n  6%|▌         |data/prepared/train.tsv   1.01M/18.2M [00:01<01:10,     254kB/s]\u001b[A\u001b[A\n\n\n 30%|██▉       |model.pkl                  768k/2.54M [00:01<00:13,     135kB/s]\u001b[A\u001b[A\u001b[A\n 28%|██▊       |data/prepared/test.tsv    1.25M/4.54M [00:01<00:08,     407kB/s]\u001b[A\n\n\n\n 25%|██▍       |data/features/train.pkl   1.33M/5.41M [00:01<00:29,     146kB/s]\u001b[A\u001b[A\u001b[A\u001b[A\n\n\n\n\n\n  7%|▋         |data/data.xml             2.60M/36.1M [00:01<01:14,     469kB/s]\u001b[A\u001b[A\u001b[A\u001b[A\u001b[A\u001b[A\n\n  6%|▋         |data/prepared/train.tsv   1.15M/18.2M [00:01<00:53,     337kB/s]\u001b[A\u001b[A\n\n\n 33%|███▎      |model.pkl                  864k/2.54M [00:01<00:09,     180kB/s]\u001b[A\u001b[A\u001b[A\n 32%|███▏      |data/prepared/test.tsv    1.44M/4.54M [00:01<00:06,     532kB/s]\u001b[A\n\n\n\n 27%|██▋       |data/features/train.pkl   1.48M/5.41M [00:01<00:20,     199kB/s]\u001b[A\u001b[A\u001b[A\u001b[A\n\n\n\n\n\n  8%|▊         |data/data.xml             2.78M/36.1M [00:01<00:58,     601kB/s]\u001b[A\u001b[A\u001b[A\u001b[A\u001b[A\u001b[A\n\n  7%|▋         |data/prepared/train.tsv   1.30M/18.2M [00:01<00:40,     437kB/s]\u001b[A\u001b[A\n\n\n 37%|███▋      |model.pkl                  952k/2.54M [00:01<00:07,     236kB/s]\u001b[A\u001b[A\u001b[A\n 36%|███▌      |data/prepared/test.tsv    1.64M/4.54M [00:01<00:04,     684kB/s]\u001b[A\n\n\n\n 30%|███       |data/features/train.pkl   1.63M/5.41M [00:01<00:14,     268kB/s]\u001b[A\u001b[A\u001b[A\u001b[A\n\n\n\n\n\n  8%|▊         |data/data.xml             2.98M/36.1M [00:01<00:45,     762kB/s]\u001b[A\u001b[A\u001b[A\u001b[A\u001b[A\u001b[A\n\n  8%|▊         |data/prepared/train.tsv   1.44M/18.2M [00:01<00:31,     554kB/s]\u001b[A\u001b[A\n\n\n 40%|████      |model.pkl                 1.02M/2.54M [00:01<00:05,     296kB/s]\u001b[A\u001b[A\u001b[A\n 41%|████      |data/prepared/test.tsv    1.86M/4.54M [00:01<00:03,     866kB/s]\u001b[A\n\n\n\n 33%|███▎      |data/features/train.pkl   1.78M/5.41M [00:01<00:10,     353kB/s]\u001b[A\u001b[A\u001b[A\u001b[A\n\n\n\n\n\n  9%|▉         |data/data.xml             3.22M/36.1M [00:01<00:36,     955kB/s]\u001b[A\u001b[A\u001b[A\u001b[A\u001b[A\u001b[A\n\n  9%|▉         |data/prepared/train.tsv   1.59M/18.2M [00:01<00:25,     678kB/s]\u001b[A\u001b[A\n\n\n 44%|████▍     |model.pkl                 1.11M/2.54M [00:01<00:04,     367kB/s]\u001b[A\u001b[A\u001b[A\n 45%|████▌     |data/prepared/test.tsv    2.06M/4.54M [00:02<00:02,    1.03MB/s]\u001b[A\n\n\n\n 36%|███▌      |data/features/train.pkl   1.92M/5.41M [00:02<00:08,     441kB/s]\u001b[A\u001b[A\u001b[A\u001b[A\n\n\n\n\n\n  9%|▉         |data/data.xml             3.41M/36.1M [00:02<00:31,    1.08MB/s]\u001b[A\u001b[A\u001b[A\u001b[A\u001b[A\u001b[A\n\n 10%|▉         |data/prepared/train.tsv   1.73M/18.2M [00:02<00:21,     791kB/s]\u001b[A\u001b[A\n\n\n 47%|████▋     |model.pkl                 1.20M/2.54M [00:02<00:03,     442kB/s]\u001b[A\u001b[A\u001b[A\n 51%|█████     |data/prepared/test.tsv    2.33M/4.54M [00:02<00:01,    1.24MB/s]\u001b[A\n\n\n\n\n\n 10%|█         |data/data.xml             3.69M/36.1M [00:02<00:25,    1.33MB/s]\u001b[A\u001b[A\u001b[A\u001b[A\u001b[A\u001b[A\n\n\n\n 38%|███▊      |data/features/train.pkl   2.06M/5.41M [00:02<00:06,     551kB/s]\u001b[A\u001b[A\u001b[A\u001b[A\n\n\n 51%|█████     |model.pkl                 1.28M/2.54M [00:02<00:02,     510kB/s]\u001b[A\u001b[A\u001b[A\n 56%|█████▋    |data/prepared/test.tsv    2.56M/4.54M [00:02<00:01,    1.44MB/s]\u001b[A\n\n 10%|█         |data/prepared/train.tsv   1.87M/18.2M [00:02<00:21,     815kB/s]\u001b[A\u001b[A\n\n\n\n 41%|████      |data/features/train.pkl   2.22M/5.41M [00:02<00:04,     687kB/s]\u001b[A\u001b[A\u001b[A\u001b[A\n\n\n\n\n\n 11%|█         |data/data.xml             3.92M/36.1M [00:02<00:22,    1.52MB/s]\u001b[A\u001b[A\u001b[A\u001b[A\u001b[A\u001b[A\n 62%|██████▏   |data/prepared/test.tsv    2.81M/4.54M [00:02<00:01,    1.62MB/s]\u001b[A\n\n 11%|█▏        |data/prepared/train.tsv   2.08M/18.2M [00:02<00:16,     997kB/s]\u001b[A\u001b[A\n\n\n 54%|█████▍    |model.pkl                 1.38M/2.54M [00:02<00:02,     549kB/s]\u001b[A\u001b[A\u001b[A\n\n\n\n\n\n 11%|█▏        |data/data.xml             4.13M/36.1M [00:02<00:20,    1.63MB/s]\u001b[A\u001b[A\u001b[A\u001b[A\u001b[A\u001b[A\n\n\n\n 44%|████▎     |data/features/train.pkl   2.36M/5.41M [00:02<00:04,     769kB/s]\u001b[A\u001b[A\u001b[A\u001b[A\n 67%|██████▋   |data/prepared/test.tsv    3.05M/4.54M [00:02<00:00,    1.81MB/s]\u001b[A\n\n 12%|█▏        |data/prepared/train.tsv   2.23M/18.2M [00:02<00:15,    1.08MB/s]\u001b[A\u001b[A\n\n\n 58%|█████▊    |model.pkl                 1.47M/2.54M [00:02<00:01,     612kB/s]\u001b[A\u001b[A\u001b[A\n\n\n\n\n\n 12%|█▏        |data/data.xml             4.42M/36.1M [00:02<00:18,    1.81MB/s]\u001b[A\u001b[A\u001b[A\u001b[A\u001b[A\u001b[A\n\n\n\n 46%|████▌     |data/features/train.pkl   2.49M/5.41M [00:02<00:03,     868kB/s]\u001b[A\u001b[A\u001b[A\u001b[A\n 74%|███████▎  |data/prepared/test.tsv    3.34M/4.54M [00:02<00:00,    1.98MB/s]\u001b[A\n\n 13%|█▎        |data/prepared/train.tsv   2.37M/18.2M [00:02<00:14,    1.15MB/s]\u001b[A\u001b[A\n\n\n 62%|██████▏   |model.pkl                 1.58M/2.54M [00:02<00:01,     675kB/s]\u001b[A\u001b[A\u001b[A\n\n\n\n\n\n 13%|█▎        |data/data.xml             4.66M/36.1M [00:02<00:17,    1.94MB/s]\u001b[A\u001b[A\u001b[A\u001b[A\u001b[A\u001b[A\n\n\n\n 49%|████▉     |data/features/train.pkl   2.66M/5.41M [00:02<00:03,     960kB/s]\u001b[A\u001b[A\u001b[A\u001b[A\n 79%|███████▊  |data/prepared/test.tsv    3.57M/4.54M [00:02<00:00,    2.06MB/s]\u001b[A\n\n 14%|█▍        |data/prepared/train.tsv   2.53M/18.2M [00:02<00:13,    1.25MB/s]\u001b[A\u001b[A\n\n\n\n\n\n 14%|█▎        |data/data.xml             4.89M/36.1M [00:02<00:15,    2.07MB/s]\u001b[A\u001b[A\u001b[A\u001b[A\u001b[A\u001b[A\n\n\n 66%|██████▌   |model.pkl                 1.66M/2.54M [00:02<00:01,     711kB/s]\u001b[A\u001b[A\u001b[A\n\n\n\n 51%|█████▏    |data/features/train.pkl   2.78M/5.41M [00:02<00:02,    1.04MB/s]\u001b[A\u001b[A\u001b[A\u001b[A\n 85%|████████▍ |data/prepared/test.tsv    3.86M/4.54M [00:02<00:00,    2.19MB/s]\u001b[A\n\n 15%|█▍        |data/prepared/train.tsv   2.67M/18.2M [00:02<00:13,    1.22MB/s]\u001b[A\u001b[A\n\n\n\n\n\n 14%|█▍        |data/data.xml             5.12M/36.1M [00:02<00:15,    2.11MB/s]\u001b[A\u001b[A\u001b[A\u001b[A\u001b[A\u001b[A\n\n\n 70%|██████▉   |model.pkl                 1.77M/2.54M [00:02<00:01,     758kB/s]\u001b[A\u001b[A\u001b[A\n\n\n\n 54%|█████▎    |data/features/train.pkl   2.91M/5.41M [00:02<00:02,    1.04MB/s]\u001b[A\u001b[A\u001b[A\u001b[A\n 90%|█████████ |data/prepared/test.tsv    4.09M/4.54M [00:02<00:00,    2.19MB/s]\u001b[A\n\n 15%|█▌        |data/prepared/train.tsv   2.80M/18.2M [00:02<00:13,    1.21MB/s]\u001b[A\u001b[A\n\n\n 73%|███████▎  |model.pkl                 1.85M/2.54M [00:02<00:00,     775kB/s]\u001b[A\u001b[A\u001b[A\n\n\n\n\n\n 15%|█▍        |data/data.xml             5.34M/36.1M [00:02<00:16,    2.00MB/s]\u001b[A\u001b[A\u001b[A\u001b[A\u001b[A\u001b[A\n\n\n\n 56%|█████▌    |data/features/train.pkl   3.03M/5.41M [00:02<00:02,    1.08MB/s]\u001b[A\u001b[A\u001b[A\u001b[A\n\n 16%|█▋        |data/prepared/train.tsv   2.97M/18.2M [00:03<00:12,    1.30MB/s]\u001b[A\u001b[A\n 96%|█████████▌|data/prepared/test.tsv    4.36M/4.54M [00:03<00:00,    2.15MB/s]\u001b[A\n\n\n\n\n\n 15%|█▌        |data/data.xml             5.55M/36.1M [00:02<00:15,    2.05MB/s]\u001b[A\u001b[A\u001b[A\u001b[A\u001b[A\u001b[A\n\n\n 76%|███████▋  |model.pkl                 1.94M/2.54M [00:03<00:00,     780kB/s]\u001b[A\u001b[A\u001b[A\n 33% Downloading|██████████▋                     |2/6 [00:03<00:07,  1.76s/file]\n\n\n\n 59%|█████▉    |data/features/train.pkl   3.22M/5.41M [00:03<00:01,    1.24MB/s]\u001b[A\u001b[A\u001b[A\u001b[A\n\n 17%|█▋        |data/prepared/train.tsv   3.16M/18.2M [00:03<00:10,    1.45MB/s]\u001b[A\u001b[A\n\n\n\n\n\n 16%|█▋        |data/data.xml             5.94M/36.1M [00:03<00:13,    2.41MB/s]\u001b[A\u001b[A\u001b[A\u001b[A\u001b[A\u001b[A\n\n\n 81%|████████  |model.pkl                 2.05M/2.54M [00:03<00:00,     848kB/s]\u001b[A\u001b[A\u001b[A\n\n\n\n 63%|██████▎   |data/features/train.pkl   3.40M/5.41M [00:03<00:01,    1.38MB/s]\u001b[A\u001b[A\u001b[A\u001b[A\n\n 18%|█▊        |data/prepared/train.tsv   3.34M/18.2M [00:03<00:10,    1.55MB/s]\u001b[A\u001b[A\n\n\n\n\n\n 17%|█▋        |data/data.xml             6.27M/36.1M [00:03<00:11,    2.63MB/s]\u001b[A\u001b[A\u001b[A\u001b[A\u001b[A\u001b[A\n\n\n\n 66%|██████▌   |data/features/train.pkl   3.56M/5.41M [00:03<00:01,    1.37MB/s]\u001b[A\u001b[A\u001b[A\u001b[A\n\n\n 85%|████████▌ |model.pkl                 2.16M/2.54M [00:03<00:00,     799kB/s]\u001b[A\u001b[A\u001b[A\n\n 19%|█▉        |data/prepared/train.tsv   3.52M/18.2M [00:03<00:09,    1.57MB/s]\u001b[A\u001b[A\n\n\n\n\n\n 18%|█▊        |data/data.xml             6.55M/36.1M [00:03<00:12,    2.49MB/s]\u001b[A\u001b[A\u001b[A\u001b[A\u001b[A\u001b[A\n\n\n 91%|█████████ |model.pkl                 2.31M/2.54M [00:03<00:00,     942kB/s]\u001b[A\u001b[A\u001b[A\n\n\n\n 69%|██████▊   |data/features/train.pkl   3.72M/5.41M [00:03<00:01,    1.33MB/s]\u001b[A\u001b[A\u001b[A\u001b[A\n\n 20%|██        |data/prepared/train.tsv   3.70M/18.2M [00:03<00:09,    1.55MB/s]\u001b[A\u001b[A\n\n\n\n\n\n 19%|█▉        |data/data.xml             6.95M/36.1M [00:03<00:10,    2.80MB/s]\u001b[A\u001b[A\u001b[A\u001b[A\u001b[A\u001b[A\n\n\n 96%|█████████▌|model.pkl                 2.42M/2.54M [00:03<00:00,     937kB/s]\u001b[A\u001b[A\u001b[A\n\n 21%|██▏       |data/prepared/train.tsv   3.91M/18.2M [00:03<00:08,    1.68MB/s]\u001b[A\u001b[A\n\n\n\n\n\n 20%|██        |data/data.xml             7.25M/36.1M [00:03<00:10,    2.81MB/s]\u001b[A\u001b[A\u001b[A\u001b[A\u001b[A\u001b[A\n\n\n 50% Downloading|████████████████                |3/6 [00:04<00:04,  1.41s/file]\n\n 23%|██▎       |data/prepared/train.tsv   4.12M/18.2M [00:03<00:08,    1.82MB/s]\u001b[A\u001b[A\n\n\n\n 77%|███████▋  |data/features/train.pkl   4.17M/5.41M [00:03<00:00,    1.61MB/s]\u001b[A\u001b[A\u001b[A\u001b[A\n\n\n\n\n\n 21%|██▏       |data/data.xml             7.74M/36.1M [00:03<00:09,    3.25MB/s]\u001b[A\u001b[A\u001b[A\u001b[A\u001b[A\u001b[A\n\n\n\n 80%|████████  |data/features/train.pkl   4.34M/5.41M [00:03<00:00,    1.63MB/s]\u001b[A\u001b[A\u001b[A\u001b[A\n\n 24%|██▍       |data/prepared/train.tsv   4.36M/18.2M [00:03<00:07,    1.87MB/s]\u001b[A\u001b[A\n\n\n\n\n\n 22%|██▏       |data/data.xml             8.09M/36.1M [00:03<00:09,    3.24MB/s]\u001b[A\u001b[A\u001b[A\u001b[A\u001b[A\u001b[A\n\n\n\n 85%|████████▍ |data/features/train.pkl   4.58M/5.41M [00:03<00:00,    1.79MB/s]\u001b[A\u001b[A\u001b[A\u001b[A\n\n\n\n\n\n 24%|██▎       |data/data.xml             8.53M/36.1M [00:03<00:08,    3.44MB/s]\u001b[A\u001b[A\u001b[A\u001b[A\u001b[A\u001b[A\n\n 25%|██▌       |data/prepared/train.tsv   4.59M/18.2M [00:03<00:07,    1.82MB/s]\u001b[A\u001b[A\n\n\n\n 88%|████████▊ |data/features/train.pkl   4.78M/5.41M [00:03<00:00,    1.86MB/s]\u001b[A\u001b[A\u001b[A\u001b[A\n\n 27%|██▋       |data/prepared/train.tsv   4.83M/18.2M [00:04<00:07,    1.96MB/s]\u001b[A\u001b[A\n\n\n\n\n\n 25%|██▍       |data/data.xml             8.92M/36.1M [00:03<00:08,    3.43MB/s]\u001b[A\u001b[A\u001b[A\u001b[A\u001b[A\u001b[A\n\n\n\n 92%|█████████▏|data/features/train.pkl   4.98M/5.41M [00:04<00:00,    1.92MB/s]\u001b[A\u001b[A\u001b[A\u001b[A\n\n 28%|██▊       |data/prepared/train.tsv   5.02M/18.2M [00:04<00:07,    1.93MB/s]\u001b[A\u001b[A\n\n\n\n\n\n 26%|██▌       |data/data.xml             9.41M/36.1M [00:04<00:07,    3.65MB/s]\u001b[A\u001b[A\u001b[A\u001b[A\u001b[A\u001b[A\n\n\n\n 97%|█████████▋|data/features/train.pkl   5.25M/5.41M [00:04<00:00,    2.09MB/s]\u001b[A\u001b[A\u001b[A\u001b[A\n\n 29%|██▉       |data/prepared/train.tsv   5.25M/18.2M [00:04<00:07,    1.93MB/s]\u001b[A\u001b[A\n\n\n\n\n\n 27%|██▋       |data/data.xml             9.89M/36.1M [00:04<00:06,    3.97MB/s]\u001b[A\u001b[A\u001b[A\u001b[A\u001b[A\u001b[A\n\n\n\n 67% Downloading|█████████████████████▎          |4/6 [00:04<00:02,  1.17s/file]\n\n\n\n\n\n 29%|██▉       |data/data.xml             10.5M/36.1M [00:04<00:06,    4.36MB/s]\u001b[A\u001b[A\u001b[A\u001b[A\u001b[A\u001b[A\n\n\n\n\n\n 30%|███       |data/data.xml             11.0M/36.1M [00:04<00:05,    4.66MB/s]\u001b[A\u001b[A\u001b[A\u001b[A\u001b[A\u001b[A\n\n 32%|███▏      |data/prepared/train.tsv   5.77M/18.2M [00:04<00:05,    2.21MB/s]\u001b[A\u001b[A\n\n\n\n\n\n 32%|███▏      |data/data.xml             11.5M/36.1M [00:04<00:05,    4.95MB/s]\u001b[A\u001b[A\u001b[A\u001b[A\u001b[A\u001b[A\n\n 33%|███▎      |data/prepared/train.tsv   6.00M/18.2M [00:04<00:05,    2.25MB/s]\u001b[A\u001b[A\n\n\n\n\n\n 33%|███▎      |data/data.xml             12.0M/36.1M [00:04<00:05,    4.59MB/s]\u001b[A\u001b[A\u001b[A\u001b[A\u001b[A\u001b[A\n\n 34%|███▍      |data/prepared/train.tsv   6.23M/18.2M [00:04<00:05,    2.11MB/s]\u001b[A\u001b[A\n\n 36%|███▌      |data/prepared/train.tsv   6.50M/18.2M [00:04<00:05,    2.20MB/s]\u001b[A\u001b[A\n\n\n\n\n\n 35%|███▌      |data/data.xml             12.7M/36.1M [00:04<00:05,    4.88MB/s]\u001b[A\u001b[A\u001b[A\u001b[A\u001b[A\u001b[A\n\n 37%|███▋      |data/prepared/train.tsv   6.78M/18.2M [00:04<00:05,    2.31MB/s]\u001b[A\u001b[A\n\n\n\n\n\n 37%|███▋      |data/data.xml             13.5M/36.1M [00:04<00:04,    5.34MB/s]\u001b[A\u001b[A\u001b[A\u001b[A\u001b[A\u001b[A\n\n\n\n\n\n 39%|███▉      |data/data.xml             14.1M/36.1M [00:04<00:04,    5.52MB/s]\u001b[A\u001b[A\u001b[A\u001b[A\u001b[A\u001b[A\n\n 39%|███▊      |data/prepared/train.tsv   7.03M/18.2M [00:05<00:05,    2.32MB/s]\u001b[A\u001b[A\n\n\n\n\n\n 40%|████      |data/data.xml             14.6M/36.1M [00:05<00:04,    5.53MB/s]\u001b[A\u001b[A\u001b[A\u001b[A\u001b[A\u001b[A\n\n 40%|███▉      |data/prepared/train.tsv   7.26M/18.2M [00:05<00:05,    2.28MB/s]\u001b[A\u001b[A\n\n 41%|████▏     |data/prepared/train.tsv   7.55M/18.2M [00:05<00:04,    2.46MB/s]\u001b[A\u001b[A\n\n\n\n\n\n 43%|████▎     |data/data.xml             15.7M/36.1M [00:05<00:03,    5.47MB/s]\u001b[A\u001b[A\u001b[A\u001b[A\u001b[A\u001b[A\n\n 43%|████▎     |data/prepared/train.tsv   7.84M/18.2M [00:05<00:04,    2.51MB/s]\u001b[A\u001b[A\n\n 45%|████▍     |data/prepared/train.tsv   8.14M/18.2M [00:05<00:04,    2.58MB/s]\u001b[A\u001b[A\n\n\n\n\n\n 45%|████▌     |data/data.xml             16.4M/36.1M [00:05<00:03,    5.49MB/s]\u001b[A\u001b[A\u001b[A\u001b[A\u001b[A\u001b[A\n\n 46%|████▌     |data/prepared/train.tsv   8.41M/18.2M [00:05<00:03,    2.64MB/s]\u001b[A\u001b[A\n\n\n\n\n\n 47%|████▋     |data/data.xml             17.0M/36.1M [00:05<00:03,    5.61MB/s]\u001b[A\u001b[A\u001b[A\u001b[A\u001b[A\u001b[A\n\n 48%|████▊     |data/prepared/train.tsv   8.66M/18.2M [00:05<00:03,    2.62MB/s]\u001b[A\u001b[A\n\n\n\n\n\n 48%|████▊     |data/data.xml             17.5M/36.1M [00:05<00:03,    5.57MB/s]\u001b[A\u001b[A\u001b[A\u001b[A\u001b[A\u001b[A\n\n 49%|████▉     |data/prepared/train.tsv   8.95M/18.2M [00:05<00:03,    2.69MB/s]\u001b[A\u001b[A\n\n\n\n\n\n 50%|████▉     |data/data.xml             18.1M/36.1M [00:05<00:03,    5.53MB/s]\u001b[A\u001b[A\u001b[A\u001b[A\u001b[A\u001b[A\n\n\n\n\n\n 52%|█████▏    |data/data.xml             18.7M/36.1M [00:05<00:03,    5.52MB/s]\u001b[A\u001b[A\u001b[A\u001b[A\u001b[A\u001b[A\n\n 51%|█████     |data/prepared/train.tsv   9.28M/18.2M [00:05<00:03,    2.56MB/s]\u001b[A\u001b[A\n\n\n\n\n\n 53%|█████▎    |data/data.xml             19.2M/36.1M [00:05<00:03,    5.56MB/s]\u001b[A\u001b[A\u001b[A\u001b[A\u001b[A\u001b[A\n\n 53%|█████▎    |data/prepared/train.tsv   9.70M/18.2M [00:06<00:03,    2.91MB/s]\u001b[A\u001b[A\n\n\n\n\n\n 55%|█████▍    |data/data.xml             19.8M/36.1M [00:06<00:03,    5.00MB/s]\u001b[A\u001b[A\u001b[A\u001b[A\u001b[A\u001b[A\n\n 55%|█████▍    |data/prepared/train.tsv   10.0M/18.2M [00:06<00:03,    2.61MB/s]\u001b[A\u001b[A\n\n\n\n\n\n 56%|█████▋    |data/data.xml             20.4M/36.1M [00:06<00:03,    5.34MB/s]\u001b[A\u001b[A\u001b[A\u001b[A\u001b[A\u001b[A\n\n 57%|█████▋    |data/prepared/train.tsv   10.4M/18.2M [00:06<00:02,    2.83MB/s]\u001b[A\u001b[A\n\n\n\n\n\n 58%|█████▊    |data/data.xml             20.9M/36.1M [00:06<00:02,    5.38MB/s]\u001b[A\u001b[A\u001b[A\u001b[A\u001b[A\u001b[A\n\n 59%|█████▊    |data/prepared/train.tsv   10.7M/18.2M [00:06<00:02,    2.80MB/s]\u001b[A\u001b[A\n\n\n\n\n\n 59%|█████▉    |data/data.xml             21.4M/36.1M [00:06<00:03,    5.05MB/s]\u001b[A\u001b[A\u001b[A\u001b[A\u001b[A\u001b[A\n\n 60%|██████    |data/prepared/train.tsv   11.0M/18.2M [00:06<00:02,    2.88MB/s]\u001b[A\u001b[A\n\n\n\n\n\n 61%|██████    |data/data.xml             21.9M/36.1M [00:06<00:02,    4.98MB/s]\u001b[A\u001b[A\u001b[A\u001b[A\u001b[A\u001b[A\n\n 62%|██████▏   |data/prepared/train.tsv   11.3M/18.2M [00:06<00:02,    3.07MB/s]\u001b[A\u001b[A\n\n\n\n\n\n 62%|██████▏   |data/data.xml             22.6M/36.1M [00:06<00:02,    5.38MB/s]\u001b[A\u001b[A\u001b[A\u001b[A\u001b[A\u001b[A\n\n 64%|██████▍   |data/prepared/train.tsv   11.6M/18.2M [00:06<00:02,    2.89MB/s]\u001b[A\u001b[A\n\n\n\n\n\n 64%|██████▍   |data/data.xml             23.1M/36.1M [00:06<00:02,    5.31MB/s]\u001b[A\u001b[A\u001b[A\u001b[A\u001b[A\u001b[A\n\n 66%|██████▌   |data/prepared/train.tsv   11.9M/18.2M [00:06<00:02,    2.97MB/s]\u001b[A\u001b[A\n\n\n\n\n\n 65%|██████▌   |data/data.xml             23.6M/36.1M [00:06<00:02,    5.24MB/s]\u001b[A\u001b[A\u001b[A\u001b[A\u001b[A\u001b[A\n\n 67%|██████▋   |data/prepared/train.tsv   12.3M/18.2M [00:06<00:02,    2.83MB/s]\u001b[A\u001b[A\n\n\n\n\n\n 67%|██████▋   |data/data.xml             24.1M/36.1M [00:06<00:02,    5.02MB/s]\u001b[A\u001b[A\u001b[A\u001b[A\u001b[A\u001b[A\n\n 70%|██████▉   |data/prepared/train.tsv   12.7M/18.2M [00:07<00:01,    3.04MB/s]\u001b[A\u001b[A\n\n\n\n\n\n 68%|██████▊   |data/data.xml             24.7M/36.1M [00:07<00:02,    5.18MB/s]\u001b[A\u001b[A\u001b[A\u001b[A\u001b[A\u001b[A\n\n 72%|███████▏  |data/prepared/train.tsv   13.1M/18.2M [00:07<00:01,    3.17MB/s]\u001b[A\u001b[A\n\n\n\n\n\n 70%|██████▉   |data/data.xml             25.3M/36.1M [00:07<00:02,    5.17MB/s]\u001b[A\u001b[A\u001b[A\u001b[A\u001b[A\u001b[A\n\n 74%|███████▎  |data/prepared/train.tsv   13.4M/18.2M [00:07<00:01,    3.10MB/s]\u001b[A\u001b[A\n\n\n\n\n\n 71%|███████▏  |data/data.xml             25.8M/36.1M [00:07<00:02,    5.07MB/s]\u001b[A\u001b[A\u001b[A\u001b[A\u001b[A\u001b[A\n\n\n\n\n\n 73%|███████▎  |data/data.xml             26.3M/36.1M [00:07<00:02,    5.05MB/s]\u001b[A\u001b[A\u001b[A\u001b[A\u001b[A\u001b[A\n\n 75%|███████▌  |data/prepared/train.tsv   13.7M/18.2M [00:07<00:01,    2.85MB/s]\u001b[A\u001b[A\n\n\n\n\n\n 74%|███████▍  |data/data.xml             26.8M/36.1M [00:07<00:01,    4.93MB/s]\u001b[A\u001b[A\u001b[A\u001b[A\u001b[A\u001b[A\n\n 78%|███████▊  |data/prepared/train.tsv   14.2M/18.2M [00:07<00:01,    3.16MB/s]\u001b[A\u001b[A\n\n\n\n\n\n 75%|███████▌  |data/data.xml             27.2M/36.1M [00:07<00:01,    4.75MB/s]\u001b[A\u001b[A\u001b[A\u001b[A\u001b[A\u001b[A\n\n 81%|████████  |data/prepared/train.tsv   14.7M/18.2M [00:07<00:01,    3.53MB/s]\u001b[A\u001b[A\n\n 83%|████████▎ |data/prepared/train.tsv   15.1M/18.2M [00:07<00:00,    3.75MB/s]\u001b[A\u001b[A\n\n\n\n\n\n 77%|███████▋  |data/data.xml             27.7M/36.1M [00:07<00:01,    4.48MB/s]\u001b[A\u001b[A\u001b[A\u001b[A\u001b[A\u001b[A\n\n\n\n\n\n 78%|███████▊  |data/data.xml             28.1M/36.1M [00:07<00:01,    4.35MB/s]\u001b[A\u001b[A\u001b[A\u001b[A\u001b[A\u001b[A\n\n 85%|████████▌ |data/prepared/train.tsv   15.5M/18.2M [00:07<00:00,    3.65MB/s]\u001b[A\u001b[A\n\n 87%|████████▋ |data/prepared/train.tsv   15.9M/18.2M [00:08<00:00,    3.77MB/s]\u001b[A\u001b[A\n\n\n\n\n\n 79%|███████▉  |data/data.xml             28.6M/36.1M [00:07<00:01,    4.27MB/s]\u001b[A\u001b[A\u001b[A\u001b[A\u001b[A\u001b[A\n\n 90%|████████▉ |data/prepared/train.tsv   16.3M/18.2M [00:08<00:00,    3.84MB/s]\u001b[A\u001b[A\n\n\n\n\n\n 80%|████████  |data/data.xml             29.0M/36.1M [00:08<00:01,    4.00MB/s]\u001b[A\u001b[A\u001b[A\u001b[A\u001b[A\u001b[A\n\n 92%|█████████▏|data/prepared/train.tsv   16.7M/18.2M [00:08<00:00,    3.97MB/s]\u001b[A\u001b[A\n\n\n\n\n\n 82%|████████▏ |data/data.xml             29.5M/36.1M [00:08<00:01,    4.17MB/s]\u001b[A\u001b[A\u001b[A\u001b[A\u001b[A\u001b[A\n\n 94%|█████████▍|data/prepared/train.tsv   17.1M/18.2M [00:08<00:00,    3.89MB/s]\u001b[A\u001b[A\n\n\n\n\n\n 83%|████████▎ |data/data.xml             29.9M/36.1M [00:08<00:01,    4.27MB/s]\u001b[A\u001b[A\u001b[A\u001b[A\u001b[A\u001b[A\n\n 96%|█████████▋|data/prepared/train.tsv   17.5M/18.2M [00:08<00:00,    3.93MB/s]\u001b[A\u001b[A\n\n\n\n\n\n 84%|████████▍ |data/data.xml             30.3M/36.1M [00:08<00:01,    4.29MB/s]\u001b[A\u001b[A\u001b[A\u001b[A\u001b[A\u001b[A\n\n 98%|█████████▊|data/prepared/train.tsv   17.9M/18.2M [00:08<00:00,    3.85MB/s]\u001b[A\u001b[A\n\n\n\n\n\n 85%|████████▌ |data/data.xml             30.8M/36.1M [00:08<00:01,    4.12MB/s]\u001b[A\u001b[A\u001b[A\u001b[A\u001b[A\u001b[A\n\n 83% Downloading|██████████████████████████▋     |5/6 [00:09<00:02,  2.13s/file]\n\n\n\n\n\n 87%|████████▋ |data/data.xml             31.3M/36.1M [00:08<00:01,    4.44MB/s]\u001b[A\u001b[A\u001b[A\u001b[A\u001b[A\u001b[A\n\n\n\n\n\n 88%|████████▊ |data/data.xml             31.9M/36.1M [00:08<00:00,    4.83MB/s]\u001b[A\u001b[A\u001b[A\u001b[A\u001b[A\u001b[A\n\n\n\n\n\n 90%|████████▉ |data/data.xml             32.5M/36.1M [00:08<00:00,    5.20MB/s]\u001b[A\u001b[A\u001b[A\u001b[A\u001b[A\u001b[A\n\n\n\n\n\n 92%|█████████▏|data/data.xml             33.1M/36.1M [00:08<00:00,    5.62MB/s]\u001b[A\u001b[A\u001b[A\u001b[A\u001b[A\u001b[A\n\n\n\n\n\n 94%|█████████▎|data/data.xml             33.8M/36.1M [00:09<00:00,    5.77MB/s]\u001b[A\u001b[A\u001b[A\u001b[A\u001b[A\u001b[A\n\n\n\n\n\n 96%|█████████▌|data/data.xml             34.7M/36.1M [00:09<00:00,    6.60MB/s]\u001b[A\u001b[A\u001b[A\u001b[A\u001b[A\u001b[A\n\n\n\n\n\n 98%|█████████▊|data/data.xml             35.4M/36.1M [00:09<00:00,    6.68MB/s]\u001b[A\u001b[A\u001b[A\u001b[A\u001b[A\u001b[A\n\n\n\n\n\n\u001b[32mA\u001b[39m\tmodel.pkl\n\u001b[32mA\u001b[39m\tdata/features/\n\u001b[32mA\u001b[39m\tdata/data.xml\n\u001b[32mA\u001b[39m\tdata/prepared/\n4 files added and 6 files fetched\n\u001b[0m"
    }
   ],
   "source": [
    "! dvc pull"
   ]
  },
  {
   "cell_type": "markdown",
   "metadata": {},
   "source": [
    "## Easily reproduce somewhere else"
   ]
  },
  {
   "cell_type": "markdown",
   "metadata": {},
   "source": [
    "### from cache"
   ]
  },
  {
   "cell_type": "code",
   "execution_count": 5,
   "metadata": {
    "tags": []
   },
   "outputs": [
    {
     "output_type": "stream",
     "name": "stdout",
     "text": "\u001b[39m\u001b[1mLoading .env environment variables...\u001b[39m\u001b[22m\nIf DVC froze, see `hardlink_lock` in <\u001b[36mhttps://man.dvc.org/config#core\u001b[39m>Stage 'data/data.xml.dvc' didn't change, skipping\nStage 'prepare' didn't change, skipping\nStage 'featurize' didn't change, skipping\nStage 'train' didn't change, skipping\nStage 'evaluate' didn't change, skipping\nData and pipelines are up to date.\n\u001b[0m"
    }
   ],
   "source": [
    "! pipenv run dvc repro"
   ]
  },
  {
   "cell_type": "markdown",
   "metadata": {},
   "source": [
    "### or force actual pipeline run"
   ]
  },
  {
   "cell_type": "code",
   "execution_count": 6,
   "metadata": {
    "tags": []
   },
   "outputs": [
    {
     "output_type": "stream",
     "name": "stdout",
     "text": "If DVC froze, see `hardlink_lock` in <\u001b[36mhttps://man.dvc.org/config#core\u001b[39m>Verifying data sources in stage: 'data/data.xml.dvc'\n\nRunning stage 'prepare' with command:\n\tpython src/prepare.py data/data.xml\n  0% Saving prepared|                          |0.00/2.00 [00:00<?,     ?file/s]\nRunning stage 'featurize' with command:\n\tpython src/featurization.py data/prepared data/features\nThe input data frame data/prepared/train.tsv size is (20017, 3)\nThe output matrix data/features/train.pkl size is (20017, 502) and data type is float64\nThe input data frame data/prepared/test.tsv size is (4983, 3)\nThe output matrix data/features/test.pkl size is (4983, 502) and data type is float64\n  0% Saving features|                          |0.00/2.00 [00:00<?,     ?file/s]\nRunning stage 'train' with command:\n\tpython src/train.py data/features model.pkl\nInput matrix size (20017, 502)\nX matrix size (20017, 500)\nY matrix size (20017,)\nIf DVC froze, see `hardlink_lock` in <\u001b[36mhttps://man.dvc.org/config#core\u001b[39m>\nRunning stage 'evaluate' with command:\n\tpython src/evaluate.py model.pkl data/features scores.json prc.json\nIf DVC froze, see `hardlink_lock` in <\u001b[36mhttps://man.dvc.org/config#core\u001b[39m>\nTo track the changes with git, run:\n\n\tgit add data/data.xml.dvc\n\u001b[0m"
    }
   ],
   "source": [
    "! dvc repro -f"
   ]
  },
  {
   "cell_type": "code",
   "execution_count": 7,
   "metadata": {
    "tags": []
   },
   "outputs": [
    {
     "output_type": "stream",
     "name": "stdout",
     "text": "If DVC froze, see `hardlink_lock` in <\u001b[36mhttps://man.dvc.org/config#core\u001b[39m>\u001b[0m"
    }
   ],
   "source": [
    "! dvc diff"
   ]
  },
  {
   "cell_type": "markdown",
   "metadata": {},
   "source": [
    "### Assert equivalent result"
   ]
  },
  {
   "cell_type": "code",
   "execution_count": 8,
   "metadata": {
    "tags": []
   },
   "outputs": [
    {
     "output_type": "stream",
     "name": "stdout",
     "text": "{\"auc\": 0.5417487597055675}"
    }
   ],
   "source": [
    "! cat scores.json"
   ]
  },
  {
   "cell_type": "markdown",
   "metadata": {},
   "source": [
    "### Now I can easily\n",
    "* Making updates to the models\n",
    "* see differences in parameters or results\n",
    "* collaborate with others\n",
    "* reproduce results"
   ]
  },
  {
   "cell_type": "markdown",
   "metadata": {},
   "source": [
    "### Go and modify some parameters"
   ]
  },
  {
   "cell_type": "code",
   "execution_count": 9,
   "metadata": {
    "tags": []
   },
   "outputs": [
    {
     "output_type": "stream",
     "name": "stdout",
     "text": "If DVC froze, see `hardlink_lock` in <\u001b[36mhttps://man.dvc.org/config#core\u001b[39m>Data and pipelines are up to date.\n\u001b[0m"
    }
   ],
   "source": [
    "! dvc status"
   ]
  },
  {
   "cell_type": "code",
   "execution_count": 10,
   "metadata": {
    "tags": []
   },
   "outputs": [
    {
     "output_type": "stream",
     "name": "stdout",
     "text": "If DVC froze, see `hardlink_lock` in <\u001b[36mhttps://man.dvc.org/config#core\u001b[39m>\u001b[0m"
    }
   ],
   "source": [
    "! dvc params diff"
   ]
  },
  {
   "cell_type": "code",
   "execution_count": 11,
   "metadata": {
    "tags": []
   },
   "outputs": [
    {
     "output_type": "stream",
     "name": "stdout",
     "text": "If DVC froze, see `hardlink_lock` in <\u001b[36mhttps://man.dvc.org/config#core\u001b[39m>Stage 'data/data.xml.dvc' didn't change, skipping\nStage 'prepare' didn't change, skipping\nStage 'featurize' didn't change, skipping\nStage 'train' didn't change, skipping\nStage 'evaluate' didn't change, skipping\nData and pipelines are up to date.\n\u001b[0m"
    }
   ],
   "source": [
    "! dvc repro"
   ]
  },
  {
   "cell_type": "code",
   "execution_count": 12,
   "metadata": {
    "tags": []
   },
   "outputs": [
    {
     "output_type": "stream",
     "name": "stdout",
     "text": "If DVC froze, see `hardlink_lock` in <\u001b[36mhttps://man.dvc.org/config#core\u001b[39m>\u001b[0m"
    }
   ],
   "source": [
    "! dvc metrics diff"
   ]
  },
  {
   "cell_type": "code",
   "execution_count": 13,
   "metadata": {
    "tags": []
   },
   "outputs": [
    {
     "output_type": "stream",
     "name": "stdout",
     "text": "{\"auc\": 0.5417487597055675}"
    }
   ],
   "source": [
    "! cat scores.json"
   ]
  },
  {
   "cell_type": "code",
   "execution_count": 14,
   "metadata": {
    "tags": []
   },
   "outputs": [
    {
     "output_type": "stream",
     "name": "stdout",
     "text": "file:///home/nichita/Projects/dvc_intro/plots.html\n\u001b[0m"
    }
   ],
   "source": [
    "! dvc plots diff -x recall -y precision"
   ]
  },
  {
   "cell_type": "code",
   "execution_count": null,
   "metadata": {},
   "outputs": [],
   "source": []
  },
  {
   "cell_type": "markdown",
   "metadata": {},
   "source": [
    "## For reproducibility of this notebook:\n",
    "### Remove tracked data from dvc (local and remote) and\n",
    "### Remove unnecessary files "
   ]
  },
  {
   "cell_type": "code",
   "execution_count": 15,
   "metadata": {
    "tags": []
   },
   "outputs": [
    {
     "output_type": "stream",
     "name": "stdout",
     "text": "If DVC froze, see `hardlink_lock` in <\u001b[36mhttps://man.dvc.org/config#core\u001b[39m>\u001b[0m"
    }
   ],
   "source": [
    "! dvc remove data/data.xml.dvc\n",
    "! rm data/data.xml"
   ]
  },
  {
   "cell_type": "code",
   "execution_count": 16,
   "metadata": {
    "tags": []
   },
   "outputs": [
    {
     "output_type": "stream",
     "name": "stdout",
     "text": "If DVC froze, see `hardlink_lock` in <\u001b[36mhttps://man.dvc.org/config#core\u001b[39m>\u001b[31mDeleted\u001b[39m:\n    data/data.xml\n\nfiles summary: 0 added, 1 deleted, 0 modified\n\u001b[0m"
    }
   ],
   "source": [
    "! dvc diff"
   ]
  },
  {
   "cell_type": "code",
   "execution_count": 17,
   "metadata": {
    "tags": []
   },
   "outputs": [
    {
     "output_type": "stream",
     "name": "stdout",
     "text": "[data_pipelines 33548c6] removes data\n 1 file changed, 3 deletions(-)\n delete mode 100644 data/data.xml.dvc\nEverything up-to-date\nEverything is up to date.\n\u001b[0m"
    }
   ],
   "source": [
    "! git add data/data.xml.dvc\n",
    "! git commit -m 'removes data'\n",
    "! git push origin tutorial\n",
    "! dvc push"
   ]
  },
  {
   "cell_type": "code",
   "execution_count": 18,
   "metadata": {
    "tags": []
   },
   "outputs": [
    {
     "output_type": "stream",
     "name": "stdout",
     "text": "\u001b[33mWARNING\u001b[39m: This will remove all cache except items used in the workspace of the current repo.\n  0% Querying cache in 'gs://dvc_intro'|  |1.00/4.10k [00:00<11:11,  6.10file/s]\u001b[0m"
    }
   ],
   "source": [
    "! echo \"y\" | dvc gc -cw"
   ]
  },
  {
   "cell_type": "code",
   "execution_count": 19,
   "metadata": {
    "tags": []
   },
   "outputs": [
    {
     "output_type": "stream",
     "name": "stdout",
     "text": "This will destroy all information about your pipelines, all data files, as well as cache in .dvc/cache.\nIf DVC froze, see `hardlink_lock` in <\u001b[36mhttps://man.dvc.org/config#core\u001b[39m>\u001b[0m"
    }
   ],
   "source": [
    "! echo 'y' | dvc destroy"
   ]
  },
  {
   "cell_type": "code",
   "execution_count": 20,
   "metadata": {
    "tags": []
   },
   "outputs": [
    {
     "output_type": "stream",
     "name": "stdout",
     "text": "[data_pipelines 98cbee6] clean\n 10 files changed, 235 deletions(-)\n delete mode 100644 .dvc/.gitignore\n delete mode 100644 .dvc/config\n delete mode 100644 .dvc/plots/confusion.json\n delete mode 100644 .dvc/plots/default.json\n delete mode 100644 .dvc/plots/scatter.json\n delete mode 100644 .dvc/plots/smooth.json\n delete mode 100644 data/.gitignore\n delete mode 100644 dvc.lock\n delete mode 100644 dvc.yaml\n delete mode 100644 prc.json\nEverything up-to-date\n"
    }
   ],
   "source": [
    "! rm -rf data/\n",
    "! rm plots.html\n",
    "! rm prc.json\n",
    "! git add .\n",
    "! git commit -m \"clean\"\n",
    "! git push origin tutorial"
   ]
  },
  {
   "cell_type": "code",
   "execution_count": null,
   "metadata": {},
   "outputs": [],
   "source": []
  }
 ]
}