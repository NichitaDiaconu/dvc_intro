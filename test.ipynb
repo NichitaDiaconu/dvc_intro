{
 "metadata": {
  "language_info": {
   "codemirror_mode": {
    "name": "ipython",
    "version": 3
   },
   "file_extension": ".py",
   "mimetype": "text/x-python",
   "name": "python",
   "nbconvert_exporter": "python",
   "pygments_lexer": "ipython3",
   "version": "3.8.1-final"
  },
  "orig_nbformat": 2,
  "kernelspec": {
   "name": "python_defaultSpec_1596726770288",
   "display_name": "Python 3.8.1 64-bit ('dvc_intro': pipenv)"
  }
 },
 "nbformat": 4,
 "nbformat_minor": 2,
 "cells": [
  {
   "cell_type": "code",
   "execution_count": 80,
   "metadata": {
    "tags": []
   },
   "outputs": [
    {
     "output_type": "stream",
     "name": "stdout",
     "text": "The dotenv extension is already loaded. To reload it, use:\n  %reload_ext dotenv\n"
    }
   ],
   "source": [
    "%load_ext dotenv\n",
    "%dotenv"
   ]
  },
  {
   "cell_type": "code",
   "execution_count": 81,
   "metadata": {
    "tags": []
   },
   "outputs": [
    {
     "output_type": "stream",
     "name": "stdout",
     "text": "\u001b[32mA\u001b[39m\tdata/data.xml\n\u001b[32mA\u001b[39m\tmodel.pkl\n\u001b[32mA\u001b[39m\tdata/features/\n\u001b[32mA\u001b[39m\tdata/prepared/\n4 files added\n\u001b[0m"
    }
   ],
   "source": [
    "! dvc pull"
   ]
  },
  {
   "cell_type": "markdown",
   "metadata": {},
   "source": [
    "## Easily reproduce somewhere else"
   ]
  },
  {
   "cell_type": "markdown",
   "metadata": {},
   "source": [
    "### from cache"
   ]
  },
  {
   "cell_type": "code",
   "execution_count": 82,
   "metadata": {
    "tags": []
   },
   "outputs": [
    {
     "output_type": "stream",
     "name": "stdout",
     "text": "\u001b[39m\u001b[1mLoading .env environment variables...\u001b[39m\u001b[22m\nIf DVC froze, see `hardlink_lock` in <\u001b[36mhttps://man.dvc.org/config#core\u001b[39m>Stage 'data/data.xml.dvc' didn't change, skipping\nStage 'prepare' didn't change, skipping\nStage 'featurize' didn't change, skipping\nStage 'train' didn't change, skipping\nStage 'evaluate' didn't change, skipping\nData and pipelines are up to date.\n\u001b[0m"
    }
   ],
   "source": [
    "! pipenv run dvc repro"
   ]
  },
  {
   "cell_type": "markdown",
   "metadata": {},
   "source": [
    "### or force actual pipeline run"
   ]
  },
  {
   "cell_type": "code",
   "execution_count": 83,
   "metadata": {
    "tags": []
   },
   "outputs": [
    {
     "output_type": "stream",
     "name": "stdout",
     "text": "If DVC froze, see `hardlink_lock` in <\u001b[36mhttps://man.dvc.org/config#core\u001b[39m>Verifying data sources in stage: 'data/data.xml.dvc'\n\nRunning stage 'prepare' with command:\n\tpython src/prepare.py data/data.xml\n  0% Saving prepared|                          |0.00/2.00 [00:00<?,     ?file/s]\nRunning stage 'featurize' with command:\n\tpython src/featurization.py data/prepared data/features\nThe input data frame data/prepared/train.tsv size is (20017, 3)\nThe output matrix data/features/train.pkl size is (20017, 502) and data type is float64\nThe input data frame data/prepared/test.tsv size is (4983, 3)\nThe output matrix data/features/test.pkl size is (4983, 502) and data type is float64\n  0% Saving features|                          |0.00/2.00 [00:00<?,     ?file/s]\nRunning stage 'train' with command:\n\tpython src/train.py data/features model.pkl\nInput matrix size (20017, 502)\nX matrix size (20017, 500)\nY matrix size (20017,)\nIf DVC froze, see `hardlink_lock` in <\u001b[36mhttps://man.dvc.org/config#core\u001b[39m>\nRunning stage 'evaluate' with command:\n\tpython src/evaluate.py model.pkl data/features scores.json prc.json\nIf DVC froze, see `hardlink_lock` in <\u001b[36mhttps://man.dvc.org/config#core\u001b[39m>\nTo track the changes with git, run:\n\n\tgit add data/data.xml.dvc\n\u001b[0m"
    }
   ],
   "source": [
    "! dvc repro -f"
   ]
  },
  {
   "cell_type": "code",
   "execution_count": 84,
   "metadata": {
    "tags": []
   },
   "outputs": [
    {
     "output_type": "stream",
     "name": "stdout",
     "text": "If DVC froze, see `hardlink_lock` in <\u001b[36mhttps://man.dvc.org/config#core\u001b[39m>\u001b[0m"
    }
   ],
   "source": [
    "! dvc diff"
   ]
  },
  {
   "cell_type": "markdown",
   "metadata": {},
   "source": [
    "### Assert equivalent result"
   ]
  },
  {
   "cell_type": "code",
   "execution_count": 85,
   "metadata": {
    "tags": []
   },
   "outputs": [
    {
     "output_type": "stream",
     "name": "stdout",
     "text": "{\"auc\": 0.5417487597055675}"
    }
   ],
   "source": [
    "! cat scores.json"
   ]
  },
  {
   "cell_type": "markdown",
   "metadata": {},
   "source": [
    "### Now I can easily\n",
    "* Making updates to the models\n",
    "* see differences in parameters or results\n",
    "* collaborate with others\n",
    "* reproduce results"
   ]
  },
  {
   "cell_type": "markdown",
   "metadata": {},
   "source": [
    "### Go and modify some parameters"
   ]
  },
  {
   "cell_type": "code",
   "execution_count": 86,
   "metadata": {
    "tags": []
   },
   "outputs": [
    {
     "output_type": "stream",
     "name": "stdout",
     "text": "If DVC froze, see `hardlink_lock` in <\u001b[36mhttps://man.dvc.org/config#core\u001b[39m>Data and pipelines are up to date.\n\u001b[0m"
    }
   ],
   "source": [
    "! dvc status"
   ]
  },
  {
   "cell_type": "code",
   "execution_count": 87,
   "metadata": {
    "tags": []
   },
   "outputs": [
    {
     "output_type": "stream",
     "name": "stdout",
     "text": "If DVC froze, see `hardlink_lock` in <\u001b[36mhttps://man.dvc.org/config#core\u001b[39m>\u001b[0m"
    }
   ],
   "source": [
    "! dvc params diff"
   ]
  },
  {
   "cell_type": "code",
   "execution_count": 88,
   "metadata": {
    "tags": []
   },
   "outputs": [
    {
     "output_type": "stream",
     "name": "stdout",
     "text": "If DVC froze, see `hardlink_lock` in <\u001b[36mhttps://man.dvc.org/config#core\u001b[39m>Stage 'data/data.xml.dvc' didn't change, skipping\nStage 'prepare' didn't change, skipping\nStage 'featurize' didn't change, skipping\nStage 'train' didn't change, skipping\nStage 'evaluate' didn't change, skipping\nData and pipelines are up to date.\n\u001b[0m"
    }
   ],
   "source": [
    "! dvc repro"
   ]
  },
  {
   "cell_type": "code",
   "execution_count": 89,
   "metadata": {
    "tags": []
   },
   "outputs": [
    {
     "output_type": "stream",
     "name": "stdout",
     "text": "If DVC froze, see `hardlink_lock` in <\u001b[36mhttps://man.dvc.org/config#core\u001b[39m>\u001b[0m"
    }
   ],
   "source": [
    "! dvc metrics diff"
   ]
  },
  {
   "cell_type": "code",
   "execution_count": 90,
   "metadata": {
    "tags": []
   },
   "outputs": [
    {
     "output_type": "stream",
     "name": "stdout",
     "text": "{\"auc\": 0.5417487597055675}"
    }
   ],
   "source": [
    "! cat scores.json"
   ]
  },
  {
   "cell_type": "code",
   "execution_count": 91,
   "metadata": {
    "tags": []
   },
   "outputs": [
    {
     "output_type": "stream",
     "name": "stdout",
     "text": "file:///home/nichita/Projects/dvc_intro/plots.html\n\u001b[0m"
    }
   ],
   "source": [
    "! dvc plots diff -x recall -y precision"
   ]
  },
  {
   "cell_type": "code",
   "execution_count": null,
   "metadata": {},
   "outputs": [],
   "source": []
  },
  {
   "cell_type": "markdown",
   "metadata": {},
   "source": [
    "## For reproducibility of this notebook:\n",
    "### Remove tracked data from dvc (local and remote) and\n",
    "### Remove unnecessary files "
   ]
  },
  {
   "cell_type": "code",
   "execution_count": 92,
   "metadata": {
    "tags": []
   },
   "outputs": [
    {
     "output_type": "stream",
     "name": "stdout",
     "text": "\u001b[31mERROR\u001b[39m: failed to remove 'data/.' - \"Stage 'data/.' not found inside 'dvc.yaml' file\"\n\n\u001b[33mHaving any troubles?\u001b[39m Hit us up at \u001b[34mhttps://dvc.org/support\u001b[39m, we are always happy to help!\n\u001b[0m"
    }
   ],
   "source": [
    "! dvc remove data/."
   ]
  },
  {
   "cell_type": "code",
   "execution_count": 93,
   "metadata": {
    "tags": []
   },
   "outputs": [
    {
     "output_type": "stream",
     "name": "stdout",
     "text": "\u001b[31mERROR\u001b[39m: failed to remove 'data/features/train.pkl' - \"Stage 'data/features/train.pkl' not found inside 'dvc.yaml' file\"\n\n\u001b[33mHaving any troubles?\u001b[39m Hit us up at \u001b[34mhttps://dvc.org/support\u001b[39m, we are always happy to help!\nIf DVC froze, see `hardlink_lock` in <\u001b[36mhttps://man.dvc.org/config#core\u001b[39m>\u001b[31mERROR\u001b[39m: failed to remove 'data/features/test.pkl' - \"Stage 'data/features/test.pkl' not found inside 'dvc.yaml' file\"\n\n\u001b[33mHaving any troubles?\u001b[39m Hit us up at \u001b[34mhttps://dvc.org/support\u001b[39m, we are always happy to help!\nIf DVC froze, see `hardlink_lock` in <\u001b[36mhttps://man.dvc.org/config#core\u001b[39m>\u001b[31mERROR\u001b[39m: failed to remove 'data/prepared/train.tsv' - \"Stage 'data/prepared/train.tsv' not found inside 'dvc.yaml' file\"\n\n\u001b[33mHaving any troubles?\u001b[39m Hit us up at \u001b[34mhttps://dvc.org/support\u001b[39m, we are always happy to help!\nIf DVC froze, see `hardlink_lock` in <\u001b[36mhttps://man.dvc.org/config#core\u001b[39m>\u001b[31mERROR\u001b[39m: failed to remove 'data/prepared/test.tsv' - \"Stage 'data/prepared/test.tsv' not found inside 'dvc.yaml' file\"\n\n\u001b[33mHaving any troubles?\u001b[39m Hit us up at \u001b[34mhttps://dvc.org/support\u001b[39m, we are always happy to help!\nIf DVC froze, see `hardlink_lock` in <\u001b[36mhttps://man.dvc.org/config#core\u001b[39m>\u001b[31mERROR\u001b[39m: failed to remove 'model.pkl' - \"Stage 'model.pkl' not found inside 'dvc.yaml' file\"\n\n\u001b[33mHaving any troubles?\u001b[39m Hit us up at \u001b[34mhttps://dvc.org/support\u001b[39m, we are always happy to help!\n\u001b[0m"
    }
   ],
   "source": [
    "! dvc remove data/data.xml.dvc\n",
    "! dvc remove data/features/train.pkl\n",
    "! dvc remove data/features/test.pkl\n",
    "! dvc remove data/prepared/train.tsv\n",
    "! dvc remove data/prepared/test.tsv\n",
    "! dvc remove model.pkl"
   ]
  },
  {
   "cell_type": "code",
   "execution_count": 94,
   "metadata": {
    "tags": []
   },
   "outputs": [
    {
     "output_type": "stream",
     "name": "stdout",
     "text": "rm: cannot remove 'data/data.xml': No such file or directory\n"
    }
   ],
   "source": [
    "! rm -rf data/\n",
    "! rm plots.html\n",
    "! rm prc.json\n",
    "! rm model.pkl\n",
    "! rm data/data.xml"
   ]
  },
  {
   "cell_type": "code",
   "execution_count": 95,
   "metadata": {
    "tags": []
   },
   "outputs": [
    {
     "output_type": "stream",
     "name": "stdout",
     "text": "If DVC froze, see `hardlink_lock` in <\u001b[36mhttps://man.dvc.org/config#core\u001b[39m>\u001b[31mDeleted\u001b[39m:\n    data/data.xml\n    data/features/\n    data/prepared/\n    model.pkl\n    prc.json\n\nfiles summary: 0 added, 3 deleted, 0 modified\n\u001b[0m"
    }
   ],
   "source": [
    "! dvc diff"
   ]
  },
  {
   "cell_type": "code",
   "execution_count": 96,
   "metadata": {
    "tags": []
   },
   "outputs": [
    {
     "output_type": "stream",
     "name": "stdout",
     "text": "[data_pipelines e1fc9d0] removes data\n 1 file changed, 3 deletions(-)\n delete mode 100644 data/data.xml.dvc\nEverything up-to-date\n  0% Analysing status|                         |0.00/5.00 [00:00<?,     ?file/s]Everything is up to date.\n\u001b[0m"
    }
   ],
   "source": [
    "! git add data/data.xml.dvc\n",
    "! git commit -m 'removes data'\n",
    "! git push origin tutorial\n",
    "! dvc push"
   ]
  },
  {
   "cell_type": "code",
   "execution_count": 97,
   "metadata": {
    "tags": []
   },
   "outputs": [
    {
     "output_type": "stream",
     "name": "stdout",
     "text": "\u001b[33mWARNING\u001b[39m: This will remove all cache except items used in the workspace of the current repo.\n  0% Querying cache in 'gs://dvc_intro'|  |1.00/4.10k [00:00<11:32,  5.92file/s]\u001b[0m"
    }
   ],
   "source": [
    "! echo \"y\" | dvc gc -cw"
   ]
  },
  {
   "cell_type": "code",
   "execution_count": 98,
   "metadata": {
    "tags": []
   },
   "outputs": [
    {
     "output_type": "stream",
     "name": "stdout",
     "text": "This will destroy all information about your pipelines, all data files, as well as cache in .dvc/cache.\nIf DVC froze, see `hardlink_lock` in <\u001b[36mhttps://man.dvc.org/config#core\u001b[39m>\u001b[0m"
    }
   ],
   "source": [
    "! echo 'y' | dvc destroy"
   ]
  },
  {
   "cell_type": "code",
   "execution_count": 99,
   "metadata": {
    "tags": []
   },
   "outputs": [
    {
     "output_type": "stream",
     "name": "stdout",
     "text": "[data_pipelines c1f1e0a] clean\n 11 files changed, 305 insertions(+), 564 deletions(-)\n delete mode 100644 .dvc/.gitignore\n delete mode 100644 .dvc/config\n delete mode 100644 .dvc/plots/confusion.json\n delete mode 100644 .dvc/plots/default.json\n delete mode 100644 .dvc/plots/scatter.json\n delete mode 100644 .dvc/plots/smooth.json\n delete mode 100644 data/.gitignore\n delete mode 100644 dvc.lock\n delete mode 100644 dvc.yaml\n delete mode 100644 prc.json\n rewrite run.ipynb (74%)\nEverything up-to-date\n"
    }
   ],
   "source": [
    "! git add .\n",
    "! git commit -m \"clean\"\n",
    "! git push origin tutorial"
   ]
  },
  {
   "cell_type": "code",
   "execution_count": null,
   "metadata": {},
   "outputs": [],
   "source": []
  },
  {
   "cell_type": "code",
   "execution_count": null,
   "metadata": {},
   "outputs": [],
   "source": []
  }
 ]
}