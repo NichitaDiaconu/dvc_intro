{
 "metadata": {
  "language_info": {
   "codemirror_mode": {
    "name": "ipython",
    "version": 3
   },
   "file_extension": ".py",
   "mimetype": "text/x-python",
   "name": "python",
   "nbconvert_exporter": "python",
   "pygments_lexer": "ipython3",
   "version": "3.8.1-final"
  },
  "orig_nbformat": 2,
  "kernelspec": {
   "name": "python_defaultSpec_1596726770288",
   "display_name": "Python 3.8.1 64-bit ('dvc_intro': pipenv)"
  }
 },
 "nbformat": 4,
 "nbformat_minor": 2,
 "cells": [
  {
   "cell_type": "code",
   "execution_count": 40,
   "metadata": {
    "tags": []
   },
   "outputs": [
    {
     "output_type": "stream",
     "name": "stdout",
     "text": "The dotenv extension is already loaded. To reload it, use:\n  %reload_ext dotenv\n"
    }
   ],
   "source": [
    "%load_ext dotenv\n",
    "%dotenv"
   ]
  },
  {
   "cell_type": "code",
   "execution_count": 41,
   "metadata": {
    "tags": [
     "outputPrepend"
    ]
   },
   "outputs": [
    {
     "output_type": "stream",
     "name": "stdout",
     "text": "  8.00k/1.35M [00:00<01:10,    19.9kB/s]\u001b[A\n\n\n  0%|          |model.pkl                 8.00k/2.54M [00:00<02:08,    20.6kB/s]\u001b[A\u001b[A\u001b[A\n\n  0%|          |data/prepared/train.tsv   8.00k/18.2M [00:00<18:14,    17.4kB/s]\u001b[A\u001b[A\n 17%|█▋        |data/features/test.pkl     240k/1.35M [00:00<00:41,    28.3kB/s]\u001b[A\n\n\n\n\n  0%|          |data/data.xml             8.00k/36.1M [00:00<31:58,    19.7kB/s]\u001b[A\u001b[A\u001b[A\u001b[A\u001b[A\n\n\n\n  0%|          |data/features/train.pkl   8.00k/5.41M [00:00<05:39,    16.7kB/s]\u001b[A\u001b[A\u001b[A\u001b[A\n\n\n\n\n\n  0%|          |data/prepared/test.tsv    8.00k/4.54M [00:00<04:06,    19.3kB/s]\u001b[A\u001b[A\u001b[A\u001b[A\u001b[A\u001b[A\n\n\n  4%|▍         |model.pkl                  104k/2.54M [00:00<01:27,    29.1kB/s]\u001b[A\u001b[A\u001b[A\n\n  0%|          |data/prepared/train.tsv   80.0k/18.2M [00:00<12:51,    24.7kB/s]\u001b[A\u001b[A\n 45%|████▌     |data/features/test.pkl     624k/1.35M [00:00<00:19,    40.2kB/s]\u001b[A\n\n\n\n\n  0%|          |data/data.xml             80.0k/36.1M [00:00<22:41,    27.8kB/s]\u001b[A\u001b[A\u001b[A\u001b[A\u001b[A\n\n  1%|          |data/prepared/train.tsv    120k/18.2M [00:00<09:13,    34.3kB/s]\u001b[A\u001b[A\n\n\n\n\n\n  1%|          |data/prepared/test.tsv    48.0k/4.54M [00:00<02:55,    26.9kB/s]\u001b[A\u001b[A\u001b[A\u001b[A\u001b[A\u001b[A\n\n\n  7%|▋         |model.pkl                  176k/2.54M [00:00<01:00,    40.8kB/s]\u001b[A\u001b[A\u001b[A\n\n\n\n  1%|          |data/features/train.pkl   56.0k/5.41M [00:00<04:01,    23.3kB/s]\u001b[A\u001b[A\u001b[A\u001b[A\n 66%|██████▌   |data/features/test.pkl     904k/1.35M [00:00<00:08,    57.0kB/s]\u001b[A\n\n\n\n\n  1%|          |data/data.xml              232k/36.1M [00:00<15:56,    39.4kB/s]\u001b[A\u001b[A\u001b[A\u001b[A\u001b[A\n\n\n 17%|█▋        |model.pkl                  432k/2.54M [00:00<00:38,    57.8kB/s]\u001b[A\u001b[A\u001b[A\n\n  1%|          |data/prepared/train.tsv    184k/18.2M [00:00<06:38,    47.4kB/s]\u001b[A\u001b[A\n\n\n\n\n\n  3%|▎         |data/prepared/test.tsv     128k/4.54M [00:00<02:03,    37.6kB/s]\u001b[A\u001b[A\u001b[A\u001b[A\u001b[A\u001b[A\n\n\n\n  2%|▏         |data/features/train.pkl    136k/5.41M [00:00<02:48,    32.8kB/s]\u001b[A\u001b[A\u001b[A\u001b[A\n\n\n\n\n  1%|          |data/data.xml              312k/36.1M [00:00<11:21,    55.1kB/s]\u001b[A\u001b[A\u001b[A\u001b[A\u001b[A\n 85%|████████▍ |data/features/test.pkl    1.14M/1.35M [00:00<00:02,    80.6kB/s]\u001b[A\n\n\n 26%|██▋       |model.pkl                  688k/2.54M [00:00<00:23,    81.8kB/s]\u001b[A\u001b[A\u001b[A\n\n  2%|▏         |data/prepared/train.tsv    304k/18.2M [00:00<04:42,    66.6kB/s]\u001b[A\u001b[A\n 17% Downloading|█████▎                          |1/6 [00:01<00:06,  1.26s/file]\n\n\n\n\n\n  7%|▋         |data/prepared/test.tsv     336k/4.54M [00:00<01:22,    53.3kB/s]\u001b[A\u001b[A\u001b[A\u001b[A\u001b[A\u001b[A\n\n\n\n  5%|▍         |data/features/train.pkl    272k/5.41M [00:00<01:56,    46.3kB/s]\u001b[A\u001b[A\u001b[A\u001b[A\n\n\n\n\n  2%|▏         |data/data.xml              656k/36.1M [00:00<07:56,    78.2kB/s]\u001b[A\u001b[A\u001b[A\u001b[A\u001b[A\n\n\n 39%|███▉      |model.pkl                 1.00M/2.54M [00:00<00:13,     116kB/s]\u001b[A\u001b[A\u001b[A\n\n  2%|▏         |data/prepared/train.tsv    424k/18.2M [00:01<03:20,    92.9kB/s]\u001b[A\u001b[A\n\n\n\n\n\n 11%|█         |data/prepared/test.tsv     504k/4.54M [00:00<00:56,    75.2kB/s]\u001b[A\u001b[A\u001b[A\u001b[A\u001b[A\u001b[A\n\n\n\n  7%|▋         |data/features/train.pkl    368k/5.41M [00:00<01:21,    64.9kB/s]\u001b[A\u001b[A\u001b[A\u001b[A\n\n\n\n\n  2%|▏         |data/data.xml              800k/36.1M [00:00<05:40,     109kB/s]\u001b[A\u001b[A\u001b[A\u001b[A\u001b[A\n\n\n 51%|█████     |model.pkl                 1.30M/2.54M [00:01<00:07,     163kB/s]\u001b[A\u001b[A\u001b[A\n\n\n\n\n\n 14%|█▎        |data/prepared/test.tsv     632k/4.54M [00:01<00:39,     104kB/s]\u001b[A\u001b[A\u001b[A\u001b[A\u001b[A\u001b[A\n\n  3%|▎         |data/prepared/train.tsv    520k/18.2M [00:01<02:26,     126kB/s]\u001b[A\u001b[A\n\n\n\n  8%|▊         |data/features/train.pkl    448k/5.41M [00:01<00:58,    89.2kB/s]\u001b[A\u001b[A\u001b[A\u001b[A\n\n\n\n\n  3%|▎         |data/data.xml              944k/36.1M [00:01<04:05,     151kB/s]\u001b[A\u001b[A\u001b[A\u001b[A\u001b[A\n\n\n 64%|██████▍   |model.pkl                 1.62M/2.54M [00:01<00:04,     227kB/s]\u001b[A\u001b[A\u001b[A\n\n\n\n\n\n 18%|█▊        |data/prepared/test.tsv     824k/4.54M [00:01<00:26,     146kB/s]\u001b[A\u001b[A\u001b[A\u001b[A\u001b[A\u001b[A\n\n\n\n 10%|▉         |data/features/train.pkl    544k/5.41M [00:01<00:42,     121kB/s]\u001b[A\u001b[A\u001b[A\u001b[A\n\n\n\n\n  3%|▎         |data/data.xml             1.08M/36.1M [00:01<02:58,     206kB/s]\u001b[A\u001b[A\u001b[A\u001b[A\u001b[A\n\n\n 76%|███████▋  |model.pkl                 1.94M/2.54M [00:01<00:01,     315kB/s]\u001b[A\u001b[A\u001b[A\n\n  4%|▍         |data/prepared/train.tsv    736k/18.2M [00:01<01:20,     227kB/s]\u001b[A\u001b[A\n\n\n\n\n\n 21%|██▏       |data/prepared/test.tsv     992k/4.54M [00:01<00:18,     198kB/s]\u001b[A\u001b[A\u001b[A\u001b[A\u001b[A\u001b[A\n\n\n\n\n  3%|▎         |data/data.xml             1.22M/36.1M [00:01<02:12,     276kB/s]\u001b[A\u001b[A\u001b[A\u001b[A\u001b[A\n\n\n 87%|████████▋ |model.pkl                 2.20M/2.54M [00:01<00:00,     428kB/s]\u001b[A\u001b[A\u001b[A\n\n\n\n 13%|█▎        |data/features/train.pkl    704k/5.41M [00:01<00:29,     166kB/s]\u001b[A\u001b[A\u001b[A\u001b[A\n\n  4%|▍         |data/prepared/train.tsv    824k/18.2M [00:01<01:02,     293kB/s]\u001b[A\u001b[A\n\n\n 33% Downloading|██████████▋                     |2/6 [00:01<00:04,  1.05s/file]\n\n\n\n\n\n 27%|██▋       |data/prepared/test.tsv    1.22M/4.54M [00:01<00:12,     272kB/s]\u001b[A\u001b[A\u001b[A\u001b[A\u001b[A\u001b[A\n\n\n\n\n  4%|▍         |data/data.xml             1.42M/36.1M [00:01<01:37,     373kB/s]\u001b[A\u001b[A\u001b[A\u001b[A\u001b[A\n\n\n\n 15%|█▌        |data/features/train.pkl    856k/5.41M [00:01<00:21,     226kB/s]\u001b[A\u001b[A\u001b[A\u001b[A\n\n  5%|▌         |data/prepared/train.tsv    968k/18.2M [00:01<00:47,     385kB/s]\u001b[A\u001b[A\n\n\n\n\n\n 32%|███▏      |data/prepared/test.tsv    1.45M/4.54M [00:01<00:08,     371kB/s]\u001b[A\u001b[A\u001b[A\u001b[A\u001b[A\u001b[A\n\n\n\n\n  4%|▍         |data/data.xml             1.58M/36.1M [00:01<01:14,     486kB/s]\u001b[A\u001b[A\u001b[A\u001b[A\u001b[A\n\n\n\n 18%|█▊        |data/features/train.pkl    992k/5.41M [00:01<00:15,     302kB/s]\u001b[A\u001b[A\u001b[A\u001b[A\n\n  6%|▌         |data/prepared/train.tsv   1.06M/18.2M [00:01<00:37,     481kB/s]\u001b[A\u001b[A\n\n\n\n\n\n 37%|███▋      |data/prepared/test.tsv    1.67M/4.54M [00:01<00:06,     496kB/s]\u001b[A\u001b[A\u001b[A\u001b[A\u001b[A\u001b[A\n\n\n\n\n  5%|▍         |data/data.xml             1.73M/36.1M [00:01<00:58,     615kB/s]\u001b[A\u001b[A\u001b[A\u001b[A\u001b[A\n\n\n\n 21%|██        |data/features/train.pkl   1.11M/5.41M [00:01<00:11,     394kB/s]\u001b[A\u001b[A\u001b[A\u001b[A\n\n  7%|▋         |data/prepared/train.tsv   1.20M/18.2M [00:01<00:29,     602kB/s]\u001b[A\u001b[A\n\n\n\n\n\n 42%|████▏     |data/prepared/test.tsv    1.92M/4.54M [00:01<00:04,     654kB/s]\u001b[A\u001b[A\u001b[A\u001b[A\u001b[A\u001b[A\n\n\n\n\n  5%|▌         |data/data.xml             1.91M/36.1M [00:01<00:47,     756kB/s]\u001b[A\u001b[A\u001b[A\u001b[A\u001b[A\n\n\n\n 24%|██▎       |data/features/train.pkl   1.28M/5.41M [00:01<00:08,     512kB/s]\u001b[A\u001b[A\u001b[A\u001b[A\n\n  7%|▋         |data/prepared/train.tsv   1.36M/18.2M [00:01<00:23,     737kB/s]\u001b[A\u001b[A\n\n\n\n\n\n 48%|████▊     |data/prepared/test.tsv    2.19M/4.54M [00:01<00:02,     849kB/s]\u001b[A\u001b[A\u001b[A\u001b[A\u001b[A\u001b[A\n\n\n\n\n  6%|▌         |data/data.xml             2.06M/36.1M [00:01<00:39,     902kB/s]\u001b[A\u001b[A\u001b[A\u001b[A\u001b[A\n\n\n\n 27%|██▋       |data/features/train.pkl   1.47M/5.41M [00:01<00:06,     656kB/s]\u001b[A\u001b[A\u001b[A\u001b[A\n\n  8%|▊         |data/prepared/train.tsv   1.53M/18.2M [00:02<00:19,     888kB/s]\u001b[A\u001b[A\n\n\n\n\n\n 55%|█████▍    |data/prepared/test.tsv    2.48M/4.54M [00:01<00:01,    1.09MB/s]\u001b[A\u001b[A\u001b[A\u001b[A\u001b[A\u001b[A\n\n\n\n\n  6%|▌         |data/data.xml             2.22M/36.1M [00:01<00:34,    1.04MB/s]\u001b[A\u001b[A\u001b[A\u001b[A\u001b[A\n\n\n\n 31%|███       |data/features/train.pkl   1.66M/5.41M [00:02<00:04,     796kB/s]\u001b[A\u001b[A\u001b[A\u001b[A\n\n  9%|▉         |data/prepared/train.tsv   1.69M/18.2M [00:02<00:17,     988kB/s]\u001b[A\u001b[A\n\n\n\n\n  7%|▋         |data/data.xml             2.38M/36.1M [00:02<00:30,    1.16MB/s]\u001b[A\u001b[A\u001b[A\u001b[A\u001b[A\n\n\n\n\n\n 60%|██████    |data/prepared/test.tsv    2.73M/4.54M [00:02<00:01,    1.27MB/s]\u001b[A\u001b[A\u001b[A\u001b[A\u001b[A\u001b[A\n\n\n\n 36%|███▌      |data/features/train.pkl   1.92M/5.41M [00:02<00:03,    1.01MB/s]\u001b[A\u001b[A\u001b[A\u001b[A\n\n 10%|█         |data/prepared/train.tsv   1.86M/18.2M [00:02<00:15,    1.14MB/s]\u001b[A\u001b[A\n\n\n\n\n  7%|▋         |data/data.xml             2.55M/36.1M [00:02<00:28,    1.23MB/s]\u001b[A\u001b[A\u001b[A\u001b[A\u001b[A\n\n\n\n\n\n 68%|██████▊   |data/prepared/test.tsv    3.09M/4.54M [00:02<00:00,    1.54MB/s]\u001b[A\u001b[A\u001b[A\u001b[A\u001b[A\u001b[A\n\n\n\n 39%|███▉      |data/features/train.pkl   2.11M/5.41M [00:02<00:03,    1.10MB/s]\u001b[A\u001b[A\u001b[A\u001b[A\n\n 11%|█         |data/prepared/train.tsv   2.02M/18.2M [00:02<00:13,    1.22MB/s]\u001b[A\u001b[A\n\n\n\n\n  8%|▊         |data/data.xml             2.72M/36.1M [00:02<00:26,    1.35MB/s]\u001b[A\u001b[A\u001b[A\u001b[A\u001b[A\n\n\n\n\n\n 75%|███████▌  |data/prepared/test.tsv    3.42M/4.54M [00:02<00:00,    1.82MB/s]\u001b[A\u001b[A\u001b[A\u001b[A\u001b[A\u001b[A\n\n\n\n 44%|████▍     |data/features/train.pkl   2.38M/5.41M [00:02<00:02,    1.30MB/s]\u001b[A\u001b[A\u001b[A\u001b[A\n\n 12%|█▏        |data/prepared/train.tsv   2.19M/18.2M [00:02<00:12,    1.34MB/s]\u001b[A\u001b[A\n\n\n\n\n  8%|▊         |data/data.xml             2.88M/36.1M [00:02<00:24,    1.41MB/s]\u001b[A\u001b[A\u001b[A\u001b[A\u001b[A\n\n\n\n\n\n 81%|████████  |data/prepared/test.tsv    3.69M/4.54M [00:02<00:00,    2.01MB/s]\u001b[A\u001b[A\u001b[A\u001b[A\u001b[A\u001b[A\n\n 13%|█▎        |data/prepared/train.tsv   2.38M/18.2M [00:02<00:11,    1.44MB/s]\u001b[A\u001b[A\n\n\n\n 47%|████▋     |data/features/train.pkl   2.56M/5.41M [00:02<00:02,    1.38MB/s]\u001b[A\u001b[A\u001b[A\u001b[A\n\n\n\n\n  8%|▊         |data/data.xml             3.03M/36.1M [00:02<00:23,    1.47MB/s]\u001b[A\u001b[A\u001b[A\u001b[A\u001b[A\n\n\n\n\n\n 89%|████████▉ |data/prepared/test.tsv    4.05M/4.54M [00:02<00:00,    2.33MB/s]\u001b[A\u001b[A\u001b[A\u001b[A\u001b[A\u001b[A\n\n\n\n 52%|█████▏    |data/features/train.pkl   2.81M/5.41M [00:02<00:01,    1.60MB/s]\u001b[A\u001b[A\u001b[A\u001b[A\n\n 14%|█▍        |data/prepared/train.tsv   2.53M/18.2M [00:02<00:11,    1.46MB/s]\u001b[A\u001b[A\n\n\n\n\n  9%|▉         |data/data.xml             3.22M/36.1M [00:02<00:23,    1.49MB/s]\u001b[A\u001b[A\u001b[A\u001b[A\u001b[A\n\n\n\n\n\n 96%|█████████▌|data/prepared/test.tsv    4.36M/4.54M [00:02<00:00,    2.32MB/s]\u001b[A\u001b[A\u001b[A\u001b[A\u001b[A\u001b[A\n\n\n\n\n\n 50% Downloading|████████████████                |3/6 [00:03<00:03,  1.11s/file]\n\n\n\n 57%|█████▋    |data/features/train.pkl   3.06M/5.41M [00:02<00:01,    1.81MB/s]\u001b[A\u001b[A\u001b[A\u001b[A\n\n 15%|█▍        |data/prepared/train.tsv   2.73M/18.2M [00:02<00:10,    1.60MB/s]\u001b[A\u001b[A\n\n\n\n\n  9%|▉         |data/data.xml             3.43M/36.1M [00:02<00:20,    1.65MB/s]\u001b[A\u001b[A\u001b[A\u001b[A\u001b[A\n\n 16%|█▌        |data/prepared/train.tsv   2.92M/18.2M [00:02<00:09,    1.71MB/s]\u001b[A\u001b[A\n\n\n\n 61%|██████    |data/features/train.pkl   3.31M/5.41M [00:02<00:01,    1.98MB/s]\u001b[A\u001b[A\u001b[A\u001b[A\n\n\n\n\n 10%|█         |data/data.xml             3.62M/36.1M [00:02<00:19,    1.74MB/s]\u001b[A\u001b[A\u001b[A\u001b[A\u001b[A\n\n\n\n 66%|██████▋   |data/features/train.pkl   3.59M/5.41M [00:02<00:00,    2.18MB/s]\u001b[A\u001b[A\u001b[A\u001b[A\n\n 17%|█▋        |data/prepared/train.tsv   3.14M/18.2M [00:02<00:08,    1.85MB/s]\u001b[A\u001b[A\n\n\n\n\n 11%|█         |data/data.xml             3.84M/36.1M [00:02<00:18,    1.85MB/s]\u001b[A\u001b[A\u001b[A\u001b[A\u001b[A\n\n\n\n 72%|███████▏  |data/features/train.pkl   3.89M/5.41M [00:03<00:00,    2.40MB/s]\u001b[A\u001b[A\u001b[A\u001b[A\n\n 19%|█▊        |data/prepared/train.tsv   3.39M/18.2M [00:03<00:07,    2.01MB/s]\u001b[A\u001b[A\n\n\n\n\n 11%|█         |data/data.xml             4.06M/36.1M [00:03<00:18,    1.86MB/s]\u001b[A\u001b[A\u001b[A\u001b[A\u001b[A\n\n 20%|█▉        |data/prepared/train.tsv   3.62M/18.2M [00:03<00:07,    2.01MB/s]\u001b[A\u001b[A\n\n\n\n 78%|███████▊  |data/features/train.pkl   4.22M/5.41M [00:03<00:00,    2.47MB/s]\u001b[A\u001b[A\u001b[A\u001b[A\n\n\n\n\n 12%|█▏        |data/data.xml             4.34M/36.1M [00:03<00:16,    2.02MB/s]\u001b[A\u001b[A\u001b[A\u001b[A\u001b[A\n\n 22%|██▏       |data/prepared/train.tsv   3.95M/18.2M [00:03<00:06,    2.27MB/s]\u001b[A\u001b[A\n\n\n\n 85%|████████▍ |data/features/train.pkl   4.58M/5.41M [00:03<00:00,    2.75MB/s]\u001b[A\u001b[A\u001b[A\u001b[A\n\n\n\n\n 13%|█▎        |data/data.xml             4.62M/36.1M [00:03<00:14,    2.22MB/s]\u001b[A\u001b[A\u001b[A\u001b[A\u001b[A\n\n\n\n 90%|█████████ |data/features/train.pkl   4.89M/5.41M [00:03<00:00,    2.84MB/s]\u001b[A\u001b[A\u001b[A\u001b[A\n\n 23%|██▎       |data/prepared/train.tsv   4.19M/18.2M [00:03<00:06,    2.20MB/s]\u001b[A\u001b[A\n\n\n\n\n 13%|█▎        |data/data.xml             4.85M/36.1M [00:03<00:15,    2.18MB/s]\u001b[A\u001b[A\u001b[A\u001b[A\u001b[A\n\n 24%|██▍       |data/prepared/train.tsv   4.45M/18.2M [00:03<00:06,    2.35MB/s]\u001b[A\u001b[A\n\n\n\n 96%|█████████▌|data/features/train.pkl   5.18M/5.41M [00:03<00:00,    2.74MB/s]\u001b[A\u001b[A\u001b[A\u001b[A\n\n\n\n\n 14%|█▍        |data/data.xml             5.09M/36.1M [00:03<00:14,    2.26MB/s]\u001b[A\u001b[A\u001b[A\u001b[A\u001b[A\n\n\n\n 67% Downloading|█████████████████████▎          |4/6 [00:03<00:02,  1.02s/file]\n\n 26%|██▋       |data/prepared/train.tsv   4.81M/18.2M [00:03<00:05,    2.62MB/s]\u001b[A\u001b[A\n\n\n\n\n 15%|█▌        |data/data.xml             5.42M/36.1M [00:03<00:12,    2.52MB/s]\u001b[A\u001b[A\u001b[A\u001b[A\u001b[A\n\n 28%|██▊       |data/prepared/train.tsv   5.14M/18.2M [00:03<00:04,    2.81MB/s]\u001b[A\u001b[A\n\n\n\n\n 16%|█▌        |data/data.xml             5.77M/36.1M [00:03<00:11,    2.77MB/s]\u001b[A\u001b[A\u001b[A\u001b[A\u001b[A\n\n 30%|███       |data/prepared/train.tsv   5.52M/18.2M [00:03<00:04,    3.06MB/s]\u001b[A\u001b[A\n\n\n\n\n 17%|█▋        |data/data.xml             6.16M/36.1M [00:03<00:10,    3.06MB/s]\u001b[A\u001b[A\u001b[A\u001b[A\u001b[A\n\n 32%|███▏      |data/prepared/train.tsv   5.91M/18.2M [00:03<00:03,    3.30MB/s]\u001b[A\u001b[A\n\n\n\n\n 18%|█▊        |data/data.xml             6.55M/36.1M [00:03<00:09,    3.21MB/s]\u001b[A\u001b[A\u001b[A\u001b[A\u001b[A\n\n 34%|███▍      |data/prepared/train.tsv   6.24M/18.2M [00:04<00:03,    3.28MB/s]\u001b[A\u001b[A\n\n\n\n\n 19%|█▉        |data/data.xml             6.88M/36.1M [00:03<00:09,    3.24MB/s]\u001b[A\u001b[A\u001b[A\u001b[A\u001b[A\n\n 36%|███▌      |data/prepared/train.tsv   6.58M/18.2M [00:04<00:03,    3.18MB/s]\u001b[A\u001b[A\n\n\n\n\n 20%|██        |data/data.xml             7.34M/36.1M [00:04<00:08,    3.50MB/s]\u001b[A\u001b[A\u001b[A\u001b[A\u001b[A\n\n 39%|███▊      |data/prepared/train.tsv   7.02M/18.2M [00:04<00:03,    3.51MB/s]\u001b[A\u001b[A\n\n\n\n\n 22%|██▏       |data/data.xml             7.83M/36.1M [00:04<00:07,    3.74MB/s]\u001b[A\u001b[A\u001b[A\u001b[A\u001b[A\n\n 42%|████▏     |data/prepared/train.tsv   7.56M/18.2M [00:04<00:02,    3.83MB/s]\u001b[A\u001b[A\n\n\n\n\n 23%|██▎       |data/data.xml             8.33M/36.1M [00:04<00:07,    4.06MB/s]\u001b[A\u001b[A\u001b[A\u001b[A\u001b[A\n\n 44%|████▎     |data/prepared/train.tsv   7.95M/18.2M [00:04<00:02,    3.69MB/s]\u001b[A\u001b[A\n\n\n\n\n 24%|██▍       |data/data.xml             8.78M/36.1M [00:04<00:06,    4.19MB/s]\u001b[A\u001b[A\u001b[A\u001b[A\u001b[A\n\n\n\n\n 26%|██▌       |data/data.xml             9.23M/36.1M [00:04<00:06,    4.35MB/s]\u001b[A\u001b[A\u001b[A\u001b[A\u001b[A\n\n 46%|████▌     |data/prepared/train.tsv   8.32M/18.2M [00:04<00:03,    3.28MB/s]\u001b[A\u001b[A\n\n\n\n\n 27%|██▋       |data/data.xml             9.66M/36.1M [00:04<00:06,    4.28MB/s]\u001b[A\u001b[A\u001b[A\u001b[A\u001b[A\n\n 49%|████▊     |data/prepared/train.tsv   8.84M/18.2M [00:04<00:02,    3.66MB/s]\u001b[A\u001b[A\n\n\n\n\n 28%|██▊       |data/data.xml             10.2M/36.1M [00:04<00:05,    4.55MB/s]\u001b[A\u001b[A\u001b[A\u001b[A\u001b[A\n\n 51%|█████▏    |data/prepared/train.tsv   9.34M/18.2M [00:04<00:02,    3.58MB/s]\u001b[A\u001b[A\n\n\n\n\n 30%|██▉       |data/data.xml             10.8M/36.1M [00:04<00:05,    4.93MB/s]\u001b[A\u001b[A\u001b[A\u001b[A\u001b[A\n\n 53%|█████▎    |data/prepared/train.tsv   9.73M/18.2M [00:05<00:02,    3.53MB/s]\u001b[A\u001b[A\n\n\n\n\n 31%|███▏      |data/data.xml             11.3M/36.1M [00:04<00:05,    4.76MB/s]\u001b[A\u001b[A\u001b[A\u001b[A\u001b[A\n\n\n\n\n 33%|███▎      |data/data.xml             11.8M/36.1M [00:05<00:05,    4.76MB/s]\u001b[A\u001b[A\u001b[A\u001b[A\u001b[A\n\n 56%|█████▌    |data/prepared/train.tsv   10.2M/18.2M [00:05<00:02,    3.50MB/s]\u001b[A\u001b[A\n\n\n\n\n 34%|███▍      |data/data.xml             12.3M/36.1M [00:05<00:05,    4.43MB/s]\u001b[A\u001b[A\u001b[A\u001b[A\u001b[A\n\n 58%|█████▊    |data/prepared/train.tsv   10.6M/18.2M [00:05<00:02,    3.44MB/s]\u001b[A\u001b[A\n\n\n\n\n 35%|███▌      |data/data.xml             12.8M/36.1M [00:05<00:05,    4.75MB/s]\u001b[A\u001b[A\u001b[A\u001b[A\u001b[A\n\n 61%|██████    |data/prepared/train.tsv   11.1M/18.2M [00:05<00:01,    3.83MB/s]\u001b[A\u001b[A\n\n\n\n\n 37%|███▋      |data/data.xml             13.3M/36.1M [00:05<00:05,    4.79MB/s]\u001b[A\u001b[A\u001b[A\u001b[A\u001b[A\n\n 63%|██████▎   |data/prepared/train.tsv   11.5M/18.2M [00:05<00:01,    3.59MB/s]\u001b[A\u001b[A\n\n\n\n\n 38%|███▊      |data/data.xml             13.8M/36.1M [00:05<00:05,    4.50MB/s]\u001b[A\u001b[A\u001b[A\u001b[A\u001b[A\n\n 65%|██████▌   |data/prepared/train.tsv   11.9M/18.2M [00:05<00:01,    3.46MB/s]\u001b[A\u001b[A\n\n\n\n\n 40%|███▉      |data/data.xml             14.4M/36.1M [00:05<00:04,    4.93MB/s]\u001b[A\u001b[A\u001b[A\u001b[A\u001b[A\n\n 68%|██████▊   |data/prepared/train.tsv   12.3M/18.2M [00:05<00:01,    3.53MB/s]\u001b[A\u001b[A\n\n\n\n\n 41%|████      |data/data.xml             14.9M/36.1M [00:05<00:04,    4.88MB/s]\u001b[A\u001b[A\u001b[A\u001b[A\u001b[A\n\n 70%|██████▉   |data/prepared/train.tsv   12.7M/18.2M [00:05<00:01,    3.51MB/s]\u001b[A\u001b[A\n\n\n\n\n 42%|████▏     |data/data.xml             15.3M/36.1M [00:05<00:04,    4.72MB/s]\u001b[A\u001b[A\u001b[A\u001b[A\u001b[A\n\n 72%|███████▏  |data/prepared/train.tsv   13.1M/18.2M [00:06<00:01,    3.68MB/s]\u001b[A\u001b[A\n\n\n\n\n 44%|████▍     |data/data.xml             15.9M/36.1M [00:05<00:04,    5.02MB/s]\u001b[A\u001b[A\u001b[A\u001b[A\u001b[A\n\n 74%|███████▍  |data/prepared/train.tsv   13.5M/18.2M [00:06<00:01,    3.19MB/s]\u001b[A\u001b[A\n\n\n\n\n 45%|████▌     |data/data.xml             16.4M/36.1M [00:06<00:04,    4.55MB/s]\u001b[A\u001b[A\u001b[A\u001b[A\u001b[A\n\n 77%|███████▋  |data/prepared/train.tsv   14.0M/18.2M [00:06<00:01,    3.49MB/s]\u001b[A\u001b[A\n\n\n\n\n 47%|████▋     |data/data.xml             17.0M/36.1M [00:06<00:04,    4.90MB/s]\u001b[A\u001b[A\u001b[A\u001b[A\u001b[A\n\n 79%|███████▉  |data/prepared/train.tsv   14.4M/18.2M [00:06<00:01,    3.53MB/s]\u001b[A\u001b[A\n\n\n\n\n 48%|████▊     |data/data.xml             17.5M/36.1M [00:06<00:04,    4.69MB/s]\u001b[A\u001b[A\u001b[A\u001b[A\u001b[A\n\n 81%|████████▏ |data/prepared/train.tsv   14.8M/18.2M [00:06<00:00,    3.77MB/s]\u001b[A\u001b[A\n\n\n\n\n 50%|████▉     |data/data.xml             17.9M/36.1M [00:06<00:04,    4.69MB/s]\u001b[A\u001b[A\u001b[A\u001b[A\u001b[A\n\n\n\n\n 51%|█████     |data/data.xml             18.4M/36.1M [00:06<00:03,    4.71MB/s]\u001b[A\u001b[A\u001b[A\u001b[A\u001b[A\n\n 83%|████████▎ |data/prepared/train.tsv   15.2M/18.2M [00:06<00:00,    3.51MB/s]\u001b[A\u001b[A\n\n\n\n\n 52%|█████▏    |data/data.xml             18.9M/36.1M [00:06<00:03,    4.70MB/s]\u001b[A\u001b[A\u001b[A\u001b[A\u001b[A\n\n 86%|████████▌ |data/prepared/train.tsv   15.7M/18.2M [00:06<00:00,    3.69MB/s]\u001b[A\u001b[A\n\n\n\n\n 54%|█████▎    |data/data.xml             19.4M/36.1M [00:06<00:03,    4.74MB/s]\u001b[A\u001b[A\u001b[A\u001b[A\u001b[A\n\n 88%|████████▊ |data/prepared/train.tsv   16.0M/18.2M [00:06<00:00,    3.47MB/s]\u001b[A\u001b[A\n\n\n\n\n 55%|█████▌    |data/data.xml             19.9M/36.1M [00:06<00:03,    4.80MB/s]\u001b[A\u001b[A\u001b[A\u001b[A\u001b[A\n\n 90%|█████████ |data/prepared/train.tsv   16.4M/18.2M [00:06<00:00,    3.62MB/s]\u001b[A\u001b[A\n\n\n\n\n 56%|█████▋    |data/data.xml             20.4M/36.1M [00:06<00:03,    4.83MB/s]\u001b[A\u001b[A\u001b[A\u001b[A\u001b[A\n\n 92%|█████████▏|data/prepared/train.tsv   16.8M/18.2M [00:07<00:00,    3.66MB/s]\u001b[A\u001b[A\n\n\n\n\n 58%|█████▊    |data/data.xml             20.9M/36.1M [00:07<00:03,    4.65MB/s]\u001b[A\u001b[A\u001b[A\u001b[A\u001b[A\n\n 94%|█████████▍|data/prepared/train.tsv   17.1M/18.2M [00:07<00:00,    3.63MB/s]\u001b[A\u001b[A\n\n\n\n\n 59%|█████▉    |data/data.xml             21.4M/36.1M [00:07<00:03,    4.88MB/s]\u001b[A\u001b[A\u001b[A\u001b[A\u001b[A\n\n 96%|█████████▌|data/prepared/train.tsv   17.5M/18.2M [00:07<00:00,    3.43MB/s]\u001b[A\u001b[A\n\n\n\n\n 61%|██████    |data/data.xml             21.9M/36.1M [00:07<00:03,    4.65MB/s]\u001b[A\u001b[A\u001b[A\u001b[A\u001b[A\n\n 99%|█████████▉|data/prepared/train.tsv   18.0M/18.2M [00:07<00:00,    3.92MB/s]\u001b[A\u001b[A\n\n 83% Downloading|██████████████████████████▋     |5/6 [00:07<00:01,  1.88s/file]\n\n\n\n\n 62%|██████▏   |data/data.xml             22.4M/36.1M [00:07<00:02,    4.89MB/s]\u001b[A\u001b[A\u001b[A\u001b[A\u001b[A\n\n\n\n\n 63%|██████▎   |data/data.xml             22.9M/36.1M [00:07<00:02,    4.98MB/s]\u001b[A\u001b[A\u001b[A\u001b[A\u001b[A\n\n\n\n\n 65%|██████▌   |data/data.xml             23.6M/36.1M [00:07<00:02,    5.46MB/s]\u001b[A\u001b[A\u001b[A\u001b[A\u001b[A\n\n\n\n\n 67%|██████▋   |data/data.xml             24.3M/36.1M [00:07<00:02,    5.92MB/s]\u001b[A\u001b[A\u001b[A\u001b[A\u001b[A\n\n\n\n\n 69%|██████▉   |data/data.xml             25.1M/36.1M [00:07<00:01,    6.42MB/s]\u001b[A\u001b[A\u001b[A\u001b[A\u001b[A\n\n\n\n\n 72%|███████▏  |data/data.xml             25.9M/36.1M [00:07<00:01,    6.92MB/s]\u001b[A\u001b[A\u001b[A\u001b[A\u001b[A\n\n\n\n\n 74%|███████▎  |data/data.xml             26.6M/36.1M [00:07<00:01,    6.97MB/s]\u001b[A\u001b[A\u001b[A\u001b[A\u001b[A\n\n\n\n\n 76%|███████▌  |data/data.xml             27.3M/36.1M [00:08<00:01,    7.27MB/s]\u001b[A\u001b[A\u001b[A\u001b[A\u001b[A\n\n\n\n\n 78%|███████▊  |data/data.xml             28.2M/36.1M [00:08<00:01,    7.54MB/s]\u001b[A\u001b[A\u001b[A\u001b[A\u001b[A\n\n\n\n\n 80%|████████  |data/data.xml             29.1M/36.1M [00:08<00:00,    8.05MB/s]\u001b[A\u001b[A\u001b[A\u001b[A\u001b[A\n\n\n\n\n 83%|████████▎ |data/data.xml             29.9M/36.1M [00:08<00:00,    7.78MB/s]\u001b[A\u001b[A\u001b[A\u001b[A\u001b[A\n\n\n\n\n 85%|████████▌ |data/data.xml             30.8M/36.1M [00:08<00:00,    7.44MB/s]\u001b[A\u001b[A\u001b[A\u001b[A\u001b[A\n\n\n\n\n 88%|████████▊ |data/data.xml             31.8M/36.1M [00:08<00:00,    8.11MB/s]\u001b[A\u001b[A\u001b[A\u001b[A\u001b[A\n\n\n\n\n 91%|█████████ |data/data.xml             32.8M/36.1M [00:08<00:00,    8.65MB/s]\u001b[A\u001b[A\u001b[A\u001b[A\u001b[A\n\n\n\n\n 93%|█████████▎|data/data.xml             33.6M/36.1M [00:08<00:00,    8.55MB/s]\u001b[A\u001b[A\u001b[A\u001b[A\u001b[A\n\n\n\n\n 95%|█████████▌|data/data.xml             34.5M/36.1M [00:08<00:00,    8.39MB/s]\u001b[A\u001b[A\u001b[A\u001b[A\u001b[A\n\n\n\n\n 98%|█████████▊|data/data.xml             35.3M/36.1M [00:09<00:00,    8.06MB/s]\u001b[A\u001b[A\u001b[A\u001b[A\u001b[A\n\n\n\n\n\u001b[32mA\u001b[39m\tdata/data.xml\n\u001b[32mA\u001b[39m\tdata/features/\n\u001b[32mA\u001b[39m\tmodel.pkl\n\u001b[32mA\u001b[39m\tdata/prepared/\n4 files added and 6 files fetched\n\u001b[0m"
    }
   ],
   "source": [
    "! dvc pull"
   ]
  },
  {
   "cell_type": "markdown",
   "metadata": {},
   "source": [
    "## Easily reproduce somewhere else"
   ]
  },
  {
   "cell_type": "markdown",
   "metadata": {},
   "source": [
    "### from cache"
   ]
  },
  {
   "cell_type": "code",
   "execution_count": 42,
   "metadata": {
    "tags": []
   },
   "outputs": [
    {
     "output_type": "stream",
     "name": "stdout",
     "text": "\u001b[39m\u001b[1mLoading .env environment variables...\u001b[39m\u001b[22m\nIf DVC froze, see `hardlink_lock` in <\u001b[36mhttps://man.dvc.org/config#core\u001b[39m>Stage 'data/data.xml.dvc' didn't change, skipping\nStage 'prepare' didn't change, skipping\nStage 'featurize' didn't change, skipping\nStage 'train' didn't change, skipping\nStage 'evaluate' didn't change, skipping\nData and pipelines are up to date.\n\u001b[0m"
    }
   ],
   "source": [
    "! pipenv run dvc repro"
   ]
  },
  {
   "cell_type": "markdown",
   "metadata": {},
   "source": [
    "### or force actual pipeline run"
   ]
  },
  {
   "cell_type": "code",
   "execution_count": 43,
   "metadata": {
    "tags": []
   },
   "outputs": [
    {
     "output_type": "stream",
     "name": "stdout",
     "text": "If DVC froze, see `hardlink_lock` in <\u001b[36mhttps://man.dvc.org/config#core\u001b[39m>Verifying data sources in stage: 'data/data.xml.dvc'\n\nRunning stage 'prepare' with command:\n\tpython src/prepare.py data/data.xml\n\nRunning stage 'featurize' with command:\n\tpython src/featurization.py data/prepared data/features\nThe input data frame data/prepared/train.tsv size is (20017, 3)\nThe output matrix data/features/train.pkl size is (20017, 502) and data type is float64\nThe input data frame data/prepared/test.tsv size is (4983, 3)\nThe output matrix data/features/test.pkl size is (4983, 502) and data type is float64\n\nRunning stage 'train' with command:\n\tpython src/train.py data/features model.pkl\nInput matrix size (20017, 502)\nX matrix size (20017, 500)\nY matrix size (20017,)\nIf DVC froze, see `hardlink_lock` in <\u001b[36mhttps://man.dvc.org/config#core\u001b[39m>\nRunning stage 'evaluate' with command:\n\tpython src/evaluate.py model.pkl data/features scores.json prc.json\nIf DVC froze, see `hardlink_lock` in <\u001b[36mhttps://man.dvc.org/config#core\u001b[39m>\nTo track the changes with git, run:\n\n\tgit add data/data.xml.dvc\n\u001b[0m"
    }
   ],
   "source": [
    "! dvc repro -f"
   ]
  },
  {
   "cell_type": "code",
   "execution_count": 44,
   "metadata": {
    "tags": []
   },
   "outputs": [
    {
     "output_type": "stream",
     "name": "stdout",
     "text": "If DVC froze, see `hardlink_lock` in <\u001b[36mhttps://man.dvc.org/config#core\u001b[39m>\u001b[0m"
    }
   ],
   "source": [
    "! dvc diff"
   ]
  },
  {
   "cell_type": "markdown",
   "metadata": {},
   "source": [
    "### Assert equivalent result"
   ]
  },
  {
   "cell_type": "code",
   "execution_count": 45,
   "metadata": {
    "tags": []
   },
   "outputs": [
    {
     "output_type": "stream",
     "name": "stdout",
     "text": "{\"auc\": 0.5417487597055675}"
    }
   ],
   "source": [
    "! cat scores.json"
   ]
  },
  {
   "cell_type": "markdown",
   "metadata": {},
   "source": [
    "### Now I can easily\n",
    "* Making updates to the models\n",
    "* see differences in parameters or results\n",
    "* collaborate with others\n",
    "* reproduce results"
   ]
  },
  {
   "cell_type": "markdown",
   "metadata": {},
   "source": [
    "### Go and modify some parameters"
   ]
  },
  {
   "cell_type": "code",
   "execution_count": 46,
   "metadata": {
    "tags": []
   },
   "outputs": [
    {
     "output_type": "stream",
     "name": "stdout",
     "text": "If DVC froze, see `hardlink_lock` in <\u001b[36mhttps://man.dvc.org/config#core\u001b[39m>Data and pipelines are up to date.\n\u001b[0m"
    }
   ],
   "source": [
    "! dvc status"
   ]
  },
  {
   "cell_type": "code",
   "execution_count": 47,
   "metadata": {
    "tags": []
   },
   "outputs": [
    {
     "output_type": "stream",
     "name": "stdout",
     "text": "If DVC froze, see `hardlink_lock` in <\u001b[36mhttps://man.dvc.org/config#core\u001b[39m>\u001b[0m"
    }
   ],
   "source": [
    "! dvc params diff"
   ]
  },
  {
   "cell_type": "code",
   "execution_count": 48,
   "metadata": {
    "tags": []
   },
   "outputs": [
    {
     "output_type": "stream",
     "name": "stdout",
     "text": "If DVC froze, see `hardlink_lock` in <\u001b[36mhttps://man.dvc.org/config#core\u001b[39m>Stage 'data/data.xml.dvc' didn't change, skipping\nStage 'prepare' didn't change, skipping\nStage 'featurize' didn't change, skipping\nStage 'train' didn't change, skipping\nStage 'evaluate' didn't change, skipping\nData and pipelines are up to date.\n\u001b[0m"
    }
   ],
   "source": [
    "! dvc repro"
   ]
  },
  {
   "cell_type": "code",
   "execution_count": 49,
   "metadata": {
    "tags": []
   },
   "outputs": [
    {
     "output_type": "stream",
     "name": "stdout",
     "text": "If DVC froze, see `hardlink_lock` in <\u001b[36mhttps://man.dvc.org/config#core\u001b[39m>\u001b[0m"
    }
   ],
   "source": [
    "! dvc metrics diff"
   ]
  },
  {
   "cell_type": "code",
   "execution_count": 50,
   "metadata": {
    "tags": []
   },
   "outputs": [
    {
     "output_type": "stream",
     "name": "stdout",
     "text": "{\"auc\": 0.5417487597055675}"
    }
   ],
   "source": [
    "! cat scores.json"
   ]
  },
  {
   "cell_type": "code",
   "execution_count": 51,
   "metadata": {
    "tags": []
   },
   "outputs": [
    {
     "output_type": "stream",
     "name": "stdout",
     "text": "file:///home/nichita/Projects/dvc_intro/plots.html\n\u001b[0m"
    }
   ],
   "source": [
    "! dvc plots diff -x recall -y precision"
   ]
  },
  {
   "cell_type": "code",
   "execution_count": null,
   "metadata": {},
   "outputs": [],
   "source": []
  },
  {
   "cell_type": "markdown",
   "metadata": {},
   "source": [
    "## For reproducibility of this notebook:\n",
    "### Remove tracked data from dvc (local and remote) and\n",
    "### Remove unnecessary files "
   ]
  },
  {
   "cell_type": "code",
   "execution_count": 52,
   "metadata": {
    "tags": []
   },
   "outputs": [
    {
     "output_type": "stream",
     "name": "stdout",
     "text": "If DVC froze, see `hardlink_lock` in <\u001b[36mhttps://man.dvc.org/config#core\u001b[39m>\u001b[0m"
    }
   ],
   "source": [
    "# ! dvc remove data/data.xml.dvc\n",
    "! dvc remove data/.\n",
    "! rm -rf data/\n",
    "! rm plots.html\n",
    "! rm prc.json\n",
    "! rm model.pkl\n",
    "\n",
    "! rm data/data.xml"
   ]
  },
  {
   "cell_type": "code",
   "execution_count": 53,
   "metadata": {
    "tags": []
   },
   "outputs": [
    {
     "output_type": "stream",
     "name": "stdout",
     "text": "If DVC froze, see `hardlink_lock` in <\u001b[36mhttps://man.dvc.org/config#core\u001b[39m>\u001b[31mDeleted\u001b[39m:\n    data/data.xml\n\nfiles summary: 0 added, 1 deleted, 0 modified\n\u001b[0m"
    }
   ],
   "source": [
    "! dvc diff"
   ]
  },
  {
   "cell_type": "code",
   "execution_count": 54,
   "metadata": {
    "tags": []
   },
   "outputs": [
    {
     "output_type": "stream",
     "name": "stdout",
     "text": "[data_pipelines 88021b5] removes data\n 1 file changed, 3 deletions(-)\n delete mode 100644 data/data.xml.dvc\nEverything up-to-date\nEverything is up to date.\n\u001b[0m"
    }
   ],
   "source": [
    "! git add data/data.xml.dvc\n",
    "! git commit -m 'removes data'\n",
    "! git push origin tutorial\n",
    "! dvc push"
   ]
  },
  {
   "cell_type": "code",
   "execution_count": 55,
   "metadata": {
    "tags": []
   },
   "outputs": [
    {
     "output_type": "stream",
     "name": "stdout",
     "text": "\u001b[33mWARNING\u001b[39m: This will remove all cache except items used in the workspace of the current repo.\n  0% Querying cache in 'gs://dvc_intro'|  |1.00/4.10k [00:00<11:10,  6.11file/s]\u001b[0m"
    }
   ],
   "source": [
    "! echo \"y\" | dvc gc -cw"
   ]
  },
  {
   "cell_type": "code",
   "execution_count": 56,
   "metadata": {
    "tags": []
   },
   "outputs": [
    {
     "output_type": "stream",
     "name": "stdout",
     "text": "This will destroy all information about your pipelines, all data files, as well as cache in .dvc/cache.\nIf DVC froze, see `hardlink_lock` in <\u001b[36mhttps://man.dvc.org/config#core\u001b[39m>\u001b[0m"
    }
   ],
   "source": [
    "! echo 'y' | dvc destroy"
   ]
  },
  {
   "cell_type": "code",
   "execution_count": 57,
   "metadata": {
    "tags": []
   },
   "outputs": [
    {
     "output_type": "stream",
     "name": "stdout",
     "text": "[data_pipelines 1aa05a3] clean\n 11 files changed, 306 insertions(+), 541 deletions(-)\n delete mode 100644 .dvc/.gitignore\n delete mode 100644 .dvc/config\n delete mode 100644 .dvc/plots/confusion.json\n delete mode 100644 .dvc/plots/default.json\n delete mode 100644 .dvc/plots/scatter.json\n delete mode 100644 .dvc/plots/smooth.json\n delete mode 100644 data/.gitignore\n delete mode 100644 dvc.lock\n delete mode 100644 dvc.yaml\n delete mode 100644 prc.json\n rewrite run.ipynb (76%)\nEverything up-to-date\n"
    }
   ],
   "source": [
    "! git add .\n",
    "! git commit -m \"clean\"\n",
    "! git push origin tutorial"
   ]
  },
  {
   "cell_type": "code",
   "execution_count": null,
   "metadata": {},
   "outputs": [],
   "source": []
  }
 ]
}