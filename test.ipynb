{
 "metadata": {
  "language_info": {
   "codemirror_mode": {
    "name": "ipython",
    "version": 3
   },
   "file_extension": ".py",
   "mimetype": "text/x-python",
   "name": "python",
   "nbconvert_exporter": "python",
   "pygments_lexer": "ipython3",
   "version": "3.8.1-final"
  },
  "orig_nbformat": 2,
  "kernelspec": {
   "name": "python_defaultSpec_1596726770288",
   "display_name": "Python 3.8.1 64-bit ('dvc_intro': pipenv)"
  }
 },
 "nbformat": 4,
 "nbformat_minor": 2,
 "cells": [
  {
   "cell_type": "code",
   "execution_count": 21,
   "metadata": {
    "tags": []
   },
   "outputs": [
    {
     "output_type": "stream",
     "name": "stdout",
     "text": "The dotenv extension is already loaded. To reload it, use:\n  %reload_ext dotenv\n"
    }
   ],
   "source": [
    "%load_ext dotenv\n",
    "%dotenv"
   ]
  },
  {
   "cell_type": "code",
   "execution_count": 22,
   "metadata": {
    "tags": [
     "outputPrepend"
    ]
   },
   "outputs": [
    {
     "output_type": "stream",
     "name": "stdout",
     "text": "/prepared/test.tsv    1.47M/4.54M [00:01<00:09,     358kB/s]\u001b[A\u001b[A\n\n\n\n\n\n  7%|▋         |data/data.xml             2.44M/36.1M [00:01<01:06,     528kB/s]\u001b[A\u001b[A\u001b[A\u001b[A\u001b[A\u001b[A\n\n\n 49%|████▊     |model.pkl                 1.23M/2.54M [00:01<00:03,     358kB/s]\u001b[A\u001b[A\u001b[A\n  9%|▊         |data/prepared/train.tsv   1.58M/18.2M [00:01<00:48,     358kB/s]\u001b[A\n\n 36%|███▌      |data/prepared/test.tsv    1.62M/4.54M [00:01<00:06,     461kB/s]\u001b[A\u001b[A\n\n\n\n\n 57%|█████▋    |data/features/test.pkl     792k/1.35M [00:01<00:02,     209kB/s]\u001b[A\u001b[A\u001b[A\u001b[A\u001b[A\n\n\n\n 11%|█▏        |data/features/train.pkl    624k/5.41M [00:01<00:26,     187kB/s]\u001b[A\u001b[A\u001b[A\u001b[A\n\n\n\n\n\n  8%|▊         |data/data.xml             2.71M/36.1M [00:01<00:51,     681kB/s]\u001b[A\u001b[A\u001b[A\u001b[A\u001b[A\u001b[A\n 10%|▉         |data/prepared/train.tsv   1.78M/18.2M [00:01<00:36,     476kB/s]\u001b[A\n\n\n 55%|█████▌    |model.pkl                 1.41M/2.54M [00:01<00:02,     462kB/s]\u001b[A\u001b[A\u001b[A\n\n\n\n\n 63%|██████▎   |data/features/test.pkl     872k/1.35M [00:01<00:01,     268kB/s]\u001b[A\u001b[A\u001b[A\u001b[A\u001b[A\n\n 39%|███▉      |data/prepared/test.tsv    1.77M/4.54M [00:01<00:05,     569kB/s]\u001b[A\u001b[A\n\n\n\n 13%|█▎        |data/features/train.pkl    720k/5.41M [00:01<00:20,     246kB/s]\u001b[A\u001b[A\u001b[A\u001b[A\n 11%|█         |data/prepared/train.tsv   1.95M/18.2M [00:01<00:28,     602kB/s]\u001b[A\n\n\n\n\n\n  8%|▊         |data/data.xml             2.97M/36.1M [00:01<00:40,     866kB/s]\u001b[A\u001b[A\u001b[A\u001b[A\u001b[A\u001b[A\n\n\n 62%|██████▏   |model.pkl                 1.58M/2.54M [00:01<00:01,     582kB/s]\u001b[A\u001b[A\u001b[A\n\n\n\n\n 69%|██████▉   |data/features/test.pkl     952k/1.35M [00:01<00:01,     335kB/s]\u001b[A\u001b[A\u001b[A\u001b[A\u001b[A\n\n 42%|████▏     |data/prepared/test.tsv    1.91M/4.54M [00:01<00:03,     693kB/s]\u001b[A\u001b[A\n 12%|█▏        |data/prepared/train.tsv   2.11M/18.2M [00:01<00:22,     738kB/s]\u001b[A\n\n\n\n\n\n  9%|▉         |data/data.xml             3.28M/36.1M [00:01<00:31,    1.10MB/s]\u001b[A\u001b[A\u001b[A\u001b[A\u001b[A\u001b[A\n\n\n 67%|██████▋   |model.pkl                 1.71M/2.54M [00:01<00:01,     689kB/s]\u001b[A\u001b[A\u001b[A\n\n\n\n 14%|█▍        |data/features/train.pkl    792k/5.41M [00:01<00:17,     285kB/s]\u001b[A\u001b[A\u001b[A\u001b[A\n\n\n\n\n 75%|███████▍  |data/features/test.pkl    1.01M/1.35M [00:01<00:00,     398kB/s]\u001b[A\u001b[A\u001b[A\u001b[A\u001b[A\n\n 45%|████▍     |data/prepared/test.tsv    2.04M/4.54M [00:01<00:03,     791kB/s]\u001b[A\u001b[A\n 12%|█▏        |data/prepared/train.tsv   2.27M/18.2M [00:01<00:18,     882kB/s]\u001b[A\n\n\n\n\n\n 10%|▉         |data/data.xml             3.60M/36.1M [00:01<00:24,    1.37MB/s]\u001b[A\u001b[A\u001b[A\u001b[A\u001b[A\u001b[A\n\n\n 72%|███████▏  |model.pkl                 1.84M/2.54M [00:01<00:00,     800kB/s]\u001b[A\u001b[A\u001b[A\n\n\n\n 15%|█▌        |data/features/train.pkl    856k/5.41M [00:01<00:14,     340kB/s]\u001b[A\u001b[A\u001b[A\u001b[A\n 13%|█▎        |data/prepared/train.tsv   2.42M/18.2M [00:02<00:16,    1.02MB/s]\u001b[A\n\n\n\n\n 81%|████████  |data/features/test.pkl    1.09M/1.35M [00:01<00:00,     447kB/s]\u001b[A\u001b[A\u001b[A\u001b[A\u001b[A\n\n\n\n\n\n 11%|█         |data/data.xml             3.88M/36.1M [00:01<00:21,    1.60MB/s]\u001b[A\u001b[A\u001b[A\u001b[A\u001b[A\u001b[A\n\n\n\n 17%|█▋        |data/features/train.pkl    928k/5.41M [00:02<00:11,     402kB/s]\u001b[A\u001b[A\u001b[A\u001b[A\n\n\n 80%|████████  |model.pkl                 2.03M/2.54M [00:02<00:00,     946kB/s]\u001b[A\u001b[A\u001b[A\n\n 48%|████▊     |data/prepared/test.tsv    2.16M/4.54M [00:02<00:03,     765kB/s]\u001b[A\u001b[A\n 14%|█▍        |data/prepared/train.tsv   2.58M/18.2M [00:02<00:14,    1.13MB/s]\u001b[A\n\n\n\n\n\n 11%|█▏        |data/data.xml             4.15M/36.1M [00:02<00:18,    1.83MB/s]\u001b[A\u001b[A\u001b[A\u001b[A\u001b[A\u001b[A\n\n\n\n\n 86%|████████▌ |data/features/test.pkl    1.16M/1.35M [00:02<00:00,     495kB/s]\u001b[A\u001b[A\u001b[A\u001b[A\u001b[A\n\n\n 86%|████████▌ |model.pkl                 2.17M/2.54M [00:02<00:00,    1.05MB/s]\u001b[A\u001b[A\u001b[A\n\n 51%|█████     |data/prepared/test.tsv    2.33M/4.54M [00:02<00:02,     911kB/s]\u001b[A\u001b[A\n\n\n\n 18%|█▊        |data/features/train.pkl    992k/5.41M [00:02<00:11,     418kB/s]\u001b[A\u001b[A\u001b[A\u001b[A\n\n\n\n\n 92%|█████████▏|data/features/test.pkl    1.23M/1.35M [00:02<00:00,     553kB/s]\u001b[A\u001b[A\u001b[A\u001b[A\u001b[A\n 16%|█▌        |data/prepared/train.tsv   2.84M/18.2M [00:02<00:12,    1.33MB/s]\u001b[A\n\n\n\n\n\n 12%|█▏        |data/data.xml             4.44M/36.1M [00:02<00:16,    1.96MB/s]\u001b[A\u001b[A\u001b[A\u001b[A\u001b[A\u001b[A\n\n 54%|█████▍    |data/prepared/test.tsv    2.45M/4.54M [00:02<00:02,     964kB/s]\u001b[A\u001b[A\n\n\n 92%|█████████▏|model.pkl                 2.33M/2.54M [00:02<00:00,    1.07MB/s]\u001b[A\u001b[A\u001b[A\n\n\n\n 19%|█▉        |data/features/train.pkl   1.03M/5.41M [00:02<00:10,     450kB/s]\u001b[A\u001b[A\u001b[A\u001b[A\n\n\n\n\n 17% Downloading|█████▎                          |1/6 [00:02<00:13,  2.71s/file]\n 17%|█▋        |data/prepared/train.tsv   3.05M/18.2M [00:02<00:10,    1.47MB/s]\u001b[A\n\n\n\n\n\n 13%|█▎        |data/data.xml             4.80M/36.1M [00:02<00:14,    2.26MB/s]\u001b[A\u001b[A\u001b[A\u001b[A\u001b[A\u001b[A\n\n 57%|█████▋    |data/prepared/test.tsv    2.58M/4.54M [00:02<00:01,    1.04MB/s]\u001b[A\u001b[A\n\n\n                                                                                \u001b[A\u001b[A\u001b[A\n\n\n\n 21%|██        |data/features/train.pkl   1.12M/5.41M [00:02<00:08,     523kB/s]\u001b[A\u001b[A\u001b[A\u001b[A\n 18%|█▊        |data/prepared/train.tsv   3.33M/18.2M [00:02<00:09,    1.72MB/s]\u001b[A\n\n\n\n\n\n 14%|█▍        |data/data.xml             5.16M/36.1M [00:02<00:12,    2.57MB/s]\u001b[A\u001b[A\u001b[A\u001b[A\u001b[A\u001b[A\n\n 59%|█████▉    |data/prepared/test.tsv    2.70M/4.54M [00:02<00:01,    1.08MB/s]\u001b[A\u001b[A\n\n\n\n 22%|██▏       |data/features/train.pkl   1.19M/5.41M [00:02<00:07,     555kB/s]\u001b[A\u001b[A\u001b[A\u001b[A\n 20%|█▉        |data/prepared/train.tsv   3.59M/18.2M [00:02<00:07,    1.92MB/s]\u001b[A\n\n\n\n\n\n 15%|█▌        |data/data.xml             5.50M/36.1M [00:02<00:11,    2.78MB/s]\u001b[A\u001b[A\u001b[A\u001b[A\u001b[A\u001b[A\n\n 62%|██████▏   |data/prepared/test.tsv    2.83M/4.54M [00:02<00:01,    1.11MB/s]\u001b[A\u001b[A\n 21%|██▏       |data/prepared/train.tsv   3.88M/18.2M [00:02<00:07,    2.13MB/s]\u001b[A\n\n\n\n 23%|██▎       |data/features/train.pkl   1.27M/5.41M [00:02<00:07,     582kB/s]\u001b[A\u001b[A\u001b[A\u001b[A\n\n\n\n\n\n 16%|█▌        |data/data.xml             5.81M/36.1M [00:02<00:11,    2.80MB/s]\u001b[A\u001b[A\u001b[A\u001b[A\u001b[A\u001b[A\n\n 65%|██████▍   |data/prepared/test.tsv    2.95M/4.54M [00:02<00:01,    1.12MB/s]\u001b[A\u001b[A\n 23%|██▎       |data/prepared/train.tsv   4.12M/18.2M [00:02<00:06,    2.17MB/s]\u001b[A\n\n\n\n 25%|██▍       |data/features/train.pkl   1.34M/5.41M [00:02<00:06,     611kB/s]\u001b[A\u001b[A\u001b[A\u001b[A\n\n\n\n\n\n 17%|█▋        |data/data.xml             6.23M/36.1M [00:02<00:10,    3.09MB/s]\u001b[A\u001b[A\u001b[A\u001b[A\u001b[A\u001b[A\n\n 68%|██████▊   |data/prepared/test.tsv    3.07M/4.54M [00:02<00:01,    1.08MB/s]\u001b[A\u001b[A\n 24%|██▍       |data/prepared/train.tsv   4.36M/18.2M [00:02<00:06,    2.23MB/s]\u001b[A\n\n\n\n\n\n 18%|█▊        |data/data.xml             6.56M/36.1M [00:02<00:09,    3.18MB/s]\u001b[A\u001b[A\u001b[A\u001b[A\u001b[A\u001b[A\n\n\n\n 26%|██▌       |data/features/train.pkl   1.41M/5.41M [00:02<00:06,     600kB/s]\u001b[A\u001b[A\u001b[A\u001b[A\n\n 70%|██████▉   |data/prepared/test.tsv    3.18M/4.54M [00:03<00:01,    1.09MB/s]\u001b[A\u001b[A\n 26%|██▌       |data/prepared/train.tsv   4.66M/18.2M [00:03<00:06,    2.36MB/s]\u001b[A\n\n\n\n\n\n 19%|█▉        |data/data.xml             6.92M/36.1M [00:02<00:09,    3.30MB/s]\u001b[A\u001b[A\u001b[A\u001b[A\u001b[A\u001b[A\n\n\n\n 27%|██▋       |data/features/train.pkl   1.48M/5.41M [00:03<00:07,     558kB/s]\u001b[A\u001b[A\u001b[A\u001b[A\n\n 73%|███████▎  |data/prepared/test.tsv    3.31M/4.54M [00:03<00:01,    1.06MB/s]\u001b[A\u001b[A\n\n\n\n\n\n 20%|██        |data/data.xml             7.36M/36.1M [00:03<00:08,    3.45MB/s]\u001b[A\u001b[A\u001b[A\u001b[A\u001b[A\u001b[A\n 27%|██▋       |data/prepared/train.tsv   4.94M/18.2M [00:03<00:05,    2.36MB/s]\u001b[A\n\n\n\n 29%|██▊       |data/features/train.pkl   1.55M/5.41M [00:03<00:07,     547kB/s]\u001b[A\u001b[A\u001b[A\u001b[A\n 29%|██▉       |data/prepared/train.tsv   5.28M/18.2M [00:03<00:05,    2.58MB/s]\u001b[A\n\n\n\n\n\n 22%|██▏       |data/data.xml             7.86M/36.1M [00:03<00:07,    3.74MB/s]\u001b[A\u001b[A\u001b[A\u001b[A\u001b[A\u001b[A\n\n 76%|███████▌  |data/prepared/test.tsv    3.45M/4.54M [00:03<00:01,    1.09MB/s]\u001b[A\u001b[A\n\n\n\n 30%|███       |data/features/train.pkl   1.62M/5.41M [00:03<00:06,     586kB/s]\u001b[A\u001b[A\u001b[A\u001b[A\n 31%|███       |data/prepared/train.tsv   5.56M/18.2M [00:03<00:04,    2.68MB/s]\u001b[A\n\n\n\n\n\n 23%|██▎       |data/data.xml             8.23M/36.1M [00:03<00:07,    3.77MB/s]\u001b[A\u001b[A\u001b[A\u001b[A\u001b[A\u001b[A\n\n 78%|███████▊  |data/prepared/test.tsv    3.56M/4.54M [00:03<00:00,    1.08MB/s]\u001b[A\u001b[A\n\n\n\n 31%|███▏      |data/features/train.pkl   1.70M/5.41M [00:03<00:06,     630kB/s]\u001b[A\u001b[A\u001b[A\u001b[A\n 32%|███▏      |data/prepared/train.tsv   5.83M/18.2M [00:03<00:05,    2.56MB/s]\u001b[A\n\n\n\n\n\n 24%|██▍       |data/data.xml             8.61M/36.1M [00:03<00:08,    3.53MB/s]\u001b[A\u001b[A\u001b[A\u001b[A\u001b[A\u001b[A\n\n 81%|████████  |data/prepared/test.tsv    3.67M/4.54M [00:03<00:00,    1.01MB/s]\u001b[A\u001b[A\n\n\n\n 33%|███▎      |data/features/train.pkl   1.78M/5.41M [00:03<00:05,     643kB/s]\u001b[A\u001b[A\u001b[A\u001b[A\n 34%|███▍      |data/prepared/train.tsv   6.16M/18.2M [00:03<00:04,    2.79MB/s]\u001b[A\n\n\n\n\n\n 25%|██▌       |data/data.xml             9.08M/36.1M [00:03<00:07,    3.73MB/s]\u001b[A\u001b[A\u001b[A\u001b[A\u001b[A\u001b[A\n\n 83%|████████▎ |data/prepared/test.tsv    3.78M/4.54M [00:03<00:00,     940kB/s]\u001b[A\u001b[A\n\n\n\n 35%|███▍      |data/features/train.pkl   1.88M/5.41M [00:03<00:05,     709kB/s]\u001b[A\u001b[A\u001b[A\u001b[A\n 36%|███▌      |data/prepared/train.tsv   6.47M/18.2M [00:03<00:04,    2.76MB/s]\u001b[A\n\n\n\n\n\n 26%|██▌       |data/data.xml             9.47M/36.1M [00:03<00:07,    3.78MB/s]\u001b[A\u001b[A\u001b[A\u001b[A\u001b[A\u001b[A\n\n 86%|████████▋ |data/prepared/test.tsv    3.92M/4.54M [00:03<00:00,    1.01MB/s]\u001b[A\u001b[A\n\n\n\n 36%|███▋      |data/features/train.pkl   1.97M/5.41M [00:03<00:05,     719kB/s]\u001b[A\u001b[A\u001b[A\u001b[A\n 37%|███▋      |data/prepared/train.tsv   6.74M/18.2M [00:03<00:04,    2.69MB/s]\u001b[A\n\n\n\n\n\n 27%|██▋       |data/data.xml             9.84M/36.1M [00:03<00:07,    3.69MB/s]\u001b[A\u001b[A\u001b[A\u001b[A\u001b[A\u001b[A\n\n 89%|████████▊ |data/prepared/test.tsv    4.03M/4.54M [00:03<00:00,    1.02MB/s]\u001b[A\u001b[A\n 39%|███▊      |data/prepared/train.tsv   7.03M/18.2M [00:03<00:04,    2.71MB/s]\u001b[A\n\n\n\n\n\n 28%|██▊       |data/data.xml             10.2M/36.1M [00:03<00:07,    3.79MB/s]\u001b[A\u001b[A\u001b[A\u001b[A\u001b[A\u001b[A\n\n\n\n 39%|███▊      |data/features/train.pkl   2.09M/5.41M [00:03<00:04,     775kB/s]\u001b[A\u001b[A\u001b[A\u001b[A\n\n 91%|█████████▏|data/prepared/test.tsv    4.16M/4.54M [00:04<00:00,    1.04MB/s]\u001b[A\u001b[A\n 40%|████      |data/prepared/train.tsv   7.31M/18.2M [00:04<00:04,    2.68MB/s]\u001b[A\n\n\n\n\n\n 29%|██▉       |data/data.xml             10.6M/36.1M [00:03<00:07,    3.75MB/s]\u001b[A\u001b[A\u001b[A\u001b[A\u001b[A\u001b[A\n\n\n\n 41%|████▏     |data/features/train.pkl   2.23M/5.41M [00:03<00:03,     898kB/s]\u001b[A\u001b[A\u001b[A\u001b[A\n\n 94%|█████████▎|data/prepared/test.tsv    4.26M/4.54M [00:04<00:00,    1.02MB/s]\u001b[A\u001b[A\n 42%|████▏     |data/prepared/train.tsv   7.61M/18.2M [00:04<00:04,    2.70MB/s]\u001b[A\n\n\n\n\n\n 30%|███       |data/data.xml             11.0M/36.1M [00:04<00:07,    3.41MB/s]\u001b[A\u001b[A\u001b[A\u001b[A\u001b[A\u001b[A\n\n\n\n 43%|████▎     |data/features/train.pkl   2.34M/5.41M [00:04<00:03,     860kB/s]\u001b[A\u001b[A\u001b[A\u001b[A\n 43%|████▎     |data/prepared/train.tsv   7.92M/18.2M [00:04<00:03,    2.83MB/s]\u001b[A\n\n 97%|█████████▋|data/prepared/test.tsv    4.39M/4.54M [00:04<00:00,    1.01MB/s]\u001b[A\u001b[A\n\n\n\n\n\n 32%|███▏      |data/data.xml             11.4M/36.1M [00:04<00:07,    3.62MB/s]\u001b[A\u001b[A\u001b[A\u001b[A\u001b[A\u001b[A\n\n\n\n 46%|████▌     |data/features/train.pkl   2.47M/5.41M [00:04<00:03,     958kB/s]\u001b[A\u001b[A\u001b[A\u001b[A\n\n 99%|█████████▉|data/prepared/test.tsv    4.50M/4.54M [00:04<00:00,     989kB/s]\u001b[A\u001b[A\n\n 50% Downloading|████████████████                |3/6 [00:04<00:06,  2.20s/file]\n 45%|████▌     |data/prepared/train.tsv   8.20M/18.2M [00:04<00:03,    2.67MB/s]\u001b[A\n\n\n\n 48%|████▊     |data/features/train.pkl   2.59M/5.41M [00:04<00:02,    1.03MB/s]\u001b[A\u001b[A\u001b[A\u001b[A\n\n\n\n\n\n 33%|███▎      |data/data.xml             11.9M/36.1M [00:04<00:06,    3.71MB/s]\u001b[A\u001b[A\u001b[A\u001b[A\u001b[A\u001b[A\n 47%|████▋     |data/prepared/train.tsv   8.48M/18.2M [00:04<00:03,    2.65MB/s]\u001b[A\n\n\n\n\n\n 34%|███▍      |data/data.xml             12.3M/36.1M [00:04<00:06,    3.85MB/s]\u001b[A\u001b[A\u001b[A\u001b[A\u001b[A\u001b[A\n\n\n\n 50%|████▉     |data/features/train.pkl   2.70M/5.41M [00:04<00:02,    1.02MB/s]\u001b[A\u001b[A\u001b[A\u001b[A\n 48%|████▊     |data/prepared/train.tsv   8.78M/18.2M [00:04<00:03,    2.78MB/s]\u001b[A\n\n\n\n 52%|█████▏    |data/features/train.pkl   2.81M/5.41M [00:04<00:02,    1.06MB/s]\u001b[A\u001b[A\u001b[A\u001b[A\n\n\n\n\n\n 35%|███▌      |data/data.xml             12.7M/36.1M [00:04<00:06,    3.86MB/s]\u001b[A\u001b[A\u001b[A\u001b[A\u001b[A\u001b[A\n 50%|█████     |data/prepared/train.tsv   9.12M/18.2M [00:04<00:03,    2.78MB/s]\u001b[A\n\n\n\n 55%|█████▍    |data/features/train.pkl   2.95M/5.41M [00:04<00:02,    1.12MB/s]\u001b[A\u001b[A\u001b[A\u001b[A\n\n\n\n\n\n 36%|███▋      |data/data.xml             13.1M/36.1M [00:04<00:06,    3.88MB/s]\u001b[A\u001b[A\u001b[A\u001b[A\u001b[A\u001b[A\n 52%|█████▏    |data/prepared/train.tsv   9.44M/18.2M [00:04<00:03,    2.89MB/s]\u001b[A\n\n\n\n 57%|█████▋    |data/features/train.pkl   3.08M/5.41M [00:04<00:02,    1.13MB/s]\u001b[A\u001b[A\u001b[A\u001b[A\n\n\n\n\n\n 37%|███▋      |data/data.xml             13.5M/36.1M [00:04<00:06,    3.66MB/s]\u001b[A\u001b[A\u001b[A\u001b[A\u001b[A\u001b[A\n 54%|█████▍    |data/prepared/train.tsv   9.80M/18.2M [00:04<00:02,    2.96MB/s]\u001b[A\n\n\n\n\n\n 39%|███▊      |data/data.xml             14.0M/36.1M [00:04<00:05,    3.95MB/s]\u001b[A\u001b[A\u001b[A\u001b[A\u001b[A\u001b[A\n\n\n\n 60%|██████    |data/features/train.pkl   3.25M/5.41M [00:04<00:01,    1.22MB/s]\u001b[A\u001b[A\u001b[A\u001b[A\n\n\n\n 63%|██████▎   |data/features/train.pkl   3.39M/5.41M [00:05<00:01,    1.26MB/s]\u001b[A\u001b[A\u001b[A\u001b[A\n 55%|█████▌    |data/prepared/train.tsv   10.1M/18.2M [00:05<00:03,    2.78MB/s]\u001b[A\n\n\n\n\n\n 40%|███▉      |data/data.xml             14.4M/36.1M [00:04<00:06,    3.75MB/s]\u001b[A\u001b[A\u001b[A\u001b[A\u001b[A\u001b[A\n 57%|█████▋    |data/prepared/train.tsv   10.4M/18.2M [00:05<00:02,    2.97MB/s]\u001b[A\n\n\n\n 66%|██████▌   |data/features/train.pkl   3.55M/5.41M [00:05<00:01,    1.30MB/s]\u001b[A\u001b[A\u001b[A\u001b[A\n\n\n\n\n\n 41%|████      |data/data.xml             14.9M/36.1M [00:05<00:05,    3.87MB/s]\u001b[A\u001b[A\u001b[A\u001b[A\u001b[A\u001b[A\n 59%|█████▉    |data/prepared/train.tsv   10.7M/18.2M [00:05<00:02,    2.98MB/s]\u001b[A\n\n\n\n 69%|██████▊   |data/features/train.pkl   3.72M/5.41M [00:05<00:01,    1.35MB/s]\u001b[A\u001b[A\u001b[A\u001b[A\n\n\n\n\n\n 42%|████▏     |data/data.xml             15.3M/36.1M [00:05<00:05,    3.83MB/s]\u001b[A\u001b[A\u001b[A\u001b[A\u001b[A\u001b[A\n 60%|██████    |data/prepared/train.tsv   11.0M/18.2M [00:05<00:02,    2.69MB/s]\u001b[A\n\n\n\n 72%|███████▏  |data/features/train.pkl   3.88M/5.41M [00:05<00:01,    1.39MB/s]\u001b[A\u001b[A\u001b[A\u001b[A\n\n\n\n\n\n 44%|████▍     |data/data.xml             15.9M/36.1M [00:05<00:05,    4.07MB/s]\u001b[A\u001b[A\u001b[A\u001b[A\u001b[A\u001b[A\n 62%|██████▏   |data/prepared/train.tsv   11.3M/18.2M [00:05<00:02,    2.79MB/s]\u001b[A\n\n\n\n 75%|███████▍  |data/features/train.pkl   4.03M/5.41M [00:05<00:01,    1.43MB/s]\u001b[A\u001b[A\u001b[A\u001b[A\n\n\n\n\n\n 45%|████▌     |data/data.xml             16.3M/36.1M [00:05<00:05,    4.05MB/s]\u001b[A\u001b[A\u001b[A\u001b[A\u001b[A\u001b[A\n 64%|██████▍   |data/prepared/train.tsv   11.6M/18.2M [00:05<00:02,    2.86MB/s]\u001b[A\n\n\n\n 77%|███████▋  |data/features/train.pkl   4.19M/5.41M [00:05<00:00,    1.44MB/s]\u001b[A\u001b[A\u001b[A\u001b[A\n\n\n\n\n\n 46%|████▌     |data/data.xml             16.7M/36.1M [00:05<00:05,    4.05MB/s]\u001b[A\u001b[A\u001b[A\u001b[A\u001b[A\u001b[A\n 65%|██████▌   |data/prepared/train.tsv   11.9M/18.2M [00:05<00:02,    2.79MB/s]\u001b[A\n\n\n\n 81%|████████  |data/features/train.pkl   4.38M/5.41M [00:05<00:00,    1.50MB/s]\u001b[A\u001b[A\u001b[A\u001b[A\n\n\n\n\n\n 47%|████▋     |data/data.xml             17.1M/36.1M [00:05<00:05,    3.92MB/s]\u001b[A\u001b[A\u001b[A\u001b[A\u001b[A\u001b[A\n 67%|██████▋   |data/prepared/train.tsv   12.2M/18.2M [00:05<00:02,    2.78MB/s]\u001b[A\n\n\n\n 84%|████████▍ |data/features/train.pkl   4.56M/5.41M [00:05<00:00,    1.61MB/s]\u001b[A\u001b[A\u001b[A\u001b[A\n\n\n\n\n\n 48%|████▊     |data/data.xml             17.5M/36.1M [00:05<00:05,    3.90MB/s]\u001b[A\u001b[A\u001b[A\u001b[A\u001b[A\u001b[A\n\n\n\n 88%|████████▊ |data/features/train.pkl   4.75M/5.41M [00:05<00:00,    1.69MB/s]\u001b[A\u001b[A\u001b[A\u001b[A\n 69%|██████▉   |data/prepared/train.tsv   12.6M/18.2M [00:06<00:02,    2.84MB/s]\u001b[A\n\n\n\n\n\n 49%|████▉     |data/data.xml             17.9M/36.1M [00:05<00:05,    3.68MB/s]\u001b[A\u001b[A\u001b[A\u001b[A\u001b[A\u001b[A\n\n\n\n 92%|█████████▏|data/features/train.pkl   4.95M/5.41M [00:06<00:00,    1.78MB/s]\u001b[A\u001b[A\u001b[A\u001b[A\n 71%|███████   |data/prepared/train.tsv   12.9M/18.2M [00:06<00:02,    2.80MB/s]\u001b[A\n\n\n\n\n\n 51%|█████     |data/data.xml             18.3M/36.1M [00:06<00:05,    3.60MB/s]\u001b[A\u001b[A\u001b[A\u001b[A\u001b[A\u001b[A\n\n\n\n 95%|█████████▍|data/features/train.pkl   5.13M/5.41M [00:06<00:00,    1.73MB/s]\u001b[A\u001b[A\u001b[A\u001b[A\n 72%|███████▏  |data/prepared/train.tsv   13.1M/18.2M [00:06<00:01,    2.82MB/s]\u001b[A\n\n\n\n\n\n 52%|█████▏    |data/data.xml             18.7M/36.1M [00:06<00:05,    3.60MB/s]\u001b[A\u001b[A\u001b[A\u001b[A\u001b[A\u001b[A\n\n\n\n 99%|█████████▉|data/features/train.pkl   5.38M/5.41M [00:06<00:00,    1.87MB/s]\u001b[A\u001b[A\u001b[A\u001b[A\n\n\n\n 67% Downloading|█████████████████████▎          |4/6 [00:06<00:04,  2.11s/file]\n 74%|███████▍  |data/prepared/train.tsv   13.5M/18.2M [00:06<00:01,    2.95MB/s]\u001b[A\n\n\n\n\n\n 53%|█████▎    |data/data.xml             19.3M/36.1M [00:06<00:04,    4.10MB/s]\u001b[A\u001b[A\u001b[A\u001b[A\u001b[A\u001b[A\n 76%|███████▌  |data/prepared/train.tsv   13.8M/18.2M [00:06<00:01,    3.04MB/s]\u001b[A\n\n\n\n\n\n 55%|█████▍    |data/data.xml             19.8M/36.1M [00:06<00:04,    4.09MB/s]\u001b[A\u001b[A\u001b[A\u001b[A\u001b[A\u001b[A\n 77%|███████▋  |data/prepared/train.tsv   14.1M/18.2M [00:06<00:01,    2.93MB/s]\u001b[A\n 79%|███████▉  |data/prepared/train.tsv   14.4M/18.2M [00:06<00:01,    3.00MB/s]\u001b[A\n\n\n\n\n\n 56%|█████▋    |data/data.xml             20.4M/36.1M [00:06<00:03,    4.33MB/s]\u001b[A\u001b[A\u001b[A\u001b[A\u001b[A\u001b[A\n 81%|████████  |data/prepared/train.tsv   14.8M/18.2M [00:06<00:01,    3.10MB/s]\u001b[A\n\n\n\n\n\n 58%|█████▊    |data/data.xml             20.9M/36.1M [00:06<00:03,    4.59MB/s]\u001b[A\u001b[A\u001b[A\u001b[A\u001b[A\u001b[A\n 83%|████████▎ |data/prepared/train.tsv   15.1M/18.2M [00:06<00:01,    3.13MB/s]\u001b[A\n\n\n\n\n\n 59%|█████▉    |data/data.xml             21.4M/36.1M [00:06<00:03,    4.74MB/s]\u001b[A\u001b[A\u001b[A\u001b[A\u001b[A\u001b[A\n 85%|████████▍ |data/prepared/train.tsv   15.5M/18.2M [00:06<00:00,    3.29MB/s]\u001b[A\n\n\n\n\n\n 61%|██████    |data/data.xml             21.9M/36.1M [00:06<00:03,    4.78MB/s]\u001b[A\u001b[A\u001b[A\u001b[A\u001b[A\u001b[A\n 87%|████████▋ |data/prepared/train.tsv   15.9M/18.2M [00:07<00:00,    3.38MB/s]\u001b[A\n\n\n\n\n\n 62%|██████▏   |data/data.xml             22.4M/36.1M [00:06<00:03,    4.27MB/s]\u001b[A\u001b[A\u001b[A\u001b[A\u001b[A\u001b[A\n 89%|████████▉ |data/prepared/train.tsv   16.2M/18.2M [00:07<00:00,    3.36MB/s]\u001b[A\n\n\n\n\n\n 64%|██████▎   |data/data.xml             23.0M/36.1M [00:07<00:02,    4.74MB/s]\u001b[A\u001b[A\u001b[A\u001b[A\u001b[A\u001b[A\n 92%|█████████▏|data/prepared/train.tsv   16.7M/18.2M [00:07<00:00,    3.64MB/s]\u001b[A\n\n\n\n\n\n 65%|██████▌   |data/data.xml             23.5M/36.1M [00:07<00:02,    4.55MB/s]\u001b[A\u001b[A\u001b[A\u001b[A\u001b[A\u001b[A\n 94%|█████████▎|data/prepared/train.tsv   17.0M/18.2M [00:07<00:00,    3.62MB/s]\u001b[A\n\n\n\n\n\n 66%|██████▋   |data/data.xml             24.0M/36.1M [00:07<00:02,    4.28MB/s]\u001b[A\u001b[A\u001b[A\u001b[A\u001b[A\u001b[A\n 96%|█████████▌|data/prepared/train.tsv   17.4M/18.2M [00:07<00:00,    3.64MB/s]\u001b[A\n\n\n\n\n\n 68%|██████▊   |data/data.xml             24.6M/36.1M [00:07<00:02,    4.64MB/s]\u001b[A\u001b[A\u001b[A\u001b[A\u001b[A\u001b[A\n 98%|█████████▊|data/prepared/train.tsv   17.8M/18.2M [00:07<00:00,    3.77MB/s]\u001b[A\n\n\n\n\n\n 69%|██████▉   |data/data.xml             25.1M/36.1M [00:07<00:02,    4.60MB/s]\u001b[A\u001b[A\u001b[A\u001b[A\u001b[A\u001b[A\n 83% Downloading|██████████████████████████▋     |5/6 [00:08<00:01,  1.90s/file]\n\n\n\n\n\n 71%|███████   |data/data.xml             25.7M/36.1M [00:07<00:02,    4.98MB/s]\u001b[A\u001b[A\u001b[A\u001b[A\u001b[A\u001b[A\n\n\n\n\n\n 73%|███████▎  |data/data.xml             26.2M/36.1M [00:07<00:02,    5.16MB/s]\u001b[A\u001b[A\u001b[A\u001b[A\u001b[A\u001b[A\n\n\n\n\n\n 74%|███████▍  |data/data.xml             26.8M/36.1M [00:07<00:01,    5.47MB/s]\u001b[A\u001b[A\u001b[A\u001b[A\u001b[A\u001b[A\n\n\n\n\n\n 76%|███████▌  |data/data.xml             27.5M/36.1M [00:07<00:01,    5.90MB/s]\u001b[A\u001b[A\u001b[A\u001b[A\u001b[A\u001b[A\n\n\n\n\n\n 78%|███████▊  |data/data.xml             28.1M/36.1M [00:08<00:01,    5.94MB/s]\u001b[A\u001b[A\u001b[A\u001b[A\u001b[A\u001b[A\n\n\n\n\n\n 80%|████████  |data/data.xml             29.1M/36.1M [00:08<00:01,    6.77MB/s]\u001b[A\u001b[A\u001b[A\u001b[A\u001b[A\u001b[A\n\n\n\n\n\n 82%|████████▏ |data/data.xml             29.8M/36.1M [00:08<00:00,    6.66MB/s]\u001b[A\u001b[A\u001b[A\u001b[A\u001b[A\u001b[A\n\n\n\n\n\n 85%|████████▍ |data/data.xml             30.7M/36.1M [00:08<00:00,    7.20MB/s]\u001b[A\u001b[A\u001b[A\u001b[A\u001b[A\u001b[A\n\n\n\n\n\n 87%|████████▋ |data/data.xml             31.4M/36.1M [00:08<00:00,    7.26MB/s]\u001b[A\u001b[A\u001b[A\u001b[A\u001b[A\u001b[A\n\n\n\n\n\n 89%|████████▉ |data/data.xml             32.3M/36.1M [00:08<00:00,    7.68MB/s]\u001b[A\u001b[A\u001b[A\u001b[A\u001b[A\u001b[A\n\n\n\n\n\n 92%|█████████▏|data/data.xml             33.2M/36.1M [00:08<00:00,    7.94MB/s]\u001b[A\u001b[A\u001b[A\u001b[A\u001b[A\u001b[A\n\n\n\n\n\n 94%|█████████▍|data/data.xml             34.0M/36.1M [00:08<00:00,    7.99MB/s]\u001b[A\u001b[A\u001b[A\u001b[A\u001b[A\u001b[A\n\n\n\n\n\n 97%|█████████▋|data/data.xml             34.9M/36.1M [00:08<00:00,    8.06MB/s]\u001b[A\u001b[A\u001b[A\u001b[A\u001b[A\u001b[A\n\n\n\n\n\n 99%|█████████▉|data/data.xml             35.7M/36.1M [00:09<00:00,    7.72MB/s]\u001b[A\u001b[A\u001b[A\u001b[A\u001b[A\u001b[A\n\n\n\n\n\n\u001b[32mA\u001b[39m\tdata/data.xml\n\u001b[32mA\u001b[39m\tmodel.pkl\n\u001b[32mA\u001b[39m\tdata/prepared/\n\u001b[32mA\u001b[39m\tdata/features/\n4 files added and 6 files fetched\n\u001b[0m"
    }
   ],
   "source": [
    "! dvc pull"
   ]
  },
  {
   "cell_type": "markdown",
   "metadata": {},
   "source": [
    "## Easily reproduce somewhere else"
   ]
  },
  {
   "cell_type": "markdown",
   "metadata": {},
   "source": [
    "### from cache"
   ]
  },
  {
   "cell_type": "code",
   "execution_count": 23,
   "metadata": {
    "tags": []
   },
   "outputs": [
    {
     "output_type": "stream",
     "name": "stdout",
     "text": "\u001b[39m\u001b[1mLoading .env environment variables...\u001b[39m\u001b[22m\nIf DVC froze, see `hardlink_lock` in <\u001b[36mhttps://man.dvc.org/config#core\u001b[39m>Stage 'data/data.xml.dvc' didn't change, skipping\nStage 'prepare' didn't change, skipping\nStage 'featurize' didn't change, skipping\nStage 'train' didn't change, skipping\nStage 'evaluate' didn't change, skipping\nData and pipelines are up to date.\n\u001b[0m"
    }
   ],
   "source": [
    "! pipenv run dvc repro"
   ]
  },
  {
   "cell_type": "markdown",
   "metadata": {},
   "source": [
    "### or force actual pipeline run"
   ]
  },
  {
   "cell_type": "code",
   "execution_count": 24,
   "metadata": {
    "tags": []
   },
   "outputs": [
    {
     "output_type": "stream",
     "name": "stdout",
     "text": "If DVC froze, see `hardlink_lock` in <\u001b[36mhttps://man.dvc.org/config#core\u001b[39m>Verifying data sources in stage: 'data/data.xml.dvc'\n\nRunning stage 'prepare' with command:\n\tpython src/prepare.py data/data.xml\n\nRunning stage 'featurize' with command:\n\tpython src/featurization.py data/prepared data/features\nThe input data frame data/prepared/train.tsv size is (20017, 3)\nThe output matrix data/features/train.pkl size is (20017, 502) and data type is float64\nThe input data frame data/prepared/test.tsv size is (4983, 3)\nThe output matrix data/features/test.pkl size is (4983, 502) and data type is float64\n  0% Saving features|                          |0.00/2.00 [00:00<?,     ?file/s]\nRunning stage 'train' with command:\n\tpython src/train.py data/features model.pkl\nInput matrix size (20017, 502)\nX matrix size (20017, 500)\nY matrix size (20017,)\nIf DVC froze, see `hardlink_lock` in <\u001b[36mhttps://man.dvc.org/config#core\u001b[39m>\nRunning stage 'evaluate' with command:\n\tpython src/evaluate.py model.pkl data/features scores.json prc.json\nIf DVC froze, see `hardlink_lock` in <\u001b[36mhttps://man.dvc.org/config#core\u001b[39m>\nTo track the changes with git, run:\n\n\tgit add data/data.xml.dvc\n\u001b[0m"
    }
   ],
   "source": [
    "! dvc repro -f"
   ]
  },
  {
   "cell_type": "code",
   "execution_count": 25,
   "metadata": {
    "tags": []
   },
   "outputs": [
    {
     "output_type": "stream",
     "name": "stdout",
     "text": "If DVC froze, see `hardlink_lock` in <\u001b[36mhttps://man.dvc.org/config#core\u001b[39m>\u001b[0m"
    }
   ],
   "source": [
    "! dvc diff"
   ]
  },
  {
   "cell_type": "markdown",
   "metadata": {},
   "source": [
    "### Assert equivalent result"
   ]
  },
  {
   "cell_type": "code",
   "execution_count": 26,
   "metadata": {
    "tags": []
   },
   "outputs": [
    {
     "output_type": "stream",
     "name": "stdout",
     "text": "{\"auc\": 0.5417487597055675}"
    }
   ],
   "source": [
    "! cat scores.json"
   ]
  },
  {
   "cell_type": "markdown",
   "metadata": {},
   "source": [
    "### Now I can easily\n",
    "* Making updates to the models\n",
    "* see differences in parameters or results\n",
    "* collaborate with others\n",
    "* reproduce results"
   ]
  },
  {
   "cell_type": "markdown",
   "metadata": {},
   "source": [
    "### Go and modify some parameters"
   ]
  },
  {
   "cell_type": "code",
   "execution_count": 27,
   "metadata": {
    "tags": []
   },
   "outputs": [
    {
     "output_type": "stream",
     "name": "stdout",
     "text": "Data and pipelines are up to date.\n\u001b[0m"
    }
   ],
   "source": [
    "! dvc status"
   ]
  },
  {
   "cell_type": "code",
   "execution_count": 28,
   "metadata": {
    "tags": []
   },
   "outputs": [
    {
     "output_type": "stream",
     "name": "stdout",
     "text": "If DVC froze, see `hardlink_lock` in <\u001b[36mhttps://man.dvc.org/config#core\u001b[39m>\u001b[0m"
    }
   ],
   "source": [
    "! dvc params diff"
   ]
  },
  {
   "cell_type": "code",
   "execution_count": 29,
   "metadata": {
    "tags": []
   },
   "outputs": [
    {
     "output_type": "stream",
     "name": "stdout",
     "text": "If DVC froze, see `hardlink_lock` in <\u001b[36mhttps://man.dvc.org/config#core\u001b[39m>Stage 'data/data.xml.dvc' didn't change, skipping\nStage 'prepare' didn't change, skipping\nStage 'featurize' didn't change, skipping\nStage 'train' didn't change, skipping\nStage 'evaluate' didn't change, skipping\nData and pipelines are up to date.\n\u001b[0m"
    }
   ],
   "source": [
    "! dvc repro"
   ]
  },
  {
   "cell_type": "code",
   "execution_count": 30,
   "metadata": {
    "tags": []
   },
   "outputs": [
    {
     "output_type": "stream",
     "name": "stdout",
     "text": "If DVC froze, see `hardlink_lock` in <\u001b[36mhttps://man.dvc.org/config#core\u001b[39m>\u001b[0m"
    }
   ],
   "source": [
    "! dvc metrics diff"
   ]
  },
  {
   "cell_type": "code",
   "execution_count": 31,
   "metadata": {
    "tags": []
   },
   "outputs": [
    {
     "output_type": "stream",
     "name": "stdout",
     "text": "{\"auc\": 0.5417487597055675}"
    }
   ],
   "source": [
    "! cat scores.json"
   ]
  },
  {
   "cell_type": "code",
   "execution_count": 32,
   "metadata": {
    "tags": []
   },
   "outputs": [
    {
     "output_type": "stream",
     "name": "stdout",
     "text": "file:///home/nichita/Projects/dvc_intro/plots.html\n\u001b[0m"
    }
   ],
   "source": [
    "! dvc plots diff -x recall -y precision"
   ]
  },
  {
   "cell_type": "code",
   "execution_count": null,
   "metadata": {},
   "outputs": [],
   "source": []
  },
  {
   "cell_type": "markdown",
   "metadata": {},
   "source": [
    "## For reproducibility of this notebook:\n",
    "### Remove tracked data from dvc (local and remote) and\n",
    "### Remove unnecessary files "
   ]
  },
  {
   "cell_type": "code",
   "execution_count": 33,
   "metadata": {
    "tags": []
   },
   "outputs": [
    {
     "output_type": "stream",
     "name": "stdout",
     "text": "If DVC froze, see `hardlink_lock` in <\u001b[36mhttps://man.dvc.org/config#core\u001b[39m>\u001b[0m"
    }
   ],
   "source": [
    "! dvc remove data/data.xml.dvc\n",
    "! rm data/data.xml"
   ]
  },
  {
   "cell_type": "code",
   "execution_count": 34,
   "metadata": {
    "tags": []
   },
   "outputs": [
    {
     "output_type": "stream",
     "name": "stdout",
     "text": "If DVC froze, see `hardlink_lock` in <\u001b[36mhttps://man.dvc.org/config#core\u001b[39m>\u001b[31mDeleted\u001b[39m:\n    data/data.xml\n\nfiles summary: 0 added, 1 deleted, 0 modified\n\u001b[0m"
    }
   ],
   "source": [
    "! dvc diff"
   ]
  },
  {
   "cell_type": "code",
   "execution_count": 35,
   "metadata": {
    "tags": []
   },
   "outputs": [
    {
     "output_type": "stream",
     "name": "stdout",
     "text": "[data_pipelines fcdbf05] removes data\n 1 file changed, 3 deletions(-)\n delete mode 100644 data/data.xml.dvc\nEverything up-to-date\nEverything is up to date.\n\u001b[0m"
    }
   ],
   "source": [
    "! git add data/data.xml.dvc\n",
    "! rm -rf data/\n",
    "! rm plots.html\n",
    "! rm prc.json\n",
    "! rm model.pkl\n",
    "\n",
    "! git commit -m 'removes data'\n",
    "! git push origin tutorial\n",
    "! dvc push"
   ]
  },
  {
   "cell_type": "code",
   "execution_count": 36,
   "metadata": {
    "tags": []
   },
   "outputs": [
    {
     "output_type": "stream",
     "name": "stdout",
     "text": "\u001b[33mWARNING\u001b[39m: This will remove all cache except items used in the workspace of the current repo.\n  0% Querying cache in 'gs://dvc_intro'|  |1.00/4.10k [00:00<10:52,  6.28file/s]\u001b[0m"
    }
   ],
   "source": [
    "! echo \"y\" | dvc gc -cw"
   ]
  },
  {
   "cell_type": "code",
   "execution_count": 37,
   "metadata": {
    "tags": []
   },
   "outputs": [
    {
     "output_type": "stream",
     "name": "stdout",
     "text": "This will destroy all information about your pipelines, all data files, as well as cache in .dvc/cache.\nIf DVC froze, see `hardlink_lock` in <\u001b[36mhttps://man.dvc.org/config#core\u001b[39m>\u001b[0m"
    }
   ],
   "source": [
    "! echo 'y' | dvc destroy"
   ]
  },
  {
   "cell_type": "code",
   "execution_count": 39,
   "metadata": {
    "tags": []
   },
   "outputs": [],
   "source": [
    "! git add .\n",
    "! git commit -m \"clean\"\n",
    "! git push origin tutorial"
   ]
  },
  {
   "cell_type": "code",
   "execution_count": null,
   "metadata": {},
   "outputs": [],
   "source": []
  }
 ]
}