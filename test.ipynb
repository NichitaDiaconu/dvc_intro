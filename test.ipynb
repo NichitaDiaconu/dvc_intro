{
 "metadata": {
  "language_info": {
   "codemirror_mode": {
    "name": "ipython",
    "version": 3
   },
   "file_extension": ".py",
   "mimetype": "text/x-python",
   "name": "python",
   "nbconvert_exporter": "python",
   "pygments_lexer": "ipython3",
   "version": "3.8.1-final"
  },
  "orig_nbformat": 2,
  "kernelspec": {
   "name": "python_defaultSpec_1596638804869",
   "display_name": "Python 3.8.1 64-bit ('dvc_intro': pipenv)"
  }
 },
 "nbformat": 4,
 "nbformat_minor": 2,
 "cells": [
  {
   "cell_type": "markdown",
   "metadata": {},
   "source": [
    "## Easily reproduce somewhere else"
   ]
  },
  {
   "cell_type": "code",
   "execution_count": null,
   "metadata": {},
   "outputs": [],
   "source": [
    "%load_ext dotenv\n",
    "%dotenv"
   ]
  },
  {
   "cell_type": "markdown",
   "metadata": {},
   "source": [
    "### from cache"
   ]
  },
  {
   "cell_type": "code",
   "execution_count": 1,
   "metadata": {
    "tags": []
   },
   "outputs": [
    {
     "output_type": "stream",
     "name": "stdout",
     "text": "\u001b[39m\u001b[1mLoading .env environment variables...\u001b[39m\u001b[22m\nIf DVC froze, see `hardlink_lock` in <\u001b[36mhttps://man.dvc.org/config#core\u001b[39m>Stage 'data/data.xml.dvc' didn't change, skipping\nStage 'prepare' didn't change, skipping\nStage 'featurize' didn't change, skipping\nStage 'train' didn't change, skipping\nStage 'evaluate' didn't change, skipping\nData and pipelines are up to date.\n\u001b[0m"
    }
   ],
   "source": [
    "! pipenv run dvc repro"
   ]
  },
  {
   "cell_type": "markdown",
   "metadata": {},
   "source": [
    "### or force actual pipeline run"
   ]
  },
  {
   "cell_type": "code",
   "execution_count": 4,
   "metadata": {
    "tags": []
   },
   "outputs": [
    {
     "output_type": "stream",
     "name": "stdout",
     "text": "\u001b[39m\u001b[1mLoading .env environment variables...\u001b[39m\u001b[22m\nIf DVC froze, see `hardlink_lock` in <\u001b[36mhttps://man.dvc.org/config#core\u001b[39m>Verifying data sources in stage: 'data/data.xml.dvc'\n\nRunning stage 'prepare' with command:\n\tpython src/prepare.py data/data.xml\n  0% Saving prepared|                          |0.00/2.00 [00:00<?,     ?file/s]\nRunning stage 'featurize' with command:\n\tpython src/featurization.py data/prepared data/features\nThe input data frame data/prepared/train.tsv size is (20017, 3)\nThe output matrix data/features/train.pkl size is (20017, 502) and data type is float64\nThe input data frame data/prepared/test.tsv size is (4983, 3)\nThe output matrix data/features/test.pkl size is (4983, 502) and data type is float64\n  0% Saving features|                          |0.00/2.00 [00:00<?,     ?file/s]\nRunning stage 'train' with command:\n\tpython src/train.py data/features model.pkl\nInput matrix size (20017, 502)\nX matrix size (20017, 500)\nY matrix size (20017,)\nIf DVC froze, see `hardlink_lock` in <\u001b[36mhttps://man.dvc.org/config#core\u001b[39m>\nRunning stage 'evaluate' with command:\n\tpython src/evaluate.py model.pkl data/features scores.json prc.json\nIf DVC froze, see `hardlink_lock` in <\u001b[36mhttps://man.dvc.org/config#core\u001b[39m>\nTo track the changes with git, run:\n\n\tgit add data/data.xml.dvc\n\u001b[0m"
    }
   ],
   "source": [
    "! dvc repro -f"
   ]
  },
  {
   "cell_type": "code",
   "execution_count": 16,
   "metadata": {
    "tags": []
   },
   "outputs": [
    {
     "output_type": "stream",
     "name": "stdout",
     "text": "If DVC froze, see `hardlink_lock` in <\u001b[36mhttps://man.dvc.org/config#core\u001b[39m>\u001b[33mModified\u001b[39m:\n    data/features/\n    model.pkl\n    prc.json\n    scores.json\n\nfiles summary: 0 added, 0 deleted, 3 modified\n\u001b[0m"
    }
   ],
   "source": [
    "! dvc diff"
   ]
  },
  {
   "cell_type": "markdown",
   "metadata": {},
   "source": [
    "### Assert equivalent result"
   ]
  },
  {
   "cell_type": "code",
   "execution_count": 6,
   "metadata": {
    "tags": []
   },
   "outputs": [
    {
     "output_type": "stream",
     "name": "stdout",
     "text": "{\"auc\": 0.5417487597055675}"
    }
   ],
   "source": [
    "! cat scores.json"
   ]
  },
  {
   "cell_type": "markdown",
   "metadata": {},
   "source": [
    "### Now I can easily\n",
    "* Making updates to the models\n",
    "* see differences in parameters or results\n",
    "* collaborate with others\n",
    "* reproduce results"
   ]
  },
  {
   "cell_type": "markdown",
   "metadata": {},
   "source": [
    "### Go and modify some parameters"
   ]
  },
  {
   "cell_type": "code",
   "execution_count": 8,
   "metadata": {
    "tags": []
   },
   "outputs": [
    {
     "output_type": "stream",
     "name": "stdout",
     "text": "featurize:\n\tchanged deps:\n\t\tparams.yaml:\n\t\t\tmodified:           featurize.max_features\ntrain:\n\tchanged deps:\n\t\tparams.yaml:\n\t\t\tmodified:           train.n_estimators\n\u001b[0m"
    }
   ],
   "source": [
    "! dvc status"
   ]
  },
  {
   "cell_type": "code",
   "execution_count": 6,
   "metadata": {
    "tags": []
   },
   "outputs": [
    {
     "output_type": "stream",
     "name": "stdout",
     "text": "Path         Param                   Old    New\nparams.yaml  featurize.max_features  500    1500\nparams.yaml  train.n_estimators      50     100\n\u001b[0m"
    }
   ],
   "source": [
    "! dvc params diff"
   ]
  },
  {
   "cell_type": "code",
   "execution_count": 9,
   "metadata": {
    "tags": []
   },
   "outputs": [
    {
     "output_type": "stream",
     "name": "stdout",
     "text": "If DVC froze, see `hardlink_lock` in <\u001b[36mhttps://man.dvc.org/config#core\u001b[39m>Stage 'data/data.xml.dvc' didn't change, skipping\nStage 'prepare' didn't change, skipping\nRunning stage 'featurize' with command:\n\tpython src/featurization.py data/prepared data/features\nThe input data frame data/prepared/train.tsv size is (20017, 3)\nThe output matrix data/features/train.pkl size is (20017, 1502) and data type is float64\nThe input data frame data/prepared/test.tsv size is (4983, 3)\nThe output matrix data/features/test.pkl size is (4983, 1502) and data type is float64\n  0% Saving features|                          |0.00/2.00 [00:00<?,     ?file/s]Updating lock file 'dvc.lock'\n\nRunning stage 'train' with command:\n\tpython src/train.py data/features model.pkl\nInput matrix size (20017, 1502)\nX matrix size (20017, 1500)\nY matrix size (20017,)\nIf DVC froze, see `hardlink_lock` in <\u001b[36mhttps://man.dvc.org/config#core\u001b[39m>Updating lock file 'dvc.lock'\n\nRunning stage 'evaluate' with command:\n\tpython src/evaluate.py model.pkl data/features scores.json prc.json\nIf DVC froze, see `hardlink_lock` in <\u001b[36mhttps://man.dvc.org/config#core\u001b[39m>Updating lock file 'dvc.lock'\n\nTo track the changes with git, run:\n\n\tgit add dvc.lock\n\u001b[0m"
    }
   ],
   "source": [
    "! dvc repro"
   ]
  },
  {
   "cell_type": "code",
   "execution_count": 10,
   "metadata": {
    "tags": []
   },
   "outputs": [
    {
     "output_type": "stream",
     "name": "stdout",
     "text": "Path         Metric    Value    Change\nscores.json  auc       0.56925  0.0275\n\u001b[0m"
    }
   ],
   "source": [
    "! dvc metrics diff"
   ]
  },
  {
   "cell_type": "code",
   "execution_count": 13,
   "metadata": {
    "tags": []
   },
   "outputs": [
    {
     "output_type": "stream",
     "name": "stdout",
     "text": "{\"auc\": 0.5692532520676357}"
    }
   ],
   "source": [
    "! cat scores.json"
   ]
  },
  {
   "cell_type": "code",
   "execution_count": 12,
   "metadata": {
    "tags": []
   },
   "outputs": [
    {
     "output_type": "stream",
     "name": "stdout",
     "text": "file:///home/nichita/Projects/dvc_intro/plots.html\n\u001b[0m"
    }
   ],
   "source": [
    "! dvc plots diff -x recall -y precision"
   ]
  },
  {
   "cell_type": "code",
   "execution_count": null,
   "metadata": {},
   "outputs": [],
   "source": []
  }
 ]
}