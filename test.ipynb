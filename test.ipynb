{
 "metadata": {
  "language_info": {
   "codemirror_mode": {
    "name": "ipython",
    "version": 3
   },
   "file_extension": ".py",
   "mimetype": "text/x-python",
   "name": "python",
   "nbconvert_exporter": "python",
   "pygments_lexer": "ipython3",
   "version": "3.8.1-final"
  },
  "orig_nbformat": 2,
  "kernelspec": {
   "name": "python_defaultSpec_1596638804869",
   "display_name": "Python 3.8.1 64-bit ('dvc_intro': pipenv)"
  }
 },
 "nbformat": 4,
 "nbformat_minor": 2,
 "cells": [
  {
   "cell_type": "code",
   "execution_count": 2,
   "metadata": {},
   "outputs": [],
   "source": [
    "%load_ext dotenv\n",
    "%dotenv"
   ]
  },
  {
   "cell_type": "code",
   "execution_count": 1,
   "metadata": {
    "tags": [
     "outputPrepend"
    ]
   },
   "outputs": [
    {
     "output_type": "stream",
     "name": "stdout",
     "text": "eatures/train.pkl    440k/5.41M [00:00<01:12,    72.0kB/s]\u001b[A\u001b[A\u001b[A\u001b[A\u001b[A\n\n 39%|███▉      |data/prepared/test.tsv    1.78M/4.54M [00:00<00:25,     115kB/s]\u001b[A\u001b[A\n 24%|██▍       |data/features/test.pkl     328k/1.35M [00:01<00:26,    41.0kB/s]\u001b[A\n\n\n  2%|▏         |data/data.xml              576k/36.1M [00:00<08:46,    70.9kB/s]\u001b[A\u001b[A\u001b[A\n\n\n\n\n 12%|█▏        |data/features/train.pkl    656k/5.41M [00:00<00:49,     101kB/s]\u001b[A\u001b[A\u001b[A\u001b[A\u001b[A\n\n\n\n\n\n  2%|▏         |data/prepared/train.tsv    368k/18.2M [00:00<04:11,    74.3kB/s]\u001b[A\u001b[A\u001b[A\u001b[A\u001b[A\u001b[A\n 33%|███▎      |data/features/test.pkl     456k/1.35M [00:01<00:16,    57.6kB/s]\u001b[A\n\n\n\n  5%|▍         |model.pkl                  128k/2.54M [00:01<01:25,    29.5kB/s]\u001b[A\u001b[A\u001b[A\u001b[A\n\n 49%|████▉     |data/prepared/test.tsv    2.22M/4.54M [00:01<00:15,     162kB/s]\u001b[A\u001b[A\n\n\n  2%|▏         |data/data.xml              704k/36.1M [00:01<06:17,    98.4kB/s]\u001b[A\u001b[A\u001b[A\n\n\n\n\n 15%|█▍        |data/features/train.pkl    816k/5.41M [00:01<00:34,     141kB/s]\u001b[A\u001b[A\u001b[A\u001b[A\u001b[A\n\n\n\n\n\n  3%|▎         |data/prepared/train.tsv    472k/18.2M [00:01<03:00,     103kB/s]\u001b[A\u001b[A\u001b[A\u001b[A\u001b[A\u001b[A\n\n\n\n 13%|█▎        |model.pkl                  328k/2.54M [00:01<00:55,    41.8kB/s]\u001b[A\u001b[A\u001b[A\u001b[A\n\n 56%|█████▌    |data/prepared/test.tsv    2.53M/4.54M [00:01<00:09,     226kB/s]\u001b[A\u001b[A\n\n\n  2%|▏         |data/data.xml              856k/36.1M [00:01<04:32,     136kB/s]\u001b[A\u001b[A\u001b[A\n\n\n\n\n 18%|█▊        |data/features/train.pkl   0.98M/5.41M [00:01<00:23,     195kB/s]\u001b[A\u001b[A\u001b[A\u001b[A\u001b[A\n\n\n\n 17%|█▋        |model.pkl                  432k/2.54M [00:01<00:37,    58.7kB/s]\u001b[A\u001b[A\u001b[A\u001b[A\n\n\n\n\n\n  3%|▎         |data/prepared/train.tsv    552k/18.2M [00:01<02:15,     137kB/s]\u001b[A\u001b[A\u001b[A\u001b[A\u001b[A\u001b[A\n\n 62%|██████▏   |data/prepared/test.tsv    2.83M/4.54M [00:01<00:05,     312kB/s]\u001b[A\u001b[A\n 50%|████▉     |data/features/test.pkl     688k/1.35M [00:01<00:06,     110kB/s]\u001b[A\n\n\n  3%|▎         |data/data.xml             1.01M/36.1M [00:01<03:17,     186kB/s]\u001b[A\u001b[A\u001b[A\n\n\n\n\n 23%|██▎       |data/features/train.pkl   1.22M/5.41M [00:01<00:16,     267kB/s]\u001b[A\u001b[A\u001b[A\u001b[A\u001b[A\n\n\n\n 20%|██        |model.pkl                  528k/2.54M [00:01<00:25,    81.6kB/s]\u001b[A\u001b[A\u001b[A\u001b[A\n\n\n\n\n\n  3%|▎         |data/prepared/train.tsv    624k/18.2M [00:01<01:42,     180kB/s]\u001b[A\u001b[A\u001b[A\u001b[A\u001b[A\u001b[A\n\n 69%|██████▉   |data/prepared/test.tsv    3.12M/4.54M [00:01<00:03,     423kB/s]\u001b[A\u001b[A\n 59%|█████▉    |data/features/test.pkl     816k/1.35M [00:01<00:03,     150kB/s]\u001b[A\n\n\n\n 26%|██▌       |model.pkl                  680k/2.54M [00:01<00:17,     114kB/s]\u001b[A\u001b[A\u001b[A\u001b[A\n\n\n\n\n\n  4%|▎         |data/prepared/train.tsv    696k/18.2M [00:01<01:19,     232kB/s]\u001b[A\u001b[A\u001b[A\u001b[A\u001b[A\u001b[A\n\n\n  3%|▎         |data/data.xml             1.16M/36.1M [00:01<02:27,     249kB/s]\u001b[A\u001b[A\u001b[A\n\n\n\n\n 27%|██▋       |data/features/train.pkl   1.45M/5.41M [00:01<00:11,     355kB/s]\u001b[A\u001b[A\u001b[A\u001b[A\u001b[A\n 66%|██████▌   |data/features/test.pkl     912k/1.35M [00:01<00:02,     200kB/s]\u001b[A\n\n 75%|███████▍  |data/prepared/test.tsv    3.41M/4.54M [00:01<00:02,     556kB/s]\u001b[A\u001b[A\n\n\n\n\n\n  4%|▍         |data/prepared/train.tsv    768k/18.2M [00:01<01:03,     286kB/s]\u001b[A\u001b[A\u001b[A\u001b[A\u001b[A\u001b[A\n\n\n  4%|▎         |data/data.xml             1.33M/36.1M [00:01<01:49,     334kB/s]\u001b[A\u001b[A\u001b[A\n\n\n\n\n 32%|███▏      |data/features/train.pkl   1.75M/5.41M [00:01<00:07,     482kB/s]\u001b[A\u001b[A\u001b[A\u001b[A\u001b[A\n\n\n\n 31%|███       |model.pkl                  800k/2.54M [00:01<00:11,     153kB/s]\u001b[A\u001b[A\u001b[A\u001b[A\n\n 80%|████████  |data/prepared/test.tsv    3.66M/4.54M [00:01<00:01,     723kB/s]\u001b[A\u001b[A\n 73%|███████▎  |data/features/test.pkl    0.98M/1.35M [00:01<00:01,     254kB/s]\u001b[A\n\n\n\n\n\n  5%|▍         |data/prepared/train.tsv    848k/18.2M [00:01<00:51,     355kB/s]\u001b[A\u001b[A\u001b[A\u001b[A\u001b[A\u001b[A\n\n\n  4%|▍         |data/data.xml             1.46M/36.1M [00:01<01:24,     430kB/s]\u001b[A\u001b[A\u001b[A\n\n\n\n\n 36%|███▌      |data/features/train.pkl   1.95M/5.41M [00:01<00:05,     627kB/s]\u001b[A\u001b[A\u001b[A\u001b[A\u001b[A\n\n\n\n 35%|███▍      |model.pkl                  896k/2.54M [00:01<00:08,     205kB/s]\u001b[A\u001b[A\u001b[A\u001b[A\n\n 86%|████████▌ |data/prepared/test.tsv    3.90M/4.54M [00:01<00:00,     898kB/s]\u001b[A\u001b[A\n\n\n  4%|▍         |data/data.xml             1.59M/36.1M [00:01<01:08,     531kB/s]\u001b[A\u001b[A\u001b[A\n 82%|████████▏ |data/features/test.pkl    1.11M/1.35M [00:01<00:00,     322kB/s]\u001b[A\n\n\n\n\n 40%|████      |data/features/train.pkl   2.19M/5.41M [00:01<00:04,     805kB/s]\u001b[A\u001b[A\u001b[A\u001b[A\u001b[A\n\n\n\n 40%|███▉      |model.pkl                 1.01M/2.54M [00:01<00:05,     275kB/s]\u001b[A\u001b[A\u001b[A\u001b[A\n\n\n\n\n\n  5%|▍         |data/prepared/train.tsv    920k/18.2M [00:01<00:46,     390kB/s]\u001b[A\u001b[A\u001b[A\u001b[A\u001b[A\u001b[A\n\n 93%|█████████▎|data/prepared/test.tsv    4.22M/4.54M [00:01<00:00,    1.15MB/s]\u001b[A\u001b[A\n\n\n  5%|▍         |data/data.xml             1.75M/36.1M [00:01<00:54,     666kB/s]\u001b[A\u001b[A\u001b[A\n 92%|█████████▏|data/features/test.pkl    1.23M/1.35M [00:02<00:00,     413kB/s]\u001b[A\n\n\n\n\n\n  5%|▌         |data/prepared/train.tsv    992k/18.2M [00:01<00:40,     444kB/s]\u001b[A\u001b[A\u001b[A\u001b[A\u001b[A\u001b[A\n\n\n\n\n 44%|████▍     |data/features/train.pkl   2.40M/5.41M [00:01<00:03,     949kB/s]\u001b[A\u001b[A\u001b[A\u001b[A\u001b[A\n\n\n\n 44%|████▍     |model.pkl                 1.12M/2.54M [00:01<00:04,     343kB/s]\u001b[A\u001b[A\u001b[A\u001b[A\n\n 99%|█████████▊|data/prepared/test.tsv    4.48M/4.54M [00:02<00:00,    1.33MB/s]\u001b[A\u001b[A\n\n\n  5%|▌         |data/data.xml             1.92M/36.1M [00:01<00:43,     815kB/s]\u001b[A\u001b[A\u001b[A\n 17% Downloading|█████▎                          |1/6 [00:02<00:12,  2.44s/file]\n\n                                                                                \u001b[A\u001b[A\n\n\n\n\n\n  6%|▌         |data/prepared/train.tsv   1.05M/18.2M [00:02<00:35,     502kB/s]\u001b[A\u001b[A\u001b[A\u001b[A\u001b[A\u001b[A\n\n\n\n\n 50%|█████     |data/features/train.pkl   2.72M/5.41M [00:02<00:02,    1.20MB/s]\u001b[A\u001b[A\u001b[A\u001b[A\u001b[A\n\n\n\n 51%|█████     |model.pkl                 1.28M/2.54M [00:02<00:02,     450kB/s]\u001b[A\u001b[A\u001b[A\u001b[A\n\n\n  6%|▌         |data/data.xml             2.08M/36.1M [00:02<00:37,     954kB/s]\u001b[A\u001b[A\u001b[A\n\n\n\n\n 55%|█████▌    |data/features/train.pkl   2.98M/5.41M [00:02<00:01,    1.45MB/s]\u001b[A\u001b[A\u001b[A\u001b[A\u001b[A\n\n\n\n\n\n  6%|▌         |data/prepared/train.tsv   1.12M/18.2M [00:02<00:32,     558kB/s]\u001b[A\u001b[A\u001b[A\u001b[A\u001b[A\u001b[A\n\n\n\n 55%|█████▌    |model.pkl                 1.41M/2.54M [00:02<00:02,     554kB/s]\u001b[A\u001b[A\u001b[A\u001b[A\n\n\n  6%|▌         |data/data.xml             2.23M/36.1M [00:02<00:32,    1.08MB/s]\u001b[A\u001b[A\u001b[A\n\n\n\n\n 61%|██████    |data/features/train.pkl   3.30M/5.41M [00:02<00:01,    1.74MB/s]\u001b[A\u001b[A\u001b[A\u001b[A\u001b[A\n\n\n\n\n\n  7%|▋         |data/prepared/train.tsv   1.20M/18.2M [00:02<00:29,     607kB/s]\u001b[A\u001b[A\u001b[A\u001b[A\u001b[A\u001b[A\n\n\n\n 60%|██████    |model.pkl                 1.53M/2.54M [00:02<00:01,     661kB/s]\u001b[A\u001b[A\u001b[A\u001b[A\n\n\n  7%|▋         |data/data.xml             2.41M/36.1M [00:02<00:28,    1.22MB/s]\u001b[A\u001b[A\u001b[A\n\n\n\n\n 67%|██████▋   |data/features/train.pkl   3.64M/5.41M [00:02<00:00,    2.05MB/s]\u001b[A\u001b[A\u001b[A\u001b[A\u001b[A\n\n\n\n\n\n  7%|▋         |data/prepared/train.tsv   1.28M/18.2M [00:02<00:27,     644kB/s]\u001b[A\u001b[A\u001b[A\u001b[A\u001b[A\u001b[A\n\n\n\n 65%|██████▌   |model.pkl                 1.66M/2.54M [00:02<00:01,     762kB/s]\u001b[A\u001b[A\u001b[A\u001b[A\n\n\n  7%|▋         |data/data.xml             2.59M/36.1M [00:02<00:25,    1.38MB/s]\u001b[A\u001b[A\u001b[A\n\n\n\n\n 74%|███████▍  |data/features/train.pkl   4.01M/5.41M [00:02<00:00,    2.38MB/s]\u001b[A\u001b[A\u001b[A\u001b[A\u001b[A\n\n\n\n\n\n  7%|▋         |data/prepared/train.tsv   1.36M/18.2M [00:02<00:26,     672kB/s]\u001b[A\u001b[A\u001b[A\u001b[A\u001b[A\u001b[A\n\n\n\n 70%|███████   |model.pkl                 1.78M/2.54M [00:02<00:00,     862kB/s]\u001b[A\u001b[A\u001b[A\u001b[A\n\n\n  8%|▊         |data/data.xml             2.80M/36.1M [00:02<00:23,    1.47MB/s]\u001b[A\u001b[A\u001b[A\n\n\n\n\n 81%|████████  |data/features/train.pkl   4.39M/5.41M [00:02<00:00,    2.60MB/s]\u001b[A\u001b[A\u001b[A\u001b[A\u001b[A\n\n\n\n\n\n  8%|▊         |data/prepared/train.tsv   1.44M/18.2M [00:02<00:25,     689kB/s]\u001b[A\u001b[A\u001b[A\u001b[A\u001b[A\u001b[A\n\n\n\n 75%|███████▍  |model.pkl                 1.90M/2.54M [00:02<00:00,     912kB/s]\u001b[A\u001b[A\u001b[A\u001b[A\n\n\n  9%|▊         |data/data.xml             3.08M/36.1M [00:02<00:20,    1.66MB/s]\u001b[A\u001b[A\u001b[A\n\n\n\n\n 88%|████████▊ |data/features/train.pkl   4.75M/5.41M [00:02<00:00,    2.77MB/s]\u001b[A\u001b[A\u001b[A\u001b[A\u001b[A\n\n\n\n\n\n  8%|▊         |data/prepared/train.tsv   1.51M/18.2M [00:02<00:25,     696kB/s]\u001b[A\u001b[A\u001b[A\u001b[A\u001b[A\u001b[A\n\n\n\n 80%|████████  |model.pkl                 2.03M/2.54M [00:02<00:00,    1.00MB/s]\u001b[A\u001b[A\u001b[A\u001b[A\n\n\n  9%|▉         |data/data.xml             3.33M/36.1M [00:02<00:19,    1.78MB/s]\u001b[A\u001b[A\u001b[A\n\n\n\n\n 97%|█████████▋|data/features/train.pkl   5.27M/5.41M [00:02<00:00,    3.25MB/s]\u001b[A\u001b[A\u001b[A\u001b[A\u001b[A\n\n\n\n\n\n  9%|▉         |data/prepared/train.tsv   1.59M/18.2M [00:02<00:23,     736kB/s]\u001b[A\u001b[A\u001b[A\u001b[A\u001b[A\u001b[A\n\n\n\n\n 50% Downloading|████████████████                |3/6 [00:03<00:05,  1.82s/file]\n\n\n\n 85%|████████▍ |model.pkl                 2.15M/2.54M [00:02<00:00,    1.04MB/s]\u001b[A\u001b[A\u001b[A\u001b[A\n\n\n 10%|█         |data/data.xml             3.66M/36.1M [00:02<00:16,    2.07MB/s]\u001b[A\u001b[A\u001b[A\n\n\n\n\n\n  9%|▉         |data/prepared/train.tsv   1.70M/18.2M [00:02<00:21,     799kB/s]\u001b[A\u001b[A\u001b[A\u001b[A\u001b[A\u001b[A\n\n\n\n 90%|█████████ |model.pkl                 2.29M/2.54M [00:02<00:00,    1.13MB/s]\u001b[A\u001b[A\u001b[A\u001b[A\n\n\n 11%|█         |data/data.xml             3.98M/36.1M [00:02<00:14,    2.35MB/s]\u001b[A\u001b[A\u001b[A\n\n\n\n\n\n 10%|▉         |data/prepared/train.tsv   1.81M/18.2M [00:02<00:19,     868kB/s]\u001b[A\u001b[A\u001b[A\u001b[A\u001b[A\u001b[A\n\n\n\n 96%|█████████▌|model.pkl                 2.44M/2.54M [00:03<00:00,    1.23MB/s]\u001b[A\u001b[A\u001b[A\u001b[A\n\n\n\n 67% Downloading|█████████████████████▎          |4/6 [00:03<00:02,  1.36s/file]\n\n\n 12%|█▏        |data/data.xml             4.39M/36.1M [00:03<00:12,    2.72MB/s]\u001b[A\u001b[A\u001b[A\n\n\n\n\n\n 11%|█         |data/prepared/train.tsv   1.94M/18.2M [00:03<00:17,     955kB/s]\u001b[A\u001b[A\u001b[A\u001b[A\u001b[A\u001b[A\n\n\n 13%|█▎        |data/data.xml             4.85M/36.1M [00:03<00:10,    3.13MB/s]\u001b[A\u001b[A\u001b[A\n\n\n\n\n\n 11%|█▏        |data/prepared/train.tsv   2.08M/18.2M [00:03<00:16,    1.06MB/s]\u001b[A\u001b[A\u001b[A\u001b[A\u001b[A\u001b[A\n\n\n 15%|█▍        |data/data.xml             5.38M/36.1M [00:03<00:08,    3.59MB/s]\u001b[A\u001b[A\u001b[A\n\n\n\n\n\n 12%|█▏        |data/prepared/train.tsv   2.22M/18.2M [00:03<00:15,    1.09MB/s]\u001b[A\u001b[A\u001b[A\u001b[A\u001b[A\u001b[A\n\n\n 16%|█▋        |data/data.xml             5.95M/36.1M [00:03<00:08,    3.93MB/s]\u001b[A\u001b[A\u001b[A\n\n\n\n\n\n 13%|█▎        |data/prepared/train.tsv   2.39M/18.2M [00:03<00:13,    1.23MB/s]\u001b[A\u001b[A\u001b[A\u001b[A\u001b[A\u001b[A\n\n\n 18%|█▊        |data/data.xml             6.62M/36.1M [00:03<00:06,    4.48MB/s]\u001b[A\u001b[A\u001b[A\n\n\n\n\n\n 14%|█▍        |data/prepared/train.tsv   2.56M/18.2M [00:03<00:12,    1.27MB/s]\u001b[A\u001b[A\u001b[A\u001b[A\u001b[A\u001b[A\n\n\n 20%|██        |data/data.xml             7.33M/36.1M [00:03<00:06,    4.91MB/s]\u001b[A\u001b[A\u001b[A\n\n\n\n\n\n 15%|█▌        |data/prepared/train.tsv   2.78M/18.2M [00:03<00:11,    1.44MB/s]\u001b[A\u001b[A\u001b[A\u001b[A\u001b[A\u001b[A\n\n\n 22%|██▏       |data/data.xml             7.94M/36.1M [00:03<00:05,    5.11MB/s]\u001b[A\u001b[A\u001b[A\n\n\n\n\n\n 16%|█▋        |data/prepared/train.tsv   3.00M/18.2M [00:03<00:09,    1.60MB/s]\u001b[A\u001b[A\u001b[A\u001b[A\u001b[A\u001b[A\n\n\n 24%|██▎       |data/data.xml             8.57M/36.1M [00:03<00:05,    5.49MB/s]\u001b[A\u001b[A\u001b[A\n\n\n\n\n\n 18%|█▊        |data/prepared/train.tsv   3.19M/18.2M [00:03<00:10,    1.55MB/s]\u001b[A\u001b[A\u001b[A\u001b[A\u001b[A\u001b[A\n\n\n 25%|██▌       |data/data.xml             9.20M/36.1M [00:03<00:05,    5.55MB/s]\u001b[A\u001b[A\u001b[A\n\n\n\n\n\n 19%|█▉        |data/prepared/train.tsv   3.45M/18.2M [00:04<00:08,    1.78MB/s]\u001b[A\u001b[A\u001b[A\u001b[A\u001b[A\u001b[A\n\n\n 27%|██▋       |data/data.xml             9.89M/36.1M [00:04<00:04,    5.75MB/s]\u001b[A\u001b[A\u001b[A\n\n\n\n\n\n 20%|██        |data/prepared/train.tsv   3.66M/18.2M [00:04<00:08,    1.89MB/s]\u001b[A\u001b[A\u001b[A\u001b[A\u001b[A\u001b[A\n\n\n 29%|██▉       |data/data.xml             10.6M/36.1M [00:04<00:04,    5.82MB/s]\u001b[A\u001b[A\u001b[A\n\n\n\n\n\n 21%|██▏       |data/prepared/train.tsv   3.88M/18.2M [00:04<00:07,    1.99MB/s]\u001b[A\u001b[A\u001b[A\u001b[A\u001b[A\u001b[A\n\n\n 31%|███▏      |data/data.xml             11.3M/36.1M [00:04<00:04,    6.22MB/s]\u001b[A\u001b[A\u001b[A\n\n\n\n\n\n 23%|██▎       |data/prepared/train.tsv   4.14M/18.2M [00:04<00:06,    2.13MB/s]\u001b[A\u001b[A\u001b[A\u001b[A\u001b[A\u001b[A\n\n\n 33%|███▎      |data/data.xml             11.9M/36.1M [00:04<00:04,    5.78MB/s]\u001b[A\u001b[A\u001b[A\n\n\n\n\n\n 24%|██▍       |data/prepared/train.tsv   4.38M/18.2M [00:04<00:06,    2.24MB/s]\u001b[A\u001b[A\u001b[A\u001b[A\u001b[A\u001b[A\n\n\n 35%|███▍      |data/data.xml             12.6M/36.1M [00:04<00:04,    5.74MB/s]\u001b[A\u001b[A\u001b[A\n\n\n\n\n\n 25%|██▌       |data/prepared/train.tsv   4.61M/18.2M [00:04<00:06,    2.21MB/s]\u001b[A\u001b[A\u001b[A\u001b[A\u001b[A\u001b[A\n\n\n\n\n\n 27%|██▋       |data/prepared/train.tsv   4.92M/18.2M [00:04<00:05,    2.39MB/s]\u001b[A\u001b[A\u001b[A\u001b[A\u001b[A\u001b[A\n\n\n 37%|███▋      |data/data.xml             13.2M/36.1M [00:04<00:04,    5.69MB/s]\u001b[A\u001b[A\u001b[A\n\n\n\n\n\n 28%|██▊       |data/prepared/train.tsv   5.17M/18.2M [00:04<00:05,    2.32MB/s]\u001b[A\u001b[A\u001b[A\u001b[A\u001b[A\u001b[A\n\n\n 38%|███▊      |data/data.xml             13.8M/36.1M [00:04<00:04,    5.37MB/s]\u001b[A\u001b[A\u001b[A\n\n\n\n\n\n 30%|███       |data/prepared/train.tsv   5.52M/18.2M [00:04<00:05,    2.60MB/s]\u001b[A\u001b[A\u001b[A\u001b[A\u001b[A\u001b[A\n\n\n 40%|████      |data/data.xml             14.5M/36.1M [00:04<00:03,    5.88MB/s]\u001b[A\u001b[A\u001b[A\n\n\n\n\n\n 32%|███▏      |data/prepared/train.tsv   5.78M/18.2M [00:04<00:04,    2.61MB/s]\u001b[A\u001b[A\u001b[A\u001b[A\u001b[A\u001b[A\n\n\n 42%|████▏     |data/data.xml             15.1M/36.1M [00:05<00:04,    5.50MB/s]\u001b[A\u001b[A\u001b[A\n\n\n\n\n\n 33%|███▎      |data/prepared/train.tsv   6.05M/18.2M [00:05<00:04,    2.66MB/s]\u001b[A\u001b[A\u001b[A\u001b[A\u001b[A\u001b[A\n\n\n 44%|████▎     |data/data.xml             15.8M/36.1M [00:05<00:03,    5.72MB/s]\u001b[A\u001b[A\u001b[A\n\n\n\n\n\n 35%|███▌      |data/prepared/train.tsv   6.38M/18.2M [00:05<00:04,    2.69MB/s]\u001b[A\u001b[A\u001b[A\u001b[A\u001b[A\u001b[A\n\n\n 45%|████▌     |data/data.xml             16.3M/36.1M [00:05<00:03,    5.69MB/s]\u001b[A\u001b[A\u001b[A\n\n\n\n\n\n 37%|███▋      |data/prepared/train.tsv   6.73M/18.2M [00:05<00:04,    2.79MB/s]\u001b[A\u001b[A\u001b[A\u001b[A\u001b[A\u001b[A\n\n\n 47%|████▋     |data/data.xml             16.9M/36.1M [00:05<00:03,    5.41MB/s]\u001b[A\u001b[A\u001b[A\n\n\n 48%|████▊     |data/data.xml             17.4M/36.1M [00:05<00:03,    5.44MB/s]\u001b[A\u001b[A\u001b[A\n\n\n\n\n\n 39%|███▉      |data/prepared/train.tsv   7.06M/18.2M [00:05<00:04,    2.79MB/s]\u001b[A\u001b[A\u001b[A\u001b[A\u001b[A\u001b[A\n\n\n 50%|████▉     |data/data.xml             18.0M/36.1M [00:05<00:03,    5.46MB/s]\u001b[A\u001b[A\u001b[A\n\n\n\n\n\n 40%|████      |data/prepared/train.tsv   7.34M/18.2M [00:05<00:04,    2.69MB/s]\u001b[A\u001b[A\u001b[A\u001b[A\u001b[A\u001b[A\n\n\n 51%|█████▏    |data/data.xml             18.5M/36.1M [00:05<00:03,    5.42MB/s]\u001b[A\u001b[A\u001b[A\n\n\n\n\n\n 42%|████▏     |data/prepared/train.tsv   7.60M/18.2M [00:05<00:04,    2.51MB/s]\u001b[A\u001b[A\u001b[A\u001b[A\u001b[A\u001b[A\n\n\n 53%|█████▎    |data/data.xml             19.1M/36.1M [00:05<00:03,    5.25MB/s]\u001b[A\u001b[A\u001b[A\n\n\n\n\n\n 44%|████▍     |data/prepared/train.tsv   7.97M/18.2M [00:05<00:03,    2.74MB/s]\u001b[A\u001b[A\u001b[A\u001b[A\u001b[A\u001b[A\n\n\n 54%|█████▍    |data/data.xml             19.6M/36.1M [00:05<00:03,    5.13MB/s]\u001b[A\u001b[A\u001b[A\n\n\n\n\n\n 46%|████▌     |data/prepared/train.tsv   8.36M/18.2M [00:05<00:03,    2.89MB/s]\u001b[A\u001b[A\u001b[A\u001b[A\u001b[A\u001b[A\n\n\n 56%|█████▌    |data/data.xml             20.1M/36.1M [00:05<00:03,    5.24MB/s]\u001b[A\u001b[A\u001b[A\n\n\n\n\n\n 48%|████▊     |data/prepared/train.tsv   8.73M/18.2M [00:06<00:03,    2.95MB/s]\u001b[A\u001b[A\u001b[A\u001b[A\u001b[A\u001b[A\n\n\n 57%|█████▋    |data/data.xml             20.7M/36.1M [00:06<00:03,    5.17MB/s]\u001b[A\u001b[A\u001b[A\n\n\n\n\n\n 50%|█████     |data/prepared/train.tsv   9.14M/18.2M [00:06<00:03,    3.13MB/s]\u001b[A\u001b[A\u001b[A\u001b[A\u001b[A\u001b[A\n\n\n 59%|█████▉    |data/data.xml             21.3M/36.1M [00:06<00:02,    5.58MB/s]\u001b[A\u001b[A\u001b[A\n\n\n\n\n\n 52%|█████▏    |data/prepared/train.tsv   9.48M/18.2M [00:06<00:02,    3.11MB/s]\u001b[A\u001b[A\u001b[A\u001b[A\u001b[A\u001b[A\n\n\n 61%|██████    |data/data.xml             21.9M/36.1M [00:06<00:02,    5.48MB/s]\u001b[A\u001b[A\u001b[A\n\n\n\n\n\n 54%|█████▎    |data/prepared/train.tsv   9.79M/18.2M [00:06<00:02,    2.99MB/s]\u001b[A\u001b[A\u001b[A\u001b[A\u001b[A\u001b[A\n\n\n 62%|██████▏   |data/data.xml             22.5M/36.1M [00:06<00:02,    5.37MB/s]\u001b[A\u001b[A\u001b[A\n\n\n\n\n\n 56%|█████▌    |data/prepared/train.tsv   10.2M/18.2M [00:06<00:02,    3.07MB/s]\u001b[A\u001b[A\u001b[A\u001b[A\u001b[A\u001b[A\n\n\n 64%|██████▎   |data/data.xml             23.0M/36.1M [00:06<00:02,    5.17MB/s]\u001b[A\u001b[A\u001b[A\n\n\n\n\n\n 58%|█████▊    |data/prepared/train.tsv   10.5M/18.2M [00:06<00:02,    3.24MB/s]\u001b[A\u001b[A\u001b[A\u001b[A\u001b[A\u001b[A\n\n\n 65%|██████▌   |data/data.xml             23.5M/36.1M [00:06<00:02,    4.93MB/s]\u001b[A\u001b[A\u001b[A\n\n\n\n\n\n 60%|█████▉    |data/prepared/train.tsv   10.9M/18.2M [00:06<00:02,    3.29MB/s]\u001b[A\u001b[A\u001b[A\u001b[A\u001b[A\u001b[A\n\n\n 67%|██████▋   |data/data.xml             24.1M/36.1M [00:06<00:02,    5.28MB/s]\u001b[A\u001b[A\u001b[A\n\n\n\n\n\n 61%|██████▏   |data/prepared/train.tsv   11.2M/18.2M [00:06<00:02,    3.22MB/s]\u001b[A\u001b[A\u001b[A\u001b[A\u001b[A\u001b[A\n\n\n 68%|██████▊   |data/data.xml             24.7M/36.1M [00:06<00:02,    5.08MB/s]\u001b[A\u001b[A\u001b[A\n\n\n\n\n\n 63%|██████▎   |data/prepared/train.tsv   11.5M/18.2M [00:06<00:02,    3.10MB/s]\u001b[A\u001b[A\u001b[A\u001b[A\u001b[A\u001b[A\n\n\n 70%|██████▉   |data/data.xml             25.2M/36.1M [00:07<00:02,    5.17MB/s]\u001b[A\u001b[A\u001b[A\n\n\n\n\n\n 65%|██████▌   |data/prepared/train.tsv   11.9M/18.2M [00:07<00:02,    3.30MB/s]\u001b[A\u001b[A\u001b[A\u001b[A\u001b[A\u001b[A\n\n\n 71%|███████   |data/data.xml             25.7M/36.1M [00:07<00:02,    5.11MB/s]\u001b[A\u001b[A\u001b[A\n\n\n\n\n\n 67%|██████▋   |data/prepared/train.tsv   12.2M/18.2M [00:07<00:02,    2.97MB/s]\u001b[A\u001b[A\u001b[A\u001b[A\u001b[A\u001b[A\n\n\n 73%|███████▎  |data/data.xml             26.2M/36.1M [00:07<00:02,    5.11MB/s]\u001b[A\u001b[A\u001b[A\n\n\n\n\n\n 69%|██████▉   |data/prepared/train.tsv   12.7M/18.2M [00:07<00:01,    3.33MB/s]\u001b[A\u001b[A\u001b[A\u001b[A\u001b[A\u001b[A\n\n\n 74%|███████▍  |data/data.xml             26.7M/36.1M [00:07<00:01,    5.11MB/s]\u001b[A\u001b[A\u001b[A\n\n\n 75%|███████▌  |data/data.xml             27.2M/36.1M [00:07<00:01,    5.02MB/s]\u001b[A\u001b[A\u001b[A\n\n\n\n\n\n 71%|███████▏  |data/prepared/train.tsv   13.0M/18.2M [00:07<00:01,    2.99MB/s]\u001b[A\u001b[A\u001b[A\u001b[A\u001b[A\u001b[A\n\n\n 77%|███████▋  |data/data.xml             27.7M/36.1M [00:07<00:01,    5.04MB/s]\u001b[A\u001b[A\u001b[A\n\n\n\n\n\n 74%|███████▍  |data/prepared/train.tsv   13.5M/18.2M [00:07<00:01,    3.28MB/s]\u001b[A\u001b[A\u001b[A\u001b[A\u001b[A\u001b[A\n\n\n 78%|███████▊  |data/data.xml             28.2M/36.1M [00:07<00:01,    4.99MB/s]\u001b[A\u001b[A\u001b[A\n\n\n\n\n\n 76%|███████▋  |data/prepared/train.tsv   13.9M/18.2M [00:07<00:01,    3.37MB/s]\u001b[A\u001b[A\u001b[A\u001b[A\u001b[A\u001b[A\n\n\n 80%|███████▉  |data/data.xml             28.8M/36.1M [00:07<00:01,    5.21MB/s]\u001b[A\u001b[A\u001b[A\n\n\n\n\n\n 78%|███████▊  |data/prepared/train.tsv   14.2M/18.2M [00:07<00:01,    3.38MB/s]\u001b[A\u001b[A\u001b[A\u001b[A\u001b[A\u001b[A\n\n\n 81%|████████  |data/data.xml             29.3M/36.1M [00:07<00:01,    4.95MB/s]\u001b[A\u001b[A\u001b[A\n\n\n\n\n\n 81%|████████  |data/prepared/train.tsv   14.7M/18.2M [00:07<00:01,    3.44MB/s]\u001b[A\u001b[A\u001b[A\u001b[A\u001b[A\u001b[A\n\n\n 82%|████████▏ |data/data.xml             29.8M/36.1M [00:07<00:01,    4.87MB/s]\u001b[A\u001b[A\u001b[A\n\n\n\n\n\n 82%|████████▏ |data/prepared/train.tsv   15.0M/18.2M [00:08<00:00,    3.41MB/s]\u001b[A\u001b[A\u001b[A\u001b[A\u001b[A\u001b[A\n\n\n 84%|████████▎ |data/data.xml             30.2M/36.1M [00:08<00:01,    4.58MB/s]\u001b[A\u001b[A\u001b[A\n\n\n\n\n\n 84%|████████▍ |data/prepared/train.tsv   15.4M/18.2M [00:08<00:00,    3.14MB/s]\u001b[A\u001b[A\u001b[A\u001b[A\u001b[A\u001b[A\n\n\n 85%|████████▌ |data/data.xml             30.9M/36.1M [00:08<00:01,    4.80MB/s]\u001b[A\u001b[A\u001b[A\n\n\n\n\n\n 87%|████████▋ |data/prepared/train.tsv   15.8M/18.2M [00:08<00:00,    3.47MB/s]\u001b[A\u001b[A\u001b[A\u001b[A\u001b[A\u001b[A\n\n\n 87%|████████▋ |data/data.xml             31.4M/36.1M [00:08<00:01,    4.90MB/s]\u001b[A\u001b[A\u001b[A\n\n\n\n\n\n 89%|████████▉ |data/prepared/train.tsv   16.2M/18.2M [00:08<00:00,    3.24MB/s]\u001b[A\u001b[A\u001b[A\u001b[A\u001b[A\u001b[A\n\n\n 88%|████████▊ |data/data.xml             31.9M/36.1M [00:08<00:00,    4.97MB/s]\u001b[A\u001b[A\u001b[A\n\n\n\n\n\n 91%|█████████ |data/prepared/train.tsv   16.5M/18.2M [00:08<00:00,    3.37MB/s]\u001b[A\u001b[A\u001b[A\u001b[A\u001b[A\u001b[A\n\n\n 89%|████████▉ |data/data.xml             32.3M/36.1M [00:08<00:00,    4.36MB/s]\u001b[A\u001b[A\u001b[A\n\n\n\n\n\n 93%|█████████▎|data/prepared/train.tsv   16.9M/18.2M [00:08<00:00,    3.29MB/s]\u001b[A\u001b[A\u001b[A\u001b[A\u001b[A\u001b[A\n\n\n 91%|█████████▏|data/data.xml             33.1M/36.1M [00:08<00:00,    4.86MB/s]\u001b[A\u001b[A\u001b[A\n\n\n\n\n\n 94%|█████████▍|data/prepared/train.tsv   17.2M/18.2M [00:08<00:00,    3.13MB/s]\u001b[A\u001b[A\u001b[A\u001b[A\u001b[A\u001b[A\n\n\n 93%|█████████▎|data/data.xml             33.6M/36.1M [00:08<00:00,    4.86MB/s]\u001b[A\u001b[A\u001b[A\n\n\n\n\n\n 97%|█████████▋|data/prepared/train.tsv   17.6M/18.2M [00:08<00:00,    3.25MB/s]\u001b[A\u001b[A\u001b[A\u001b[A\u001b[A\u001b[A\n\n\n 94%|█████████▍|data/data.xml             34.1M/36.1M [00:08<00:00,    4.70MB/s]\u001b[A\u001b[A\u001b[A\n\n\n\n\n\n 99%|█████████▊|data/prepared/train.tsv   18.0M/18.2M [00:08<00:00,    3.45MB/s]\u001b[A\u001b[A\u001b[A\u001b[A\u001b[A\u001b[A\n\n\n 96%|█████████▌|data/data.xml             34.5M/36.1M [00:09<00:00,    4.64MB/s]\u001b[A\u001b[A\u001b[A\n\n\n\n\n\n 83% Downloading|██████████████████████████▋     |5/6 [00:09<00:02,  2.74s/file]\n\n\n 98%|█████████▊|data/data.xml             35.3M/36.1M [00:09<00:00,    5.21MB/s]\u001b[A\u001b[A\u001b[A\n\n\n100%|█████████▉|data/data.xml             36.0M/36.1M [00:09<00:00,    5.76MB/s]\u001b[A\u001b[A\u001b[A\n\n\n\u001b[32mA\u001b[39m\tmodel.pkl\n\u001b[32mA\u001b[39m\tdata/features/\n\u001b[32mA\u001b[39m\tdata/prepared/\n\u001b[32mA\u001b[39m\tdata/data.xml\n4 files added and 6 files fetched\n\u001b[0m"
    }
   ],
   "source": [
    "! dvc pull"
   ]
  },
  {
   "cell_type": "markdown",
   "metadata": {},
   "source": [
    "## Easily reproduce somewhere else"
   ]
  },
  {
   "cell_type": "markdown",
   "metadata": {},
   "source": [
    "### from cache"
   ]
  },
  {
   "cell_type": "code",
   "execution_count": 3,
   "metadata": {
    "tags": []
   },
   "outputs": [
    {
     "output_type": "stream",
     "name": "stdout",
     "text": "\u001b[39m\u001b[1mLoading .env environment variables...\u001b[39m\u001b[22m\nIf DVC froze, see `hardlink_lock` in <\u001b[36mhttps://man.dvc.org/config#core\u001b[39m>Stage 'data/data.xml.dvc' didn't change, skipping\nStage 'prepare' didn't change, skipping\nStage 'featurize' didn't change, skipping\nStage 'train' didn't change, skipping\nStage 'evaluate' didn't change, skipping\nData and pipelines are up to date.\n\u001b[0m"
    }
   ],
   "source": [
    "! pipenv run dvc repro"
   ]
  },
  {
   "cell_type": "markdown",
   "metadata": {},
   "source": [
    "### or force actual pipeline run"
   ]
  },
  {
   "cell_type": "code",
   "execution_count": 4,
   "metadata": {
    "tags": []
   },
   "outputs": [
    {
     "output_type": "stream",
     "name": "stdout",
     "text": "If DVC froze, see `hardlink_lock` in <\u001b[36mhttps://man.dvc.org/config#core\u001b[39m>Verifying data sources in stage: 'data/data.xml.dvc'\n\nRunning stage 'prepare' with command:\n\tpython src/prepare.py data/data.xml\n  0% Saving prepared|                          |0.00/2.00 [00:00<?,     ?file/s]\nRunning stage 'featurize' with command:\n\tpython src/featurization.py data/prepared data/features\nThe input data frame data/prepared/train.tsv size is (20017, 3)\nThe output matrix data/features/train.pkl size is (20017, 502) and data type is float64\nThe input data frame data/prepared/test.tsv size is (4983, 3)\nThe output matrix data/features/test.pkl size is (4983, 502) and data type is float64\n  0% Saving features|                          |0.00/2.00 [00:00<?,     ?file/s]\nRunning stage 'train' with command:\n\tpython src/train.py data/features model.pkl\nInput matrix size (20017, 502)\nX matrix size (20017, 500)\nY matrix size (20017,)\nIf DVC froze, see `hardlink_lock` in <\u001b[36mhttps://man.dvc.org/config#core\u001b[39m>\nRunning stage 'evaluate' with command:\n\tpython src/evaluate.py model.pkl data/features scores.json prc.json\nIf DVC froze, see `hardlink_lock` in <\u001b[36mhttps://man.dvc.org/config#core\u001b[39m>\nTo track the changes with git, run:\n\n\tgit add data/data.xml.dvc\n\u001b[0m"
    }
   ],
   "source": [
    "! dvc repro -f"
   ]
  },
  {
   "cell_type": "code",
   "execution_count": 5,
   "metadata": {
    "tags": []
   },
   "outputs": [
    {
     "output_type": "stream",
     "name": "stdout",
     "text": "If DVC froze, see `hardlink_lock` in <\u001b[36mhttps://man.dvc.org/config#core\u001b[39m>\u001b[0m"
    }
   ],
   "source": [
    "! dvc diff"
   ]
  },
  {
   "cell_type": "markdown",
   "metadata": {},
   "source": [
    "### Assert equivalent result"
   ]
  },
  {
   "cell_type": "code",
   "execution_count": 6,
   "metadata": {
    "tags": []
   },
   "outputs": [
    {
     "output_type": "stream",
     "name": "stdout",
     "text": "{\"auc\": 0.5417487597055675}"
    }
   ],
   "source": [
    "! cat scores.json"
   ]
  },
  {
   "cell_type": "markdown",
   "metadata": {},
   "source": [
    "### Now I can easily\n",
    "* Making updates to the models\n",
    "* see differences in parameters or results\n",
    "* collaborate with others\n",
    "* reproduce results"
   ]
  },
  {
   "cell_type": "markdown",
   "metadata": {},
   "source": [
    "### Go and modify some parameters"
   ]
  },
  {
   "cell_type": "code",
   "execution_count": 8,
   "metadata": {
    "tags": []
   },
   "outputs": [
    {
     "output_type": "stream",
     "name": "stdout",
     "text": "featurize:\n\tchanged deps:\n\t\tparams.yaml:\n\t\t\tmodified:           featurize.max_features\ntrain:\n\tchanged deps:\n\t\tparams.yaml:\n\t\t\tmodified:           train.n_estimators\n\u001b[0m"
    }
   ],
   "source": [
    "! dvc status"
   ]
  },
  {
   "cell_type": "code",
   "execution_count": 6,
   "metadata": {
    "tags": []
   },
   "outputs": [
    {
     "output_type": "stream",
     "name": "stdout",
     "text": "Path         Param                   Old    New\nparams.yaml  featurize.max_features  500    1500\nparams.yaml  train.n_estimators      50     100\n\u001b[0m"
    }
   ],
   "source": [
    "! dvc params diff"
   ]
  },
  {
   "cell_type": "code",
   "execution_count": 9,
   "metadata": {
    "tags": []
   },
   "outputs": [
    {
     "output_type": "stream",
     "name": "stdout",
     "text": "If DVC froze, see `hardlink_lock` in <\u001b[36mhttps://man.dvc.org/config#core\u001b[39m>Stage 'data/data.xml.dvc' didn't change, skipping\nStage 'prepare' didn't change, skipping\nRunning stage 'featurize' with command:\n\tpython src/featurization.py data/prepared data/features\nThe input data frame data/prepared/train.tsv size is (20017, 3)\nThe output matrix data/features/train.pkl size is (20017, 1502) and data type is float64\nThe input data frame data/prepared/test.tsv size is (4983, 3)\nThe output matrix data/features/test.pkl size is (4983, 1502) and data type is float64\n  0% Saving features|                          |0.00/2.00 [00:00<?,     ?file/s]Updating lock file 'dvc.lock'\n\nRunning stage 'train' with command:\n\tpython src/train.py data/features model.pkl\nInput matrix size (20017, 1502)\nX matrix size (20017, 1500)\nY matrix size (20017,)\nIf DVC froze, see `hardlink_lock` in <\u001b[36mhttps://man.dvc.org/config#core\u001b[39m>Updating lock file 'dvc.lock'\n\nRunning stage 'evaluate' with command:\n\tpython src/evaluate.py model.pkl data/features scores.json prc.json\nIf DVC froze, see `hardlink_lock` in <\u001b[36mhttps://man.dvc.org/config#core\u001b[39m>Updating lock file 'dvc.lock'\n\nTo track the changes with git, run:\n\n\tgit add dvc.lock\n\u001b[0m"
    }
   ],
   "source": [
    "! dvc repro"
   ]
  },
  {
   "cell_type": "code",
   "execution_count": 10,
   "metadata": {
    "tags": []
   },
   "outputs": [
    {
     "output_type": "stream",
     "name": "stdout",
     "text": "Path         Metric    Value    Change\nscores.json  auc       0.56925  0.0275\n\u001b[0m"
    }
   ],
   "source": [
    "! dvc metrics diff"
   ]
  },
  {
   "cell_type": "code",
   "execution_count": 13,
   "metadata": {
    "tags": []
   },
   "outputs": [
    {
     "output_type": "stream",
     "name": "stdout",
     "text": "{\"auc\": 0.5692532520676357}"
    }
   ],
   "source": [
    "! cat scores.json"
   ]
  },
  {
   "cell_type": "code",
   "execution_count": 12,
   "metadata": {
    "tags": []
   },
   "outputs": [
    {
     "output_type": "stream",
     "name": "stdout",
     "text": "file:///home/nichita/Projects/dvc_intro/plots.html\n\u001b[0m"
    }
   ],
   "source": [
    "! dvc plots diff -x recall -y precision"
   ]
  },
  {
   "cell_type": "code",
   "execution_count": null,
   "metadata": {},
   "outputs": [],
   "source": []
  }
 ]
}